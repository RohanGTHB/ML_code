{
 "cells": [
  {
   "cell_type": "code",
   "execution_count": 1,
   "metadata": {},
   "outputs": [],
   "source": [
    "import re"
   ]
  },
  {
   "cell_type": "code",
   "execution_count": 1,
   "metadata": {},
   "outputs": [],
   "source": [
    "text =  'I am rohan, my email is rohan.tipo@gmail.com'"
   ]
  },
  {
   "cell_type": "code",
   "execution_count": 2,
   "metadata": {},
   "outputs": [],
   "source": [
    "a = 'rohan'"
   ]
  },
  {
   "cell_type": "code",
   "execution_count": 4,
   "metadata": {},
   "outputs": [
    {
     "name": "stdout",
     "output_type": "stream",
     "text": [
      "I am rohan, my email is rohan.tipo@gmail.com\n"
     ]
    }
   ],
   "source": [
    "print(text)"
   ]
  },
  {
   "cell_type": "code",
   "execution_count": 5,
   "metadata": {},
   "outputs": [
    {
     "data": {
      "text/plain": [
       "1"
      ]
     },
     "execution_count": 5,
     "metadata": {},
     "output_type": "execute_result"
    }
   ],
   "source": [
    "a.count('a')"
   ]
  },
  {
   "cell_type": "code",
   "execution_count": 6,
   "metadata": {},
   "outputs": [
    {
     "name": "stdout",
     "output_type": "stream",
     "text": [
      "strip\n"
     ]
    }
   ],
   "source": [
    "b = '****strip*'\n",
    "print(b.strip('*'))"
   ]
  },
  {
   "cell_type": "code",
   "execution_count": 7,
   "metadata": {
    "scrolled": false
   },
   "outputs": [
    {
     "data": {
      "text/plain": [
       "5"
      ]
     },
     "execution_count": 7,
     "metadata": {},
     "output_type": "execute_result"
    }
   ],
   "source": [
    "text.find('ro')"
   ]
  },
  {
   "cell_type": "code",
   "execution_count": 8,
   "metadata": {},
   "outputs": [
    {
     "data": {
      "text/plain": [
       "(5, 7)"
      ]
     },
     "execution_count": 8,
     "metadata": {},
     "output_type": "execute_result"
    }
   ],
   "source": [
    "r = re.search('ro',text)\n",
    "\n",
    "r.group()\n",
    "\n",
    "r.span()"
   ]
  },
  {
   "cell_type": "code",
   "execution_count": 9,
   "metadata": {},
   "outputs": [
    {
     "data": {
      "text/plain": [
       "<re.Match object; span=(0, 1), match='I'>"
      ]
     },
     "execution_count": 9,
     "metadata": {},
     "output_type": "execute_result"
    }
   ],
   "source": [
    "s = re.match('I',text)\n",
    "s"
   ]
  },
  {
   "cell_type": "markdown",
   "metadata": {},
   "source": [
    "#### Findall\n",
    "\n",
    "- finds all values matching - 3 times matching here"
   ]
  },
  {
   "cell_type": "code",
   "execution_count": 131,
   "metadata": {},
   "outputs": [
    {
     "name": "stdout",
     "output_type": "stream",
     "text": [
      "['ai', 'ai', 'ai']\n"
     ]
    }
   ],
   "source": [
    "str = \"The rain in Spain ai\"\n",
    "x = re.findall(\"ai\", str)\n",
    "print(x) "
   ]
  },
  {
   "cell_type": "markdown",
   "metadata": {},
   "source": [
    "#### Search\n",
    "\n",
    "- Finds only the first matching value"
   ]
  },
  {
   "cell_type": "code",
   "execution_count": 129,
   "metadata": {},
   "outputs": [
    {
     "name": "stdout",
     "output_type": "stream",
     "text": [
      "ai (5, 7)\n"
     ]
    }
   ],
   "source": [
    "str = \"The rain in Spain ai in\"\n",
    "x = re.search(\"ai\", str)\n",
    "print(x.group(),x.span()) "
   ]
  },
  {
   "cell_type": "code",
   "execution_count": 33,
   "metadata": {},
   "outputs": [
    {
     "data": {
      "text/plain": [
       "<re.Match object; span=(3, 4), match=' '>"
      ]
     },
     "execution_count": 33,
     "metadata": {},
     "output_type": "execute_result"
    }
   ],
   "source": [
    "str = \"The rain in Spain\"\n",
    "x = re.search(\"\\s\", str)\n",
    "x"
   ]
  },
  {
   "cell_type": "code",
   "execution_count": null,
   "metadata": {},
   "outputs": [],
   "source": []
  },
  {
   "cell_type": "markdown",
   "metadata": {},
   "source": [
    "#### RE vs STR\n",
    "\n",
    "-  RE & STR both has `split` \n",
    "- RE has `sub` while STR has `replace`  "
   ]
  },
  {
   "cell_type": "code",
   "execution_count": 63,
   "metadata": {},
   "outputs": [],
   "source": [
    "str = \"The rain in Spain is rainy\""
   ]
  },
  {
   "cell_type": "code",
   "execution_count": 52,
   "metadata": {},
   "outputs": [
    {
     "data": {
      "text/plain": [
       "<re.Match object; span=(0, 3), match='The'>"
      ]
     },
     "execution_count": 52,
     "metadata": {},
     "output_type": "execute_result"
    }
   ],
   "source": [
    "re.search('^The',str) # start"
   ]
  },
  {
   "cell_type": "code",
   "execution_count": 53,
   "metadata": {},
   "outputs": [
    {
     "data": {
      "text/plain": [
       "<re.Match object; span=(12, 17), match='Spain'>"
      ]
     },
     "execution_count": 53,
     "metadata": {},
     "output_type": "execute_result"
    }
   ],
   "source": [
    "re.search('Spain$',str) # end"
   ]
  },
  {
   "cell_type": "code",
   "execution_count": 62,
   "metadata": {},
   "outputs": [
    {
     "data": {
      "text/plain": [
       "<re.Match object; span=(0, 0), match=''>"
      ]
     },
     "execution_count": 62,
     "metadata": {},
     "output_type": "execute_result"
    }
   ],
   "source": [
    "re.search('d*',str) # 0 or more occurance"
   ]
  },
  {
   "cell_type": "code",
   "execution_count": 56,
   "metadata": {},
   "outputs": [
    {
     "data": {
      "text/plain": [
       "<re.Match object; span=(12, 14), match='Sp'>"
      ]
     },
     "execution_count": 56,
     "metadata": {},
     "output_type": "execute_result"
    }
   ],
   "source": [
    "re.search('Sp+',str) # 1 or more occurance"
   ]
  },
  {
   "cell_type": "code",
   "execution_count": 76,
   "metadata": {},
   "outputs": [
    {
     "data": {
      "text/plain": [
       "<re.Match object; span=(4, 7), match='rai'>"
      ]
     },
     "execution_count": 76,
     "metadata": {},
     "output_type": "execute_result"
    }
   ],
   "source": [
    "re.search('rai',str) # Exactly the specified number of occurrences"
   ]
  },
  {
   "cell_type": "code",
   "execution_count": null,
   "metadata": {},
   "outputs": [],
   "source": []
  },
  {
   "cell_type": "code",
   "execution_count": 29,
   "metadata": {},
   "outputs": [
    {
     "name": "stdout",
     "output_type": "stream",
     "text": [
      "I am rohan sharma, my mail id is rohan.tipo@gmail.com \n",
      "\n",
      "although my official mail id is 0303sharmarohan@gmail.com\n",
      "\n",
      "I am working in gurgaon as a BA with cardekho.com\n",
      "[]\n"
     ]
    }
   ],
   "source": [
    "with open(r'C:\\Users\\Rohan\\Desktop\\test.txt') as f:\n",
    "    for x in f:\n",
    "        print(x)\n",
    "        \n",
    "    y = re.findall('',x)\n",
    "    print(y)"
   ]
  },
  {
   "cell_type": "markdown",
   "metadata": {},
   "source": [
    "# Corey Schafer\n",
    "\n",
    "https://www.youtube.com/watch?v=K8L6KVGG-7o\n",
    "\n",
    "\n",
    "\".\" - searches for any char\n",
    "\"\\.\" - searches for .\n",
    "\n",
    "\"b\" - searches for b\n",
    "\"\\b\" - searches for word boundary\n",
    "\n",
    "\n",
    "- .       - Any Character Except New Line\n",
    "- \\d      - Digit (0-9)\n",
    "- \\D      - Not a Digit (0-9)\n",
    "- \\w      - Word Character (a-z, A-Z, 0-9, _)\n",
    "- \\W      - Not a Word Character\n",
    "- \\s      - Whitespace (space, tab, newline)\n",
    "- \\S      - Not Whitespace (space, tab, newline)\n",
    "\n",
    "- \\b      - Word Boundary\n",
    "- \\B      - Not a Word Boundary\n",
    "- ^       - Beginning of a String\n",
    "- $       - End of a String\n",
    "\n",
    "- []      - Matches Characters in brackets\n",
    "- [^ ]    - Matches Characters NOT in brackets\n",
    "- |       - Either Or\n",
    "- ( )     - Group\n",
    "\n",
    "Quantifiers:\n",
    "-   \"*\"       - 0 or More\n",
    "-  \"+\"       - 1 or More\n",
    "- ?       - 0 or One\n",
    "- {3}     - Exact Number\n",
    "- {3,4}   - Range of Numbers (Minimum, Maximum)\n",
    "\n",
    "\n",
    "#### Sample Regexs ####\n",
    "\n",
    "- [a-zA-Z0-9_.+-]+@[a-zA-Z0-9-]+\\.[a-zA-Z0-9-.]+"
   ]
  },
  {
   "cell_type": "markdown",
   "metadata": {},
   "source": [
    "# --------------------------------------\n",
    "\n",
    "#### These can be directly employed without initializing re.compile\n",
    "\n",
    "\n",
    "### re.I is a flag : stating ignorecase"
   ]
  },
  {
   "cell_type": "code",
   "execution_count": 136,
   "metadata": {},
   "outputs": [
    {
     "data": {
      "text/plain": [
       "['321-555-4321', '123.555.1234', '800-555-1234', '900-555-1234']"
      ]
     },
     "execution_count": 136,
     "metadata": {},
     "output_type": "execute_result"
    }
   ],
   "source": [
    "re.findall(r'\\d{3}[-.]\\d{3}[-.]\\d{4}',text_to_search)"
   ]
  },
  {
   "cell_type": "code",
   "execution_count": 146,
   "metadata": {},
   "outputs": [
    {
     "name": "stdout",
     "output_type": "stream",
     "text": [
      "321-555-4321\n",
      "123.555.1234\n",
      "800-555-1234\n",
      "900-555-1234\n"
     ]
    }
   ],
   "source": [
    "for x in re.findall(r'\\d{3}[-.]\\d{3}[-.]\\d{4}',text_to_search):\n",
    "    print(x)"
   ]
  },
  {
   "cell_type": "code",
   "execution_count": 158,
   "metadata": {},
   "outputs": [
    {
     "name": "stdout",
     "output_type": "stream",
     "text": [
      "<re.Match object; span=(87, 99), match='321-555-4321'>\n",
      "<re.Match object; span=(100, 112), match='123.555.1234'>\n",
      "<re.Match object; span=(126, 138), match='800-555-1234'>\n",
      "<re.Match object; span=(139, 151), match='900-555-1234'>\n"
     ]
    }
   ],
   "source": [
    "for x in re.finditer(r'\\d{3}[-.]\\d{3}[-.]\\d{4}',text_to_search,re.I):\n",
    "    print(x)"
   ]
  },
  {
   "cell_type": "code",
   "execution_count": 157,
   "metadata": {},
   "outputs": [
    {
     "name": "stdout",
     "output_type": "stream",
     "text": [
      "321-555-4321\n",
      "123.555.1234\n",
      "800-555-1234\n",
      "900-555-1234\n"
     ]
    }
   ],
   "source": [
    "for x in re.finditer(r'\\d{3}[-.]\\d{3}[-.]\\d{4}',text_to_search,re.I):\n",
    "    print(x.group())"
   ]
  },
  {
   "cell_type": "markdown",
   "metadata": {},
   "source": [
    "# ---------------------------------"
   ]
  },
  {
   "cell_type": "code",
   "execution_count": 127,
   "metadata": {},
   "outputs": [
    {
     "name": "stdout",
     "output_type": "stream",
     "text": [
      "<re.Match object; span=(0, 5), match='Start'>\n"
     ]
    }
   ],
   "source": [
    "\n",
    "text_to_search = '''\n",
    "abcdefghijklmnopqurtuvwxyz\n",
    "ABCDEFGHIJKLMNOPQRSTUVWXYZ\n",
    "1234567890\n",
    "Ha HaHa\n",
    "\n",
    "coreyms.com\n",
    "321-555-4321\n",
    "123.555.1234\n",
    "123*555*1234\n",
    "800-555-1234\n",
    "900-555-1234\n",
    "Mr. Schafer\n",
    "Mr Smith\n",
    "Ms Davis\n",
    "Mrs. Robinson\n",
    "Mr. T\n",
    "'''\n",
    "\n",
    "sentence = 'Start a sentence start and then bring it to an end'\n",
    "\n",
    "pattern = re.compile(r'start', re.I)\n",
    "\n",
    "matches = pattern.search(sentence)\n",
    "\n",
    "print(matches)"
   ]
  },
  {
   "cell_type": "markdown",
   "metadata": {},
   "source": [
    "- Raw strings allows the editor to neglect special charecters\n",
    "\n",
    "- Raw strigs are defined by r\"...string...\""
   ]
  },
  {
   "cell_type": "code",
   "execution_count": 7,
   "metadata": {},
   "outputs": [
    {
     "name": "stdout",
     "output_type": "stream",
     "text": [
      "\tRohan\n",
      "\\tRohan\n"
     ]
    }
   ],
   "source": [
    "print('\\tRohan')\n",
    "print(r'\\tRohan')"
   ]
  },
  {
   "cell_type": "code",
   "execution_count": 18,
   "metadata": {},
   "outputs": [
    {
     "name": "stdout",
     "output_type": "stream",
     "text": [
      "<callable_iterator object at 0x000000B4056B4E80>\n",
      "<re.Match object; span=(1, 4), match='abc'>\n"
     ]
    }
   ],
   "source": [
    "pattern = re.compile(r'abc') # 'abc' is case-sensitive\n",
    "\n",
    "matches = pattern.finditer(text_to_search)\n",
    "\n",
    "print(matches) # if no match had been found, this would have been empty/null\n",
    "\n",
    "# printing the result of match operation performed\n",
    "for x in matches:\n",
    "    print(x)"
   ]
  },
  {
   "cell_type": "markdown",
   "metadata": {},
   "source": [
    "#### Escaping special charecters using \n",
    "# \\\n",
    "\n",
    "#### MetaCharacters (Need to be escaped):\n",
    "\n",
    "### ^ $ * + ? { } [ ] \\ | ( )\n",
    "\n",
    "> ****'.'**** is a special charecter"
   ]
  },
  {
   "cell_type": "code",
   "execution_count": 22,
   "metadata": {},
   "outputs": [
    {
     "name": "stdout",
     "output_type": "stream",
     "text": [
      "<callable_iterator object at 0x000000B4056C4F28>\n",
      "<re.Match object; span=(111, 112), match='.'>\n",
      "<re.Match object; span=(146, 147), match='.'>\n",
      "<re.Match object; span=(167, 168), match='.'>\n",
      "<re.Match object; span=(171, 172), match='.'>\n",
      "<re.Match object; span=(218, 219), match='.'>\n",
      "<re.Match object; span=(249, 250), match='.'>\n",
      "<re.Match object; span=(262, 263), match='.'>\n"
     ]
    }
   ],
   "source": [
    "pattern = re.compile(r'\\.') # 'abc' is case-sensitive\n",
    "\n",
    "matches = pattern.finditer(textto_search)\n",
    "\n",
    "print(matches) # if no match had been found, this would have been empty/null\n",
    "\n",
    "# printing the result of match operation performed\n",
    "for x in matches:\n",
    "    print(x)"
   ]
  },
  {
   "cell_type": "markdown",
   "metadata": {},
   "source": [
    "- \\d - (0-9) digits\n",
    "- \\D - Non Digits\n",
    "- \\w - word ([0-9],[A-Z],[a-z])\n",
    "- \\W - not a word (\"/\",\".\",\"(\",\"}\")\n",
    "- \\s - whitespace(\" \",tab,newline)\n",
    "- \\S - non whitespace \n",
    "\n",
    "#####  ------------------------------------------------------------------------\n",
    "\n",
    "- **\\b** - word boundry\n",
    "- **\\B** - not a word boundry\n",
    "- **^** - beginning of a line\n",
    "- **$** - end of a line\n",
    "- **\\.** - charecter\n",
    "\n",
    "\n",
    "\n",
    "- **[]** - matches charecters in brackets\n",
    "- **[^]** - does not matches charecters in brackets"
   ]
  },
  {
   "cell_type": "code",
   "execution_count": 47,
   "metadata": {},
   "outputs": [
    {
     "name": "stdout",
     "output_type": "stream",
     "text": [
      "<callable_iterator object at 0x000000B40590C208>\n",
      "<re.Match object; span=(66, 68), match='Ha'>\n",
      "<re.Match object; span=(69, 71), match='Ha'>\n"
     ]
    }
   ],
   "source": [
    "# Word boundry example - matches 2 ha coz there is boundry available for only 2 ha\n",
    "\n",
    "pattern = re.compile(r'\\bHa') \n",
    "\n",
    "matches = pattern.finditer(text_to_search)\n",
    "\n",
    "print(matches) # if no match had been found, this would have been empty/null\n",
    "\n",
    "# printing the result of match operation performed\n",
    "for x in matches:\n",
    "    print(x)"
   ]
  },
  {
   "cell_type": "markdown",
   "metadata": {},
   "source": [
    "#### Start"
   ]
  },
  {
   "cell_type": "code",
   "execution_count": 46,
   "metadata": {},
   "outputs": [
    {
     "name": "stdout",
     "output_type": "stream",
     "text": [
      "<callable_iterator object at 0x000000B40590C8D0>\n",
      "<re.Match object; span=(0, 5), match='Start'>\n"
     ]
    }
   ],
   "source": [
    "# Word boundry example - matches 2 ha coz there is boundry available for only 2 ha\n",
    "\n",
    "pattern = re.compile(r'^Start') \n",
    "\n",
    "matches = pattern.finditer(sentence)\n",
    "\n",
    "print(matches) # if no match had been found, this would have been empty/null\n",
    "\n",
    "# printing the result of match operation performed\n",
    "for x in matches:\n",
    "    print(x)"
   ]
  },
  {
   "cell_type": "markdown",
   "metadata": {},
   "source": [
    "#### End"
   ]
  },
  {
   "cell_type": "code",
   "execution_count": 36,
   "metadata": {},
   "outputs": [
    {
     "name": "stdout",
     "output_type": "stream",
     "text": [
      "<callable_iterator object at 0x000000B404800048>\n",
      "<re.Match object; span=(41, 44), match='end'>\n"
     ]
    }
   ],
   "source": [
    "# Word boundry example - matches 2 ha coz there is boundry available for only 2 ha\n",
    "\n",
    "pattern = re.compile(r'end$') \n",
    "\n",
    "matches = pattern.finditer(sentence)\n",
    "\n",
    "print(matches) # if no match had been found, this would have been empty/null\n",
    "\n",
    "# printing the result of match operation performed\n",
    "for x in matches:\n",
    "    print(x)"
   ]
  },
  {
   "cell_type": "markdown",
   "metadata": {},
   "source": [
    "#### Matching phone_number"
   ]
  },
  {
   "cell_type": "code",
   "execution_count": 49,
   "metadata": {},
   "outputs": [
    {
     "name": "stdout",
     "output_type": "stream",
     "text": [
      "<callable_iterator object at 0x000000B40590CC50>\n",
      "<re.Match object; span=(151, 163), match='321-555-4321'>\n",
      "<re.Match object; span=(164, 176), match='123.555.1234'>\n",
      "<re.Match object; span=(177, 189), match='123*555*1234'>\n",
      "<re.Match object; span=(190, 202), match='800-555-1234'>\n",
      "<re.Match object; span=(203, 215), match='900-555-1234'>\n"
     ]
    }
   ],
   "source": [
    "# Word boundry example - matches 2 ha coz there is boundry available for only 2 ha\n",
    "\n",
    "pattern = re.compile(r'\\d\\d\\d.\\d\\d\\d.\\d\\d\\d\\d') \n",
    "\n",
    "matches = pattern.finditer(text_to_search)\n",
    "\n",
    "print(matches) # if no match had been found, this would have been empty/null\n",
    "\n",
    "# printing the result of match operation performed\n",
    "for x in matches:\n",
    "    print(x)"
   ]
  },
  {
   "cell_type": "markdown",
   "metadata": {},
   "source": [
    "#### Matching Phone_number with only \"-\" & \".\" separator\n",
    "\n",
    "- No need to escape out \".\" in [] \n",
    "- [] works like an OR clause"
   ]
  },
  {
   "cell_type": "code",
   "execution_count": 62,
   "metadata": {},
   "outputs": [
    {
     "name": "stdout",
     "output_type": "stream",
     "text": [
      "<callable_iterator object at 0x000000B405903E10>\n",
      "<re.Match object; span=(87, 99), match='321-555-4321'>\n",
      "<re.Match object; span=(100, 112), match='123.555.1234'>\n",
      "<re.Match object; span=(126, 138), match='800-555-1234'>\n",
      "<re.Match object; span=(139, 151), match='900-555-1234'>\n"
     ]
    }
   ],
   "source": [
    "# Word boundry example - matches 2 ha coz there is boundry available for only 2 ha\n",
    "\n",
    "pattern = re.compile(r'\\d\\d\\d[-.]\\d\\d\\d[-.]\\d\\d\\d\\d') \n",
    "\n",
    "matches = pattern.finditer(text_to_search)\n",
    "\n",
    "print(matches) # if no match had been found, this would have been empty/null\n",
    "\n",
    "# printing the result of match operation performed\n",
    "for x in matches:\n",
    "    print(x)"
   ]
  },
  {
   "cell_type": "markdown",
   "metadata": {},
   "source": [
    "#### Instead of retyping \\d we use quantifiers"
   ]
  },
  {
   "cell_type": "code",
   "execution_count": 67,
   "metadata": {},
   "outputs": [
    {
     "name": "stdout",
     "output_type": "stream",
     "text": [
      "<callable_iterator object at 0x000000B4058BF0B8>\n",
      "<re.Match object; span=(87, 99), match='321-555-4321'>\n",
      "<re.Match object; span=(100, 112), match='123.555.1234'>\n",
      "<re.Match object; span=(126, 138), match='800-555-1234'>\n",
      "<re.Match object; span=(139, 151), match='900-555-1234'>\n"
     ]
    }
   ],
   "source": [
    "# Word boundry example - matches 2 ha coz there is boundry available for only 2 ha\n",
    "\n",
    "pattern = re.compile(r'\\d{3}[-.]\\d{3}[-.]\\d{4}') \n",
    "\n",
    "matches = pattern.finditer(text_to_search)\n",
    "\n",
    "print(matches) # if no match had been found, this would have been empty/null\n",
    "\n",
    "# printing the result of match operation performed\n",
    "for x in matches:\n",
    "    print(x)"
   ]
  },
  {
   "cell_type": "markdown",
   "metadata": {},
   "source": [
    "## Findall vs Finditer vs Search vs Match\n",
    "\n",
    "- findall returns an object which gives us the extracted values, it can iterated as well\n",
    "-  finditer gives us only iterables but with a little extra info\n",
    "\n",
    "#### Search\n",
    "- search only searches for the first matching value in the text\n",
    "\n",
    "\n",
    "#### Match\n",
    "-  only returns a value if the value searched is found at the start of the string"
   ]
  },
  {
   "cell_type": "code",
   "execution_count": 121,
   "metadata": {},
   "outputs": [
    {
     "name": "stdout",
     "output_type": "stream",
     "text": [
      "['321-555-4321', '123.555.1234', '800-555-1234', '900-555-1234']\n",
      "321-555-4321\n",
      "123.555.1234\n",
      "800-555-1234\n",
      "900-555-1234\n"
     ]
    }
   ],
   "source": [
    "# Word boundry example - matches 2 ha coz there is boundry available for only 2 ha\n",
    "\n",
    "pattern = re.compile(r'\\d{3}[-.]\\d{3}[-.]\\d{4}') \n",
    "\n",
    "matches = pattern.findall(text_to_search)\n",
    "\n",
    "print(matches) # if no match had been found, this would have been empty/null\n",
    "\n",
    "# printing the result of match operation performed\n",
    "for x in matches:\n",
    "    print(x)"
   ]
  },
  {
   "cell_type": "code",
   "execution_count": 124,
   "metadata": {},
   "outputs": [
    {
     "name": "stdout",
     "output_type": "stream",
     "text": [
      "<re.Match object; span=(87, 99), match='321-555-4321'>\n"
     ]
    }
   ],
   "source": [
    "# Word boundry example - matches 2 ha coz there is boundry available for only 2 ha\n",
    "\n",
    "pattern = re.compile(r'\\d{3}[-.]\\d{3}[-.]\\d{4}') \n",
    "\n",
    "matches = pattern.search(text_to_search)\n",
    "\n",
    "print(matches) # if no match had been found, this would have been empty/null"
   ]
  },
  {
   "cell_type": "markdown",
   "metadata": {},
   "source": [
    "#### To match 800 or 900 beginning number"
   ]
  },
  {
   "cell_type": "code",
   "execution_count": 63,
   "metadata": {},
   "outputs": [
    {
     "name": "stdout",
     "output_type": "stream",
     "text": [
      "<callable_iterator object at 0x000000B405903D68>\n",
      "<re.Match object; span=(126, 138), match='800-555-1234'>\n",
      "<re.Match object; span=(139, 151), match='900-555-1234'>\n"
     ]
    }
   ],
   "source": [
    "# Word boundry example - matches 2 ha coz there is boundry available for only 2 ha\n",
    "\n",
    "pattern = re.compile(r'[89]00[-.]\\d\\d\\d[-.]\\d\\d\\d\\d') \n",
    "\n",
    "matches = pattern.finditer(text_to_search)\n",
    "\n",
    "print(matches) # if no match had been found, this would have been empty/null\n",
    "\n",
    "# printing the result of match operation performed\n",
    "for x in matches:\n",
    "    print(x)"
   ]
  },
  {
   "cell_type": "markdown",
   "metadata": {},
   "source": [
    "## [start - end] "
   ]
  },
  {
   "cell_type": "code",
   "execution_count": 57,
   "metadata": {},
   "outputs": [
    {
     "name": "stdout",
     "output_type": "stream",
     "text": [
      "<callable_iterator object at 0x000000B40590CC88>\n",
      "<re.Match object; span=(1, 2), match='a'>\n",
      "<re.Match object; span=(2, 3), match='b'>\n",
      "<re.Match object; span=(3, 4), match='c'>\n",
      "<re.Match object; span=(4, 5), match='d'>\n",
      "<re.Match object; span=(5, 6), match='e'>\n",
      "<re.Match object; span=(6, 7), match='f'>\n",
      "<re.Match object; span=(7, 8), match='g'>\n",
      "<re.Match object; span=(8, 9), match='h'>\n",
      "<re.Match object; span=(9, 10), match='i'>\n",
      "<re.Match object; span=(10, 11), match='j'>\n",
      "<re.Match object; span=(11, 12), match='k'>\n",
      "<re.Match object; span=(12, 13), match='l'>\n",
      "<re.Match object; span=(13, 14), match='m'>\n",
      "<re.Match object; span=(14, 15), match='n'>\n",
      "<re.Match object; span=(15, 16), match='o'>\n",
      "<re.Match object; span=(16, 17), match='p'>\n",
      "<re.Match object; span=(17, 18), match='q'>\n",
      "<re.Match object; span=(18, 19), match='u'>\n",
      "<re.Match object; span=(19, 20), match='r'>\n",
      "<re.Match object; span=(20, 21), match='t'>\n",
      "<re.Match object; span=(21, 22), match='u'>\n",
      "<re.Match object; span=(22, 23), match='v'>\n",
      "<re.Match object; span=(23, 24), match='w'>\n",
      "<re.Match object; span=(24, 25), match='x'>\n",
      "<re.Match object; span=(25, 26), match='y'>\n",
      "<re.Match object; span=(26, 27), match='z'>\n",
      "<re.Match object; span=(55, 56), match='1'>\n",
      "<re.Match object; span=(56, 57), match='2'>\n",
      "<re.Match object; span=(57, 58), match='3'>\n",
      "<re.Match object; span=(58, 59), match='4'>\n",
      "<re.Match object; span=(59, 60), match='5'>\n",
      "<re.Match object; span=(67, 68), match='a'>\n",
      "<re.Match object; span=(70, 71), match='a'>\n",
      "<re.Match object; span=(72, 73), match='a'>\n",
      "<re.Match object; span=(75, 76), match='e'>\n",
      "<re.Match object; span=(76, 77), match='t'>\n",
      "<re.Match object; span=(77, 78), match='a'>\n",
      "<re.Match object; span=(79, 80), match='h'>\n",
      "<re.Match object; span=(80, 81), match='a'>\n",
      "<re.Match object; span=(81, 82), match='r'>\n",
      "<re.Match object; span=(82, 83), match='a'>\n",
      "<re.Match object; span=(83, 84), match='c'>\n",
      "<re.Match object; span=(84, 85), match='t'>\n",
      "<re.Match object; span=(85, 86), match='e'>\n",
      "<re.Match object; span=(86, 87), match='r'>\n",
      "<re.Match object; span=(87, 88), match='s'>\n",
      "<re.Match object; span=(91, 92), match='e'>\n",
      "<re.Match object; span=(92, 93), match='e'>\n",
      "<re.Match object; span=(93, 94), match='d'>\n",
      "<re.Match object; span=(95, 96), match='t'>\n",
      "<re.Match object; span=(96, 97), match='o'>\n",
      "<re.Match object; span=(98, 99), match='b'>\n",
      "<re.Match object; span=(99, 100), match='e'>\n",
      "<re.Match object; span=(101, 102), match='e'>\n",
      "<re.Match object; span=(102, 103), match='s'>\n",
      "<re.Match object; span=(103, 104), match='c'>\n",
      "<re.Match object; span=(104, 105), match='a'>\n",
      "<re.Match object; span=(105, 106), match='p'>\n",
      "<re.Match object; span=(106, 107), match='e'>\n",
      "<re.Match object; span=(107, 108), match='d'>\n",
      "<re.Match object; span=(139, 140), match='c'>\n",
      "<re.Match object; span=(140, 141), match='o'>\n",
      "<re.Match object; span=(141, 142), match='r'>\n",
      "<re.Match object; span=(142, 143), match='e'>\n",
      "<re.Match object; span=(143, 144), match='y'>\n",
      "<re.Match object; span=(144, 145), match='m'>\n",
      "<re.Match object; span=(145, 146), match='s'>\n",
      "<re.Match object; span=(147, 148), match='c'>\n",
      "<re.Match object; span=(148, 149), match='o'>\n",
      "<re.Match object; span=(149, 150), match='m'>\n",
      "<re.Match object; span=(151, 152), match='3'>\n",
      "<re.Match object; span=(152, 153), match='2'>\n",
      "<re.Match object; span=(153, 154), match='1'>\n",
      "<re.Match object; span=(155, 156), match='5'>\n",
      "<re.Match object; span=(156, 157), match='5'>\n",
      "<re.Match object; span=(157, 158), match='5'>\n",
      "<re.Match object; span=(159, 160), match='4'>\n",
      "<re.Match object; span=(160, 161), match='3'>\n",
      "<re.Match object; span=(161, 162), match='2'>\n",
      "<re.Match object; span=(162, 163), match='1'>\n",
      "<re.Match object; span=(164, 165), match='1'>\n",
      "<re.Match object; span=(165, 166), match='2'>\n",
      "<re.Match object; span=(166, 167), match='3'>\n",
      "<re.Match object; span=(168, 169), match='5'>\n",
      "<re.Match object; span=(169, 170), match='5'>\n",
      "<re.Match object; span=(170, 171), match='5'>\n",
      "<re.Match object; span=(172, 173), match='1'>\n",
      "<re.Match object; span=(173, 174), match='2'>\n",
      "<re.Match object; span=(174, 175), match='3'>\n",
      "<re.Match object; span=(175, 176), match='4'>\n",
      "<re.Match object; span=(177, 178), match='1'>\n",
      "<re.Match object; span=(178, 179), match='2'>\n",
      "<re.Match object; span=(179, 180), match='3'>\n",
      "<re.Match object; span=(181, 182), match='5'>\n",
      "<re.Match object; span=(182, 183), match='5'>\n",
      "<re.Match object; span=(183, 184), match='5'>\n",
      "<re.Match object; span=(185, 186), match='1'>\n",
      "<re.Match object; span=(186, 187), match='2'>\n",
      "<re.Match object; span=(187, 188), match='3'>\n",
      "<re.Match object; span=(188, 189), match='4'>\n",
      "<re.Match object; span=(194, 195), match='5'>\n",
      "<re.Match object; span=(195, 196), match='5'>\n",
      "<re.Match object; span=(196, 197), match='5'>\n",
      "<re.Match object; span=(198, 199), match='1'>\n",
      "<re.Match object; span=(199, 200), match='2'>\n",
      "<re.Match object; span=(200, 201), match='3'>\n",
      "<re.Match object; span=(201, 202), match='4'>\n",
      "<re.Match object; span=(207, 208), match='5'>\n",
      "<re.Match object; span=(208, 209), match='5'>\n",
      "<re.Match object; span=(209, 210), match='5'>\n",
      "<re.Match object; span=(211, 212), match='1'>\n",
      "<re.Match object; span=(212, 213), match='2'>\n",
      "<re.Match object; span=(213, 214), match='3'>\n",
      "<re.Match object; span=(214, 215), match='4'>\n",
      "<re.Match object; span=(217, 218), match='r'>\n",
      "<re.Match object; span=(221, 222), match='c'>\n",
      "<re.Match object; span=(222, 223), match='h'>\n",
      "<re.Match object; span=(223, 224), match='a'>\n",
      "<re.Match object; span=(224, 225), match='f'>\n",
      "<re.Match object; span=(225, 226), match='e'>\n",
      "<re.Match object; span=(226, 227), match='r'>\n",
      "<re.Match object; span=(229, 230), match='r'>\n",
      "<re.Match object; span=(232, 233), match='m'>\n",
      "<re.Match object; span=(233, 234), match='i'>\n",
      "<re.Match object; span=(234, 235), match='t'>\n",
      "<re.Match object; span=(235, 236), match='h'>\n",
      "<re.Match object; span=(238, 239), match='s'>\n",
      "<re.Match object; span=(241, 242), match='a'>\n",
      "<re.Match object; span=(242, 243), match='v'>\n",
      "<re.Match object; span=(243, 244), match='i'>\n",
      "<re.Match object; span=(244, 245), match='s'>\n",
      "<re.Match object; span=(247, 248), match='r'>\n",
      "<re.Match object; span=(248, 249), match='s'>\n",
      "<re.Match object; span=(252, 253), match='o'>\n",
      "<re.Match object; span=(253, 254), match='b'>\n",
      "<re.Match object; span=(254, 255), match='i'>\n",
      "<re.Match object; span=(255, 256), match='n'>\n",
      "<re.Match object; span=(256, 257), match='s'>\n",
      "<re.Match object; span=(257, 258), match='o'>\n",
      "<re.Match object; span=(258, 259), match='n'>\n",
      "<re.Match object; span=(261, 262), match='r'>\n"
     ]
    }
   ],
   "source": [
    "# multiple condtions\n",
    "\n",
    "pattern = re.compile(r'[1-5a-z]') \n",
    "\n",
    "matches = pattern.finditer(text_to_search)\n",
    "\n",
    "print(matches) # if no match had been found, this would have been empty/null\n",
    "\n",
    "# printing the result of match operation performed\n",
    "for x in matches:\n",
    "    print(x)"
   ]
  },
  {
   "cell_type": "markdown",
   "metadata": {},
   "source": [
    "# [^-] negation range "
   ]
  },
  {
   "cell_type": "code",
   "execution_count": 64,
   "metadata": {},
   "outputs": [
    {
     "name": "stdout",
     "output_type": "stream",
     "text": [
      "<callable_iterator object at 0x000000B405903AC8>\n",
      "<re.Match object; span=(0, 1), match='\\n'>\n",
      "<re.Match object; span=(27, 28), match='\\n'>\n",
      "<re.Match object; span=(28, 29), match='A'>\n",
      "<re.Match object; span=(29, 30), match='B'>\n",
      "<re.Match object; span=(30, 31), match='C'>\n",
      "<re.Match object; span=(31, 32), match='D'>\n",
      "<re.Match object; span=(32, 33), match='E'>\n",
      "<re.Match object; span=(33, 34), match='F'>\n",
      "<re.Match object; span=(34, 35), match='G'>\n",
      "<re.Match object; span=(35, 36), match='H'>\n",
      "<re.Match object; span=(36, 37), match='I'>\n",
      "<re.Match object; span=(37, 38), match='J'>\n",
      "<re.Match object; span=(38, 39), match='K'>\n",
      "<re.Match object; span=(39, 40), match='L'>\n",
      "<re.Match object; span=(40, 41), match='M'>\n",
      "<re.Match object; span=(41, 42), match='N'>\n",
      "<re.Match object; span=(42, 43), match='O'>\n",
      "<re.Match object; span=(43, 44), match='P'>\n",
      "<re.Match object; span=(44, 45), match='Q'>\n",
      "<re.Match object; span=(45, 46), match='R'>\n",
      "<re.Match object; span=(46, 47), match='S'>\n",
      "<re.Match object; span=(47, 48), match='T'>\n",
      "<re.Match object; span=(48, 49), match='U'>\n",
      "<re.Match object; span=(49, 50), match='V'>\n",
      "<re.Match object; span=(50, 51), match='W'>\n",
      "<re.Match object; span=(51, 52), match='X'>\n",
      "<re.Match object; span=(52, 53), match='Y'>\n",
      "<re.Match object; span=(53, 54), match='Z'>\n",
      "<re.Match object; span=(54, 55), match='\\n'>\n",
      "<re.Match object; span=(60, 61), match='6'>\n",
      "<re.Match object; span=(61, 62), match='7'>\n",
      "<re.Match object; span=(62, 63), match='8'>\n",
      "<re.Match object; span=(63, 64), match='9'>\n",
      "<re.Match object; span=(64, 65), match='0'>\n",
      "<re.Match object; span=(65, 66), match='\\n'>\n",
      "<re.Match object; span=(66, 67), match='H'>\n",
      "<re.Match object; span=(68, 69), match=' '>\n",
      "<re.Match object; span=(69, 70), match='H'>\n",
      "<re.Match object; span=(71, 72), match='H'>\n",
      "<re.Match object; span=(73, 74), match='\\n'>\n",
      "<re.Match object; span=(74, 75), match='\\n'>\n",
      "<re.Match object; span=(82, 83), match='.'>\n",
      "<re.Match object; span=(86, 87), match='\\n'>\n",
      "<re.Match object; span=(90, 91), match='-'>\n",
      "<re.Match object; span=(94, 95), match='-'>\n",
      "<re.Match object; span=(99, 100), match='\\n'>\n",
      "<re.Match object; span=(103, 104), match='.'>\n",
      "<re.Match object; span=(107, 108), match='.'>\n",
      "<re.Match object; span=(112, 113), match='\\n'>\n",
      "<re.Match object; span=(116, 117), match='*'>\n",
      "<re.Match object; span=(120, 121), match='*'>\n",
      "<re.Match object; span=(125, 126), match='\\n'>\n",
      "<re.Match object; span=(126, 127), match='8'>\n",
      "<re.Match object; span=(127, 128), match='0'>\n",
      "<re.Match object; span=(128, 129), match='0'>\n",
      "<re.Match object; span=(129, 130), match='-'>\n",
      "<re.Match object; span=(133, 134), match='-'>\n",
      "<re.Match object; span=(138, 139), match='\\n'>\n",
      "<re.Match object; span=(139, 140), match='9'>\n",
      "<re.Match object; span=(140, 141), match='0'>\n",
      "<re.Match object; span=(141, 142), match='0'>\n",
      "<re.Match object; span=(142, 143), match='-'>\n",
      "<re.Match object; span=(146, 147), match='-'>\n",
      "<re.Match object; span=(151, 152), match='\\n'>\n",
      "<re.Match object; span=(152, 153), match='M'>\n",
      "<re.Match object; span=(154, 155), match='.'>\n",
      "<re.Match object; span=(155, 156), match=' '>\n",
      "<re.Match object; span=(156, 157), match='S'>\n",
      "<re.Match object; span=(163, 164), match='\\n'>\n",
      "<re.Match object; span=(164, 165), match='M'>\n",
      "<re.Match object; span=(166, 167), match=' '>\n",
      "<re.Match object; span=(167, 168), match='S'>\n",
      "<re.Match object; span=(172, 173), match='\\n'>\n",
      "<re.Match object; span=(173, 174), match='M'>\n",
      "<re.Match object; span=(175, 176), match=' '>\n",
      "<re.Match object; span=(176, 177), match='D'>\n",
      "<re.Match object; span=(181, 182), match='\\n'>\n",
      "<re.Match object; span=(182, 183), match='M'>\n",
      "<re.Match object; span=(185, 186), match='.'>\n",
      "<re.Match object; span=(186, 187), match=' '>\n",
      "<re.Match object; span=(187, 188), match='R'>\n",
      "<re.Match object; span=(195, 196), match='\\n'>\n",
      "<re.Match object; span=(196, 197), match='M'>\n",
      "<re.Match object; span=(198, 199), match='.'>\n",
      "<re.Match object; span=(199, 200), match=' '>\n",
      "<re.Match object; span=(200, 201), match='T'>\n",
      "<re.Match object; span=(201, 202), match='\\n'>\n"
     ]
    }
   ],
   "source": [
    "# multiple condtions\n",
    "\n",
    "pattern = re.compile(r'[^1-5a-z]') \n",
    "\n",
    "matches = pattern.finditer(text_to_search)\n",
    "\n",
    "print(matches) # if no match had been found, this would have been empty/null\n",
    "\n",
    "# printing the result of match operation performed\n",
    "for x in matches:\n",
    "    print(x)"
   ]
  },
  {
   "cell_type": "markdown",
   "metadata": {},
   "source": [
    "#### match everything but not cat"
   ]
  },
  {
   "cell_type": "code",
   "execution_count": 65,
   "metadata": {},
   "outputs": [
    {
     "name": "stdout",
     "output_type": "stream",
     "text": [
      "<callable_iterator object at 0x000000B405903828>\n",
      "<re.Match object; span=(1, 4), match='cat'>\n",
      "<re.Match object; span=(9, 12), match='rat'>\n",
      "<re.Match object; span=(13, 16), match='dat'>\n"
     ]
    }
   ],
   "source": [
    "# multiple condtions\n",
    "\n",
    "text = '''\n",
    "cat bat rat dat'''\n",
    "\n",
    "pattern = re.compile(r'[^b]at') \n",
    "\n",
    "matches = pattern.finditer(text)\n",
    "\n",
    "print(matches) # if no match had been found, this would have been empty/null\n",
    "\n",
    "# printing the result of match operation performed\n",
    "for x in matches:\n",
    "    print(x)"
   ]
  },
  {
   "cell_type": "markdown",
   "metadata": {},
   "source": [
    "#### writing a regex to match each of the above and nothing else\n",
    "\n",
    "#### () vs []\n",
    "\n",
    "() takes in | but not []"
   ]
  },
  {
   "cell_type": "code",
   "execution_count": 91,
   "metadata": {},
   "outputs": [
    {
     "name": "stdout",
     "output_type": "stream",
     "text": [
      "<callable_iterator object at 0x000000B405938E48>\n",
      "<re.Match object; span=(0, 9), match='Mr. Rohan'>\n",
      "<re.Match object; span=(10, 17), match='Mr. Ash'>\n",
      "<re.Match object; span=(18, 24), match='Mr Raj'>\n",
      "<re.Match object; span=(25, 33), match='Mrs Jain'>\n",
      "<re.Match object; span=(41, 45), match='Mr T'>\n"
     ]
    }
   ],
   "source": [
    "text = \"Mr. Rohan Mr. Ash Mr Raj Mrs Jain Ms Tea Mr T \"\n",
    "\n",
    "pattern = re.compile(r'Mr(|s|rs)\\.?\\s[A-Za-z]\\w*') \n",
    "\n",
    "matches = pattern.finditer(text)\n",
    "\n",
    "print(matches) # if no match had been found, this would have been empty/null\n",
    "\n",
    "# printing the result of match operation performed\n",
    "for x in matches:\n",
    "    print(x)"
   ]
  },
  {
   "cell_type": "markdown",
   "metadata": {},
   "source": [
    "#### Emails"
   ]
  },
  {
   "cell_type": "code",
   "execution_count": 96,
   "metadata": {},
   "outputs": [],
   "source": [
    "emails = '''\n",
    "CoreyMSchafer@gmail.com\n",
    "corey.schafer@university.edu\n",
    "corey-321-schafer@my-work.net\n",
    "'''"
   ]
  },
  {
   "cell_type": "code",
   "execution_count": 114,
   "metadata": {},
   "outputs": [
    {
     "name": "stdout",
     "output_type": "stream",
     "text": [
      "<re.Match object; span=(1, 24), match='CoreyMSchafer@gmail.com'>\n",
      "<re.Match object; span=(25, 53), match='corey.schafer@university.edu'>\n",
      "<re.Match object; span=(54, 83), match='corey-321-schafer@my-work.net'>\n"
     ]
    }
   ],
   "source": [
    "text = \"Mr. Rohan Mr. Ash Mr Raj Mrs Jain Ms Tea Mr T \"\n",
    "\n",
    "pattern = re.compile(r'[a-zA-Z0-9_.+-]+@[a-zA-Z0-9-]+\\.[comedunet]+')\n",
    "\n",
    "\n",
    "# pattern = re.compile(r'[a-zA-Z0-9_.+-]+@[a-zA-Z0-9-]+\\.[a-zA-Z0-9-.]+')\n",
    "\n",
    "matches = pattern.finditer(emails)\n",
    "\n",
    "for match in matches:\n",
    "    print(match)"
   ]
  },
  {
   "cell_type": "markdown",
   "metadata": {},
   "source": [
    "#### Groups"
   ]
  },
  {
   "cell_type": "code",
   "execution_count": 115,
   "metadata": {},
   "outputs": [
    {
     "name": "stdout",
     "output_type": "stream",
     "text": [
      "\n",
      "google.com\n",
      "coreyms.com\n",
      "youtube.com\n",
      "nasa.gov\n",
      "\n"
     ]
    }
   ],
   "source": [
    "\n",
    "urls = '''\n",
    "https://www.google.com\n",
    "http://coreyms.com\n",
    "https://youtube.com\n",
    "https://www.nasa.gov\n",
    "'''\n",
    "\n",
    "pattern = re.compile(r'https?://(www\\.)?(\\w+)(\\.\\w+)')\n",
    "\n",
    "subbed_urls = pattern.sub(r'\\2\\3', urls)\n",
    "\n",
    "print(subbed_urls)\n",
    "\n",
    "# matches = pattern.finditer(urls)\n",
    "\n",
    "# for match in matches:\n",
    "#     print(match.group(3))"
   ]
  }
 ],
 "metadata": {
  "kernelspec": {
   "display_name": "Python 3",
   "language": "python",
   "name": "python3"
  },
  "language_info": {
   "codemirror_mode": {
    "name": "ipython",
    "version": 3
   },
   "file_extension": ".py",
   "mimetype": "text/x-python",
   "name": "python",
   "nbconvert_exporter": "python",
   "pygments_lexer": "ipython3",
   "version": "3.7.3"
  }
 },
 "nbformat": 4,
 "nbformat_minor": 2
}
