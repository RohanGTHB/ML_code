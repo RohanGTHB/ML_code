{
 "cells": [
  {
   "cell_type": "code",
   "execution_count": 50,
   "metadata": {},
   "outputs": [],
   "source": [
    "import pandas as pd\n",
    "import numpy as np\n",
    "import pandas_profiling \n",
    "\n",
    "import matplotlib.pyplot as plt\n",
    "import seaborn as sns\n",
    "\n",
    "from sklearn.preprocessing import LabelEncoder ,OneHotEncoder \n",
    "from sklearn.model_selection import cross_val_score,GridSearchCV,RandomizedSearchCV\n",
    "from sklearn.ensemble import RandomForestClassifier,GradientBoostingClassifier \n",
    "\n",
    "import lightgbm as lgb\n",
    "\n",
    "from sklearn.model_selection import RandomizedSearchCV\n",
    "from catboost import CatBoostClassifier,CatBoostRegressor\n",
    "\n",
    "\n",
    "%matplotlib inline"
   ]
  },
  {
   "cell_type": "code",
   "execution_count": 22,
   "metadata": {},
   "outputs": [],
   "source": [
    "from sklearn.metrics import matthews_corrcoef\n",
    "from sklearn.metrics import f1_score\n",
    "from sklearn.metrics import fbeta_score"
   ]
  },
  {
   "cell_type": "code",
   "execution_count": 8,
   "metadata": {},
   "outputs": [],
   "source": [
    "from IPython.core.interactiveshell import InteractiveShell\n",
    "InteractiveShell.ast_node_interactivity = \"all\""
   ]
  },
  {
   "cell_type": "code",
   "execution_count": 71,
   "metadata": {},
   "outputs": [],
   "source": [
    "# os.chdir(r'C:\\Users\\royal\\Downloads\\wns')\n",
    "train =pd.read_csv('train_LZdllcl.csv')\n",
    "test = pd.read_csv('test_2umaH9m.csv')\n",
    "# sub = pd.read_csv('sample_submission_M0L0uXE.csv')"
   ]
  },
  {
   "cell_type": "code",
   "execution_count": 26,
   "metadata": {},
   "outputs": [],
   "source": [
    "# os.chdir(r'C:\\Users\\royal\\Downloads\\wns')\n",
    "# train =pd.read_csv('train_with_ratings.csv')\n",
    "# test = pd.read_csv('test_with_ratings.csv')\n",
    "# sub = pd.read_csv('sample_submission_M0L0uXE.csv')"
   ]
  },
  {
   "cell_type": "code",
   "execution_count": 72,
   "metadata": {},
   "outputs": [
    {
     "data": {
      "text/html": [
       "<div>\n",
       "<style scoped>\n",
       "    .dataframe tbody tr th:only-of-type {\n",
       "        vertical-align: middle;\n",
       "    }\n",
       "\n",
       "    .dataframe tbody tr th {\n",
       "        vertical-align: top;\n",
       "    }\n",
       "\n",
       "    .dataframe thead th {\n",
       "        text-align: right;\n",
       "    }\n",
       "</style>\n",
       "<table border=\"1\" class=\"dataframe\">\n",
       "  <thead>\n",
       "    <tr style=\"text-align: right;\">\n",
       "      <th></th>\n",
       "      <th>employee_id</th>\n",
       "      <th>department</th>\n",
       "      <th>region</th>\n",
       "      <th>education</th>\n",
       "      <th>gender</th>\n",
       "      <th>recruitment_channel</th>\n",
       "      <th>no_of_trainings</th>\n",
       "      <th>age</th>\n",
       "      <th>previous_year_rating</th>\n",
       "      <th>length_of_service</th>\n",
       "      <th>KPIs_met &gt;80%</th>\n",
       "      <th>awards_won?</th>\n",
       "      <th>avg_training_score</th>\n",
       "      <th>is_promoted</th>\n",
       "    </tr>\n",
       "  </thead>\n",
       "  <tbody>\n",
       "    <tr>\n",
       "      <th>0</th>\n",
       "      <td>65438</td>\n",
       "      <td>Sales &amp; Marketing</td>\n",
       "      <td>region_7</td>\n",
       "      <td>Master's &amp; above</td>\n",
       "      <td>f</td>\n",
       "      <td>sourcing</td>\n",
       "      <td>1</td>\n",
       "      <td>35</td>\n",
       "      <td>5.0</td>\n",
       "      <td>8</td>\n",
       "      <td>1</td>\n",
       "      <td>0</td>\n",
       "      <td>49</td>\n",
       "      <td>0</td>\n",
       "    </tr>\n",
       "    <tr>\n",
       "      <th>1</th>\n",
       "      <td>65141</td>\n",
       "      <td>Operations</td>\n",
       "      <td>region_22</td>\n",
       "      <td>Bachelor's</td>\n",
       "      <td>m</td>\n",
       "      <td>other</td>\n",
       "      <td>1</td>\n",
       "      <td>30</td>\n",
       "      <td>5.0</td>\n",
       "      <td>4</td>\n",
       "      <td>0</td>\n",
       "      <td>0</td>\n",
       "      <td>60</td>\n",
       "      <td>0</td>\n",
       "    </tr>\n",
       "    <tr>\n",
       "      <th>2</th>\n",
       "      <td>7513</td>\n",
       "      <td>Sales &amp; Marketing</td>\n",
       "      <td>region_19</td>\n",
       "      <td>Bachelor's</td>\n",
       "      <td>m</td>\n",
       "      <td>sourcing</td>\n",
       "      <td>1</td>\n",
       "      <td>34</td>\n",
       "      <td>3.0</td>\n",
       "      <td>7</td>\n",
       "      <td>0</td>\n",
       "      <td>0</td>\n",
       "      <td>50</td>\n",
       "      <td>0</td>\n",
       "    </tr>\n",
       "    <tr>\n",
       "      <th>3</th>\n",
       "      <td>2542</td>\n",
       "      <td>Sales &amp; Marketing</td>\n",
       "      <td>region_23</td>\n",
       "      <td>Bachelor's</td>\n",
       "      <td>m</td>\n",
       "      <td>other</td>\n",
       "      <td>2</td>\n",
       "      <td>39</td>\n",
       "      <td>1.0</td>\n",
       "      <td>10</td>\n",
       "      <td>0</td>\n",
       "      <td>0</td>\n",
       "      <td>50</td>\n",
       "      <td>0</td>\n",
       "    </tr>\n",
       "    <tr>\n",
       "      <th>4</th>\n",
       "      <td>48945</td>\n",
       "      <td>Technology</td>\n",
       "      <td>region_26</td>\n",
       "      <td>Bachelor's</td>\n",
       "      <td>m</td>\n",
       "      <td>other</td>\n",
       "      <td>1</td>\n",
       "      <td>45</td>\n",
       "      <td>3.0</td>\n",
       "      <td>2</td>\n",
       "      <td>0</td>\n",
       "      <td>0</td>\n",
       "      <td>73</td>\n",
       "      <td>0</td>\n",
       "    </tr>\n",
       "  </tbody>\n",
       "</table>\n",
       "</div>"
      ],
      "text/plain": [
       "   employee_id         department     region         education gender  \\\n",
       "0        65438  Sales & Marketing   region_7  Master's & above      f   \n",
       "1        65141         Operations  region_22        Bachelor's      m   \n",
       "2         7513  Sales & Marketing  region_19        Bachelor's      m   \n",
       "3         2542  Sales & Marketing  region_23        Bachelor's      m   \n",
       "4        48945         Technology  region_26        Bachelor's      m   \n",
       "\n",
       "  recruitment_channel  no_of_trainings  age  previous_year_rating  \\\n",
       "0            sourcing                1   35                   5.0   \n",
       "1               other                1   30                   5.0   \n",
       "2            sourcing                1   34                   3.0   \n",
       "3               other                2   39                   1.0   \n",
       "4               other                1   45                   3.0   \n",
       "\n",
       "   length_of_service  KPIs_met >80%  awards_won?  avg_training_score  \\\n",
       "0                  8              1            0                  49   \n",
       "1                  4              0            0                  60   \n",
       "2                  7              0            0                  50   \n",
       "3                 10              0            0                  50   \n",
       "4                  2              0            0                  73   \n",
       "\n",
       "   is_promoted  \n",
       "0            0  \n",
       "1            0  \n",
       "2            0  \n",
       "3            0  \n",
       "4            0  "
      ]
     },
     "execution_count": 72,
     "metadata": {},
     "output_type": "execute_result"
    }
   ],
   "source": [
    "train.head(5)"
   ]
  },
  {
   "cell_type": "code",
   "execution_count": 73,
   "metadata": {},
   "outputs": [
    {
     "data": {
      "text/plain": [
       "(54808, 14)"
      ]
     },
     "execution_count": 73,
     "metadata": {},
     "output_type": "execute_result"
    },
    {
     "data": {
      "text/plain": [
       "(23490, 13)"
      ]
     },
     "execution_count": 73,
     "metadata": {},
     "output_type": "execute_result"
    }
   ],
   "source": [
    "train.shape\n",
    "test.shape"
   ]
  },
  {
   "cell_type": "code",
   "execution_count": 74,
   "metadata": {},
   "outputs": [
    {
     "name": "stdout",
     "output_type": "stream",
     "text": [
      "employee_id [65438 65141  7513 ... 13918 13614 51526]\n",
      "department ['Sales & Marketing' 'Operations' 'Technology' 'Analytics' 'R&D'\n",
      " 'Procurement' 'Finance' 'HR' 'Legal']\n",
      "region ['region_7' 'region_22' 'region_19' 'region_23' 'region_26' 'region_2'\n",
      " 'region_20' 'region_34' 'region_1' 'region_4' 'region_29' 'region_31'\n",
      " 'region_15' 'region_14' 'region_11' 'region_5' 'region_28' 'region_17'\n",
      " 'region_13' 'region_16' 'region_25' 'region_10' 'region_27' 'region_30'\n",
      " 'region_12' 'region_21' 'region_8' 'region_32' 'region_6' 'region_33'\n",
      " 'region_24' 'region_3' 'region_9' 'region_18']\n",
      "education [\"Master's & above\" \"Bachelor's\" nan 'Below Secondary']\n",
      "gender ['f' 'm']\n",
      "recruitment_channel ['sourcing' 'other' 'referred']\n",
      "no_of_trainings [ 1  2  3  4  7  5  6  8 10  9]\n",
      "age [35 30 34 39 45 31 33 28 32 49 37 38 41 27 29 26 24 57 40 42 23 59 44 50\n",
      " 56 20 25 47 36 46 60 43 22 54 58 48 53 55 51 52 21]\n",
      "previous_year_rating [ 5.  3.  1.  4. nan  2.]\n",
      "length_of_service [ 8  4  7 10  2  5  6  1  3 16  9 11 26 12 17 14 13 19 15 23 18 20 22 25\n",
      " 28 24 31 21 29 30 34 27 33 32 37]\n",
      "KPIs_met >80% [1 0]\n",
      "awards_won? [0 1]\n",
      "avg_training_score [49 60 50 73 85 59 63 83 54 77 80 84 51 46 75 57 70 68 79 44 72 61 48 58\n",
      " 87 47 52 88 71 65 62 53 78 91 82 69 55 74 86 90 92 67 89 56 76 81 45 64\n",
      " 39 94 93 66 95 42 96 40 99 43 97 41 98]\n",
      "is_promoted [0 1]\n"
     ]
    }
   ],
   "source": [
    "for i in train.columns:\n",
    "    print(i,train[i].unique())"
   ]
  },
  {
   "cell_type": "code",
   "execution_count": 75,
   "metadata": {},
   "outputs": [],
   "source": [
    "train['education'].replace(np.nan,\"Bachelor's\",inplace=True)\n",
    "test['education'].replace(np.nan,\"Bachelor's\",inplace=True)"
   ]
  },
  {
   "cell_type": "code",
   "execution_count": 76,
   "metadata": {},
   "outputs": [],
   "source": [
    "train['education'].replace(\"Master's & above\",3,inplace=True)\n",
    "test['education'].replace(\"Master's & above\",3,inplace=True)\n",
    "train['education'].replace(\"Bachelor's\",2,inplace=True)\n",
    "test['education'].replace(\"Bachelor's\",2,inplace=True)\n",
    "train['education'].replace(\"Below Secondary\",1,inplace=True)\n",
    "test['education'].replace(\"Below Secondary\",1,inplace=True)"
   ]
  },
  {
   "cell_type": "code",
   "execution_count": 77,
   "metadata": {},
   "outputs": [],
   "source": [
    "train['previous_year_rating'].replace(np.nan,3.,inplace=True)\n",
    "test['previous_year_rating'].replace(np.nan,3.,inplace=True)"
   ]
  },
  {
   "cell_type": "code",
   "execution_count": 78,
   "metadata": {},
   "outputs": [],
   "source": [
    "train['sum_metric'] = train['awards_won?']+train['KPIs_met >80%'] + train['previous_year_rating']\n",
    "test['sum_metric'] = test['awards_won?']+test['KPIs_met >80%'] + test['previous_year_rating']\n",
    "\n",
    "train['tot_score'] = train['avg_training_score'] * train['no_of_trainings']\n",
    "test['tot_score'] = test['avg_training_score'] * test['no_of_trainings']"
   ]
  },
  {
   "cell_type": "code",
   "execution_count": 79,
   "metadata": {},
   "outputs": [
    {
     "data": {
      "text/plain": [
       "previous_year_rating\n",
       "1.0      88\n",
       "2.0     181\n",
       "3.0    1694\n",
       "4.0     784\n",
       "5.0    1921\n",
       "Name: is_promoted, dtype: int64"
      ]
     },
     "execution_count": 79,
     "metadata": {},
     "output_type": "execute_result"
    },
    {
     "data": {
      "text/plain": [
       "previous_year_rating\n",
       "1.0     6223\n",
       "2.0     4225\n",
       "3.0    22742\n",
       "4.0     9877\n",
       "5.0    11741\n",
       "Name: is_promoted, dtype: int64"
      ]
     },
     "execution_count": 79,
     "metadata": {},
     "output_type": "execute_result"
    }
   ],
   "source": [
    "train[train['is_promoted']==1].groupby('previous_year_rating')['is_promoted'].count()\n",
    "train.groupby('previous_year_rating')['is_promoted'].count()"
   ]
  },
  {
   "cell_type": "code",
   "execution_count": 80,
   "metadata": {},
   "outputs": [
    {
     "data": {
      "text/plain": [
       "employee_id             0\n",
       "department              0\n",
       "region                  0\n",
       "education               0\n",
       "gender                  0\n",
       "recruitment_channel     0\n",
       "no_of_trainings         0\n",
       "age                     0\n",
       "previous_year_rating    0\n",
       "length_of_service       0\n",
       "KPIs_met >80%           0\n",
       "awards_won?             0\n",
       "avg_training_score      0\n",
       "is_promoted             0\n",
       "sum_metric              0\n",
       "tot_score               0\n",
       "dtype: int64"
      ]
     },
     "execution_count": 80,
     "metadata": {},
     "output_type": "execute_result"
    },
    {
     "data": {
      "text/plain": [
       "employee_id             0\n",
       "department              0\n",
       "region                  0\n",
       "education               0\n",
       "gender                  0\n",
       "recruitment_channel     0\n",
       "no_of_trainings         0\n",
       "age                     0\n",
       "previous_year_rating    0\n",
       "length_of_service       0\n",
       "KPIs_met >80%           0\n",
       "awards_won?             0\n",
       "avg_training_score      0\n",
       "sum_metric              0\n",
       "tot_score               0\n",
       "dtype: int64"
      ]
     },
     "execution_count": 80,
     "metadata": {},
     "output_type": "execute_result"
    }
   ],
   "source": [
    "train.isna().sum()\n",
    "test.isna().sum()"
   ]
  },
  {
   "cell_type": "code",
   "execution_count": 58,
   "metadata": {},
   "outputs": [],
   "source": [
    "# f,ax=plt.subplots(figsize=(12,12))\n",
    "# sns.heatmap(train.corr(),annot=True,linewidths=.5,fmt='.1f',ax=ax)"
   ]
  },
  {
   "cell_type": "code",
   "execution_count": 81,
   "metadata": {},
   "outputs": [
    {
     "data": {
      "text/plain": [
       "Index(['employee_id', 'department', 'region', 'education', 'gender',\n",
       "       'recruitment_channel', 'no_of_trainings', 'age', 'previous_year_rating',\n",
       "       'length_of_service', 'KPIs_met >80%', 'awards_won?',\n",
       "       'avg_training_score', 'is_promoted', 'sum_metric', 'tot_score'],\n",
       "      dtype='object')"
      ]
     },
     "execution_count": 81,
     "metadata": {},
     "output_type": "execute_result"
    }
   ],
   "source": [
    "train.columns"
   ]
  },
  {
   "cell_type": "code",
   "execution_count": 61,
   "metadata": {},
   "outputs": [],
   "source": [
    "# train['previous_year_rating'].value_counts().sort_index().head(50).plot.bar()"
   ]
  },
  {
   "cell_type": "code",
   "execution_count": 63,
   "metadata": {},
   "outputs": [],
   "source": [
    "# test['gender'].value_counts().sort_index().head(20).plot.bar()"
   ]
  },
  {
   "cell_type": "code",
   "execution_count": 64,
   "metadata": {},
   "outputs": [],
   "source": [
    "# train['avg_training_score'].value_counts().sort_index().plot.area()"
   ]
  },
  {
   "cell_type": "code",
   "execution_count": 65,
   "metadata": {},
   "outputs": [],
   "source": [
    "# sns.kdeplot(train['avg_training_score'])"
   ]
  },
  {
   "cell_type": "code",
   "execution_count": 82,
   "metadata": {},
   "outputs": [
    {
     "data": {
      "text/plain": [
       "0"
      ]
     },
     "execution_count": 82,
     "metadata": {},
     "output_type": "execute_result"
    }
   ],
   "source": [
    "test.isnull().sum().sum()"
   ]
  },
  {
   "cell_type": "code",
   "execution_count": 83,
   "metadata": {},
   "outputs": [
    {
     "data": {
      "text/plain": [
       "<matplotlib.axes._subplots.AxesSubplot at 0xa483202550>"
      ]
     },
     "execution_count": 83,
     "metadata": {},
     "output_type": "execute_result"
    },
    {
     "data": {
      "image/png": "[encoded data removed]",
      "text/plain": [
       "<Figure size 432x288 with 1 Axes>"
      ]
     },
     "metadata": {
      "needs_background": "light"
     },
     "output_type": "display_data"
    }
   ],
   "source": [
    "# sns.countplot(train['awards_won?'])\n",
    "sns.countplot(train['KPIs_met >80%'])\n"
   ]
  },
  {
   "cell_type": "code",
   "execution_count": 84,
   "metadata": {},
   "outputs": [
    {
     "data": {
      "text/plain": [
       "<matplotlib.axes._subplots.AxesSubplot at 0xa4831b9978>"
      ]
     },
     "execution_count": 84,
     "metadata": {},
     "output_type": "execute_result"
    },
    {
     "data": {
      "image/png": "[encoded data removed]",
      "text/plain": [
       "<Figure size 432x288 with 1 Axes>"
      ]
     },
     "metadata": {
      "needs_background": "light"
     },
     "output_type": "display_data"
    }
   ],
   "source": [
    "df= train[train.department.isin(train.department.value_counts().head(10).index)]\n",
    "sns.boxplot(x='department',y='avg_training_score',data=df)"
   ]
  },
  {
   "cell_type": "code",
   "execution_count": 85,
   "metadata": {},
   "outputs": [
    {
     "data": {
      "text/plain": [
       "<matplotlib.axes._subplots.AxesSubplot at 0xa482337550>"
      ]
     },
     "execution_count": 85,
     "metadata": {},
     "output_type": "execute_result"
    },
    {
     "data": {
      "text/plain": [
       "<matplotlib.axes._subplots.AxesSubplot at 0xa482361748>"
      ]
     },
     "execution_count": 85,
     "metadata": {},
     "output_type": "execute_result"
    },
    {
     "data": {
      "text/plain": [
       "<matplotlib.axes._subplots.AxesSubplot at 0xa482a59c50>"
      ]
     },
     "execution_count": 85,
     "metadata": {},
     "output_type": "execute_result"
    },
    {
     "data": {
      "text/plain": [
       "<matplotlib.axes._subplots.AxesSubplot at 0xa482db0208>"
      ]
     },
     "execution_count": 85,
     "metadata": {},
     "output_type": "execute_result"
    },
    {
     "data": {
      "image/png": "[encoded data removed]",
      "text/plain": [
       "<Figure size 1008x576 with 4 Axes>"
      ]
     },
     "metadata": {
      "needs_background": "light"
     },
     "output_type": "display_data"
    }
   ],
   "source": [
    "##can assign the each chart to one axes at a time\n",
    "fig,axrr=plt.subplots(2,2,figsize=(14,8))\n",
    "\n",
    "df= train[train.department.isin(train.department.value_counts().head(10).index)]\n",
    "sns.boxplot(x='department',y='avg_training_score',data=df,ax=axrr[0][0])\n",
    "\n",
    "# reviews['points'].value_counts().sort_index().plot.bar(ax=axrr[0][0])\n",
    "# axrr[0][0].set_title('wine score',fontsize=18)\n",
    "\n",
    "test['avg_training_score'].value_counts().sort_index()[:1000].plot.area(ax=axrr[0][1])\n",
    "# sns.kdeplot(reviews[reviews['price'] < 200]['price'],ax=axrr[0][1])\n",
    "# axrr[0][1].set_title('Price under 200',fontsize=18)\n",
    "\n",
    "sns.boxplot(x='is_promoted',y='avg_training_score',data=train,ax=axrr[1][0])\n",
    "# sns.countplot(reviews['points'],ax=axrr[1][0])\n",
    "\n",
    "sns.countplot(train['KPIs_met >80%'],ax=axrr[1][1])\n",
    "# reviews['province'].value_counts().head(20).plot.bar(ax=axrr[1][1])"
   ]
  },
  {
   "cell_type": "code",
   "execution_count": 86,
   "metadata": {},
   "outputs": [],
   "source": [
    "from sklearn import preprocessing\n",
    "le = preprocessing.LabelEncoder()\n",
    "\n",
    "train['department'] = le.fit_transform(train['department'])\n",
    "test['department'] = le.transform(test['department'])"
   ]
  },
  {
   "cell_type": "code",
   "execution_count": 87,
   "metadata": {},
   "outputs": [],
   "source": [
    "train['region'] = le.fit_transform(train['region'])\n",
    "test['region'] = le.transform(test['region'])\n",
    "# train['education'] = le.fit_transform(train['education'])\n",
    "# test['education'] = le.transform(test['education'])\n",
    "train['gender'] = le.fit_transform(train['gender'])\n",
    "test['gender'] = le.transform(test['gender'])\n",
    "\n",
    "train['recruitment_channel'] = le.fit_transform(train['recruitment_channel'])\n",
    "test['recruitment_channel'] = le.transform(test['recruitment_channel'])"
   ]
  },
  {
   "cell_type": "code",
   "execution_count": 88,
   "metadata": {},
   "outputs": [
    {
     "data": {
      "text/html": [
       "<div>\n",
       "<style scoped>\n",
       "    .dataframe tbody tr th:only-of-type {\n",
       "        vertical-align: middle;\n",
       "    }\n",
       "\n",
       "    .dataframe tbody tr th {\n",
       "        vertical-align: top;\n",
       "    }\n",
       "\n",
       "    .dataframe thead th {\n",
       "        text-align: right;\n",
       "    }\n",
       "</style>\n",
       "<table border=\"1\" class=\"dataframe\">\n",
       "  <thead>\n",
       "    <tr style=\"text-align: right;\">\n",
       "      <th></th>\n",
       "      <th>employee_id</th>\n",
       "      <th>department</th>\n",
       "      <th>region</th>\n",
       "      <th>education</th>\n",
       "      <th>gender</th>\n",
       "      <th>recruitment_channel</th>\n",
       "      <th>no_of_trainings</th>\n",
       "      <th>age</th>\n",
       "      <th>previous_year_rating</th>\n",
       "      <th>length_of_service</th>\n",
       "      <th>KPIs_met &gt;80%</th>\n",
       "      <th>awards_won?</th>\n",
       "      <th>avg_training_score</th>\n",
       "      <th>is_promoted</th>\n",
       "      <th>sum_metric</th>\n",
       "      <th>tot_score</th>\n",
       "    </tr>\n",
       "  </thead>\n",
       "  <tbody>\n",
       "    <tr>\n",
       "      <th>0</th>\n",
       "      <td>65438</td>\n",
       "      <td>7</td>\n",
       "      <td>31</td>\n",
       "      <td>3</td>\n",
       "      <td>0</td>\n",
       "      <td>2</td>\n",
       "      <td>1</td>\n",
       "      <td>35</td>\n",
       "      <td>5.0</td>\n",
       "      <td>8</td>\n",
       "      <td>1</td>\n",
       "      <td>0</td>\n",
       "      <td>49</td>\n",
       "      <td>0</td>\n",
       "      <td>6.0</td>\n",
       "      <td>49</td>\n",
       "    </tr>\n",
       "    <tr>\n",
       "      <th>1</th>\n",
       "      <td>65141</td>\n",
       "      <td>4</td>\n",
       "      <td>14</td>\n",
       "      <td>2</td>\n",
       "      <td>1</td>\n",
       "      <td>0</td>\n",
       "      <td>1</td>\n",
       "      <td>30</td>\n",
       "      <td>5.0</td>\n",
       "      <td>4</td>\n",
       "      <td>0</td>\n",
       "      <td>0</td>\n",
       "      <td>60</td>\n",
       "      <td>0</td>\n",
       "      <td>5.0</td>\n",
       "      <td>60</td>\n",
       "    </tr>\n",
       "    <tr>\n",
       "      <th>2</th>\n",
       "      <td>7513</td>\n",
       "      <td>7</td>\n",
       "      <td>10</td>\n",
       "      <td>2</td>\n",
       "      <td>1</td>\n",
       "      <td>2</td>\n",
       "      <td>1</td>\n",
       "      <td>34</td>\n",
       "      <td>3.0</td>\n",
       "      <td>7</td>\n",
       "      <td>0</td>\n",
       "      <td>0</td>\n",
       "      <td>50</td>\n",
       "      <td>0</td>\n",
       "      <td>3.0</td>\n",
       "      <td>50</td>\n",
       "    </tr>\n",
       "    <tr>\n",
       "      <th>3</th>\n",
       "      <td>2542</td>\n",
       "      <td>7</td>\n",
       "      <td>15</td>\n",
       "      <td>2</td>\n",
       "      <td>1</td>\n",
       "      <td>0</td>\n",
       "      <td>2</td>\n",
       "      <td>39</td>\n",
       "      <td>1.0</td>\n",
       "      <td>10</td>\n",
       "      <td>0</td>\n",
       "      <td>0</td>\n",
       "      <td>50</td>\n",
       "      <td>0</td>\n",
       "      <td>1.0</td>\n",
       "      <td>100</td>\n",
       "    </tr>\n",
       "    <tr>\n",
       "      <th>4</th>\n",
       "      <td>48945</td>\n",
       "      <td>8</td>\n",
       "      <td>18</td>\n",
       "      <td>2</td>\n",
       "      <td>1</td>\n",
       "      <td>0</td>\n",
       "      <td>1</td>\n",
       "      <td>45</td>\n",
       "      <td>3.0</td>\n",
       "      <td>2</td>\n",
       "      <td>0</td>\n",
       "      <td>0</td>\n",
       "      <td>73</td>\n",
       "      <td>0</td>\n",
       "      <td>3.0</td>\n",
       "      <td>73</td>\n",
       "    </tr>\n",
       "  </tbody>\n",
       "</table>\n",
       "</div>"
      ],
      "text/plain": [
       "   employee_id  department  region  education  gender  recruitment_channel  \\\n",
       "0        65438           7      31          3       0                    2   \n",
       "1        65141           4      14          2       1                    0   \n",
       "2         7513           7      10          2       1                    2   \n",
       "3         2542           7      15          2       1                    0   \n",
       "4        48945           8      18          2       1                    0   \n",
       "\n",
       "   no_of_trainings  age  previous_year_rating  length_of_service  \\\n",
       "0                1   35                   5.0                  8   \n",
       "1                1   30                   5.0                  4   \n",
       "2                1   34                   3.0                  7   \n",
       "3                2   39                   1.0                 10   \n",
       "4                1   45                   3.0                  2   \n",
       "\n",
       "   KPIs_met >80%  awards_won?  avg_training_score  is_promoted  sum_metric  \\\n",
       "0              1            0                  49            0         6.0   \n",
       "1              0            0                  60            0         5.0   \n",
       "2              0            0                  50            0         3.0   \n",
       "3              0            0                  50            0         1.0   \n",
       "4              0            0                  73            0         3.0   \n",
       "\n",
       "   tot_score  \n",
       "0         49  \n",
       "1         60  \n",
       "2         50  \n",
       "3        100  \n",
       "4         73  "
      ]
     },
     "execution_count": 88,
     "metadata": {},
     "output_type": "execute_result"
    }
   ],
   "source": [
    "train.head()"
   ]
  },
  {
   "cell_type": "code",
   "execution_count": 89,
   "metadata": {},
   "outputs": [],
   "source": [
    "Y1=train['is_promoted']\n",
    "# train1=train.drop(['employee_id','is_promoted'],axis=1)\n",
    "train1=train.drop(['employee_id','is_promoted','recruitment_channel'],axis=1)\n",
    "train1=train1.values\n",
    "Y=Y1.values\n",
    "\n",
    "test_id=test['employee_id']\n",
    "# test1 = test.drop(['employee_id'],axis=1)\n",
    "test1 = test.drop(['employee_id','recruitment_channel'],axis=1)\n",
    "test1=test1.values"
   ]
  },
  {
   "cell_type": "code",
   "execution_count": 90,
   "metadata": {},
   "outputs": [],
   "source": [
    "# enc = OneHotEncoder()\n",
    "# enc.fit(train1)\n",
    "# train2_one = enc.transform(train1)\n",
    "# test2_one = enc.transform(test1)\n",
    "\n",
    "# pca = PCA(n_components=1)\n",
    "# pca.fit(train2_one.toarray())\n",
    "# train_pca = pca.transform(train2_one.toarray())\n",
    "# test_pca = pca.transform(test2_one.toarray())\n",
    "# train3=np.column_stack((train2,train_pca))\n",
    "# test3=np.column_stack((test2,test_pca))"
   ]
  },
  {
   "cell_type": "code",
   "execution_count": 91,
   "metadata": {},
   "outputs": [],
   "source": [
    "# pca = PCA(n_components=2)\n",
    "# principalComponents = pca.fit_transform(train2)\n",
    "# principalDf = pd.DataFrame(data = principalComponents, columns = ['principal component 1', 'principal component 2'])\n",
    "\n",
    "# finalDf = pd.concat([principalDf, train.is_promoted], axis = 1)\n",
    "# finalDf.head(5)\n",
    "\n",
    "# fig = plt.figure(figsize = (8,8))\n",
    "# ax = fig.add_subplot(1,1,1) \n",
    "# ax.set_xlabel('Principal Component 1', fontsize = 15)\n",
    "# ax.set_ylabel('Principal Component 2', fontsize = 15)\n",
    "# ax.set_title('2 Component PCA', fontsize = 20)\n",
    "\n",
    "# targets = [0,1]\n",
    "# colors = ['r', 'g']\n",
    "# for target, color in zip(targets,colors):\n",
    "#     indicesToKeep = finalDf['is_promoted'] == target\n",
    "#     ax.scatter(finalDf.loc[indicesToKeep, 'principal component 1']\n",
    "#                , finalDf.loc[indicesToKeep, 'principal component 2']\n",
    "#                , c = color\n",
    "#                , s = 50)\n",
    "# ax.legend(targets)\n",
    "# ax.grid()"
   ]
  },
  {
   "cell_type": "code",
   "execution_count": 93,
   "metadata": {},
   "outputs": [],
   "source": [
    "# pca = PCA(n_components=1)\n",
    "# pca.fit(train2)\n",
    "# train_pca = pca.transform(train2)\n",
    "# test_pca = pca.transform(test2)\n",
    "# train3=np.column_stack((train2,train_pca))\n",
    "# test3=np.column_stack((test2,test_pca))"
   ]
  },
  {
   "cell_type": "code",
   "execution_count": 95,
   "metadata": {},
   "outputs": [],
   "source": [
    "# train3.shape"
   ]
  },
  {
   "cell_type": "code",
   "execution_count": 181,
   "metadata": {},
   "outputs": [
    {
     "data": {
      "text/plain": [
       "VarianceThreshold(threshold=0.1)"
      ]
     },
     "execution_count": 181,
     "metadata": {},
     "output_type": "execute_result"
    }
   ],
   "source": [
    "# ##feature selection to get important features only.\n",
    "# sel = VarianceThreshold(threshold=.1)\n",
    "# sel.fit(train2)\n",
    "# train_thres = sel.transform(train2)\n",
    "# test_thres = sel.transform(test2)\n",
    "\n",
    "# train3=np.column_stack((train3,train_thres))\n",
    "# test3=np.column_stack((test3,test_thres))"
   ]
  },
  {
   "cell_type": "code",
   "execution_count": 97,
   "metadata": {},
   "outputs": [],
   "source": [
    "# scaler = StandardScaler()\n",
    "# scaler.fit(train1)\n",
    "# # Apply transform to both the training set and the test set.\n",
    "# train2 = scaler.transform(train1)\n",
    "# test2 = scaler.transform(test1)"
   ]
  },
  {
   "cell_type": "code",
   "execution_count": 23,
   "metadata": {
    "collapsed": true
   },
   "outputs": [],
   "source": [
    "# min_max_scaler = preprocessing.FunctionTransformer(np.log1p)\n",
    "# train2 = min_max_scaler.transform(train1)\n",
    "# test2 = min_max_scaler.transform(test1)"
   ]
  },
  {
   "cell_type": "code",
   "execution_count": 99,
   "metadata": {},
   "outputs": [
    {
     "ename": "NameError",
     "evalue": "name 'train3' is not defined",
     "output_type": "error",
     "traceback": [
      "\u001b[1;31m---------------------------------------------------------------------------\u001b[0m",
      "\u001b[1;31mNameError\u001b[0m                                 Traceback (most recent call last)",
      "\u001b[1;32m<ipython-input-99-b70c000eec89>\u001b[0m in \u001b[0;36m<module>\u001b[1;34m\u001b[0m\n\u001b[0;32m      4\u001b[0m \u001b[0mSEED\u001b[0m\u001b[1;33m=\u001b[0m\u001b[1;36m42\u001b[0m\u001b[1;33m\u001b[0m\u001b[1;33m\u001b[0m\u001b[0m\n\u001b[0;32m      5\u001b[0m \u001b[1;31m# clf = lgb.LGBMClassifier()\u001b[0m\u001b[1;33m\u001b[0m\u001b[1;33m\u001b[0m\u001b[1;33m\u001b[0m\u001b[0m\n\u001b[1;32m----> 6\u001b[1;33m \u001b[0mst_train\u001b[0m \u001b[1;33m=\u001b[0m \u001b[0mtrain3\u001b[0m\u001b[1;33m\u001b[0m\u001b[1;33m\u001b[0m\u001b[0m\n\u001b[0m\u001b[0;32m      7\u001b[0m \u001b[0mst_test\u001b[0m \u001b[1;33m=\u001b[0m \u001b[0mtest3\u001b[0m\u001b[1;33m\u001b[0m\u001b[1;33m\u001b[0m\u001b[0m\n\u001b[0;32m      8\u001b[0m \u001b[1;31m# clf = xgb.XGBClassifier()\u001b[0m\u001b[1;33m\u001b[0m\u001b[1;33m\u001b[0m\u001b[1;33m\u001b[0m\u001b[0m\n",
      "\u001b[1;31mNameError\u001b[0m: name 'train3' is not defined"
     ]
    }
   ],
   "source": [
    "#create the cross validation fold for different boosting and linear model.\n",
    "from sklearn.model_selection import StratifiedKFold\n",
    "from sklearn.ensemble import RandomForestClassifier, VotingClassifier\n",
    "SEED=42\n",
    "# clf = lgb.LGBMClassifier()\n",
    "st_train = train3\n",
    "st_test = test3\n",
    "# clf = xgb.XGBClassifier()\n",
    "# clf = RandomForestClassifier(max_depth=4, random_state=0)\n",
    "# clf = lgb.LGBMClassifier(max_depth= 8, learning_rate=0.0941, n_estimators=197, num_leaves= 17, reg_alpha=3.4492 , reg_lambda= 0.0422) #lgb_pca\n",
    "#clf = lgb.LGBMClassifier(max_depth= 8, learning_rate=0.0941, n_estimators=197, num_leaves= 17, reg_alpha=3.4492 , reg_lambda= 0.0422) #lgb_pca\n",
    "# clf = lgb.LGBMClassifier(max_depth= 6, learning_rate=0.0527, n_estimators=396, num_leaves= 18, reg_alpha=2.3683 , reg_lambda= 0.0152) #lgb_pca\n",
    "\n",
    "# clf=ExtraTreesClassifier(n_estimators=10000, criterion='entropy', max_depth=9,  min_samples_leaf=1,  n_jobs=30, random_state=1)\n",
    "clf = xgb.XGBClassifier(gamma = 0.7233,learning_rate = 0.0480,max_depth = 10,min_child_weight = 2,n_estimators = 450)\n",
    "# clf = RGFClassifier(max_leaf=500,algorithm=\"RGF\",test_interval=100, loss=\"LS\")\n",
    "\n",
    "fold = 8\n",
    "cv = StratifiedKFold(Y, n_folds=fold,shuffle=True, random_state=42)\n",
    "X_preds = np.zeros(st_train.shape[0])\n",
    "preds = np.zeros(st_test.shape[0])\n",
    "for i, (tr, ts) in enumerate(cv):\n",
    "    print(ts.shape)\n",
    "    mod = clf.fit(st_train[tr], Y[tr])\n",
    "    X_preds[ts] = mod.predict_proba(st_train[ts])[:,1]\n",
    "    preds += mod.predict_proba(st_test)[:,1]\n",
    "    print(\"fold {}, ROC AUC: {:.3f}\".format(i, roc_auc_score(Y[ts], X_preds[ts])))\n",
    "    predictions = [round(value) for value in X_preds[ts]]\n",
    "    print(f1_score(Y[ts], predictions))\n",
    "score = roc_auc_score(Y, X_preds)\n",
    "print(score)\n",
    "preds1 = preds/fold"
   ]
  },
  {
   "cell_type": "code",
   "execution_count": 93,
   "metadata": {},
   "outputs": [
    {
     "data": {
      "text/plain": [
       "[<matplotlib.lines.Line2D at 0xc5bf9e8>]"
      ]
     },
     "execution_count": 93,
     "metadata": {},
     "output_type": "execute_result"
    },
    {
     "name": "stdout",
     "output_type": "stream",
     "text": [
      "0.524048096192\n",
      "0.25\n"
     ]
    },
    {
     "data": {
      "image/png": "[encoded data removed]",
      "text/plain": [
       "<Figure size 432x288 with 1 Axes>"
      ]
     },
     "metadata": {},
     "output_type": "display_data"
    }
   ],
   "source": [
    "# pick the best threshold out-of-fold\n",
    "thresholds = np.linspace(0.01, 0.99, 50)\n",
    "mcc = np.array([f1_score(Y, X_preds>thr) for thr in thresholds])\n",
    "plt.plot(thresholds, mcc)\n",
    "best_threshold = thresholds[mcc.argmax()]\n",
    "print(mcc.max())\n",
    "print(best_threshold)"
   ]
  },
  {
   "cell_type": "markdown",
   "metadata": {
    "collapsed": true
   },
   "source": [
    "(6852,)\n",
    "fold 0, ROC AUC: 0.910\n",
    "0.468911917098\n",
    "(6852,)\n",
    "fold 1, ROC AUC: 0.910\n",
    "0.505102040816\n",
    "(6852,)\n",
    "fold 2, ROC AUC: 0.915\n",
    "0.493081761006\n",
    "(6852,)\n",
    "fold 3, ROC AUC: 0.909\n",
    "0.505660377358\n",
    "(6850,)\n",
    "fold 4, ROC AUC: 0.911\n",
    "0.498727735369\n",
    "(6850,)\n",
    "fold 5, ROC AUC: 0.916\n",
    "0.534146341463\n",
    "(6850,)\n",
    "fold 6, ROC AUC: 0.915\n",
    "0.496831432193\n",
    "(6850,)\n",
    "fold 7, ROC AUC: 0.912\n",
    "0.503128911139\n",
    "0.912270469164\n",
    "\n",
    "0.52392578125\n",
    "0.25"
   ]
  },
  {
   "cell_type": "code",
   "execution_count": 94,
   "metadata": {
    "collapsed": true
   },
   "outputs": [],
   "source": [
    "##create the submission file.\n",
    "prediction_rfc=list(range(len(preds1)))\n",
    "for i in range(len(preds1)):\n",
    "    prediction_rfc[i]=1 if preds1[i]>best_threshold else 0\n",
    "\n",
    "sub = pd.DataFrame({'employee_id': test_id, 'is_promoted': prediction_rfc})\n",
    "sub=sub.reindex(columns=[\"employee_id\",\"is_promoted\"])\n",
    "sub.to_csv('submission.csv', index=False)"
   ]
  },
  {
   "cell_type": "code",
   "execution_count": 179,
   "metadata": {
    "collapsed": true
   },
   "outputs": [],
   "source": [
    "##for OOF files generation.\n",
    "os.chdir(r'C:\\Users\\royal\\Downloads\\wns\\New folder')\n",
    "prediction_rfc=list(range(len(preds1)))\n",
    "for i in range(len(preds1)):\n",
    "    prediction_rfc[i]=1 if preds1[i]>best_threshold else 0\n",
    "\n",
    "sub = pd.DataFrame({'employee_id': test_id, 'is_promoted': prediction_rfc})\n",
    "sub=sub.reindex(columns=[\"employee_id\",\"is_promoted\"])\n",
    "filename = 'submission_test_'+'lgm_thres_'+str(mcc.max())+'.csv'\n",
    "sub.to_csv(filename, index=False)\n",
    "\n",
    "\n",
    "prediction_tr=list(range(len(X_preds)))\n",
    "for i in range(len(X_preds)):\n",
    "    prediction_tr[i]=1 if X_preds[i]>best_threshold else 0\n",
    "\n",
    "sub = pd.DataFrame({'employee_id': train.is_promoted, 'is_promoted': prediction_tr})\n",
    "sub=sub.reindex(columns=[\"employee_id\",\"is_promoted\"])\n",
    "filename = filename = 'submission_train_'+'lgm_thres_'+str(mcc.max())+'.csv'\n",
    "sub.to_csv(filename, index=False)\n",
    "\n",
    "#######\n",
    "sub = pd.DataFrame({'employee_id': test_id, 'is_promoted': preds1})\n",
    "sub=sub.reindex(columns=[\"employee_id\",\"is_promoted\"])\n",
    "filename = 'submission_test_'+'lgm_thres_pred_'+str(mcc.max())+'.csv'\n",
    "sub.to_csv(filename, index=False)\n",
    "\n",
    "sub = pd.DataFrame({'employee_id': train.employee_id, 'is_promoted': X_preds})\n",
    "sub=sub.reindex(columns=[\"employee_id\",\"is_promoted\"])\n",
    "filename = 'submission_train_'+'lgm_thres_pred_'+str(mcc.max())+'.csv'\n",
    "sub.to_csv(filename, index=False)"
   ]
  },
  {
   "cell_type": "code",
   "execution_count": 58,
   "metadata": {
    "collapsed": true
   },
   "outputs": [
    {
     "data": {
      "text/plain": [
       "LGBMClassifier(boosting_type='gbdt', class_weight=None, colsample_bytree=1.0,\n",
       "        learning_rate=0.0941, max_depth=8, min_child_samples=20,\n",
       "        min_child_weight=0.001, min_split_gain=0.0, n_estimators=197,\n",
       "        n_jobs=-1, num_leaves=17, objective=None, random_state=None,\n",
       "        reg_alpha=3.4492, reg_lambda=0.0422, silent=True, subsample=1.0,\n",
       "        subsample_for_bin=200000, subsample_freq=1)"
      ]
     },
     "execution_count": 58,
     "metadata": {},
     "output_type": "execute_result"
    },
    {
     "data": {
      "text/plain": [
       "[<matplotlib.lines.Line2D at 0xbfc34e0>]"
      ]
     },
     "execution_count": 58,
     "metadata": {},
     "output_type": "execute_result"
    },
    {
     "name": "stdout",
     "output_type": "stream",
     "text": [
      "0.532352941176\n",
      "0.35\n"
     ]
    },
    {
     "data": {
      "image/png": "[encoded data removed]",
      "text/plain": [
       "<Figure size 576x396 with 1 Axes>"
      ]
     },
     "metadata": {},
     "output_type": "display_data"
    }
   ],
   "source": [
    "#done prediction using test train split\n",
    "from sklearn.cross_validation import train_test_split\n",
    "x,y = train3,Y\n",
    "x_train,x_test,y_train,y_test = train_test_split(x,y,test_size = 0.2,random_state = 1)\n",
    "clf = lgb.LGBMClassifier(max_depth= 8, learning_rate=0.0941, n_estimators=197, num_leaves= 17, reg_alpha=3.4492 , reg_lambda= 0.0422) #lgb_pca\n",
    "clf.fit(x_train, y_train)\n",
    "\n",
    "y_pred = clf.predict_proba(x_test)[:,1]\n",
    "thresholds = np.linspace(0.01, 0.99, 50)\n",
    "mcc = np.array([f1_score(y_test, y_pred>thr) for thr in thresholds])\n",
    "plt.plot(thresholds, mcc)\n",
    "best_threshold = thresholds[mcc.argmax()]\n",
    "print(mcc.max())\n",
    "print(best_threshold)\n",
    "\n",
    "y_pred1 = clf.predict_proba(test3)"
   ]
  },
  {
   "cell_type": "code",
   "execution_count": 88,
   "metadata": {
    "collapsed": true
   },
   "outputs": [],
   "source": [
    "os.chdir(r'C:\\Users\\royal\\Downloads\\wns\\New folder\\New folder')\n",
    "meta=[\"lgm_pca_pred\",\"lgm_pca1_pred\",\"lgm_pca30_pred\",\"lgm_pred\",\"lgm_tune_pred\",\"rgf_pred\"]\n",
    "\n",
    "meta_folder=\"\"\n",
    "y = np.loadtxt(\"train_LZdllcl.csv\", delimiter=',',usecols=[13], skiprows=1)\n",
    "Xmetatrain=None\n",
    "Xmetatest=None\n",
    "kk=0\n",
    "for modelname in meta :\n",
    "    mini_xtrain=np.loadtxt(meta_folder +'submission_train_'+ modelname + '.csv', delimiter=',',skiprows=1,usecols=range(1,2)) # we load the held out prediction of the int'train.csv' model\n",
    "    mini_xtest=np.loadtxt(meta_folder + 'submission_test_' +modelname + '.csv', delimiter=',',skiprows=1,usecols=range(1,2))   # we load the test set prediction of the int'test.csv' model\n",
    "    mean_train=np.mean(mini_xtrain) # we calclaute the mean of the train set held out predictions for reconciliation purposes\n",
    "    mean_test=np.mean(mini_xtest)    # we calclaute the mean of the test set  predictions      \n",
    "    if kk==0:\n",
    "        kk=kk+1\n",
    "        Xmetatrain=mini_xtrain\n",
    "        Xmetatest=mini_xtest\n",
    "    else :\n",
    "        Xmetatrain=np.column_stack((Xmetatrain,mini_xtrain))\n",
    "        Xmetatest=np.column_stack((Xmetatest,mini_xtest))\n",
    "X=Xmetatrain\n",
    "X_test=Xmetatest"
   ]
  },
  {
   "cell_type": "code",
   "execution_count": 90,
   "metadata": {},
   "outputs": [
    {
     "data": {
      "text/html": [
       "<div>\n",
       "<style scoped>\n",
       "    .dataframe tbody tr th:only-of-type {\n",
       "        vertical-align: middle;\n",
       "    }\n",
       "\n",
       "    .dataframe tbody tr th {\n",
       "        vertical-align: top;\n",
       "    }\n",
       "\n",
       "    .dataframe thead th {\n",
       "        text-align: right;\n",
       "    }\n",
       "</style>\n",
       "<table border=\"1\" class=\"dataframe\">\n",
       "  <thead>\n",
       "    <tr style=\"text-align: right;\">\n",
       "      <th></th>\n",
       "      <th>principal component 1</th>\n",
       "      <th>principal component 2</th>\n",
       "      <th>is_promoted</th>\n",
       "    </tr>\n",
       "  </thead>\n",
       "  <tbody>\n",
       "    <tr>\n",
       "      <th>0</th>\n",
       "      <td>0.391762</td>\n",
       "      <td>-0.039531</td>\n",
       "      <td>0</td>\n",
       "    </tr>\n",
       "    <tr>\n",
       "      <th>1</th>\n",
       "      <td>-0.177524</td>\n",
       "      <td>0.018943</td>\n",
       "      <td>0</td>\n",
       "    </tr>\n",
       "    <tr>\n",
       "      <th>2</th>\n",
       "      <td>-0.196362</td>\n",
       "      <td>0.002029</td>\n",
       "      <td>0</td>\n",
       "    </tr>\n",
       "    <tr>\n",
       "      <th>3</th>\n",
       "      <td>-0.198872</td>\n",
       "      <td>-0.004405</td>\n",
       "      <td>0</td>\n",
       "    </tr>\n",
       "    <tr>\n",
       "      <th>4</th>\n",
       "      <td>-0.193101</td>\n",
       "      <td>-0.009436</td>\n",
       "      <td>0</td>\n",
       "    </tr>\n",
       "  </tbody>\n",
       "</table>\n",
       "</div>"
      ],
      "text/plain": [
       "   principal component 1  principal component 2  is_promoted\n",
       "0               0.391762              -0.039531            0\n",
       "1              -0.177524               0.018943            0\n",
       "2              -0.196362               0.002029            0\n",
       "3              -0.198872              -0.004405            0\n",
       "4              -0.193101              -0.009436            0"
      ]
     },
     "execution_count": 90,
     "metadata": {},
     "output_type": "execute_result"
    },
    {
     "data": {
      "text/plain": [
       "Text(0.5,0,'Principal Component 1')"
      ]
     },
     "execution_count": 90,
     "metadata": {},
     "output_type": "execute_result"
    },
    {
     "data": {
      "text/plain": [
       "Text(0,0.5,'Principal Component 2')"
      ]
     },
     "execution_count": 90,
     "metadata": {},
     "output_type": "execute_result"
    },
    {
     "data": {
      "text/plain": [
       "Text(0.5,1,'2 Component PCA')"
      ]
     },
     "execution_count": 90,
     "metadata": {},
     "output_type": "execute_result"
    },
    {
     "data": {
      "text/plain": [
       "<matplotlib.collections.PathCollection at 0xc58f278>"
      ]
     },
     "execution_count": 90,
     "metadata": {},
     "output_type": "execute_result"
    },
    {
     "data": {
      "text/plain": [
       "<matplotlib.collections.PathCollection at 0xc58f550>"
      ]
     },
     "execution_count": 90,
     "metadata": {},
     "output_type": "execute_result"
    },
    {
     "data": {
      "text/plain": [
       "<matplotlib.legend.Legend at 0xb4a6898>"
      ]
     },
     "execution_count": 90,
     "metadata": {},
     "output_type": "execute_result"
    },
    {
     "data": {
      "image/png": "[encoded data removed]",
      "text/plain": [
       "<Figure size 576x576 with 1 Axes>"
      ]
     },
     "metadata": {},
     "output_type": "display_data"
    }
   ],
   "source": [
    "pca = PCA(n_components=2)\n",
    "principalComponents = pca.fit_transform(X)\n",
    "principalDf = pd.DataFrame(data = principalComponents, columns = ['principal component 1', 'principal component 2'])\n",
    "\n",
    "finalDf = pd.concat([principalDf, train.is_promoted], axis = 1)\n",
    "finalDf.head(5)\n",
    "\n",
    "fig = plt.figure(figsize = (8,8))\n",
    "ax = fig.add_subplot(1,1,1) \n",
    "ax.set_xlabel('Principal Component 1', fontsize = 15)\n",
    "ax.set_ylabel('Principal Component 2', fontsize = 15)\n",
    "ax.set_title('2 Component PCA', fontsize = 20)\n",
    "\n",
    "targets = [0,1]\n",
    "colors = ['r', 'g']\n",
    "for target, color in zip(targets,colors):\n",
    "    indicesToKeep = finalDf['is_promoted'] == target\n",
    "    ax.scatter(finalDf.loc[indicesToKeep, 'principal component 1']\n",
    "               , finalDf.loc[indicesToKeep, 'principal component 2']\n",
    "               , c = color\n",
    "               , s = 50)\n",
    "ax.legend(targets)\n",
    "ax.grid()"
   ]
  },
  {
   "cell_type": "code",
   "execution_count": 100,
   "metadata": {},
   "outputs": [
    {
     "ename": "NameError",
     "evalue": "name 'StandardScaler' is not defined",
     "output_type": "error",
     "traceback": [
      "\u001b[1;31m---------------------------------------------------------------------------\u001b[0m",
      "\u001b[1;31mNameError\u001b[0m                                 Traceback (most recent call last)",
      "\u001b[1;32m<ipython-input-100-90b8e50aad45>\u001b[0m in \u001b[0;36m<module>\u001b[1;34m\u001b[0m\n\u001b[1;32m----> 1\u001b[1;33m \u001b[0mscaler\u001b[0m \u001b[1;33m=\u001b[0m \u001b[0mStandardScaler\u001b[0m\u001b[1;33m(\u001b[0m\u001b[1;33m)\u001b[0m\u001b[1;33m\u001b[0m\u001b[1;33m\u001b[0m\u001b[0m\n\u001b[0m\u001b[0;32m      2\u001b[0m \u001b[0mscaler\u001b[0m\u001b[1;33m.\u001b[0m\u001b[0mfit\u001b[0m\u001b[1;33m(\u001b[0m\u001b[0mX\u001b[0m\u001b[1;33m)\u001b[0m\u001b[1;33m\u001b[0m\u001b[1;33m\u001b[0m\u001b[0m\n\u001b[0;32m      3\u001b[0m \u001b[1;31m# Apply transform to both the training set and the test set.\u001b[0m\u001b[1;33m\u001b[0m\u001b[1;33m\u001b[0m\u001b[1;33m\u001b[0m\u001b[0m\n\u001b[0;32m      4\u001b[0m \u001b[0mX\u001b[0m \u001b[1;33m=\u001b[0m \u001b[0mscaler\u001b[0m\u001b[1;33m.\u001b[0m\u001b[0mtransform\u001b[0m\u001b[1;33m(\u001b[0m\u001b[0mX\u001b[0m\u001b[1;33m)\u001b[0m\u001b[1;33m\u001b[0m\u001b[1;33m\u001b[0m\u001b[0m\n\u001b[0;32m      5\u001b[0m \u001b[0mX_test\u001b[0m \u001b[1;33m=\u001b[0m \u001b[0mscaler\u001b[0m\u001b[1;33m.\u001b[0m\u001b[0mtransform\u001b[0m\u001b[1;33m(\u001b[0m\u001b[0mX_test\u001b[0m\u001b[1;33m)\u001b[0m\u001b[1;33m\u001b[0m\u001b[1;33m\u001b[0m\u001b[0m\n",
      "\u001b[1;31mNameError\u001b[0m: name 'StandardScaler' is not defined"
     ]
    }
   ],
   "source": [
    "scaler = StandardScaler()\n",
    "scaler.fit(X)\n",
    "# Apply transform to both the training set and the test set.\n",
    "X = scaler.transform(X)\n",
    "X_test = scaler.transform(X_test)"
   ]
  },
  {
   "cell_type": "code",
   "execution_count": 89,
   "metadata": {},
   "outputs": [
    {
     "data": {
      "text/plain": [
       "MinMaxScaler(copy=True, feature_range=(0, 1))"
      ]
     },
     "execution_count": 89,
     "metadata": {},
     "output_type": "execute_result"
    }
   ],
   "source": [
    "min_max_scaler = preprocessing.MinMaxScaler()\n",
    "min_max_scaler.fit(X)\n",
    "X  = min_max_scaler.transform(X)\n",
    "X_test = min_max_scaler.transform(X_test)"
   ]
  },
  {
   "cell_type": "code",
   "execution_count": 91,
   "metadata": {},
   "outputs": [
    {
     "data": {
      "text/plain": [
       "PCA(copy=True, iterated_power='auto', n_components=2, random_state=None,\n",
       "  svd_solver='auto', tol=0.0, whiten=False)"
      ]
     },
     "execution_count": 91,
     "metadata": {},
     "output_type": "execute_result"
    }
   ],
   "source": [
    "pca = PCA(n_components=2)\n",
    "pca.fit(X)\n",
    "train_pca = pca.transform(X)\n",
    "test_pca = pca.transform(X_test)\n",
    "train_X=np.column_stack((X,train_pca))\n",
    "test_X=np.column_stack((X_test,test_pca))"
   ]
  },
  {
   "cell_type": "code",
   "execution_count": 101,
   "metadata": {},
   "outputs": [
    {
     "ename": "NameError",
     "evalue": "name 'train_X' is not defined",
     "output_type": "error",
     "traceback": [
      "\u001b[1;31m---------------------------------------------------------------------------\u001b[0m",
      "\u001b[1;31mNameError\u001b[0m                                 Traceback (most recent call last)",
      "\u001b[1;32m<ipython-input-101-99be46efa76f>\u001b[0m in \u001b[0;36m<module>\u001b[1;34m\u001b[0m\n\u001b[0;32m      1\u001b[0m \u001b[1;31m#Ensemble the models generated in first level.\u001b[0m\u001b[1;33m\u001b[0m\u001b[1;33m\u001b[0m\u001b[1;33m\u001b[0m\u001b[0m\n\u001b[0;32m      2\u001b[0m \u001b[1;33m\u001b[0m\u001b[0m\n\u001b[1;32m----> 3\u001b[1;33m \u001b[0mst_train\u001b[0m \u001b[1;33m=\u001b[0m \u001b[0mtrain_X\u001b[0m\u001b[1;33m\u001b[0m\u001b[1;33m\u001b[0m\u001b[0m\n\u001b[0m\u001b[0;32m      4\u001b[0m \u001b[0mst_test\u001b[0m \u001b[1;33m=\u001b[0m \u001b[0mtest_X\u001b[0m\u001b[1;33m\u001b[0m\u001b[1;33m\u001b[0m\u001b[0m\n\u001b[0;32m      5\u001b[0m \u001b[0mclf\u001b[0m \u001b[1;33m=\u001b[0m \u001b[0mlgb\u001b[0m\u001b[1;33m.\u001b[0m\u001b[0mLGBMClassifier\u001b[0m\u001b[1;33m(\u001b[0m\u001b[1;33m)\u001b[0m\u001b[1;33m\u001b[0m\u001b[1;33m\u001b[0m\u001b[0m\n",
      "\u001b[1;31mNameError\u001b[0m: name 'train_X' is not defined"
     ]
    }
   ],
   "source": [
    "#Ensemble the models generated in first level.\n",
    "\n",
    "st_train = train_X\n",
    "st_test = test_X\n",
    "clf = lgb.LGBMClassifier()\n",
    "clf = LogisticRegression()\n",
    "#clf = RGFClassifier(max_leaf=500,algorithm=\"RGF\",test_interval=100, loss=\"LS\")\n",
    "# clf = Ridge()\n",
    "# clf = lgb.LGBMClassifier(max_depth= 8, learning_rate=0.0941, n_estimators=197, num_leaves= 17, reg_alpha=3.4492 , reg_lambda= 0.0422) #lgb_pca\n",
    "# clf=ExtraTreesClassifier(n_estimators=10000, criterion='entropy', max_depth=9,  min_samples_leaf=1,  n_jobs=30, random_state=1)\n",
    "\n",
    "fold = 8\n",
    "cv = StratifiedKFold(Y, n_folds=fold,shuffle=True, random_state=30)\n",
    "X_preds = np.zeros(st_train.shape[0])\n",
    "preds = np.zeros(st_test.shape[0])\n",
    "for i, (tr, ts) in enumerate(cv):\n",
    "    print(ts.shape)\n",
    "    mod = clf.fit(st_train[tr], Y[tr])\n",
    "    X_preds[ts] = mod.predict_proba(st_train[ts])[:,1]\n",
    "    preds += mod.predict_proba(st_test)[:,1]\n",
    "    print(\"fold {}, ROC AUC: {:.3f}\".format(i, roc_auc_score(Y[ts], X_preds[ts])))\n",
    "    predictions = [round(value) for value in X_preds[ts]]\n",
    "    print(f1_score(Y[ts], predictions))\n",
    "score = roc_auc_score(Y, X_preds)\n",
    "print(score)\n",
    "preds1 = preds/fold"
   ]
  },
  {
   "cell_type": "code",
   "execution_count": 96,
   "metadata": {
    "collapsed": true
   },
   "outputs": [
    {
     "data": {
      "text/plain": [
       "['submission.csv',\n",
       " 'submission_ensemb.csv',\n",
       " 'submission_test_lgm.csv',\n",
       " 'submission_test_lgm_pca.csv',\n",
       " 'submission_test_lgm_pca1.csv',\n",
       " 'submission_test_lgm_pca30.csv',\n",
       " 'submission_test_lgm_thres.csv',\n",
       " 'submission_test_lgm_tune.csv',\n",
       " 'submission_test_lgm_var.csv',\n",
       " 'submission_test_rgf.csv',\n",
       " 'submission_train_lgm.csv',\n",
       " 'submission_train_lgm_pca.csv',\n",
       " 'submission_train_lgm_pca1.csv',\n",
       " 'submission_train_lgm_pca30.csv',\n",
       " 'submission_train_lgm_thres.csv',\n",
       " 'submission_train_lgm_tune.csv',\n",
       " 'submission_train_lgm_var.csv',\n",
       " 'submission_train_rgf.csv']"
      ]
     },
     "execution_count": 96,
     "metadata": {},
     "output_type": "execute_result"
    }
   ],
   "source": [
    "os.chdir(r'C:\\Users\\royal\\Downloads\\wns\\New folder\\New folder\\New folder')\n",
    "os.listdir()"
   ]
  },
  {
   "cell_type": "code",
   "execution_count": 60,
   "metadata": {
    "collapsed": true
   },
   "outputs": [],
   "source": [
    "##simple average Blend.\n",
    "preds1=(t1['is_promoted']+t6['is_promoted']+t3['is_promoted']+t4['is_promoted']+t5['is_promoted'])/6\n",
    "\n",
    "prediction_rfc=list(range(len(preds1)))\n",
    "for i in range(len(preds1)):\n",
    "    prediction_rfc[i]=1 if preds1[i]>=0.60 else 0\n",
    "\n",
    "sub = pd.DataFrame({'employee_id': test_id, 'is_promoted': prediction_rfc})\n",
    "sub=sub.reindex(columns=[\"employee_id\",\"is_promoted\"])\n",
    "filename = 'submission.csv'\n",
    "sub.to_csv(filename, index=False)"
   ]
  },
  {
   "cell_type": "code",
   "execution_count": null,
   "metadata": {
    "collapsed": true
   },
   "outputs": [],
   "source": []
  }
 ],
 "metadata": {
  "kernelspec": {
   "display_name": "Python 3",
   "language": "python",
   "name": "python3"
  },
  "language_info": {
   "codemirror_mode": {
    "name": "ipython",
    "version": 3
   },
   "file_extension": ".py",
   "mimetype": "text/x-python",
   "name": "python",
   "nbconvert_exporter": "python",
   "pygments_lexer": "ipython3",
   "version": "3.7.3"
  }
 },
 "nbformat": 4,
 "nbformat_minor": 2
}
