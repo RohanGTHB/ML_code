{
 "cells": [
  {
   "cell_type": "markdown",
   "metadata": {},
   "source": [
    "### Select_K_Best"
   ]
  },
  {
   "cell_type": "code",
   "execution_count": 1,
   "metadata": {},
   "outputs": [
    {
     "data": {
      "text/plain": [
       "SelectKBest(k=10, score_func=<function f_classif at 0x7ff20f250158>)"
      ]
     },
     "execution_count": 1,
     "metadata": {},
     "output_type": "execute_result"
    }
   ],
   "source": [
    "from sklearn.feature_selection import SelectKBest\n",
    "\n",
    "SelectKBest()"
   ]
  },
  {
   "cell_type": "markdown",
   "metadata": {},
   "source": [
    "- `score_func : callable`\n",
    "    \n",
    "    Function taking two arrays X and y, and returning a pair of arrays\n",
    "    (scores, pvalues) or a single array with scores.\n",
    "    Default is f_classif (see below \"See also\"). The default function only\n",
    "    works with classification tasks."
   ]
  },
  {
   "cell_type": "markdown",
   "metadata": {},
   "source": [
    "#### My_take\n",
    "- f_classif : This is most probab calc Anova @ backend\n",
    "- `Anova` is applicable for categorical IV & continuos DV, basically Anova calc means(of DV) instead of count()[chi_square] in a given cont. table\n",
    "\n",
    "- chi2 : This is some form of chisquare\n",
    "\n",
    "- f_redression : calc some F stats for continuos IV & DV pairs"
   ]
  },
  {
   "cell_type": "markdown",
   "metadata": {},
   "source": [
    "#### Actual Def given\n",
    "\n",
    "- f_classif: ANOVA F-value between label/feature for classification tasks.\n",
    "- mutual_info_classif: Mutual information for a discrete target.\n",
    "- chi2: Chi-squared stats of non-negative features for classification tasks.\n",
    "- f_regression: F-value between label/feature for regression tasks.\n",
    "- mutual_info_regression: Mutual information for a continuous target.\n",
    "- SelectPercentile: Select features based on percentile of the highest scores.\n",
    "- SelectFpr: Select features based on a false positive rate test.\n",
    "- SelectFdr: Select features based on an estimated false discovery rate.\n",
    "- SelectFwe: Select features based on family-wise error rate.\n",
    "- GenericUnivariateSelect: Univariate feature selector with configurable mode."
   ]
  },
  {
   "cell_type": "markdown",
   "metadata": {},
   "source": [
    "## Chi_squared Test`"
   ]
  },
  {
   "cell_type": "markdown",
   "metadata": {},
   "source": [
    "- for chisquare test:\n",
    "    - Ho = independence amoung the vars\n",
    "    \n",
    "    let p value(significane level) = 0.1\n",
    "    \n",
    "       - so if we have p < 0.1 we reject Ho --> vars are dependent\n",
    "       \n",
    "       - else we have p > 0.1 we accept Ho --> vars are independent"
   ]
  },
  {
   "cell_type": "code",
   "execution_count": 1,
   "metadata": {
    "_cell_guid": "ac6d7907-3e36-41e4-8b5f-290bd1ff2c7f",
    "_uuid": "8d87c1ce8b7a398f3e288184c127f91634acac19"
   },
   "outputs": [
    {
     "data": {
      "text/html": [
       "<div>\n",
       "<style scoped>\n",
       "    .dataframe tbody tr th:only-of-type {\n",
       "        vertical-align: middle;\n",
       "    }\n",
       "\n",
       "    .dataframe tbody tr th {\n",
       "        vertical-align: top;\n",
       "    }\n",
       "\n",
       "    .dataframe thead th {\n",
       "        text-align: right;\n",
       "    }\n",
       "</style>\n",
       "<table border=\"1\" class=\"dataframe\">\n",
       "  <thead>\n",
       "    <tr style=\"text-align: right;\">\n",
       "      <th></th>\n",
       "      <th>Have you ever taken a course in statistics?</th>\n",
       "      <th>Do you have any previous experience with programming?</th>\n",
       "      <th>What's your interest in data science?</th>\n",
       "      <th>Just for fun, do you prefer dogs or cat?</th>\n",
       "    </tr>\n",
       "  </thead>\n",
       "  <tbody>\n",
       "    <tr>\n",
       "      <th>0</th>\n",
       "      <td>Yep</td>\n",
       "      <td>Nope</td>\n",
       "      <td>I want to get a job where I use data science</td>\n",
       "      <td>Cats ?±</td>\n",
       "    </tr>\n",
       "    <tr>\n",
       "      <th>1</th>\n",
       "      <td>Yep</td>\n",
       "      <td>I have quite a bit of experience</td>\n",
       "      <td>I want to get a job where I use data science</td>\n",
       "      <td>Dogs ?¶</td>\n",
       "    </tr>\n",
       "    <tr>\n",
       "      <th>2</th>\n",
       "      <td>Yep</td>\n",
       "      <td>I have a little bit of experience</td>\n",
       "      <td>It will help me in my current job</td>\n",
       "      <td>Dogs ?¶</td>\n",
       "    </tr>\n",
       "    <tr>\n",
       "      <th>3</th>\n",
       "      <td>Nope</td>\n",
       "      <td>I have a little bit of experience</td>\n",
       "      <td>Just curious</td>\n",
       "      <td>Cats ?±</td>\n",
       "    </tr>\n",
       "    <tr>\n",
       "      <th>4</th>\n",
       "      <td>Yes, but I've forgotten everything</td>\n",
       "      <td>I have quite a bit of experience</td>\n",
       "      <td>I want to get a job where I use data science</td>\n",
       "      <td>Neither ?…</td>\n",
       "    </tr>\n",
       "  </tbody>\n",
       "</table>\n",
       "</div>"
      ],
      "text/plain": [
       "  Have you ever taken a course in statistics?  \\\n",
       "0                                         Yep   \n",
       "1                                         Yep   \n",
       "2                                         Yep   \n",
       "3                                        Nope   \n",
       "4          Yes, but I've forgotten everything   \n",
       "\n",
       "  Do you have any previous experience with programming?  \\\n",
       "0                                               Nope      \n",
       "1                   I have quite a bit of experience      \n",
       "2                  I have a little bit of experience      \n",
       "3                  I have a little bit of experience      \n",
       "4                   I have quite a bit of experience      \n",
       "\n",
       "          What's your interest in data science?  \\\n",
       "0  I want to get a job where I use data science   \n",
       "1  I want to get a job where I use data science   \n",
       "2             It will help me in my current job   \n",
       "3                                  Just curious   \n",
       "4  I want to get a job where I use data science   \n",
       "\n",
       "  Just for fun, do you prefer dogs or cat?  \n",
       "0                                  Cats ?±  \n",
       "1                                  Dogs ?¶  \n",
       "2                                  Dogs ?¶  \n",
       "3                                  Cats ?±  \n",
       "4                               Neither ?…  "
      ]
     },
     "execution_count": 1,
     "metadata": {},
     "output_type": "execute_result"
    }
   ],
   "source": [
    "# This Python 3 environment comes with many helpful analytics libraries installed\n",
    "# It is defined by the kaggle/python docker image: https://github.com/kaggle/docker-python\n",
    "# For example, here's several helpful packages to load in \n",
    "\n",
    "import numpy as np # linear algebra\n",
    "import pandas as pd # data processing, CSV file I/O (e.g. pd.read_csv)\n",
    "import scipy.stats\n",
    "# Input data files are available in the \"../input/\" directory.\n",
    "# For example, running this (by clicking run or pressing Shift+Enter) will list the files in the input directory\n",
    "\n",
    "# from subprocess import check_output\n",
    "# print(check_output([\"ls\", \"../input\"]).decode(\"utf8\"))\n",
    "\n",
    "# Any results you write to the current directory are saved as output.\n",
    "survey = pd.read_csv(\"/home/rohan/Desktop/jupyter/ROHAN_ALL/SM_&_ML/Datasets/anonymous-survey-responses.csv\")\n",
    "survey.head()"
   ]
  },
  {
   "cell_type": "markdown",
   "metadata": {
    "heading_collapsed": true
   },
   "source": [
    "#### Scipy chisquare vs sklearn chi2 ????????"
   ]
  },
  {
   "cell_type": "markdown",
   "metadata": {
    "hidden": true
   },
   "source": [
    "https://stats.stackexchange.com/questions/315697/%CF%87%C2%B2-chi-squared-statistic-of-scipy-stats-chi2-contingency-vs-sklearn-feature-se\n",
    "It appears from reading Scikit-learn χ² (chi-squared) statistic and corresponding contingency table that sklearn does not perform a standard contingency table analysis when calculating the χ² statistic between two categorical variables.\n",
    "\n",
    "For example, given the data below"
   ]
  },
  {
   "cell_type": "code",
   "execution_count": 176,
   "metadata": {
    "hidden": true
   },
   "outputs": [],
   "source": [
    "# libraries\n",
    "import scipy.stats as sps\n",
    "import pandas as pd\n",
    "\n",
    "# data\n",
    "data = pd.DataFrame({'gender': ['female']*60+['female']*54+['female']*46+['female']*41+['male']*40+['male']*44+['male']*53+['male']*57,\n",
    "                     'education level': ['high school']*60+['bachelors']*54+['masters']*46+['phd']*41+['high school']*40+['bachelors']*44+['masters']*53+['phd']*57})\n",
    "\n",
    "# contingency table\n",
    "contingency_table = pd.crosstab(index=data['gender'],\n",
    "                                columns=data['education level'])"
   ]
  },
  {
   "cell_type": "code",
   "execution_count": 177,
   "metadata": {
    "hidden": true
   },
   "outputs": [
    {
     "data": {
      "text/html": [
       "<div>\n",
       "<style scoped>\n",
       "    .dataframe tbody tr th:only-of-type {\n",
       "        vertical-align: middle;\n",
       "    }\n",
       "\n",
       "    .dataframe tbody tr th {\n",
       "        vertical-align: top;\n",
       "    }\n",
       "\n",
       "    .dataframe thead th {\n",
       "        text-align: right;\n",
       "    }\n",
       "</style>\n",
       "<table border=\"1\" class=\"dataframe\">\n",
       "  <thead>\n",
       "    <tr style=\"text-align: right;\">\n",
       "      <th>education level</th>\n",
       "      <th>bachelors</th>\n",
       "      <th>high school</th>\n",
       "      <th>masters</th>\n",
       "      <th>phd</th>\n",
       "    </tr>\n",
       "    <tr>\n",
       "      <th>gender</th>\n",
       "      <th></th>\n",
       "      <th></th>\n",
       "      <th></th>\n",
       "      <th></th>\n",
       "    </tr>\n",
       "  </thead>\n",
       "  <tbody>\n",
       "    <tr>\n",
       "      <th>female</th>\n",
       "      <td>54</td>\n",
       "      <td>60</td>\n",
       "      <td>46</td>\n",
       "      <td>41</td>\n",
       "    </tr>\n",
       "    <tr>\n",
       "      <th>male</th>\n",
       "      <td>44</td>\n",
       "      <td>40</td>\n",
       "      <td>53</td>\n",
       "      <td>57</td>\n",
       "    </tr>\n",
       "  </tbody>\n",
       "</table>\n",
       "</div>"
      ],
      "text/plain": [
       "education level  bachelors  high school  masters  phd\n",
       "gender                                               \n",
       "female                  54           60       46   41\n",
       "male                    44           40       53   57"
      ]
     },
     "execution_count": 177,
     "metadata": {},
     "output_type": "execute_result"
    }
   ],
   "source": [
    "contingency_table"
   ]
  },
  {
   "cell_type": "code",
   "execution_count": 178,
   "metadata": {
    "hidden": true
   },
   "outputs": [
    {
     "data": {
      "text/plain": [
       "(8.006066246262538,\n",
       " 0.045886500891747214,\n",
       " 3,\n",
       " array([[49.86835443, 50.88607595, 50.37721519, 49.86835443],\n",
       "        [48.13164557, 49.11392405, 48.62278481, 48.13164557]]))"
      ]
     },
     "execution_count": 178,
     "metadata": {},
     "output_type": "execute_result"
    }
   ],
   "source": [
    "sps.chi2_contingency(contingency_table, correction=False)"
   ]
  },
  {
   "cell_type": "markdown",
   "metadata": {
    "hidden": true
   },
   "source": [
    "- As can be seen chivalue using scipy is 8.006 vs sklearn 4.65"
   ]
  },
  {
   "cell_type": "code",
   "execution_count": 179,
   "metadata": {
    "hidden": true
   },
   "outputs": [],
   "source": [
    "# libraries\n",
    "from sklearn.preprocessing import LabelEncoder\n",
    "from sklearn.feature_selection import chi2\n",
    "\n",
    "# label encoder for categorical features\n",
    "le = LabelEncoder()\n",
    "\n",
    "# transforming the categorical features\n",
    "data['education level le'] = pd.DataFrame(le.fit_transform(data['education level']))\n",
    "data['gender le'] = pd.DataFrame(le.fit_transform(data['gender']))"
   ]
  },
  {
   "cell_type": "code",
   "execution_count": 189,
   "metadata": {
    "hidden": true
   },
   "outputs": [
    {
     "data": {
      "text/plain": [
       "array([4.65571839])"
      ]
     },
     "execution_count": 189,
     "metadata": {},
     "output_type": "execute_result"
    }
   ],
   "source": [
    "chi_2, p_value = chi2(data['education level le'].values.reshape(-1, 1),\n",
    "                   data['gender le'].values)\n",
    "\n",
    "chi_2"
   ]
  },
  {
   "cell_type": "markdown",
   "metadata": {},
   "source": [
    "#### Chi_square bw pair of features"
   ]
  },
  {
   "cell_type": "code",
   "execution_count": 57,
   "metadata": {},
   "outputs": [],
   "source": [
    "def chi_p_val(DF):\n",
    "    li = []\n",
    "    lt = []\n",
    "    for x in DF.columns:\n",
    "        scipy.stats.chisquare(DF[x].value_counts())\n",
    "        for y in DF.columns:\n",
    "            if x != y:\n",
    "                f = x,y\n",
    "                lt.append([x,y])\n",
    "                con = pd.crosstab(DF[x],DF[y])\n",
    "                chi_stat,p_value,Dof,cont_table = scipy.stats.chi2_contingency(con)\n",
    "                li.extend([p_value])\n",
    "            else:\n",
    "                pass\n",
    "    chi_P_value = pd.DataFrame(np.vstack(lt),columns=['1st_col','2nd_col'])\n",
    "\n",
    "    chi_P_value['chi_square_p_value'] = li\n",
    "    return chi_P_value"
   ]
  },
  {
   "cell_type": "markdown",
   "metadata": {},
   "source": [
    "- you cant use `chi_P_value` outside the scope of UDF"
   ]
  },
  {
   "cell_type": "code",
   "execution_count": 48,
   "metadata": {},
   "outputs": [
    {
     "data": {
      "text/html": [
       "<div>\n",
       "<style scoped>\n",
       "    .dataframe tbody tr th:only-of-type {\n",
       "        vertical-align: middle;\n",
       "    }\n",
       "\n",
       "    .dataframe tbody tr th {\n",
       "        vertical-align: top;\n",
       "    }\n",
       "\n",
       "    .dataframe thead th {\n",
       "        text-align: right;\n",
       "    }\n",
       "</style>\n",
       "<table border=\"1\" class=\"dataframe\">\n",
       "  <thead>\n",
       "    <tr style=\"text-align: right;\">\n",
       "      <th></th>\n",
       "      <th>1st_col</th>\n",
       "      <th>2nd_col</th>\n",
       "      <th>chi_square_p_value</th>\n",
       "    </tr>\n",
       "  </thead>\n",
       "  <tbody>\n",
       "    <tr>\n",
       "      <th>0</th>\n",
       "      <td>Have you ever taken a course in statistics?</td>\n",
       "      <td>Do you have any previous experience with progr...</td>\n",
       "      <td>0.031955</td>\n",
       "    </tr>\n",
       "    <tr>\n",
       "      <th>1</th>\n",
       "      <td>Have you ever taken a course in statistics?</td>\n",
       "      <td>What's your interest in data science?</td>\n",
       "      <td>0.002120</td>\n",
       "    </tr>\n",
       "    <tr>\n",
       "      <th>2</th>\n",
       "      <td>Have you ever taken a course in statistics?</td>\n",
       "      <td>Just for fun, do you prefer dogs or cat?</td>\n",
       "      <td>0.227119</td>\n",
       "    </tr>\n",
       "    <tr>\n",
       "      <th>3</th>\n",
       "      <td>Do you have any previous experience with progr...</td>\n",
       "      <td>Have you ever taken a course in statistics?</td>\n",
       "      <td>0.031955</td>\n",
       "    </tr>\n",
       "    <tr>\n",
       "      <th>4</th>\n",
       "      <td>Do you have any previous experience with progr...</td>\n",
       "      <td>What's your interest in data science?</td>\n",
       "      <td>0.000170</td>\n",
       "    </tr>\n",
       "    <tr>\n",
       "      <th>5</th>\n",
       "      <td>Do you have any previous experience with progr...</td>\n",
       "      <td>Just for fun, do you prefer dogs or cat?</td>\n",
       "      <td>0.557436</td>\n",
       "    </tr>\n",
       "    <tr>\n",
       "      <th>6</th>\n",
       "      <td>What's your interest in data science?</td>\n",
       "      <td>Have you ever taken a course in statistics?</td>\n",
       "      <td>0.002120</td>\n",
       "    </tr>\n",
       "    <tr>\n",
       "      <th>7</th>\n",
       "      <td>What's your interest in data science?</td>\n",
       "      <td>Do you have any previous experience with progr...</td>\n",
       "      <td>0.000170</td>\n",
       "    </tr>\n",
       "    <tr>\n",
       "      <th>8</th>\n",
       "      <td>What's your interest in data science?</td>\n",
       "      <td>Just for fun, do you prefer dogs or cat?</td>\n",
       "      <td>0.100908</td>\n",
       "    </tr>\n",
       "    <tr>\n",
       "      <th>9</th>\n",
       "      <td>Just for fun, do you prefer dogs or cat?</td>\n",
       "      <td>Have you ever taken a course in statistics?</td>\n",
       "      <td>0.227119</td>\n",
       "    </tr>\n",
       "    <tr>\n",
       "      <th>10</th>\n",
       "      <td>Just for fun, do you prefer dogs or cat?</td>\n",
       "      <td>Do you have any previous experience with progr...</td>\n",
       "      <td>0.557436</td>\n",
       "    </tr>\n",
       "    <tr>\n",
       "      <th>11</th>\n",
       "      <td>Just for fun, do you prefer dogs or cat?</td>\n",
       "      <td>What's your interest in data science?</td>\n",
       "      <td>0.100908</td>\n",
       "    </tr>\n",
       "  </tbody>\n",
       "</table>\n",
       "</div>"
      ],
      "text/plain": [
       "                                              1st_col  \\\n",
       "0         Have you ever taken a course in statistics?   \n",
       "1         Have you ever taken a course in statistics?   \n",
       "2         Have you ever taken a course in statistics?   \n",
       "3   Do you have any previous experience with progr...   \n",
       "4   Do you have any previous experience with progr...   \n",
       "5   Do you have any previous experience with progr...   \n",
       "6               What's your interest in data science?   \n",
       "7               What's your interest in data science?   \n",
       "8               What's your interest in data science?   \n",
       "9            Just for fun, do you prefer dogs or cat?   \n",
       "10           Just for fun, do you prefer dogs or cat?   \n",
       "11           Just for fun, do you prefer dogs or cat?   \n",
       "\n",
       "                                              2nd_col  chi_square_p_value  \n",
       "0   Do you have any previous experience with progr...            0.031955  \n",
       "1               What's your interest in data science?            0.002120  \n",
       "2            Just for fun, do you prefer dogs or cat?            0.227119  \n",
       "3         Have you ever taken a course in statistics?            0.031955  \n",
       "4               What's your interest in data science?            0.000170  \n",
       "5            Just for fun, do you prefer dogs or cat?            0.557436  \n",
       "6         Have you ever taken a course in statistics?            0.002120  \n",
       "7   Do you have any previous experience with progr...            0.000170  \n",
       "8            Just for fun, do you prefer dogs or cat?            0.100908  \n",
       "9         Have you ever taken a course in statistics?            0.227119  \n",
       "10  Do you have any previous experience with progr...            0.557436  \n",
       "11              What's your interest in data science?            0.100908  "
      ]
     },
     "execution_count": 48,
     "metadata": {},
     "output_type": "execute_result"
    }
   ],
   "source": [
    "chi_p_val(survey)"
   ]
  },
  {
   "cell_type": "markdown",
   "metadata": {
    "heading_collapsed": true
   },
   "source": [
    "#### Sourcecode"
   ]
  },
  {
   "cell_type": "code",
   "execution_count": 45,
   "metadata": {
    "hidden": true
   },
   "outputs": [],
   "source": [
    "li = []\n",
    "lt = []\n",
    "for x in survey.columns:\n",
    "    scipy.stats.chisquare(survey[x].value_counts())\n",
    "    for y in survey.columns:\n",
    "        if x != y:\n",
    "            f = x,y\n",
    "            lt.append([x,y])\n",
    "            con = pd.crosstab(survey[x],survey[y])\n",
    "            chi_stat,p_value,Dof,cont_table = scipy.stats.chi2_contingency(con)\n",
    "            li.extend([p_value])\n",
    "        else:\n",
    "            pass\n",
    "          \n",
    "\n",
    "chi_P_value = pd.DataFrame(np.vstack(lt),columns=['1st_col','2nd_col'])\n",
    "\n",
    "chi_P_value['chi_square_p_value'] = li"
   ]
  },
  {
   "cell_type": "code",
   "execution_count": 46,
   "metadata": {
    "hidden": true
   },
   "outputs": [
    {
     "data": {
      "text/html": [
       "<div>\n",
       "<style scoped>\n",
       "    .dataframe tbody tr th:only-of-type {\n",
       "        vertical-align: middle;\n",
       "    }\n",
       "\n",
       "    .dataframe tbody tr th {\n",
       "        vertical-align: top;\n",
       "    }\n",
       "\n",
       "    .dataframe thead th {\n",
       "        text-align: right;\n",
       "    }\n",
       "</style>\n",
       "<table border=\"1\" class=\"dataframe\">\n",
       "  <thead>\n",
       "    <tr style=\"text-align: right;\">\n",
       "      <th></th>\n",
       "      <th>1st_col</th>\n",
       "      <th>2nd_col</th>\n",
       "      <th>chi_square_p_value</th>\n",
       "    </tr>\n",
       "  </thead>\n",
       "  <tbody>\n",
       "    <tr>\n",
       "      <th>0</th>\n",
       "      <td>Have you ever taken a course in statistics?</td>\n",
       "      <td>Do you have any previous experience with progr...</td>\n",
       "      <td>0.031955</td>\n",
       "    </tr>\n",
       "    <tr>\n",
       "      <th>1</th>\n",
       "      <td>Have you ever taken a course in statistics?</td>\n",
       "      <td>What's your interest in data science?</td>\n",
       "      <td>0.002120</td>\n",
       "    </tr>\n",
       "    <tr>\n",
       "      <th>2</th>\n",
       "      <td>Have you ever taken a course in statistics?</td>\n",
       "      <td>Just for fun, do you prefer dogs or cat?</td>\n",
       "      <td>0.227119</td>\n",
       "    </tr>\n",
       "    <tr>\n",
       "      <th>3</th>\n",
       "      <td>Do you have any previous experience with progr...</td>\n",
       "      <td>Have you ever taken a course in statistics?</td>\n",
       "      <td>0.031955</td>\n",
       "    </tr>\n",
       "    <tr>\n",
       "      <th>4</th>\n",
       "      <td>Do you have any previous experience with progr...</td>\n",
       "      <td>What's your interest in data science?</td>\n",
       "      <td>0.000170</td>\n",
       "    </tr>\n",
       "    <tr>\n",
       "      <th>5</th>\n",
       "      <td>Do you have any previous experience with progr...</td>\n",
       "      <td>Just for fun, do you prefer dogs or cat?</td>\n",
       "      <td>0.557436</td>\n",
       "    </tr>\n",
       "    <tr>\n",
       "      <th>6</th>\n",
       "      <td>What's your interest in data science?</td>\n",
       "      <td>Have you ever taken a course in statistics?</td>\n",
       "      <td>0.002120</td>\n",
       "    </tr>\n",
       "    <tr>\n",
       "      <th>7</th>\n",
       "      <td>What's your interest in data science?</td>\n",
       "      <td>Do you have any previous experience with progr...</td>\n",
       "      <td>0.000170</td>\n",
       "    </tr>\n",
       "    <tr>\n",
       "      <th>8</th>\n",
       "      <td>What's your interest in data science?</td>\n",
       "      <td>Just for fun, do you prefer dogs or cat?</td>\n",
       "      <td>0.100908</td>\n",
       "    </tr>\n",
       "    <tr>\n",
       "      <th>9</th>\n",
       "      <td>Just for fun, do you prefer dogs or cat?</td>\n",
       "      <td>Have you ever taken a course in statistics?</td>\n",
       "      <td>0.227119</td>\n",
       "    </tr>\n",
       "    <tr>\n",
       "      <th>10</th>\n",
       "      <td>Just for fun, do you prefer dogs or cat?</td>\n",
       "      <td>Do you have any previous experience with progr...</td>\n",
       "      <td>0.557436</td>\n",
       "    </tr>\n",
       "    <tr>\n",
       "      <th>11</th>\n",
       "      <td>Just for fun, do you prefer dogs or cat?</td>\n",
       "      <td>What's your interest in data science?</td>\n",
       "      <td>0.100908</td>\n",
       "    </tr>\n",
       "  </tbody>\n",
       "</table>\n",
       "</div>"
      ],
      "text/plain": [
       "                                              1st_col  \\\n",
       "0         Have you ever taken a course in statistics?   \n",
       "1         Have you ever taken a course in statistics?   \n",
       "2         Have you ever taken a course in statistics?   \n",
       "3   Do you have any previous experience with progr...   \n",
       "4   Do you have any previous experience with progr...   \n",
       "5   Do you have any previous experience with progr...   \n",
       "6               What's your interest in data science?   \n",
       "7               What's your interest in data science?   \n",
       "8               What's your interest in data science?   \n",
       "9            Just for fun, do you prefer dogs or cat?   \n",
       "10           Just for fun, do you prefer dogs or cat?   \n",
       "11           Just for fun, do you prefer dogs or cat?   \n",
       "\n",
       "                                              2nd_col  chi_square_p_value  \n",
       "0   Do you have any previous experience with progr...            0.031955  \n",
       "1               What's your interest in data science?            0.002120  \n",
       "2            Just for fun, do you prefer dogs or cat?            0.227119  \n",
       "3         Have you ever taken a course in statistics?            0.031955  \n",
       "4               What's your interest in data science?            0.000170  \n",
       "5            Just for fun, do you prefer dogs or cat?            0.557436  \n",
       "6         Have you ever taken a course in statistics?            0.002120  \n",
       "7   Do you have any previous experience with progr...            0.000170  \n",
       "8            Just for fun, do you prefer dogs or cat?            0.100908  \n",
       "9         Have you ever taken a course in statistics?            0.227119  \n",
       "10  Do you have any previous experience with progr...            0.557436  \n",
       "11              What's your interest in data science?            0.100908  "
      ]
     },
     "execution_count": 46,
     "metadata": {},
     "output_type": "execute_result"
    }
   ],
   "source": [
    "chi_P_value"
   ]
  },
  {
   "cell_type": "markdown",
   "metadata": {
    "heading_collapsed": true
   },
   "source": [
    "#### -------------------------------------------------------"
   ]
  },
  {
   "cell_type": "markdown",
   "metadata": {},
   "source": [
    "#### These are 1Way_chi_square \n",
    "\n",
    "- The chi square test tests the null hypothesis that the categorical data has the given frequencies."
   ]
  },
  {
   "cell_type": "code",
   "execution_count": 10,
   "metadata": {
    "scrolled": true
   },
   "outputs": [
    {
     "data": {
      "text/plain": [
       "Power_divergenceResult(statistic=108.50120096076861, pvalue=2.7495623442639547e-24)"
      ]
     },
     "execution_count": 10,
     "metadata": {},
     "output_type": "execute_result"
    }
   ],
   "source": [
    "scipy.stats.chisquare(survey[\"Have you ever taken a course in statistics?\"].value_counts())"
   ]
  },
  {
   "cell_type": "code",
   "execution_count": 216,
   "metadata": {},
   "outputs": [
    {
     "data": {
      "text/plain": [
       "Power_divergenceResult(statistic=1267.8518815052041, pvalue=1.3908441117864023e-274)"
      ]
     },
     "execution_count": 216,
     "metadata": {},
     "output_type": "execute_result"
    }
   ],
   "source": [
    "scipy.stats.chisquare(survey[\"What's your interest in data science?\"].value_counts())"
   ]
  },
  {
   "cell_type": "code",
   "execution_count": 11,
   "metadata": {
    "scrolled": true
   },
   "outputs": [
    {
     "data": {
      "text/plain": [
       "Power_divergenceResult(statistic=906.2001601281024, pvalue=7.55591487886036e-195)"
      ]
     },
     "execution_count": 11,
     "metadata": {},
     "output_type": "execute_result"
    }
   ],
   "source": [
    "scipy.stats.chisquare(survey[\"Do you have any previous experience with programming?\"].value_counts())"
   ]
  },
  {
   "cell_type": "markdown",
   "metadata": {},
   "source": [
    "#### 2 Way Chi_Squared test\n",
    "\n",
    "Chi-square test of independence of variables in a contingency table.\n",
    "\n",
    "This function computes the chi-square statistic and p-value for the hypothesis test of independence of the observed frequencies in the contingency table [R258] observed. The expected frequencies are computed based on the marginal sums under the assumption of independence; see scipy.stats.contingency.expected_freq. The number of degrees of freedom is (expressed using numpy functions and attributes):"
   ]
  },
  {
   "cell_type": "code",
   "execution_count": 49,
   "metadata": {},
   "outputs": [],
   "source": [
    "cont = pd.crosstab(survey[\"Have you ever taken a course in statistics?\"],survey[\"What's your interest in data science?\"])"
   ]
  },
  {
   "cell_type": "code",
   "execution_count": 50,
   "metadata": {
    "scrolled": true
   },
   "outputs": [
    {
     "data": {
      "text/html": [
       "<div>\n",
       "<style scoped>\n",
       "    .dataframe tbody tr th:only-of-type {\n",
       "        vertical-align: middle;\n",
       "    }\n",
       "\n",
       "    .dataframe tbody tr th {\n",
       "        vertical-align: top;\n",
       "    }\n",
       "\n",
       "    .dataframe thead th {\n",
       "        text-align: right;\n",
       "    }\n",
       "</style>\n",
       "<table border=\"1\" class=\"dataframe\">\n",
       "  <thead>\n",
       "    <tr style=\"text-align: right;\">\n",
       "      <th>What's your interest in data science?</th>\n",
       "      <th>I want to get a job where I use data science</th>\n",
       "      <th>It will help me in my current job</th>\n",
       "      <th>Just curious</th>\n",
       "      <th>other</th>\n",
       "    </tr>\n",
       "    <tr>\n",
       "      <th>Have you ever taken a course in statistics?</th>\n",
       "      <th></th>\n",
       "      <th></th>\n",
       "      <th></th>\n",
       "      <th></th>\n",
       "    </tr>\n",
       "  </thead>\n",
       "  <tbody>\n",
       "    <tr>\n",
       "      <th>Nope</th>\n",
       "      <td>160</td>\n",
       "      <td>47</td>\n",
       "      <td>40</td>\n",
       "      <td>9</td>\n",
       "    </tr>\n",
       "    <tr>\n",
       "      <th>Yep</th>\n",
       "      <td>378</td>\n",
       "      <td>116</td>\n",
       "      <td>38</td>\n",
       "      <td>22</td>\n",
       "    </tr>\n",
       "    <tr>\n",
       "      <th>Yes, but I've forgotten everything</th>\n",
       "      <td>303</td>\n",
       "      <td>88</td>\n",
       "      <td>41</td>\n",
       "      <td>7</td>\n",
       "    </tr>\n",
       "  </tbody>\n",
       "</table>\n",
       "</div>"
      ],
      "text/plain": [
       "What's your interest in data science?        I want to get a job where I use data science  \\\n",
       "Have you ever taken a course in statistics?                                                 \n",
       "Nope                                                                                  160   \n",
       "Yep                                                                                   378   \n",
       "Yes, but I've forgotten everything                                                    303   \n",
       "\n",
       "What's your interest in data science?        It will help me in my current job  \\\n",
       "Have you ever taken a course in statistics?                                      \n",
       "Nope                                                                        47   \n",
       "Yep                                                                        116   \n",
       "Yes, but I've forgotten everything                                          88   \n",
       "\n",
       "What's your interest in data science?        Just curious  other  \n",
       "Have you ever taken a course in statistics?                       \n",
       "Nope                                                   40      9  \n",
       "Yep                                                    38     22  \n",
       "Yes, but I've forgotten everything                     41      7  "
      ]
     },
     "execution_count": 50,
     "metadata": {},
     "output_type": "execute_result"
    }
   ],
   "source": [
    "cont"
   ]
  },
  {
   "cell_type": "code",
   "execution_count": 51,
   "metadata": {},
   "outputs": [],
   "source": [
    "chi_stat,p_value,Dof,cont_table = scipy.stats.chi2_contingency(cont)"
   ]
  },
  {
   "cell_type": "code",
   "execution_count": 52,
   "metadata": {},
   "outputs": [
    {
     "data": {
      "text/plain": [
       "20.65045801286874"
      ]
     },
     "execution_count": 52,
     "metadata": {},
     "output_type": "execute_result"
    }
   ],
   "source": [
    "chi_stat"
   ]
  },
  {
   "cell_type": "code",
   "execution_count": 53,
   "metadata": {},
   "outputs": [
    {
     "data": {
      "text/plain": [
       "0.002119565795128293"
      ]
     },
     "execution_count": 53,
     "metadata": {},
     "output_type": "execute_result"
    }
   ],
   "source": [
    "p_value"
   ]
  },
  {
   "cell_type": "code",
   "execution_count": 226,
   "metadata": {},
   "outputs": [
    {
     "data": {
      "text/html": [
       "<div>\n",
       "<style scoped>\n",
       "    .dataframe tbody tr th:only-of-type {\n",
       "        vertical-align: middle;\n",
       "    }\n",
       "\n",
       "    .dataframe tbody tr th {\n",
       "        vertical-align: top;\n",
       "    }\n",
       "\n",
       "    .dataframe thead th {\n",
       "        text-align: right;\n",
       "    }\n",
       "</style>\n",
       "<table border=\"1\" class=\"dataframe\">\n",
       "  <thead>\n",
       "    <tr style=\"text-align: right;\">\n",
       "      <th>What's your interest in data science?</th>\n",
       "      <th>I want to get a job where I use data science</th>\n",
       "      <th>It will help me in my current job</th>\n",
       "      <th>Just curious</th>\n",
       "      <th>other</th>\n",
       "    </tr>\n",
       "    <tr>\n",
       "      <th>Have you ever taken a course in statistics?</th>\n",
       "      <th></th>\n",
       "      <th></th>\n",
       "      <th></th>\n",
       "      <th></th>\n",
       "    </tr>\n",
       "  </thead>\n",
       "  <tbody>\n",
       "    <tr>\n",
       "      <th>Nope</th>\n",
       "      <td>172.374700</td>\n",
       "      <td>51.445957</td>\n",
       "      <td>24.390713</td>\n",
       "      <td>7.788631</td>\n",
       "    </tr>\n",
       "    <tr>\n",
       "      <th>Yep</th>\n",
       "      <td>373.029624</td>\n",
       "      <td>111.332266</td>\n",
       "      <td>52.783026</td>\n",
       "      <td>16.855084</td>\n",
       "    </tr>\n",
       "    <tr>\n",
       "      <th>Yes, but I've forgotten everything</th>\n",
       "      <td>295.595677</td>\n",
       "      <td>88.221777</td>\n",
       "      <td>41.826261</td>\n",
       "      <td>13.356285</td>\n",
       "    </tr>\n",
       "  </tbody>\n",
       "</table>\n",
       "</div>"
      ],
      "text/plain": [
       "What's your interest in data science?        I want to get a job where I use data science  \\\n",
       "Have you ever taken a course in statistics?                                                 \n",
       "Nope                                                                           172.374700   \n",
       "Yep                                                                            373.029624   \n",
       "Yes, but I've forgotten everything                                             295.595677   \n",
       "\n",
       "What's your interest in data science?        It will help me in my current job  \\\n",
       "Have you ever taken a course in statistics?                                      \n",
       "Nope                                                                 51.445957   \n",
       "Yep                                                                 111.332266   \n",
       "Yes, but I've forgotten everything                                   88.221777   \n",
       "\n",
       "What's your interest in data science?        Just curious      other  \n",
       "Have you ever taken a course in statistics?                           \n",
       "Nope                                            24.390713   7.788631  \n",
       "Yep                                             52.783026  16.855084  \n",
       "Yes, but I've forgotten everything              41.826261  13.356285  "
      ]
     },
     "execution_count": 226,
     "metadata": {},
     "output_type": "execute_result"
    }
   ],
   "source": [
    "expected_values = pd.DataFrame(cont_table,columns=cont.columns,index=cont.index)\n",
    "\n",
    "expected_values"
   ]
  }
 ],
 "metadata": {
  "kernelspec": {
   "display_name": "Python 3",
   "language": "python",
   "name": "python3"
  },
  "language_info": {
   "codemirror_mode": {
    "name": "ipython",
    "version": 3
   },
   "file_extension": ".py",
   "mimetype": "text/x-python",
   "name": "python",
   "nbconvert_exporter": "python",
   "pygments_lexer": "ipython3",
   "version": "3.7.3"
  }
 },
 "nbformat": 4,
 "nbformat_minor": 1
}
