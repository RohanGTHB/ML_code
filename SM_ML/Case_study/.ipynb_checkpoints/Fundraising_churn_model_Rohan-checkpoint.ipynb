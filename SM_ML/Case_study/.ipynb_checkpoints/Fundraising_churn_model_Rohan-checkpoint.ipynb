{
 "cells": [
  {
   "cell_type": "code",
   "execution_count": 31,
   "metadata": {},
   "outputs": [],
   "source": [
    "import pandas as pd\n",
    "import numpy as np\n",
    "import matplotlib.pyplot as plt\n",
    "import seaborn as sns\n",
    "%matplotlib inline\n",
    "#___________________________________________________\n",
    "\n",
    "from sklearn.model_selection import train_test_split,GridSearchCV,cross_val_score\n",
    "from sklearn import metrics\n",
    "from sklearn.tree import  DecisionTreeClassifier\n",
    "from sklearn.ensemble import RandomForestClassifier,GradientBoostingClassifier,AdaBoostClassifier\n",
    "from sklearn.preprocessing import StandardScaler\n",
    "from sklearn.neighbors import KNeighborsClassifier \n",
    "import pandas_profiling"
   ]
  },
  {
   "cell_type": "markdown",
   "metadata": {},
   "source": [
    "# ------------------------------------------------ extrelty -----------------------------------"
   ]
  },
  {
   "cell_type": "code",
   "execution_count": 17,
   "metadata": {},
   "outputs": [
    {
     "data": {
      "text/html": [
       "<div>\n",
       "<style scoped>\n",
       "    .dataframe tbody tr th:only-of-type {\n",
       "        vertical-align: middle;\n",
       "    }\n",
       "\n",
       "    .dataframe tbody tr th {\n",
       "        vertical-align: top;\n",
       "    }\n",
       "\n",
       "    .dataframe thead th {\n",
       "        text-align: right;\n",
       "    }\n",
       "</style>\n",
       "<table border=\"1\" class=\"dataframe\">\n",
       "  <thead>\n",
       "    <tr style=\"text-align: right;\">\n",
       "      <th></th>\n",
       "      <th>EXRELACTCD</th>\n",
       "      <th>EXRELACTDE</th>\n",
       "    </tr>\n",
       "  </thead>\n",
       "  <tbody>\n",
       "    <tr>\n",
       "      <th>0</th>\n",
       "      <td>b'FP'</td>\n",
       "      <td>b'CommitmentDo'</td>\n",
       "    </tr>\n",
       "    <tr>\n",
       "      <th>1</th>\n",
       "      <td>b'PS'</td>\n",
       "      <td>b'Prospect'</td>\n",
       "    </tr>\n",
       "  </tbody>\n",
       "</table>\n",
       "</div>"
      ],
      "text/plain": [
       "  EXRELACTCD       EXRELACTDE\n",
       "0      b'FP'  b'CommitmentDo'\n",
       "1      b'PS'      b'Prospect'"
      ]
     },
     "execution_count": 17,
     "metadata": {},
     "output_type": "execute_result"
    }
   ],
   "source": [
    "extrelty = pd.read_sas('/home/rohan/Documents/ROHAN_DA/ALABS/___STATS___ -  cls 10 onwards/Class_20 Case_study_ML/Case_study/2. NGO-FUND RAISING ATTRITION- CLASSIFICATION/Downloaded_CS/churn_modelling-master/extrelty.sas7bdat')\n",
    "extrelty.head(2)"
   ]
  },
  {
   "cell_type": "markdown",
   "metadata": {},
   "source": [
    "# ------------------------------------------- extrel -------------------------------------------"
   ]
  },
  {
   "cell_type": "code",
   "execution_count": 18,
   "metadata": {},
   "outputs": [
    {
     "data": {
      "text/html": [
       "<div>\n",
       "<style scoped>\n",
       "    .dataframe tbody tr th:only-of-type {\n",
       "        vertical-align: middle;\n",
       "    }\n",
       "\n",
       "    .dataframe tbody tr th {\n",
       "        vertical-align: top;\n",
       "    }\n",
       "\n",
       "    .dataframe thead th {\n",
       "        text-align: right;\n",
       "    }\n",
       "</style>\n",
       "<table border=\"1\" class=\"dataframe\">\n",
       "  <thead>\n",
       "    <tr style=\"text-align: right;\">\n",
       "      <th></th>\n",
       "      <th>EXTRELNO</th>\n",
       "      <th>EXRELACTCD</th>\n",
       "      <th>EXTRELSTDT</th>\n",
       "      <th>EXRELDATEN</th>\n",
       "    </tr>\n",
       "  </thead>\n",
       "  <tbody>\n",
       "    <tr>\n",
       "      <th>0</th>\n",
       "      <td>b'0026414'</td>\n",
       "      <td>b'CT'</td>\n",
       "      <td>1995-02-02</td>\n",
       "      <td>NaT</td>\n",
       "    </tr>\n",
       "    <tr>\n",
       "      <th>1</th>\n",
       "      <td>b'0026419'</td>\n",
       "      <td>b'FP'</td>\n",
       "      <td>1992-03-01</td>\n",
       "      <td>NaT</td>\n",
       "    </tr>\n",
       "  </tbody>\n",
       "</table>\n",
       "</div>"
      ],
      "text/plain": [
       "     EXTRELNO EXRELACTCD EXTRELSTDT EXRELDATEN\n",
       "0  b'0026414'      b'CT' 1995-02-02        NaT\n",
       "1  b'0026419'      b'FP' 1992-03-01        NaT"
      ]
     },
     "execution_count": 18,
     "metadata": {},
     "output_type": "execute_result"
    }
   ],
   "source": [
    "extrel = pd.read_sas('/home/rohan/Documents/ROHAN_DA/ALABS/___STATS___ -  cls 10 onwards/Class_20 Case_study_ML/Case_study/2. NGO-FUND RAISING ATTRITION- CLASSIFICATION/Downloaded_CS/churn_modelling-master/extrel.sas7bdat')\n",
    "extrel.head(2)"
   ]
  },
  {
   "cell_type": "code",
   "execution_count": 30,
   "metadata": {},
   "outputs": [
    {
     "data": {
      "text/plain": [
       "(26689, 4)"
      ]
     },
     "execution_count": 30,
     "metadata": {},
     "output_type": "execute_result"
    }
   ],
   "source": [
    "extrel.shape"
   ]
  },
  {
   "cell_type": "code",
   "execution_count": 29,
   "metadata": {},
   "outputs": [
    {
     "data": {
      "text/plain": [
       "EXTRELNO      False\n",
       "EXRELACTCD    False\n",
       "EXTRELSTDT    False\n",
       "EXRELDATEN     True\n",
       "dtype: bool"
      ]
     },
     "execution_count": 29,
     "metadata": {},
     "output_type": "execute_result"
    }
   ],
   "source": [
    "extrel.isnull().any()"
   ]
  },
  {
   "cell_type": "code",
   "execution_count": 32,
   "metadata": {},
   "outputs": [
    {
     "name": "stdout",
     "output_type": "stream",
     "text": [
      "<class 'pandas.core.frame.DataFrame'>\n",
      "RangeIndex: 26689 entries, 0 to 26688\n",
      "Data columns (total 4 columns):\n",
      "EXTRELNO      26689 non-null object\n",
      "EXRELACTCD    26689 non-null object\n",
      "EXTRELSTDT    26689 non-null datetime64[ns]\n",
      "EXRELDATEN    10168 non-null datetime64[ns]\n",
      "dtypes: datetime64[ns](2), object(2)\n",
      "memory usage: 834.1+ KB\n"
     ]
    }
   ],
   "source": [
    "extrel.info()"
   ]
  },
  {
   "cell_type": "code",
   "execution_count": 34,
   "metadata": {},
   "outputs": [
    {
     "data": {
      "text/html": [
       "<div>\n",
       "<style scoped>\n",
       "    .dataframe tbody tr th:only-of-type {\n",
       "        vertical-align: middle;\n",
       "    }\n",
       "\n",
       "    .dataframe tbody tr th {\n",
       "        vertical-align: top;\n",
       "    }\n",
       "\n",
       "    .dataframe thead th {\n",
       "        text-align: right;\n",
       "    }\n",
       "</style>\n",
       "<table border=\"1\" class=\"dataframe\">\n",
       "  <thead>\n",
       "    <tr style=\"text-align: right;\">\n",
       "      <th></th>\n",
       "      <th>count</th>\n",
       "      <th>unique</th>\n",
       "      <th>top</th>\n",
       "      <th>freq</th>\n",
       "      <th>first</th>\n",
       "      <th>last</th>\n",
       "    </tr>\n",
       "  </thead>\n",
       "  <tbody>\n",
       "    <tr>\n",
       "      <th>EXTRELNO</th>\n",
       "      <td>26689</td>\n",
       "      <td>18704</td>\n",
       "      <td>b'0038595'</td>\n",
       "      <td>6</td>\n",
       "      <td>NaN</td>\n",
       "      <td>NaN</td>\n",
       "    </tr>\n",
       "    <tr>\n",
       "      <th>EXRELACTCD</th>\n",
       "      <td>26689</td>\n",
       "      <td>17</td>\n",
       "      <td>b'FP'</td>\n",
       "      <td>11442</td>\n",
       "      <td>NaN</td>\n",
       "      <td>NaN</td>\n",
       "    </tr>\n",
       "    <tr>\n",
       "      <th>EXTRELSTDT</th>\n",
       "      <td>26689</td>\n",
       "      <td>2877</td>\n",
       "      <td>1994-11-29 00:00:00</td>\n",
       "      <td>1039</td>\n",
       "      <td>1989-11-01 00:00:00</td>\n",
       "      <td>2007-02-01 00:00:00</td>\n",
       "    </tr>\n",
       "    <tr>\n",
       "      <th>EXRELDATEN</th>\n",
       "      <td>10168</td>\n",
       "      <td>2567</td>\n",
       "      <td>1994-12-07 00:00:00</td>\n",
       "      <td>58</td>\n",
       "      <td>1927-10-31 00:00:00</td>\n",
       "      <td>2007-01-25 00:00:00</td>\n",
       "    </tr>\n",
       "  </tbody>\n",
       "</table>\n",
       "</div>"
      ],
      "text/plain": [
       "            count unique                  top   freq                first  \\\n",
       "EXTRELNO    26689  18704           b'0038595'      6                  NaN   \n",
       "EXRELACTCD  26689     17                b'FP'  11442                  NaN   \n",
       "EXTRELSTDT  26689   2877  1994-11-29 00:00:00   1039  1989-11-01 00:00:00   \n",
       "EXRELDATEN  10168   2567  1994-12-07 00:00:00     58  1927-10-31 00:00:00   \n",
       "\n",
       "                           last  \n",
       "EXTRELNO                    NaN  \n",
       "EXRELACTCD                  NaN  \n",
       "EXTRELSTDT  2007-02-01 00:00:00  \n",
       "EXRELDATEN  2007-01-25 00:00:00  "
      ]
     },
     "execution_count": 34,
     "metadata": {},
     "output_type": "execute_result"
    }
   ],
   "source": [
    "extrel.describe().T"
   ]
  },
  {
   "cell_type": "code",
   "execution_count": 66,
   "metadata": {},
   "outputs": [
    {
     "data": {
      "text/plain": [
       "0          NaT\n",
       "1          NaT\n",
       "2   1996-12-24\n",
       "3   2006-01-31\n",
       "Name: EXRELDATEN, dtype: datetime64[ns]"
      ]
     },
     "execution_count": 66,
     "metadata": {},
     "output_type": "execute_result"
    }
   ],
   "source": [
    "extrel.EXRELDATEN.head(4)"
   ]
  },
  {
   "cell_type": "code",
   "execution_count": 106,
   "metadata": {},
   "outputs": [
    {
     "data": {
      "text/plain": [
       "0   1995-02-02\n",
       "1   1992-03-01\n",
       "2   1992-03-01\n",
       "3   1992-03-01\n",
       "Name: EXTRELSTDT, dtype: datetime64[ns]"
      ]
     },
     "execution_count": 106,
     "metadata": {},
     "output_type": "execute_result"
    }
   ],
   "source": [
    "extrel.EXTRELSTDT.head(4)"
   ]
  },
  {
   "cell_type": "code",
   "execution_count": 109,
   "metadata": {},
   "outputs": [],
   "source": [
    "extrel.to_csv('/home/rohan/Desktop/abc')"
   ]
  },
  {
   "cell_type": "code",
   "execution_count": 108,
   "metadata": {},
   "outputs": [
    {
     "data": {
      "text/plain": [
       "0             NaT\n",
       "1             NaT\n",
       "2       1759 days\n",
       "3       5084 days\n",
       "4             NaT\n",
       "5             NaT\n",
       "6             NaT\n",
       "7             NaT\n",
       "8             NaT\n",
       "9             NaT\n",
       "10            NaT\n",
       "11            NaT\n",
       "12      3518 days\n",
       "13      4694 days\n",
       "14            NaT\n",
       "15            NaT\n",
       "16            NaT\n",
       "17            NaT\n",
       "18        91 days\n",
       "19      3645 days\n",
       "20      3902 days\n",
       "21            NaT\n",
       "22            NaT\n",
       "23       274 days\n",
       "24      4394 days\n",
       "25            NaT\n",
       "26            NaT\n",
       "27            NaT\n",
       "28            NaT\n",
       "29            NaT\n",
       "           ...   \n",
       "26659         NaT\n",
       "26660         NaT\n",
       "26661         NaT\n",
       "26662         NaT\n",
       "26663         NaT\n",
       "26664         NaT\n",
       "26665         NaT\n",
       "26666         NaT\n",
       "26667         NaT\n",
       "26668         NaT\n",
       "26669         NaT\n",
       "26670         NaT\n",
       "26671         NaT\n",
       "26672         NaT\n",
       "26673         NaT\n",
       "26674         NaT\n",
       "26675         NaT\n",
       "26676         NaT\n",
       "26677         NaT\n",
       "26678         NaT\n",
       "26679         NaT\n",
       "26680         NaT\n",
       "26681         NaT\n",
       "26682         NaT\n",
       "26683         NaT\n",
       "26684         NaT\n",
       "26685         NaT\n",
       "26686         NaT\n",
       "26687         NaT\n",
       "26688         NaT\n",
       "Length: 26689, dtype: timedelta64[ns]"
      ]
     },
     "execution_count": 108,
     "metadata": {},
     "output_type": "execute_result"
    }
   ],
   "source": [
    "x  = pd.to_timedelta(extrel.EXRELDATEN) - pd.to_timedelta(extrel.EXTRELSTDT)\n",
    "x"
   ]
  },
  {
   "cell_type": "code",
   "execution_count": null,
   "metadata": {},
   "outputs": [],
   "source": []
  },
  {
   "cell_type": "code",
   "execution_count": null,
   "metadata": {},
   "outputs": [],
   "source": []
  },
  {
   "cell_type": "markdown",
   "metadata": {},
   "source": [
    "# ----------------------------------------- comcls --------------------------------------------"
   ]
  },
  {
   "cell_type": "code",
   "execution_count": 19,
   "metadata": {},
   "outputs": [
    {
     "data": {
      "text/html": [
       "<div>\n",
       "<style scoped>\n",
       "    .dataframe tbody tr th:only-of-type {\n",
       "        vertical-align: middle;\n",
       "    }\n",
       "\n",
       "    .dataframe tbody tr th {\n",
       "        vertical-align: top;\n",
       "    }\n",
       "\n",
       "    .dataframe thead th {\n",
       "        text-align: right;\n",
       "    }\n",
       "</style>\n",
       "<table border=\"1\" class=\"dataframe\">\n",
       "  <thead>\n",
       "    <tr style=\"text-align: right;\">\n",
       "      <th></th>\n",
       "      <th>CLASCODE</th>\n",
       "      <th>CLASDESC</th>\n",
       "    </tr>\n",
       "  </thead>\n",
       "  <tbody>\n",
       "    <tr>\n",
       "      <th>0</th>\n",
       "      <td>b'CT'</td>\n",
       "      <td>b'CTS-item'</td>\n",
       "    </tr>\n",
       "    <tr>\n",
       "      <th>1</th>\n",
       "      <td>b'RI'</td>\n",
       "      <td>b'Request for information'</td>\n",
       "    </tr>\n",
       "  </tbody>\n",
       "</table>\n",
       "</div>"
      ],
      "text/plain": [
       "  CLASCODE                    CLASDESC\n",
       "0    b'CT'                 b'CTS-item'\n",
       "1    b'RI'  b'Request for information'"
      ]
     },
     "execution_count": 19,
     "metadata": {},
     "output_type": "execute_result"
    }
   ],
   "source": [
    "comcls = pd.read_sas('/home/rohan/Documents/ROHAN_DA/ALABS/___STATS___ -  cls 10 onwards/Class_20 Case_study_ML/Case_study/2. NGO-FUND RAISING ATTRITION- CLASSIFICATION/Downloaded_CS/churn_modelling-master/comclas.sas7bdat')\n",
    "comcls.head(2)"
   ]
  },
  {
   "cell_type": "markdown",
   "metadata": {},
   "source": [
    "# ------------------------------------ commaint ------------------------------------------"
   ]
  },
  {
   "cell_type": "code",
   "execution_count": 11,
   "metadata": {},
   "outputs": [],
   "source": [
    "commaint = pd.read_sas('/home/rohan/Documents/ROHAN_DA/ALABS/___STATS___ -  cls 10 onwards/Class_20 Case_study_ML/Case_study/2. NGO-FUND RAISING ATTRITION- CLASSIFICATION/Downloaded_CS/churn_modelling-master/commaint.sas7bdat')"
   ]
  },
  {
   "cell_type": "markdown",
   "metadata": {},
   "source": [
    "# ----------------------------------- commediu -------------------------------------------"
   ]
  },
  {
   "cell_type": "code",
   "execution_count": 12,
   "metadata": {},
   "outputs": [],
   "source": [
    "commediu = pd.read_sas('/home/rohan/Documents/ROHAN_DA/ALABS/___STATS___ -  cls 10 onwards/Class_20 Case_study_ML/Case_study/2. NGO-FUND RAISING ATTRITION- CLASSIFICATION/1 - Data for Churn Modeling/commediu.sas7bdat')"
   ]
  },
  {
   "cell_type": "markdown",
   "metadata": {},
   "source": [
    "# ---------------------------------------- Nameaddr ------------------------------------------"
   ]
  },
  {
   "cell_type": "code",
   "execution_count": 20,
   "metadata": {},
   "outputs": [
    {
     "data": {
      "text/html": [
       "<div>\n",
       "<style scoped>\n",
       "    .dataframe tbody tr th:only-of-type {\n",
       "        vertical-align: middle;\n",
       "    }\n",
       "\n",
       "    .dataframe tbody tr th {\n",
       "        vertical-align: top;\n",
       "    }\n",
       "\n",
       "    .dataframe thead th {\n",
       "        text-align: right;\n",
       "    }\n",
       "</style>\n",
       "<table border=\"1\" class=\"dataframe\">\n",
       "  <thead>\n",
       "    <tr style=\"text-align: right;\">\n",
       "      <th></th>\n",
       "      <th>EXTRELNO</th>\n",
       "      <th>NAME1TITLE</th>\n",
       "      <th>POSTCODE</th>\n",
       "      <th>LANGUACODE</th>\n",
       "    </tr>\n",
       "  </thead>\n",
       "  <tbody>\n",
       "    <tr>\n",
       "      <th>0</th>\n",
       "      <td>b'0000019'</td>\n",
       "      <td>b'HR'</td>\n",
       "      <td>b'2500'</td>\n",
       "      <td>b'NL'</td>\n",
       "    </tr>\n",
       "    <tr>\n",
       "      <th>1</th>\n",
       "      <td>b'0000020'</td>\n",
       "      <td>b'HR'</td>\n",
       "      <td>b'9550'</td>\n",
       "      <td>b'NL'</td>\n",
       "    </tr>\n",
       "  </tbody>\n",
       "</table>\n",
       "</div>"
      ],
      "text/plain": [
       "     EXTRELNO NAME1TITLE POSTCODE LANGUACODE\n",
       "0  b'0000019'      b'HR'  b'2500'      b'NL'\n",
       "1  b'0000020'      b'HR'  b'9550'      b'NL'"
      ]
     },
     "execution_count": 20,
     "metadata": {},
     "output_type": "execute_result"
    }
   ],
   "source": [
    "Nameaddr =  pd.read_sas('/home/rohan/Documents/ROHAN_DA/ALABS/___STATS___ -  cls 10 onwards/Class_20 Case_study_ML/Case_study/2. NGO-FUND RAISING ATTRITION- CLASSIFICATION/Downloaded_CS/churn_modelling-master/nameaddr.sas7bdat')\n",
    "Nameaddr.head(2)"
   ]
  }
 ],
 "metadata": {
  "kernelspec": {
   "display_name": "Python 3",
   "language": "python",
   "name": "python3"
  },
  "language_info": {
   "codemirror_mode": {
    "name": "ipython",
    "version": 3
   },
   "file_extension": ".py",
   "mimetype": "text/x-python",
   "name": "python",
   "nbconvert_exporter": "python",
   "pygments_lexer": "ipython3",
   "version": "3.6.5"
  }
 },
 "nbformat": 4,
 "nbformat_minor": 2
}
