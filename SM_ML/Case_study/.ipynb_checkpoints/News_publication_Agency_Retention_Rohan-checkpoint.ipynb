{
 "cells": [
  {
   "cell_type": "markdown",
   "metadata": {},
   "source": [
    "# Importing Library"
   ]
  },
  {
   "cell_type": "code",
   "execution_count": 11,
   "metadata": {},
   "outputs": [
    {
     "data": {
      "text/html": [
       "<div>\n",
       "<style scoped>\n",
       "    .dataframe tbody tr th:only-of-type {\n",
       "        vertical-align: middle;\n",
       "    }\n",
       "\n",
       "    .dataframe tbody tr th {\n",
       "        vertical-align: top;\n",
       "    }\n",
       "\n",
       "    .dataframe thead th {\n",
       "        text-align: right;\n",
       "    }\n",
       "</style>\n",
       "<table border=\"1\" class=\"dataframe\">\n",
       "  <thead>\n",
       "    <tr style=\"text-align: right;\">\n",
       "      <th></th>\n",
       "      <th>Time_differ</th>\n",
       "      <th>Break_time</th>\n",
       "      <th>Lunch_time</th>\n",
       "    </tr>\n",
       "  </thead>\n",
       "  <tbody>\n",
       "    <tr>\n",
       "      <th>0</th>\n",
       "      <td>00:20:18</td>\n",
       "      <td>00:00:00</td>\n",
       "      <td>01:40:40</td>\n",
       "    </tr>\n",
       "    <tr>\n",
       "      <th>1</th>\n",
       "      <td>00:20:18</td>\n",
       "      <td>00:30:18</td>\n",
       "      <td>01:40:30</td>\n",
       "    </tr>\n",
       "    <tr>\n",
       "      <th>2</th>\n",
       "      <td>04:20:18</td>\n",
       "      <td>00:00:00</td>\n",
       "      <td>02:40:30</td>\n",
       "    </tr>\n",
       "    <tr>\n",
       "      <th>3</th>\n",
       "      <td>00:20:18</td>\n",
       "      <td>00:20:18</td>\n",
       "      <td>03:40:30</td>\n",
       "    </tr>\n",
       "    <tr>\n",
       "      <th>4</th>\n",
       "      <td>00:00:00</td>\n",
       "      <td>00:30:18</td>\n",
       "      <td>04:40:30</td>\n",
       "    </tr>\n",
       "    <tr>\n",
       "      <th>5</th>\n",
       "      <td>00:20:18</td>\n",
       "      <td>00:20:18</td>\n",
       "      <td>05:40:30</td>\n",
       "    </tr>\n",
       "  </tbody>\n",
       "</table>\n",
       "</div>"
      ],
      "text/plain": [
       "  Time_differ Break_time Lunch_time\n",
       "0    00:20:18   00:00:00   01:40:40\n",
       "1    00:20:18   00:30:18   01:40:30\n",
       "2    04:20:18   00:00:00   02:40:30\n",
       "3    00:20:18   00:20:18   03:40:30\n",
       "4    00:00:00   00:30:18   04:40:30\n",
       "5    00:20:18   00:20:18   05:40:30"
      ]
     },
     "execution_count": 11,
     "metadata": {},
     "output_type": "execute_result"
    }
   ],
   "source": [
    "from datetime import datetime,date\n",
    "data = pd.read_excel('/home/rohan/Desktop/test.xlsx')\n",
    "data"
   ]
  },
  {
   "cell_type": "code",
   "execution_count": 15,
   "metadata": {},
   "outputs": [
    {
     "data": {
      "text/html": [
       "<div>\n",
       "<style scoped>\n",
       "    .dataframe tbody tr th:only-of-type {\n",
       "        vertical-align: middle;\n",
       "    }\n",
       "\n",
       "    .dataframe tbody tr th {\n",
       "        vertical-align: top;\n",
       "    }\n",
       "\n",
       "    .dataframe thead th {\n",
       "        text-align: right;\n",
       "    }\n",
       "</style>\n",
       "<table border=\"1\" class=\"dataframe\">\n",
       "  <thead>\n",
       "    <tr style=\"text-align: right;\">\n",
       "      <th></th>\n",
       "      <th>Time_differ</th>\n",
       "      <th>Break_time</th>\n",
       "    </tr>\n",
       "  </thead>\n",
       "  <tbody>\n",
       "    <tr>\n",
       "      <th>0</th>\n",
       "      <td>2019-01-22 00:20:18</td>\n",
       "      <td>2019-01-22 00:00:00</td>\n",
       "    </tr>\n",
       "    <tr>\n",
       "      <th>1</th>\n",
       "      <td>2019-01-22 00:20:18</td>\n",
       "      <td>2019-01-22 00:30:18</td>\n",
       "    </tr>\n",
       "    <tr>\n",
       "      <th>2</th>\n",
       "      <td>2019-01-22 04:20:18</td>\n",
       "      <td>2019-01-22 00:00:00</td>\n",
       "    </tr>\n",
       "    <tr>\n",
       "      <th>3</th>\n",
       "      <td>2019-01-22 00:20:18</td>\n",
       "      <td>2019-01-22 00:20:18</td>\n",
       "    </tr>\n",
       "    <tr>\n",
       "      <th>4</th>\n",
       "      <td>2019-01-22 00:00:00</td>\n",
       "      <td>2019-01-22 00:30:18</td>\n",
       "    </tr>\n",
       "    <tr>\n",
       "      <th>5</th>\n",
       "      <td>2019-01-22 00:20:18</td>\n",
       "      <td>2019-01-22 00:20:18</td>\n",
       "    </tr>\n",
       "  </tbody>\n",
       "</table>\n",
       "</div>"
      ],
      "text/plain": [
       "          Time_differ          Break_time\n",
       "0 2019-01-22 00:20:18 2019-01-22 00:00:00\n",
       "1 2019-01-22 00:20:18 2019-01-22 00:30:18\n",
       "2 2019-01-22 04:20:18 2019-01-22 00:00:00\n",
       "3 2019-01-22 00:20:18 2019-01-22 00:20:18\n",
       "4 2019-01-22 00:00:00 2019-01-22 00:30:18\n",
       "5 2019-01-22 00:20:18 2019-01-22 00:20:18"
      ]
     },
     "execution_count": 15,
     "metadata": {},
     "output_type": "execute_result"
    }
   ],
   "source": [
    "data[['Time_differ','Break_time']]x"
   ]
  },
  {
   "cell_type": "code",
   "execution_count": 4,
   "metadata": {},
   "outputs": [
    {
     "data": {
      "text/plain": [
       "Time_differ    object\n",
       "Break_time     object\n",
       "Lunch_time     object\n",
       "dtype: object"
      ]
     },
     "execution_count": 4,
     "metadata": {},
     "output_type": "execute_result"
    }
   ],
   "source": [
    "data.dtypes"
   ]
  },
  {
   "cell_type": "code",
   "execution_count": 12,
   "metadata": {},
   "outputs": [
    {
     "data": {
      "text/html": [
       "<div>\n",
       "<style scoped>\n",
       "    .dataframe tbody tr th:only-of-type {\n",
       "        vertical-align: middle;\n",
       "    }\n",
       "\n",
       "    .dataframe tbody tr th {\n",
       "        vertical-align: top;\n",
       "    }\n",
       "\n",
       "    .dataframe thead th {\n",
       "        text-align: right;\n",
       "    }\n",
       "</style>\n",
       "<table border=\"1\" class=\"dataframe\">\n",
       "  <thead>\n",
       "    <tr style=\"text-align: right;\">\n",
       "      <th></th>\n",
       "      <th>Time_differ</th>\n",
       "      <th>Break_time</th>\n",
       "      <th>Lunch_time</th>\n",
       "    </tr>\n",
       "  </thead>\n",
       "  <tbody>\n",
       "    <tr>\n",
       "      <th>0</th>\n",
       "      <td>2019-01-22 00:20:18</td>\n",
       "      <td>2019-01-22 00:00:00</td>\n",
       "      <td>2019-01-22 01:40:40</td>\n",
       "    </tr>\n",
       "    <tr>\n",
       "      <th>1</th>\n",
       "      <td>2019-01-22 00:20:18</td>\n",
       "      <td>2019-01-22 00:30:18</td>\n",
       "      <td>2019-01-22 01:40:30</td>\n",
       "    </tr>\n",
       "    <tr>\n",
       "      <th>2</th>\n",
       "      <td>2019-01-22 04:20:18</td>\n",
       "      <td>2019-01-22 00:00:00</td>\n",
       "      <td>2019-01-22 02:40:30</td>\n",
       "    </tr>\n",
       "    <tr>\n",
       "      <th>3</th>\n",
       "      <td>2019-01-22 00:20:18</td>\n",
       "      <td>2019-01-22 00:20:18</td>\n",
       "      <td>2019-01-22 03:40:30</td>\n",
       "    </tr>\n",
       "    <tr>\n",
       "      <th>4</th>\n",
       "      <td>2019-01-22 00:00:00</td>\n",
       "      <td>2019-01-22 00:30:18</td>\n",
       "      <td>2019-01-22 04:40:30</td>\n",
       "    </tr>\n",
       "    <tr>\n",
       "      <th>5</th>\n",
       "      <td>2019-01-22 00:20:18</td>\n",
       "      <td>2019-01-22 00:20:18</td>\n",
       "      <td>2019-01-22 05:40:30</td>\n",
       "    </tr>\n",
       "  </tbody>\n",
       "</table>\n",
       "</div>"
      ],
      "text/plain": [
       "          Time_differ          Break_time          Lunch_time\n",
       "0 2019-01-22 00:20:18 2019-01-22 00:00:00 2019-01-22 01:40:40\n",
       "1 2019-01-22 00:20:18 2019-01-22 00:30:18 2019-01-22 01:40:30\n",
       "2 2019-01-22 04:20:18 2019-01-22 00:00:00 2019-01-22 02:40:30\n",
       "3 2019-01-22 00:20:18 2019-01-22 00:20:18 2019-01-22 03:40:30\n",
       "4 2019-01-22 00:00:00 2019-01-22 00:30:18 2019-01-22 04:40:30\n",
       "5 2019-01-22 00:20:18 2019-01-22 00:20:18 2019-01-22 05:40:30"
      ]
     },
     "execution_count": 12,
     "metadata": {},
     "output_type": "execute_result"
    }
   ],
   "source": [
    "#data = data.applymap(lambda x:datetime.combine(date.today(),x))\n",
    "data"
   ]
  },
  {
   "cell_type": "code",
   "execution_count": 13,
   "metadata": {},
   "outputs": [
    {
     "data": {
      "text/plain": [
       "Time_differ    datetime64[ns]\n",
       "Break_time     datetime64[ns]\n",
       "Lunch_time     datetime64[ns]\n",
       "dtype: object"
      ]
     },
     "execution_count": 13,
     "metadata": {},
     "output_type": "execute_result"
    }
   ],
   "source": [
    "data.dtypes"
   ]
  },
  {
   "cell_type": "code",
   "execution_count": 14,
   "metadata": {},
   "outputs": [
    {
     "data": {
      "text/plain": [
       "0            00:20:18\n",
       "1   -1 days +23:50:00\n",
       "2            04:20:18\n",
       "3            00:00:00\n",
       "4   -1 days +23:29:42\n",
       "5            00:00:00\n",
       "dtype: timedelta64[ns]"
      ]
     },
     "execution_count": 14,
     "metadata": {},
     "output_type": "execute_result"
    }
   ],
   "source": [
    "data.Time_differ - data.Break_time"
   ]
  },
  {
   "cell_type": "code",
   "execution_count": null,
   "metadata": {},
   "outputs": [],
   "source": []
  },
  {
   "cell_type": "markdown",
   "metadata": {},
   "source": [
    "# ----------------------------------------CaseStudy---------------------------------------------"
   ]
  },
  {
   "cell_type": "code",
   "execution_count": 1,
   "metadata": {},
   "outputs": [
    {
     "name": "stderr",
     "output_type": "stream",
     "text": [
      "/home/rohan/anaconda3/lib/python3.6/site-packages/pandas_profiling/plot.py:15: UserWarning: \n",
      "This call to matplotlib.use() has no effect because the backend has already\n",
      "been chosen; matplotlib.use() must be called *before* pylab, matplotlib.pyplot,\n",
      "or matplotlib.backends is imported for the first time.\n",
      "\n",
      "The backend was *originally* set to 'module://ipykernel.pylab.backend_inline' by the following code:\n",
      "  File \"/home/rohan/anaconda3/lib/python3.6/runpy.py\", line 193, in _run_module_as_main\n",
      "    \"__main__\", mod_spec)\n",
      "  File \"/home/rohan/anaconda3/lib/python3.6/runpy.py\", line 85, in _run_code\n",
      "    exec(code, run_globals)\n",
      "  File \"/home/rohan/anaconda3/lib/python3.6/site-packages/ipykernel_launcher.py\", line 16, in <module>\n",
      "    app.launch_new_instance()\n",
      "  File \"/home/rohan/anaconda3/lib/python3.6/site-packages/traitlets/config/application.py\", line 658, in launch_instance\n",
      "    app.start()\n",
      "  File \"/home/rohan/anaconda3/lib/python3.6/site-packages/ipykernel/kernelapp.py\", line 486, in start\n",
      "    self.io_loop.start()\n",
      "  File \"/home/rohan/anaconda3/lib/python3.6/site-packages/tornado/platform/asyncio.py\", line 127, in start\n",
      "    self.asyncio_loop.run_forever()\n",
      "  File \"/home/rohan/anaconda3/lib/python3.6/asyncio/base_events.py\", line 422, in run_forever\n",
      "    self._run_once()\n",
      "  File \"/home/rohan/anaconda3/lib/python3.6/asyncio/base_events.py\", line 1432, in _run_once\n",
      "    handle._run()\n",
      "  File \"/home/rohan/anaconda3/lib/python3.6/asyncio/events.py\", line 145, in _run\n",
      "    self._callback(*self._args)\n",
      "  File \"/home/rohan/anaconda3/lib/python3.6/site-packages/tornado/platform/asyncio.py\", line 117, in _handle_events\n",
      "    handler_func(fileobj, events)\n",
      "  File \"/home/rohan/anaconda3/lib/python3.6/site-packages/tornado/stack_context.py\", line 276, in null_wrapper\n",
      "    return fn(*args, **kwargs)\n",
      "  File \"/home/rohan/anaconda3/lib/python3.6/site-packages/zmq/eventloop/zmqstream.py\", line 450, in _handle_events\n",
      "    self._handle_recv()\n",
      "  File \"/home/rohan/anaconda3/lib/python3.6/site-packages/zmq/eventloop/zmqstream.py\", line 480, in _handle_recv\n",
      "    self._run_callback(callback, msg)\n",
      "  File \"/home/rohan/anaconda3/lib/python3.6/site-packages/zmq/eventloop/zmqstream.py\", line 432, in _run_callback\n",
      "    callback(*args, **kwargs)\n",
      "  File \"/home/rohan/anaconda3/lib/python3.6/site-packages/tornado/stack_context.py\", line 276, in null_wrapper\n",
      "    return fn(*args, **kwargs)\n",
      "  File \"/home/rohan/anaconda3/lib/python3.6/site-packages/ipykernel/kernelbase.py\", line 283, in dispatcher\n",
      "    return self.dispatch_shell(stream, msg)\n",
      "  File \"/home/rohan/anaconda3/lib/python3.6/site-packages/ipykernel/kernelbase.py\", line 233, in dispatch_shell\n",
      "    handler(stream, idents, msg)\n",
      "  File \"/home/rohan/anaconda3/lib/python3.6/site-packages/ipykernel/kernelbase.py\", line 399, in execute_request\n",
      "    user_expressions, allow_stdin)\n",
      "  File \"/home/rohan/anaconda3/lib/python3.6/site-packages/ipykernel/ipkernel.py\", line 208, in do_execute\n",
      "    res = shell.run_cell(code, store_history=store_history, silent=silent)\n",
      "  File \"/home/rohan/anaconda3/lib/python3.6/site-packages/ipykernel/zmqshell.py\", line 537, in run_cell\n",
      "    return super(ZMQInteractiveShell, self).run_cell(*args, **kwargs)\n",
      "  File \"/home/rohan/anaconda3/lib/python3.6/site-packages/IPython/core/interactiveshell.py\", line 2662, in run_cell\n",
      "    raw_cell, store_history, silent, shell_futures)\n",
      "  File \"/home/rohan/anaconda3/lib/python3.6/site-packages/IPython/core/interactiveshell.py\", line 2785, in _run_cell\n",
      "    interactivity=interactivity, compiler=compiler, result=result)\n",
      "  File \"/home/rohan/anaconda3/lib/python3.6/site-packages/IPython/core/interactiveshell.py\", line 2903, in run_ast_nodes\n",
      "    if self.run_code(code, result):\n",
      "  File \"/home/rohan/anaconda3/lib/python3.6/site-packages/IPython/core/interactiveshell.py\", line 2963, in run_code\n",
      "    exec(code_obj, self.user_global_ns, self.user_ns)\n",
      "  File \"<ipython-input-1-50778d14b44c>\", line 5, in <module>\n",
      "    import seaborn as sns\n",
      "  File \"/home/rohan/anaconda3/lib/python3.6/site-packages/seaborn/__init__.py\", line 6, in <module>\n",
      "    from .rcmod import *\n",
      "  File \"/home/rohan/anaconda3/lib/python3.6/site-packages/seaborn/rcmod.py\", line 5, in <module>\n",
      "    from . import palettes, _orig_rc_params\n",
      "  File \"/home/rohan/anaconda3/lib/python3.6/site-packages/seaborn/palettes.py\", line 12, in <module>\n",
      "    from .utils import desaturate, set_hls_values, get_color_cycle\n",
      "  File \"/home/rohan/anaconda3/lib/python3.6/site-packages/seaborn/utils.py\", line 11, in <module>\n",
      "    import matplotlib.pyplot as plt\n",
      "  File \"/home/rohan/anaconda3/lib/python3.6/site-packages/matplotlib/pyplot.py\", line 71, in <module>\n",
      "    from matplotlib.backends import pylab_setup\n",
      "  File \"/home/rohan/anaconda3/lib/python3.6/site-packages/matplotlib/backends/__init__.py\", line 16, in <module>\n",
      "    line for line in traceback.format_stack()\n",
      "\n",
      "\n",
      "  matplotlib.use(BACKEND)\n"
     ]
    }
   ],
   "source": [
    "import pandas as pd\n",
    "import numpy as np\n",
    "#import matplotlib.pyplot as plt\n",
    "#%matplotlib inline\n",
    "import seaborn as sns\n",
    "\n",
    "#____________________________________________________\n",
    "\n",
    "from sklearn.model_selection import train_test_split, GridSearchCV,cross_val_score\n",
    "from sklearn import metrics\n",
    "import pandas_profiling\n",
    "from sklearn.neighbors import KNeighborsClassifier "
   ]
  },
  {
   "cell_type": "markdown",
   "metadata": {},
   "source": [
    "# Datasets"
   ]
  },
  {
   "cell_type": "markdown",
   "metadata": {},
   "source": [
    "###### convert all dates to Datetime from object type"
   ]
  },
  {
   "cell_type": "markdown",
   "metadata": {},
   "source": [
    "#### -----------------------------------------------------------------------Customer_details-----------------------------------------------------------------------"
   ]
  },
  {
   "cell_type": "markdown",
   "metadata": {},
   "source": [
    "- Gender has 99 / 4.2% missing values Missing --> RandomFill\n",
    "- StreeID has 39 / 1.7% zeros Zeros --> Randomfill\n",
    "- DOB - object --> convert dtype"
   ]
  },
  {
   "cell_type": "code",
   "execution_count": 5,
   "metadata": {},
   "outputs": [
    {
     "data": {
      "text/html": [
       "<div>\n",
       "<style scoped>\n",
       "    .dataframe tbody tr th:only-of-type {\n",
       "        vertical-align: middle;\n",
       "    }\n",
       "\n",
       "    .dataframe tbody tr th {\n",
       "        vertical-align: top;\n",
       "    }\n",
       "\n",
       "    .dataframe thead th {\n",
       "        text-align: right;\n",
       "    }\n",
       "</style>\n",
       "<table border=\"1\" class=\"dataframe\">\n",
       "  <thead>\n",
       "    <tr style=\"text-align: right;\">\n",
       "      <th></th>\n",
       "      <th>CustomerID</th>\n",
       "      <th>Gender</th>\n",
       "      <th>DOB</th>\n",
       "      <th>District</th>\n",
       "      <th>ZIP</th>\n",
       "      <th>StreeID</th>\n",
       "    </tr>\n",
       "  </thead>\n",
       "  <tbody>\n",
       "    <tr>\n",
       "      <th>0</th>\n",
       "      <td>908289</td>\n",
       "      <td>F</td>\n",
       "      <td>24/01/1957</td>\n",
       "      <td>5</td>\n",
       "      <td>3660</td>\n",
       "      <td>42555</td>\n",
       "    </tr>\n",
       "    <tr>\n",
       "      <th>1</th>\n",
       "      <td>55837</td>\n",
       "      <td>M</td>\n",
       "      <td>31/01/1948</td>\n",
       "      <td>1</td>\n",
       "      <td>2620</td>\n",
       "      <td>24910</td>\n",
       "    </tr>\n",
       "  </tbody>\n",
       "</table>\n",
       "</div>"
      ],
      "text/plain": [
       "   CustomerID Gender         DOB  District   ZIP  StreeID\n",
       "0      908289      F  24/01/1957         5  3660    42555\n",
       "1       55837      M  31/01/1948         1  2620    24910"
      ]
     },
     "execution_count": 5,
     "metadata": {},
     "output_type": "execute_result"
    }
   ],
   "source": [
    "cust = pd.read_csv('/home/rohan/Documents/ROHAN_DA/ALABS/___STATS___ -  cls 10 onwards/Class_20 Case_study_ML/Case_study/1. NEWS PUBLISHING COMPANY-CLASSIFICATION-ATTRITION/2 - NPC Retention Data/customers.txt',sep=\";\")\n",
    "cust.head(2)"
   ]
  },
  {
   "cell_type": "code",
   "execution_count": 382,
   "metadata": {},
   "outputs": [
    {
     "data": {
      "text/html": [
       "<div>\n",
       "<style scoped>\n",
       "    .dataframe tbody tr th:only-of-type {\n",
       "        vertical-align: middle;\n",
       "    }\n",
       "\n",
       "    .dataframe tbody tr th {\n",
       "        vertical-align: top;\n",
       "    }\n",
       "\n",
       "    .dataframe thead th {\n",
       "        text-align: right;\n",
       "    }\n",
       "</style>\n",
       "<table border=\"1\" class=\"dataframe\">\n",
       "  <thead>\n",
       "    <tr style=\"text-align: right;\">\n",
       "      <th></th>\n",
       "      <th>count</th>\n",
       "      <th>mean</th>\n",
       "      <th>std</th>\n",
       "      <th>min</th>\n",
       "      <th>25%</th>\n",
       "      <th>50%</th>\n",
       "      <th>75%</th>\n",
       "      <th>max</th>\n",
       "    </tr>\n",
       "  </thead>\n",
       "  <tbody>\n",
       "    <tr>\n",
       "      <th>CustomerID</th>\n",
       "      <td>2356.0</td>\n",
       "      <td>534904.313243</td>\n",
       "      <td>382112.919352</td>\n",
       "      <td>3407.0</td>\n",
       "      <td>130850.25</td>\n",
       "      <td>616509.0</td>\n",
       "      <td>852283.50</td>\n",
       "      <td>1167808.0</td>\n",
       "    </tr>\n",
       "    <tr>\n",
       "      <th>District</th>\n",
       "      <td>2356.0</td>\n",
       "      <td>3.455008</td>\n",
       "      <td>2.045992</td>\n",
       "      <td>1.0</td>\n",
       "      <td>1.00</td>\n",
       "      <td>5.0</td>\n",
       "      <td>5.00</td>\n",
       "      <td>8.0</td>\n",
       "    </tr>\n",
       "    <tr>\n",
       "      <th>ZIP</th>\n",
       "      <td>2356.0</td>\n",
       "      <td>3432.750424</td>\n",
       "      <td>1272.641443</td>\n",
       "      <td>1070.0</td>\n",
       "      <td>2640.00</td>\n",
       "      <td>3530.0</td>\n",
       "      <td>3700.00</td>\n",
       "      <td>9800.0</td>\n",
       "    </tr>\n",
       "    <tr>\n",
       "      <th>StreeID</th>\n",
       "      <td>2356.0</td>\n",
       "      <td>37159.372666</td>\n",
       "      <td>17344.839571</td>\n",
       "      <td>2251.0</td>\n",
       "      <td>25367.50</td>\n",
       "      <td>38676.5</td>\n",
       "      <td>43818.25</td>\n",
       "      <td>146620.0</td>\n",
       "    </tr>\n",
       "  </tbody>\n",
       "</table>\n",
       "</div>"
      ],
      "text/plain": [
       "             count           mean            std     min        25%       50%  \\\n",
       "CustomerID  2356.0  534904.313243  382112.919352  3407.0  130850.25  616509.0   \n",
       "District    2356.0       3.455008       2.045992     1.0       1.00       5.0   \n",
       "ZIP         2356.0    3432.750424    1272.641443  1070.0    2640.00    3530.0   \n",
       "StreeID     2356.0   37159.372666   17344.839571  2251.0   25367.50   38676.5   \n",
       "\n",
       "                  75%        max  \n",
       "CustomerID  852283.50  1167808.0  \n",
       "District         5.00        8.0  \n",
       "ZIP           3700.00     9800.0  \n",
       "StreeID      43818.25   146620.0  "
      ]
     },
     "execution_count": 382,
     "metadata": {},
     "output_type": "execute_result"
    }
   ],
   "source": [
    "cust.describe().T"
   ]
  },
  {
   "cell_type": "markdown",
   "metadata": {},
   "source": [
    "- Fixing StreeiD by filling it with Random values bw (20000,50000)\n",
    "- We are doing it randomly coz only 2% values are 0 so we can do it."
   ]
  },
  {
   "cell_type": "code",
   "execution_count": 431,
   "metadata": {},
   "outputs": [],
   "source": [
    "## using replace to replace a particular value in a DF column with random values.\n",
    "#cust.replace('StrrID',{0:np.arange(1,39)})"
   ]
  },
  {
   "cell_type": "code",
   "execution_count": 7,
   "metadata": {},
   "outputs": [],
   "source": [
    "cust.loc[cust.StreeID == 0,['StreeID']]  = cust[cust.StreeID == 0].StreeID.apply(lambda x:np.random.randint(20000,50000))\n",
    "#cust[cust0,cust[cust.StreeID == 0].StreeID.apply(lambda x:np.random.randint(20000,50000)))\n"
   ]
  },
  {
   "cell_type": "markdown",
   "metadata": {},
   "source": [
    "- Limit arg provides the flexibility to fill first n values with a speified_value"
   ]
  },
  {
   "cell_type": "code",
   "execution_count": 10,
   "metadata": {},
   "outputs": [
    {
     "data": {
      "text/plain": [
       "0"
      ]
     },
     "execution_count": 10,
     "metadata": {},
     "output_type": "execute_result"
    }
   ],
   "source": [
    "# Filliing half M and half F using Limit argument in Fill_Na\n",
    "#cust.Gender.fillna('F',limit= 50,inplace= True)\n",
    "#cust.Gender.fillna('M',limit= 50,inplace= True)\n",
    "cust.Gender.isnull().sum()"
   ]
  },
  {
   "cell_type": "code",
   "execution_count": 12,
   "metadata": {},
   "outputs": [
    {
     "data": {
      "text/html": [
       "<div>\n",
       "<style scoped>\n",
       "    .dataframe tbody tr th:only-of-type {\n",
       "        vertical-align: middle;\n",
       "    }\n",
       "\n",
       "    .dataframe tbody tr th {\n",
       "        vertical-align: top;\n",
       "    }\n",
       "\n",
       "    .dataframe thead th {\n",
       "        text-align: right;\n",
       "    }\n",
       "</style>\n",
       "<table border=\"1\" class=\"dataframe\">\n",
       "  <thead>\n",
       "    <tr style=\"text-align: right;\">\n",
       "      <th></th>\n",
       "      <th>count</th>\n",
       "      <th>mean</th>\n",
       "      <th>std</th>\n",
       "      <th>min</th>\n",
       "      <th>25%</th>\n",
       "      <th>50%</th>\n",
       "      <th>75%</th>\n",
       "      <th>max</th>\n",
       "    </tr>\n",
       "  </thead>\n",
       "  <tbody>\n",
       "    <tr>\n",
       "      <th>CustomerID</th>\n",
       "      <td>2356.0</td>\n",
       "      <td>534904.313243</td>\n",
       "      <td>382112.919352</td>\n",
       "      <td>3407.0</td>\n",
       "      <td>130850.25</td>\n",
       "      <td>616509.0</td>\n",
       "      <td>852283.50</td>\n",
       "      <td>1167808.0</td>\n",
       "    </tr>\n",
       "    <tr>\n",
       "      <th>District</th>\n",
       "      <td>2356.0</td>\n",
       "      <td>3.455008</td>\n",
       "      <td>2.045992</td>\n",
       "      <td>1.0</td>\n",
       "      <td>1.00</td>\n",
       "      <td>5.0</td>\n",
       "      <td>5.00</td>\n",
       "      <td>8.0</td>\n",
       "    </tr>\n",
       "    <tr>\n",
       "      <th>ZIP</th>\n",
       "      <td>2356.0</td>\n",
       "      <td>3432.750424</td>\n",
       "      <td>1272.641443</td>\n",
       "      <td>1070.0</td>\n",
       "      <td>2640.00</td>\n",
       "      <td>3530.0</td>\n",
       "      <td>3700.00</td>\n",
       "      <td>9800.0</td>\n",
       "    </tr>\n",
       "    <tr>\n",
       "      <th>StreeID</th>\n",
       "      <td>2356.0</td>\n",
       "      <td>37159.372666</td>\n",
       "      <td>17344.839571</td>\n",
       "      <td>2251.0</td>\n",
       "      <td>25367.50</td>\n",
       "      <td>38676.5</td>\n",
       "      <td>43818.25</td>\n",
       "      <td>146620.0</td>\n",
       "    </tr>\n",
       "  </tbody>\n",
       "</table>\n",
       "</div>"
      ],
      "text/plain": [
       "             count           mean            std     min        25%       50%  \\\n",
       "CustomerID  2356.0  534904.313243  382112.919352  3407.0  130850.25  616509.0   \n",
       "District    2356.0       3.455008       2.045992     1.0       1.00       5.0   \n",
       "ZIP         2356.0    3432.750424    1272.641443  1070.0    2640.00    3530.0   \n",
       "StreeID     2356.0   37159.372666   17344.839571  2251.0   25367.50   38676.5   \n",
       "\n",
       "                  75%        max  \n",
       "CustomerID  852283.50  1167808.0  \n",
       "District         5.00        8.0  \n",
       "ZIP           3700.00     9800.0  \n",
       "StreeID      43818.25   146620.0  "
      ]
     },
     "execution_count": 12,
     "metadata": {},
     "output_type": "execute_result"
    }
   ],
   "source": [
    "cust.describe().T"
   ]
  },
  {
   "cell_type": "markdown",
   "metadata": {},
   "source": [
    "#### --------------------------------------------------------------------------subscription-----------------------------------------------------------------------"
   ]
  },
  {
   "cell_type": "code",
   "execution_count": 434,
   "metadata": {},
   "outputs": [
    {
     "data": {
      "text/plain": [
       "(15472, 22)"
      ]
     },
     "execution_count": 434,
     "metadata": {},
     "output_type": "execute_result"
    }
   ],
   "source": [
    "subs.shape"
   ]
  },
  {
   "cell_type": "markdown",
   "metadata": {},
   "source": [
    "###### A lot of variables are highly corelated,so we can consider removing a few\n",
    "\n",
    "\n",
    "- FormulaDiscount has 334 / 2.2% missing values Missing --> Drop it\n",
    "- FormulaID has 334 / 2.2% missing values Missing \n",
    "- GrossFormulaPrice has 334 / 2.2% missing values Missing --> Drop it\n",
    "- NetFormulaPrice has 334 / 2.2% missing values Missing\n",
    "- NetNewspaperPrice has 334 / 2.2% missing values Missing\n",
    "- ProductDiscount has 334 / 2.2% missing values Missing --> Drop it\n",
    "- TotalCredit has 4877 / 31.5% missing values Missing \n",
    "- TotalDiscount has 334 / 2.2% missing values Missing\n",
    "- TotalPrice has 334 / 2.2% missing values Missing\n",
    "- Unnamed: 4 has 15459 / 99.9% missing values Missing\n",
    "\n",
    "- -------------------------------------------------------------------------------\n",
    "\n",
    "- Pattern - denotes delivery pattern in a week\n",
    "\n"
   ]
  },
  {
   "cell_type": "code",
   "execution_count": 435,
   "metadata": {},
   "outputs": [],
   "source": [
    "#pandas_profiling.ProfileReport(subs)"
   ]
  },
  {
   "cell_type": "code",
   "execution_count": 13,
   "metadata": {
    "scrolled": true
   },
   "outputs": [
    {
     "data": {
      "text/html": [
       "<div>\n",
       "<style scoped>\n",
       "    .dataframe tbody tr th:only-of-type {\n",
       "        vertical-align: middle;\n",
       "    }\n",
       "\n",
       "    .dataframe tbody tr th {\n",
       "        vertical-align: top;\n",
       "    }\n",
       "\n",
       "    .dataframe thead th {\n",
       "        text-align: right;\n",
       "    }\n",
       "</style>\n",
       "<table border=\"1\" class=\"dataframe\">\n",
       "  <thead>\n",
       "    <tr style=\"text-align: right;\">\n",
       "      <th></th>\n",
       "      <th>SubscriptionID</th>\n",
       "      <th>CustomerID</th>\n",
       "      <th>ProductID</th>\n",
       "      <th>Pattern</th>\n",
       "      <th>Unnamed: 4</th>\n",
       "      <th>StartDate</th>\n",
       "      <th>EndDate</th>\n",
       "      <th>NbrNewspapers</th>\n",
       "      <th>NbrStart</th>\n",
       "      <th>RenewalDate</th>\n",
       "      <th>...</th>\n",
       "      <th>PaymentDate</th>\n",
       "      <th>FormulaID</th>\n",
       "      <th>GrossFormulaPrice</th>\n",
       "      <th>NetFormulaPrice</th>\n",
       "      <th>NetNewspaperPrice</th>\n",
       "      <th>ProductDiscount</th>\n",
       "      <th>FormulaDiscount</th>\n",
       "      <th>TotalDiscount</th>\n",
       "      <th>TotalPrice</th>\n",
       "      <th>TotalCredit</th>\n",
       "    </tr>\n",
       "  </thead>\n",
       "  <tbody>\n",
       "    <tr>\n",
       "      <th>0</th>\n",
       "      <td>1000024.0</td>\n",
       "      <td>1150045.0</td>\n",
       "      <td>8.0</td>\n",
       "      <td>1111110.0</td>\n",
       "      <td>=VLOOKUP(D2;$E$15462:$F$15473;2;0)</td>\n",
       "      <td>18/01/2010</td>\n",
       "      <td>17/04/2010</td>\n",
       "      <td>76.0</td>\n",
       "      <td>25</td>\n",
       "      <td>17/03/2010</td>\n",
       "      <td>...</td>\n",
       "      <td>27/01/2010</td>\n",
       "      <td>8552</td>\n",
       "      <td>79</td>\n",
       "      <td>79</td>\n",
       "      <td>1.039.474</td>\n",
       "      <td>0</td>\n",
       "      <td>0</td>\n",
       "      <td>0</td>\n",
       "      <td>79</td>\n",
       "      <td>0</td>\n",
       "    </tr>\n",
       "    <tr>\n",
       "      <th>1</th>\n",
       "      <td>1000082.0</td>\n",
       "      <td>1150046.0</td>\n",
       "      <td>8.0</td>\n",
       "      <td>1111110.0</td>\n",
       "      <td>NaN</td>\n",
       "      <td>14/01/2010</td>\n",
       "      <td>12/03/2010</td>\n",
       "      <td>50.0</td>\n",
       "      <td>25</td>\n",
       "      <td>3/03/2010</td>\n",
       "      <td>...</td>\n",
       "      <td>11/02/2010</td>\n",
       "      <td>10017</td>\n",
       "      <td>519.737</td>\n",
       "      <td>29.6</td>\n",
       "      <td>0.592</td>\n",
       "      <td>0</td>\n",
       "      <td>223.737</td>\n",
       "      <td>223.737</td>\n",
       "      <td>29.6</td>\n",
       "      <td>0</td>\n",
       "    </tr>\n",
       "  </tbody>\n",
       "</table>\n",
       "<p>2 rows × 22 columns</p>\n",
       "</div>"
      ],
      "text/plain": [
       "   SubscriptionID  CustomerID  ProductID    Pattern  \\\n",
       "0       1000024.0   1150045.0        8.0  1111110.0   \n",
       "1       1000082.0   1150046.0        8.0  1111110.0   \n",
       "\n",
       "                           Unnamed: 4   StartDate     EndDate  NbrNewspapers  \\\n",
       "0  =VLOOKUP(D2;$E$15462:$F$15473;2;0)  18/01/2010  17/04/2010           76.0   \n",
       "1                                 NaN  14/01/2010  12/03/2010           50.0   \n",
       "\n",
       "  NbrStart RenewalDate     ...     PaymentDate FormulaID GrossFormulaPrice  \\\n",
       "0       25  17/03/2010     ...      27/01/2010      8552                79   \n",
       "1       25   3/03/2010     ...      11/02/2010     10017           519.737   \n",
       "\n",
       "  NetFormulaPrice NetNewspaperPrice ProductDiscount FormulaDiscount  \\\n",
       "0              79         1.039.474               0               0   \n",
       "1            29.6             0.592               0         223.737   \n",
       "\n",
       "  TotalDiscount TotalPrice TotalCredit  \n",
       "0             0         79           0  \n",
       "1       223.737       29.6           0  \n",
       "\n",
       "[2 rows x 22 columns]"
      ]
     },
     "execution_count": 13,
     "metadata": {},
     "output_type": "execute_result"
    }
   ],
   "source": [
    "subs = pd.read_csv('/home/rohan/Documents/ROHAN_DA/ALABS/___STATS___ -  cls 10 onwards/Class_20 Case_study_ML/Case_study/1. NEWS PUBLISHING COMPANY-CLASSIFICATION-ATTRITION/2 - NPC Retention Data/subscriptions.txt',sep=\"\\t\")\n",
    "subs.head(2)"
   ]
  },
  {
   "cell_type": "markdown",
   "metadata": {},
   "source": [
    "#### --------------------------------------------------------------------------------Delivery---------------------------------------------------------------"
   ]
  },
  {
   "cell_type": "code",
   "execution_count": 437,
   "metadata": {},
   "outputs": [],
   "source": [
    "#pandas_profiling.ProfileReport(Del)"
   ]
  },
  {
   "cell_type": "markdown",
   "metadata": {},
   "source": [
    "- DeliveryClass has 3388 / 12.8% missing values Missing --> treated using \"fillna('bfill')\"\n",
    "- DeliveryContext has 15148 / 57.2% missing values Missing - Defined only for abnormal(ABN) case --> Dropped"
   ]
  },
  {
   "cell_type": "code",
   "execution_count": 383,
   "metadata": {},
   "outputs": [
    {
     "data": {
      "text/html": [
       "<div>\n",
       "<style scoped>\n",
       "    .dataframe tbody tr th:only-of-type {\n",
       "        vertical-align: middle;\n",
       "    }\n",
       "\n",
       "    .dataframe tbody tr th {\n",
       "        vertical-align: top;\n",
       "    }\n",
       "\n",
       "    .dataframe thead th {\n",
       "        text-align: right;\n",
       "    }\n",
       "</style>\n",
       "<table border=\"1\" class=\"dataframe\">\n",
       "  <thead>\n",
       "    <tr style=\"text-align: right;\">\n",
       "      <th></th>\n",
       "      <th>SubscriptionID</th>\n",
       "      <th>DeliveryType</th>\n",
       "      <th>DeliveryClass</th>\n",
       "      <th>DeliveryContext</th>\n",
       "      <th>StartDate</th>\n",
       "      <th>EndDate</th>\n",
       "    </tr>\n",
       "  </thead>\n",
       "  <tbody>\n",
       "    <tr>\n",
       "      <th>0</th>\n",
       "      <td>1000024</td>\n",
       "      <td>MD</td>\n",
       "      <td>NOR</td>\n",
       "      <td>NaN</td>\n",
       "      <td>18/01/2010</td>\n",
       "      <td>17/04/2010</td>\n",
       "    </tr>\n",
       "    <tr>\n",
       "      <th>1</th>\n",
       "      <td>1000082</td>\n",
       "      <td>MD</td>\n",
       "      <td>ABN</td>\n",
       "      <td>NaN</td>\n",
       "      <td>12/02/2010</td>\n",
       "      <td>13/02/2010</td>\n",
       "    </tr>\n",
       "  </tbody>\n",
       "</table>\n",
       "</div>"
      ],
      "text/plain": [
       "   SubscriptionID DeliveryType DeliveryClass DeliveryContext   StartDate  \\\n",
       "0         1000024           MD           NOR             NaN  18/01/2010   \n",
       "1         1000082           MD           ABN             NaN  12/02/2010   \n",
       "\n",
       "      EndDate  \n",
       "0  17/04/2010  \n",
       "1  13/02/2010  "
      ]
     },
     "execution_count": 383,
     "metadata": {},
     "output_type": "execute_result"
    }
   ],
   "source": [
    "# delivery type - [DR - delivery reruting]&[Main Delivery]\n",
    "\n",
    "Del = pd.read_csv('/home/rohan/Documents/ROHAN_DA/ALABS/___STATS___ -  cls 10 onwards/Class_20 Case_study_ML/Case_study/1. NEWS PUBLISHING COMPANY-CLASSIFICATION-ATTRITION/2 - NPC Retention Data/delivery.txt',sep=\";\")\n",
    "Del.head(2)"
   ]
  },
  {
   "cell_type": "code",
   "execution_count": 369,
   "metadata": {},
   "outputs": [
    {
     "data": {
      "text/plain": [
       "NOR    21996\n",
       "ABN     1110\n",
       "Name: DeliveryClass, dtype: int64"
      ]
     },
     "execution_count": 369,
     "metadata": {},
     "output_type": "execute_result"
    }
   ],
   "source": [
    "Del.DeliveryClass.value_counts()"
   ]
  },
  {
   "cell_type": "code",
   "execution_count": 370,
   "metadata": {},
   "outputs": [
    {
     "name": "stdout",
     "output_type": "stream",
     "text": [
      "<class 'pandas.core.frame.DataFrame'>\n",
      "RangeIndex: 26494 entries, 0 to 26493\n",
      "Data columns (total 6 columns):\n",
      "SubscriptionID     26494 non-null int64\n",
      "DeliveryType       26494 non-null object\n",
      "DeliveryClass      23106 non-null object\n",
      "DeliveryContext    11346 non-null object\n",
      "StartDate          26494 non-null object\n",
      "EndDate            26494 non-null object\n",
      "dtypes: int64(1), object(5)\n",
      "memory usage: 1.2+ MB\n"
     ]
    }
   ],
   "source": [
    "Del.info()ComplaintID \tCustomerID \tProductID \tComplaintDate \tComplaintType"
   ]
  },
  {
   "cell_type": "markdown",
   "metadata": {},
   "source": [
    "#### preparing the data "
   ]
  },
  {
   "cell_type": "code",
   "execution_count": 371,
   "metadata": {},
   "outputs": [
    {
     "data": {
      "text/plain": [
       "14125"
      ]
     },
     "execution_count": 371,
     "metadata": {},
     "output_type": "execute_result"
    }
   ],
   "source": [
    "# As can be seen the variable DeliveryConetxt is very much dependent on DeliveryClass\n",
    "# (out of the 15k DeliveryConetxt value,14K values are for DeliveryClass 'NOR')\n",
    "\n",
    "# We would be dropping the DeliveryConetxt column\n",
    "\n",
    "Del[Del.DeliveryClass == 'NOR'].DeliveryContext.isnull().sum()\n"
   ]
  },
  {
   "cell_type": "code",
   "execution_count": 373,
   "metadata": {},
   "outputs": [],
   "source": [
    "#Dropping the Deliveryconetxt column - too many missing values & also Multicollinearity\n",
    "#Del.drop(columns='DeliveryContext',inplace=True)"
   ]
  },
  {
   "cell_type": "code",
   "execution_count": 374,
   "metadata": {},
   "outputs": [
    {
     "data": {
      "text/html": [
       "<div>\n",
       "<style scoped>\n",
       "    .dataframe tbody tr th:only-of-type {\n",
       "        vertical-align: middle;\n",
       "    }\n",
       "\n",
       "    .dataframe tbody tr th {\n",
       "        vertical-align: top;\n",
       "    }\n",
       "\n",
       "    .dataframe thead th {\n",
       "        text-align: right;\n",
       "    }\n",
       "</style>\n",
       "<table border=\"1\" class=\"dataframe\">\n",
       "  <thead>\n",
       "    <tr style=\"text-align: right;\">\n",
       "      <th></th>\n",
       "      <th>SubscriptionID</th>\n",
       "      <th>DeliveryType</th>\n",
       "      <th>DeliveryClass</th>\n",
       "      <th>StartDate</th>\n",
       "      <th>EndDate</th>\n",
       "    </tr>\n",
       "  </thead>\n",
       "  <tbody>\n",
       "    <tr>\n",
       "      <th>0</th>\n",
       "      <td>1000024</td>\n",
       "      <td>MD</td>\n",
       "      <td>NOR</td>\n",
       "      <td>18/01/2010</td>\n",
       "      <td>17/04/2010</td>\n",
       "    </tr>\n",
       "    <tr>\n",
       "      <th>1</th>\n",
       "      <td>1000082</td>\n",
       "      <td>MD</td>\n",
       "      <td>ABN</td>\n",
       "      <td>12/02/2010</td>\n",
       "      <td>13/02/2010</td>\n",
       "    </tr>\n",
       "  </tbody>\n",
       "</table>\n",
       "</div>"
      ],
      "text/plain": [
       "   SubscriptionID DeliveryType DeliveryClass   StartDate     EndDate\n",
       "0         1000024           MD           NOR  18/01/2010  17/04/2010\n",
       "1         1000082           MD           ABN  12/02/2010  13/02/2010"
      ]
     },
     "execution_count": 374,
     "metadata": {},
     "output_type": "execute_result"
    }
   ],
   "source": [
    "Del.head(2)"
   ]
  },
  {
   "cell_type": "markdown",
   "metadata": {},
   "source": [
    "#### Using KNN for predicting the missing 12% values for DeliveryClass var is not useful coz we have very less columns to train the model"
   ]
  },
  {
   "cell_type": "code",
   "execution_count": 507,
   "metadata": {},
   "outputs": [],
   "source": [
    "#Del = pd.get_dummies(Del,prefix='Deliverytype_',columns=['DeliveryType'],drop_first= True)\n",
    "\n",
    "#________Converting Datatypes to Datetime from string class____\n",
    "\n",
    "# Del['StartDate'] = pd.to_datetime(Del['StartDate'])\n",
    "# Del['EndDate'] = pd.to_datetime(Del['EndDate'])"
   ]
  },
  {
   "cell_type": "markdown",
   "metadata": {},
   "source": [
    "#### Based on bins(subscription_id) of data, we can create synthetic labels - Not working \n",
    "\n",
    "#### Moving to \"bfill\" for filling the values for the categroical value"
   ]
  },
  {
   "cell_type": "code",
   "execution_count": 367,
   "metadata": {},
   "outputs": [],
   "source": [
    "#Del['Decile'] = pd.qcut(Del.index,10,labels=False)"
   ]
  },
  {
   "cell_type": "code",
   "execution_count": 375,
   "metadata": {},
   "outputs": [
    {
     "data": {
      "text/html": [
       "<div>\n",
       "<style scoped>\n",
       "    .dataframe tbody tr th:only-of-type {\n",
       "        vertical-align: middle;\n",
       "    }\n",
       "\n",
       "    .dataframe tbody tr th {\n",
       "        vertical-align: top;\n",
       "    }\n",
       "\n",
       "    .dataframe thead th {\n",
       "        text-align: right;\n",
       "    }\n",
       "</style>\n",
       "<table border=\"1\" class=\"dataframe\">\n",
       "  <thead>\n",
       "    <tr style=\"text-align: right;\">\n",
       "      <th></th>\n",
       "      <th>SubscriptionID</th>\n",
       "      <th>DeliveryType</th>\n",
       "      <th>DeliveryClass</th>\n",
       "      <th>StartDate</th>\n",
       "      <th>EndDate</th>\n",
       "    </tr>\n",
       "  </thead>\n",
       "  <tbody>\n",
       "    <tr>\n",
       "      <th>0</th>\n",
       "      <td>1000024</td>\n",
       "      <td>MD</td>\n",
       "      <td>NOR</td>\n",
       "      <td>18/01/2010</td>\n",
       "      <td>17/04/2010</td>\n",
       "    </tr>\n",
       "    <tr>\n",
       "      <th>1</th>\n",
       "      <td>1000082</td>\n",
       "      <td>MD</td>\n",
       "      <td>ABN</td>\n",
       "      <td>12/02/2010</td>\n",
       "      <td>13/02/2010</td>\n",
       "    </tr>\n",
       "  </tbody>\n",
       "</table>\n",
       "</div>"
      ],
      "text/plain": [
       "   SubscriptionID DeliveryType DeliveryClass   StartDate     EndDate\n",
       "0         1000024           MD           NOR  18/01/2010  17/04/2010\n",
       "1         1000082           MD           ABN  12/02/2010  13/02/2010"
      ]
     },
     "execution_count": 375,
     "metadata": {},
     "output_type": "execute_result"
    }
   ],
   "source": [
    "Del.head(2)"
   ]
  },
  {
   "cell_type": "code",
   "execution_count": 166,
   "metadata": {},
   "outputs": [],
   "source": [
    "#v = Del.loc[Del.Decile == 0,'DeliveryClass'].fillna(value ='NOR',limit = int(Del.loc[Del.Decile==0,'DeliveryClass'].isnull().sum()*0.8))\n",
    "#v = Del.loc[Del.Decile == 0,'DeliveryClass'].fillna(value ='ABN')\n",
    "#v.isnull().sum()\n",
    "#Del.DeliveryClass = v\n",
    "#Del.DeliveryClass.isnull().sum()"
   ]
  },
  {
   "cell_type": "code",
   "execution_count": 365,
   "metadata": {},
   "outputs": [],
   "source": [
    "# v = []\n",
    "# for x in range(10):\n",
    "#     v3 = Del.loc[Del.Decile == x,'DeliveryClass'].fillna('NOR',limit = int(Del[Del.Decile==x].shape[0]*0.8))\n",
    "#     v3 = Del.loc[Del.Decile == x,'DeliveryClass'].fillna('ABN')\n",
    "#     v3 = v1.tolist()\n",
    "#     v.extend(v3)\n",
    "    \n",
    "# Del['DeliveryClass'] = pd.Series(v3)"
   ]
  },
  {
   "cell_type": "code",
   "execution_count": 376,
   "metadata": {},
   "outputs": [],
   "source": [
    "Del.DeliveryClass.fillna(method = 'bfill',inplace=True)"
   ]
  },
  {
   "cell_type": "code",
   "execution_count": 378,
   "metadata": {},
   "outputs": [
    {
     "data": {
      "text/plain": [
       "NOR    25176\n",
       "ABN     1318\n",
       "Name: DeliveryClass, dtype: int64"
      ]
     },
     "execution_count": 378,
     "metadata": {},
     "output_type": "execute_result"
    }
   ],
   "source": [
    "Del.DeliveryClass.value_counts()"
   ]
  },
  {
   "cell_type": "code",
   "execution_count": 381,
   "metadata": {},
   "outputs": [
    {
     "data": {
      "text/html": [
       "<div>\n",
       "<style scoped>\n",
       "    .dataframe tbody tr th:only-of-type {\n",
       "        vertical-align: middle;\n",
       "    }\n",
       "\n",
       "    .dataframe tbody tr th {\n",
       "        vertical-align: top;\n",
       "    }\n",
       "\n",
       "    .dataframe thead th {\n",
       "        text-align: right;\n",
       "    }\n",
       "</style>\n",
       "<table border=\"1\" class=\"dataframe\">\n",
       "  <thead>\n",
       "    <tr style=\"text-align: right;\">\n",
       "      <th></th>\n",
       "      <th>SubscriptionID</th>\n",
       "      <th>DeliveryType</th>\n",
       "      <th>DeliveryClass</th>\n",
       "      <th>StartDate</th>\n",
       "      <th>EndDate</th>\n",
       "    </tr>\n",
       "  </thead>\n",
       "  <tbody>\n",
       "    <tr>\n",
       "      <th>0</th>\n",
       "      <td>1000024</td>\n",
       "      <td>MD</td>\n",
       "      <td>NOR</td>\n",
       "      <td>18/01/2010</td>\n",
       "      <td>17/04/2010</td>\n",
       "    </tr>\n",
       "    <tr>\n",
       "      <th>1</th>\n",
       "      <td>1000082</td>\n",
       "      <td>MD</td>\n",
       "      <td>ABN</td>\n",
       "      <td>12/02/2010</td>\n",
       "      <td>13/02/2010</td>\n",
       "    </tr>\n",
       "  </tbody>\n",
       "</table>\n",
       "</div>"
      ],
      "text/plain": [
       "   SubscriptionID DeliveryType DeliveryClass   StartDate     EndDate\n",
       "0         1000024           MD           NOR  18/01/2010  17/04/2010\n",
       "1         1000082           MD           ABN  12/02/2010  13/02/2010"
      ]
     },
     "execution_count": 381,
     "metadata": {},
     "output_type": "execute_result"
    }
   ],
   "source": [
    "Del.head(2)"
   ]
  },
  {
   "cell_type": "markdown",
   "metadata": {},
   "source": [
    "#### -------------------------------------------------------------------Formula----------------------------------------------------------------------------------"
   ]
  },
  {
   "cell_type": "markdown",
   "metadata": {},
   "source": [
    "- Duration in month"
   ]
  },
  {
   "cell_type": "code",
   "execution_count": 384,
   "metadata": {},
   "outputs": [
    {
     "data": {
      "text/html": [
       "<div>\n",
       "<style scoped>\n",
       "    .dataframe tbody tr th:only-of-type {\n",
       "        vertical-align: middle;\n",
       "    }\n",
       "\n",
       "    .dataframe tbody tr th {\n",
       "        vertical-align: top;\n",
       "    }\n",
       "\n",
       "    .dataframe thead th {\n",
       "        text-align: right;\n",
       "    }\n",
       "</style>\n",
       "<table border=\"1\" class=\"dataframe\">\n",
       "  <thead>\n",
       "    <tr style=\"text-align: right;\">\n",
       "      <th></th>\n",
       "      <th>FormulaID</th>\n",
       "      <th>FormulaCode</th>\n",
       "      <th>FormulaType</th>\n",
       "      <th>Duration</th>\n",
       "    </tr>\n",
       "  </thead>\n",
       "  <tbody>\n",
       "    <tr>\n",
       "      <th>0</th>\n",
       "      <td>10011</td>\n",
       "      <td>2051</td>\n",
       "      <td>CAM</td>\n",
       "      <td>12</td>\n",
       "    </tr>\n",
       "    <tr>\n",
       "      <th>1</th>\n",
       "      <td>10013</td>\n",
       "      <td>2051</td>\n",
       "      <td>CAM</td>\n",
       "      <td>12</td>\n",
       "    </tr>\n",
       "  </tbody>\n",
       "</table>\n",
       "</div>"
      ],
      "text/plain": [
       "   FormulaID  FormulaCode FormulaType  Duration\n",
       "0      10011         2051         CAM        12\n",
       "1      10013         2051         CAM        12"
      ]
     },
     "execution_count": 384,
     "metadata": {},
     "output_type": "execute_result"
    }
   ],
   "source": [
    "Formula = pd.read_csv('/home/rohan/Documents/ROHAN_DA/ALABS/___STATS___ -  cls 10 onwards/Class_20 Case_study_ML/Case_study/1. NEWS PUBLISHING COMPANY-CLASSIFICATION-ATTRITION/2 - NPC Retention Data/formula.txt',sep=\";\")\n",
    "Formula.head(2)"
   ]
  },
  {
   "cell_type": "markdown",
   "metadata": {},
   "source": [
    "#### --------------------------------------------------------------------Credit------------------------------------------------------------------------------"
   ]
  },
  {
   "cell_type": "code",
   "execution_count": null,
   "metadata": {},
   "outputs": [],
   "source": [
    "#pandas_profiling.ProfileReport(credit)"
   ]
  },
  {
   "cell_type": "markdown",
   "metadata": {},
   "source": [
    "- nbrNewspapers -  no of newspaper on credit  \n",
    "\n",
    "- --------------------------------------------------------------------------------\n",
    "- Missing_value\n",
    "\n",
    "- NbrNewspapers has 532 / 27.4% missing values Missing - only 7 unique values --> converted to 0 [0 rs]\n",
    "- ProcessingDate has 38 / 2.0% missing values Missing --> filled using fillna() \n",
    "- Dataset has 350 duplicate rows Warning --> to fix\n"
   ]
  },
  {
   "cell_type": "code",
   "execution_count": 411,
   "metadata": {},
   "outputs": [
    {
     "data": {
      "text/html": [
       "<div>\n",
       "<style scoped>\n",
       "    .dataframe tbody tr th:only-of-type {\n",
       "        vertical-align: middle;\n",
       "    }\n",
       "\n",
       "    .dataframe tbody tr th {\n",
       "        vertical-align: top;\n",
       "    }\n",
       "\n",
       "    .dataframe thead th {\n",
       "        text-align: right;\n",
       "    }\n",
       "</style>\n",
       "<table border=\"1\" class=\"dataframe\">\n",
       "  <thead>\n",
       "    <tr style=\"text-align: right;\">\n",
       "      <th></th>\n",
       "      <th>SubscriptionID</th>\n",
       "      <th>ActionType</th>\n",
       "      <th>ProcessingDate</th>\n",
       "      <th>CreditSource</th>\n",
       "      <th>Amount</th>\n",
       "      <th>NbrNewspapers</th>\n",
       "    </tr>\n",
       "  </thead>\n",
       "  <tbody>\n",
       "    <tr>\n",
       "      <th>0</th>\n",
       "      <td>1002057</td>\n",
       "      <td>EN</td>\n",
       "      <td>18/05/2009</td>\n",
       "      <td>COM</td>\n",
       "      <td>1.0400</td>\n",
       "      <td>1.0</td>\n",
       "    </tr>\n",
       "    <tr>\n",
       "      <th>1</th>\n",
       "      <td>1002089</td>\n",
       "      <td>EN</td>\n",
       "      <td>06/10/2010</td>\n",
       "      <td>COM</td>\n",
       "      <td>0.8783</td>\n",
       "      <td>1.0</td>\n",
       "    </tr>\n",
       "  </tbody>\n",
       "</table>\n",
       "</div>"
      ],
      "text/plain": [
       "   SubscriptionID ActionType ProcessingDate CreditSource  Amount  \\\n",
       "0         1002057         EN     18/05/2009          COM  1.0400   \n",
       "1         1002089         EN     06/10/2010          COM  0.8783   \n",
       "\n",
       "   NbrNewspapers  \n",
       "0            1.0  \n",
       "1            1.0  "
      ]
     },
     "execution_count": 411,
     "metadata": {},
     "output_type": "execute_result"
    }
   ],
   "source": [
    "credit = pd.read_csv('/home/rohan/Documents/ROHAN_DA/ALABS/___STATS___ -  cls 10 onwards/Class_20 Case_study_ML/Case_study/1. NEWS PUBLISHING COMPANY-CLASSIFICATION-ATTRITION/2 - NPC Retention Data/credit.txt',sep=\";\")\n",
    "credit.head(2)"
   ]
  },
  {
   "cell_type": "markdown",
   "metadata": {},
   "source": [
    "#### preparing the data"
   ]
  },
  {
   "cell_type": "markdown",
   "metadata": {},
   "source": [
    "- since we have 900 \"1\" and 500 \"0\" and around \"500\" NAN, we can convert NAN to 0 coz:\n",
    "      - They should actually be 0\n",
    "      - The data would get balanced by \"1\" & \"0\" [1000 vs 1000] \n",
    "     "
   ]
  },
  {
   "cell_type": "code",
   "execution_count": 412,
   "metadata": {},
   "outputs": [
    {
     "data": {
      "text/html": [
       "<div>\n",
       "<style scoped>\n",
       "    .dataframe tbody tr th:only-of-type {\n",
       "        vertical-align: middle;\n",
       "    }\n",
       "\n",
       "    .dataframe tbody tr th {\n",
       "        vertical-align: top;\n",
       "    }\n",
       "\n",
       "    .dataframe thead th {\n",
       "        text-align: right;\n",
       "    }\n",
       "</style>\n",
       "<table border=\"1\" class=\"dataframe\">\n",
       "  <thead>\n",
       "    <tr style=\"text-align: right;\">\n",
       "      <th></th>\n",
       "      <th>SubscriptionID</th>\n",
       "      <th>ActionType</th>\n",
       "      <th>ProcessingDate</th>\n",
       "      <th>CreditSource</th>\n",
       "      <th>Amount</th>\n",
       "    </tr>\n",
       "    <tr>\n",
       "      <th>NbrNewspapers</th>\n",
       "      <th></th>\n",
       "      <th></th>\n",
       "      <th></th>\n",
       "      <th></th>\n",
       "      <th></th>\n",
       "    </tr>\n",
       "  </thead>\n",
       "  <tbody>\n",
       "    <tr>\n",
       "      <th>0.0</th>\n",
       "      <td>487</td>\n",
       "      <td>487</td>\n",
       "      <td>453</td>\n",
       "      <td>487</td>\n",
       "      <td>487</td>\n",
       "    </tr>\n",
       "    <tr>\n",
       "      <th>1.0</th>\n",
       "      <td>914</td>\n",
       "      <td>914</td>\n",
       "      <td>914</td>\n",
       "      <td>914</td>\n",
       "      <td>914</td>\n",
       "    </tr>\n",
       "    <tr>\n",
       "      <th>5.0</th>\n",
       "      <td>1</td>\n",
       "      <td>1</td>\n",
       "      <td>0</td>\n",
       "      <td>1</td>\n",
       "      <td>1</td>\n",
       "    </tr>\n",
       "    <tr>\n",
       "      <th>14.0</th>\n",
       "      <td>1</td>\n",
       "      <td>1</td>\n",
       "      <td>1</td>\n",
       "      <td>1</td>\n",
       "      <td>0</td>\n",
       "    </tr>\n",
       "    <tr>\n",
       "      <th>15.0</th>\n",
       "      <td>1</td>\n",
       "      <td>1</td>\n",
       "      <td>1</td>\n",
       "      <td>1</td>\n",
       "      <td>0</td>\n",
       "    </tr>\n",
       "    <tr>\n",
       "      <th>22.0</th>\n",
       "      <td>2</td>\n",
       "      <td>2</td>\n",
       "      <td>0</td>\n",
       "      <td>2</td>\n",
       "      <td>2</td>\n",
       "    </tr>\n",
       "    <tr>\n",
       "      <th>28.0</th>\n",
       "      <td>1</td>\n",
       "      <td>1</td>\n",
       "      <td>1</td>\n",
       "      <td>1</td>\n",
       "      <td>0</td>\n",
       "    </tr>\n",
       "    <tr>\n",
       "      <th>40.0</th>\n",
       "      <td>1</td>\n",
       "      <td>1</td>\n",
       "      <td>0</td>\n",
       "      <td>1</td>\n",
       "      <td>1</td>\n",
       "    </tr>\n",
       "  </tbody>\n",
       "</table>\n",
       "</div>"
      ],
      "text/plain": [
       "               SubscriptionID  ActionType  ProcessingDate  CreditSource  \\\n",
       "NbrNewspapers                                                             \n",
       "0.0                       487         487             453           487   \n",
       "1.0                       914         914             914           914   \n",
       "5.0                         1           1               0             1   \n",
       "14.0                        1           1               1             1   \n",
       "15.0                        1           1               1             1   \n",
       "22.0                        2           2               0             2   \n",
       "28.0                        1           1               1             1   \n",
       "40.0                        1           1               0             1   \n",
       "\n",
       "               Amount  \n",
       "NbrNewspapers          \n",
       "0.0               487  \n",
       "1.0               914  \n",
       "5.0                 1  \n",
       "14.0                0  \n",
       "15.0                0  \n",
       "22.0                2  \n",
       "28.0                0  \n",
       "40.0                1  "
      ]
     },
     "execution_count": 412,
     "metadata": {},
     "output_type": "execute_result"
    }
   ],
   "source": [
    "credit.groupby(['NbrNewspapers']).count()"
   ]
  },
  {
   "cell_type": "code",
   "execution_count": 425,
   "metadata": {},
   "outputs": [
    {
     "data": {
      "text/html": [
       "<div>\n",
       "<style scoped>\n",
       "    .dataframe tbody tr th:only-of-type {\n",
       "        vertical-align: middle;\n",
       "    }\n",
       "\n",
       "    .dataframe tbody tr th {\n",
       "        vertical-align: top;\n",
       "    }\n",
       "\n",
       "    .dataframe thead th {\n",
       "        text-align: right;\n",
       "    }\n",
       "</style>\n",
       "<table border=\"1\" class=\"dataframe\">\n",
       "  <thead>\n",
       "    <tr style=\"text-align: right;\">\n",
       "      <th></th>\n",
       "      <th>ActionType</th>\n",
       "      <th>NbrNewspapers</th>\n",
       "    </tr>\n",
       "  </thead>\n",
       "  <tbody>\n",
       "    <tr>\n",
       "      <th>54</th>\n",
       "      <td>CC</td>\n",
       "      <td>NaN</td>\n",
       "    </tr>\n",
       "    <tr>\n",
       "      <th>92</th>\n",
       "      <td>CC</td>\n",
       "      <td>NaN</td>\n",
       "    </tr>\n",
       "  </tbody>\n",
       "</table>\n",
       "</div>"
      ],
      "text/plain": [
       "   ActionType  NbrNewspapers\n",
       "54         CC            NaN\n",
       "92         CC            NaN"
      ]
     },
     "execution_count": 425,
     "metadata": {},
     "output_type": "execute_result"
    }
   ],
   "source": [
    "## All NAN values are for \"CC\" ActionType\n",
    "credit.loc[credit.NbrNewspapers.isnull(),['ActionType','NbrNewspapers']].head(2)"
   ]
  },
  {
   "cell_type": "code",
   "execution_count": 432,
   "metadata": {},
   "outputs": [
    {
     "data": {
      "text/plain": [
       "0"
      ]
     },
     "execution_count": 432,
     "metadata": {},
     "output_type": "execute_result"
    }
   ],
   "source": [
    "### Equating all NAN values to 0\n",
    "\n",
    "#credit.loc[credit.NbrNewspapers.isnulbl(),'NbrNewspapers'] = 0\n",
    "credit.NbrNewspapers.isnull().sum() #-- No Null Values"
   ]
  },
  {
   "cell_type": "markdown",
   "metadata": {},
   "source": [
    "- Filling the missing \"Processing_date\" column"
   ]
  },
  {
   "cell_type": "code",
   "execution_count": 440,
   "metadata": {},
   "outputs": [
    {
     "data": {
      "text/html": [
       "<div>\n",
       "<style scoped>\n",
       "    .dataframe tbody tr th:only-of-type {\n",
       "        vertical-align: middle;\n",
       "    }\n",
       "\n",
       "    .dataframe tbody tr th {\n",
       "        vertical-align: top;\n",
       "    }\n",
       "\n",
       "    .dataframe thead th {\n",
       "        text-align: right;\n",
       "    }\n",
       "</style>\n",
       "<table border=\"1\" class=\"dataframe\">\n",
       "  <thead>\n",
       "    <tr style=\"text-align: right;\">\n",
       "      <th></th>\n",
       "      <th>SubscriptionID</th>\n",
       "      <th>ActionType</th>\n",
       "      <th>ProcessingDate</th>\n",
       "      <th>CreditSource</th>\n",
       "      <th>Amount</th>\n",
       "      <th>NbrNewspapers</th>\n",
       "    </tr>\n",
       "  </thead>\n",
       "  <tbody>\n",
       "    <tr>\n",
       "      <th>0</th>\n",
       "      <td>1002057</td>\n",
       "      <td>EN</td>\n",
       "      <td>18/05/2009</td>\n",
       "      <td>COM</td>\n",
       "      <td>1.0400</td>\n",
       "      <td>1.0</td>\n",
       "    </tr>\n",
       "    <tr>\n",
       "      <th>1</th>\n",
       "      <td>1002089</td>\n",
       "      <td>EN</td>\n",
       "      <td>06/10/2010</td>\n",
       "      <td>COM</td>\n",
       "      <td>0.8783</td>\n",
       "      <td>1.0</td>\n",
       "    </tr>\n",
       "    <tr>\n",
       "      <th>2</th>\n",
       "      <td>1002089</td>\n",
       "      <td>EN</td>\n",
       "      <td>22/12/2010</td>\n",
       "      <td>COM</td>\n",
       "      <td>0.8783</td>\n",
       "      <td>1.0</td>\n",
       "    </tr>\n",
       "    <tr>\n",
       "      <th>3</th>\n",
       "      <td>1002089</td>\n",
       "      <td>EN</td>\n",
       "      <td>23/12/2010</td>\n",
       "      <td>COM</td>\n",
       "      <td>0.8783</td>\n",
       "      <td>1.0</td>\n",
       "    </tr>\n",
       "    <tr>\n",
       "      <th>4</th>\n",
       "      <td>1002089</td>\n",
       "      <td>EN</td>\n",
       "      <td>24/12/2010</td>\n",
       "      <td>COM</td>\n",
       "      <td>0.8783</td>\n",
       "      <td>1.0</td>\n",
       "    </tr>\n",
       "  </tbody>\n",
       "</table>\n",
       "</div>"
      ],
      "text/plain": [
       "   SubscriptionID ActionType ProcessingDate CreditSource  Amount  \\\n",
       "0         1002057         EN     18/05/2009          COM  1.0400   \n",
       "1         1002089         EN     06/10/2010          COM  0.8783   \n",
       "2         1002089         EN     22/12/2010          COM  0.8783   \n",
       "3         1002089         EN     23/12/2010          COM  0.8783   \n",
       "4         1002089         EN     24/12/2010          COM  0.8783   \n",
       "\n",
       "   NbrNewspapers  \n",
       "0            1.0  \n",
       "1            1.0  \n",
       "2            1.0  \n",
       "3            1.0  \n",
       "4            1.0  "
      ]
     },
     "execution_count": 440,
     "metadata": {},
     "output_type": "execute_result"
    }
   ],
   "source": [
    "#credit.ProcessingDate.fillna(method= 'ffill',inplace=True)\n",
    "credit.head()"
   ]
  },
  {
   "cell_type": "markdown",
   "metadata": {},
   "source": [
    "#### ----------------------------------------------------------------------Complains-------------------------------------------------------------------"
   ]
  },
  {
   "cell_type": "code",
   "execution_count": null,
   "metadata": {},
   "outputs": [],
   "source": [
    "#pandas_profiling.ProfileReport(complains)"
   ]
  },
  {
   "cell_type": "markdown",
   "metadata": {},
   "source": [
    "- Complain_type -  (1-9)\n",
    "- Solution_type - (1-4)\n",
    "- complain_date -  object type\n",
    "\n",
    "\n",
    "\n",
    "###### Missing_Value\n",
    "- ProductID has 414 / 10.0% missing values Missing\n",
    "- SolutionType has 1092 / 26.5% missing values Missing\n",
    "- Feedback_type - FeedbackType has 2502 / 60.7% missing values"
   ]
  },
  {
   "cell_type": "code",
   "execution_count": 2,
   "metadata": {},
   "outputs": [
    {
     "data": {
      "text/html": [
       "<div>\n",
       "<style scoped>\n",
       "    .dataframe tbody tr th:only-of-type {\n",
       "        vertical-align: middle;\n",
       "    }\n",
       "\n",
       "    .dataframe tbody tr th {\n",
       "        vertical-align: top;\n",
       "    }\n",
       "\n",
       "    .dataframe thead th {\n",
       "        text-align: right;\n",
       "    }\n",
       "</style>\n",
       "<table border=\"1\" class=\"dataframe\">\n",
       "  <thead>\n",
       "    <tr style=\"text-align: right;\">\n",
       "      <th></th>\n",
       "      <th>ComplaintID</th>\n",
       "      <th>CustomerID</th>\n",
       "      <th>ProductID</th>\n",
       "      <th>ComplaintDate</th>\n",
       "      <th>ComplaintType</th>\n",
       "      <th>SolutionType</th>\n",
       "      <th>FeedbackType</th>\n",
       "    </tr>\n",
       "  </thead>\n",
       "  <tbody>\n",
       "    <tr>\n",
       "      <th>0</th>\n",
       "      <td>181932</td>\n",
       "      <td>3464</td>\n",
       "      <td>8.0</td>\n",
       "      <td>14/10/2010</td>\n",
       "      <td>7</td>\n",
       "      <td>2.0</td>\n",
       "      <td>NaN</td>\n",
       "    </tr>\n",
       "    <tr>\n",
       "      <th>1</th>\n",
       "      <td>168698</td>\n",
       "      <td>3464</td>\n",
       "      <td>8.0</td>\n",
       "      <td>19/07/2010</td>\n",
       "      <td>1</td>\n",
       "      <td>2.0</td>\n",
       "      <td>3.0</td>\n",
       "    </tr>\n",
       "  </tbody>\n",
       "</table>\n",
       "</div>"
      ],
      "text/plain": [
       "   ComplaintID  CustomerID  ProductID ComplaintDate  ComplaintType  \\\n",
       "0       181932        3464        8.0    14/10/2010              7   \n",
       "1       168698        3464        8.0    19/07/2010              1   \n",
       "\n",
       "   SolutionType  FeedbackType  \n",
       "0           2.0           NaN  \n",
       "1           2.0           3.0  "
      ]
     },
     "execution_count": 2,
     "metadata": {},
     "output_type": "execute_result"
    }
   ],
   "source": [
    "complains = pd.read_csv('/home/rohan/Documents/ROHAN_DA/ALABS/___STATS___ -  cls 10 onwards/Class_20 Case_study_ML/Case_study/1. NEWS PUBLISHING COMPANY-CLASSIFICATION-ATTRITION/2 - NPC Retention Data/complaints.txt',sep=\";\")\n",
    "complains.head(2)"
   ]
  },
  {
   "cell_type": "markdown",
   "metadata": {},
   "source": [
    "#### Fixing the data"
   ]
  },
  {
   "cell_type": "markdown",
   "metadata": {},
   "source": [
    "- **complaint_type** and **Feedback_type** are very similar columns moreover Feedback_type has 60% NAN so we are dropping it"
   ]
  },
  {
   "cell_type": "code",
   "execution_count": 4,
   "metadata": {},
   "outputs": [],
   "source": [
    "#Dropping the column \n",
    "#complains.drop(columns= 'FeedbackType',inplace=True)"
   ]
  },
  {
   "cell_type": "code",
   "execution_count": 5,
   "metadata": {},
   "outputs": [
    {
     "data": {
      "text/html": [
       "<div>\n",
       "<style scoped>\n",
       "    .dataframe tbody tr th:only-of-type {\n",
       "        vertical-align: middle;\n",
       "    }\n",
       "\n",
       "    .dataframe tbody tr th {\n",
       "        vertical-align: top;\n",
       "    }\n",
       "\n",
       "    .dataframe thead th {\n",
       "        text-align: right;\n",
       "    }\n",
       "</style>\n",
       "<table border=\"1\" class=\"dataframe\">\n",
       "  <thead>\n",
       "    <tr style=\"text-align: right;\">\n",
       "      <th></th>\n",
       "      <th>ComplaintID</th>\n",
       "      <th>CustomerID</th>\n",
       "      <th>ProductID</th>\n",
       "      <th>ComplaintDate</th>\n",
       "      <th>ComplaintType</th>\n",
       "      <th>SolutionType</th>\n",
       "    </tr>\n",
       "  </thead>\n",
       "  <tbody>\n",
       "    <tr>\n",
       "      <th>0</th>\n",
       "      <td>181932</td>\n",
       "      <td>3464</td>\n",
       "      <td>8.0</td>\n",
       "      <td>14/10/2010</td>\n",
       "      <td>7</td>\n",
       "      <td>2.0</td>\n",
       "    </tr>\n",
       "    <tr>\n",
       "      <th>1</th>\n",
       "      <td>168698</td>\n",
       "      <td>3464</td>\n",
       "      <td>8.0</td>\n",
       "      <td>19/07/2010</td>\n",
       "      <td>1</td>\n",
       "      <td>2.0</td>\n",
       "    </tr>\n",
       "  </tbody>\n",
       "</table>\n",
       "</div>"
      ],
      "text/plain": [
       "   ComplaintID  CustomerID  ProductID ComplaintDate  ComplaintType  \\\n",
       "0       181932        3464        8.0    14/10/2010              7   \n",
       "1       168698        3464        8.0    19/07/2010              1   \n",
       "\n",
       "   SolutionType  \n",
       "0           2.0  \n",
       "1           2.0  "
      ]
     },
     "execution_count": 5,
     "metadata": {},
     "output_type": "execute_result"
    }
   ],
   "source": [
    "complains.head(2)"
   ]
  },
  {
   "cell_type": "markdown",
   "metadata": {},
   "source": [
    "- Using **KNN** for predicting the 1000~ values for solutiontype(dependent on Complaint_type)"
   ]
  },
  {
   "cell_type": "code",
   "execution_count": 6,
   "metadata": {},
   "outputs": [
    {
     "data": {
      "text/html": [
       "<div>\n",
       "<style scoped>\n",
       "    .dataframe tbody tr th:only-of-type {\n",
       "        vertical-align: middle;\n",
       "    }\n",
       "\n",
       "    .dataframe tbody tr th {\n",
       "        vertical-align: top;\n",
       "    }\n",
       "\n",
       "    .dataframe thead th {\n",
       "        text-align: right;\n",
       "    }\n",
       "</style>\n",
       "<table border=\"1\" class=\"dataframe\">\n",
       "  <thead>\n",
       "    <tr style=\"text-align: right;\">\n",
       "      <th></th>\n",
       "      <th></th>\n",
       "      <th>ComplaintID</th>\n",
       "      <th>CustomerID</th>\n",
       "      <th>ProductID</th>\n",
       "      <th>ComplaintDate</th>\n",
       "    </tr>\n",
       "    <tr>\n",
       "      <th>SolutionType</th>\n",
       "      <th>ComplaintType</th>\n",
       "      <th></th>\n",
       "      <th></th>\n",
       "      <th></th>\n",
       "      <th></th>\n",
       "    </tr>\n",
       "  </thead>\n",
       "  <tbody>\n",
       "    <tr>\n",
       "      <th rowspan=\"8\" valign=\"top\">1.0</th>\n",
       "      <th>1</th>\n",
       "      <td>1027</td>\n",
       "      <td>1027</td>\n",
       "      <td>911</td>\n",
       "      <td>1027</td>\n",
       "    </tr>\n",
       "    <tr>\n",
       "      <th>2</th>\n",
       "      <td>9</td>\n",
       "      <td>9</td>\n",
       "      <td>8</td>\n",
       "      <td>9</td>\n",
       "    </tr>\n",
       "    <tr>\n",
       "      <th>3</th>\n",
       "      <td>25</td>\n",
       "      <td>25</td>\n",
       "      <td>20</td>\n",
       "      <td>25</td>\n",
       "    </tr>\n",
       "    <tr>\n",
       "      <th>4</th>\n",
       "      <td>2</td>\n",
       "      <td>2</td>\n",
       "      <td>2</td>\n",
       "      <td>2</td>\n",
       "    </tr>\n",
       "    <tr>\n",
       "      <th>6</th>\n",
       "      <td>1</td>\n",
       "      <td>1</td>\n",
       "      <td>1</td>\n",
       "      <td>1</td>\n",
       "    </tr>\n",
       "    <tr>\n",
       "      <th>7</th>\n",
       "      <td>35</td>\n",
       "      <td>35</td>\n",
       "      <td>31</td>\n",
       "      <td>35</td>\n",
       "    </tr>\n",
       "    <tr>\n",
       "      <th>8</th>\n",
       "      <td>1</td>\n",
       "      <td>1</td>\n",
       "      <td>1</td>\n",
       "      <td>1</td>\n",
       "    </tr>\n",
       "    <tr>\n",
       "      <th>9</th>\n",
       "      <td>308</td>\n",
       "      <td>308</td>\n",
       "      <td>286</td>\n",
       "      <td>308</td>\n",
       "    </tr>\n",
       "    <tr>\n",
       "      <th rowspan=\"5\" valign=\"top\">2.0</th>\n",
       "      <th>1</th>\n",
       "      <td>1005</td>\n",
       "      <td>1005</td>\n",
       "      <td>841</td>\n",
       "      <td>1005</td>\n",
       "    </tr>\n",
       "    <tr>\n",
       "      <th>2</th>\n",
       "      <td>4</td>\n",
       "      <td>4</td>\n",
       "      <td>4</td>\n",
       "      <td>4</td>\n",
       "    </tr>\n",
       "    <tr>\n",
       "      <th>3</th>\n",
       "      <td>33</td>\n",
       "      <td>33</td>\n",
       "      <td>28</td>\n",
       "      <td>33</td>\n",
       "    </tr>\n",
       "    <tr>\n",
       "      <th>7</th>\n",
       "      <td>34</td>\n",
       "      <td>34</td>\n",
       "      <td>30</td>\n",
       "      <td>34</td>\n",
       "    </tr>\n",
       "    <tr>\n",
       "      <th>9</th>\n",
       "      <td>16</td>\n",
       "      <td>16</td>\n",
       "      <td>10</td>\n",
       "      <td>16</td>\n",
       "    </tr>\n",
       "  </tbody>\n",
       "</table>\n",
       "</div>"
      ],
      "text/plain": [
       "                            ComplaintID  CustomerID  ProductID  ComplaintDate\n",
       "SolutionType ComplaintType                                                   \n",
       "1.0          1                     1027        1027        911           1027\n",
       "             2                        9           9          8              9\n",
       "             3                       25          25         20             25\n",
       "             4                        2           2          2              2\n",
       "             6                        1           1          1              1\n",
       "             7                       35          35         31             35\n",
       "             8                        1           1          1              1\n",
       "             9                      308         308        286            308\n",
       "2.0          1                     1005        1005        841           1005\n",
       "             2                        4           4          4              4\n",
       "             3                       33          33         28             33\n",
       "             7                       34          34         30             34\n",
       "             9                       16          16         10             16"
      ]
     },
     "execution_count": 6,
     "metadata": {},
     "output_type": "execute_result"
    }
   ],
   "source": [
    "## we can see here that soltiontype has total 4125 obs, out of which 10xy are NAN\n",
    "## out of remaining 3k, solutiontype 1,2 comprise 2k both of which are pretty much dependent on\n",
    "## on complainttype = 1,2\n",
    "\n",
    "x = complains.groupby(['SolutionType','ComplaintType']).count()\n",
    "x.loc[:2]\n",
    "#x.xs(1) # can also be used like this - cross section "
   ]
  },
  {
   "cell_type": "code",
   "execution_count": 7,
   "metadata": {},
   "outputs": [
    {
     "data": {
      "text/html": [
       "<div>\n",
       "<style scoped>\n",
       "    .dataframe tbody tr th:only-of-type {\n",
       "        vertical-align: middle;\n",
       "    }\n",
       "\n",
       "    .dataframe tbody tr th {\n",
       "        vertical-align: top;\n",
       "    }\n",
       "\n",
       "    .dataframe thead th {\n",
       "        text-align: right;\n",
       "    }\n",
       "</style>\n",
       "<table border=\"1\" class=\"dataframe\">\n",
       "  <thead>\n",
       "    <tr style=\"text-align: right;\">\n",
       "      <th></th>\n",
       "      <th>ComplaintID</th>\n",
       "      <th>CustomerID</th>\n",
       "      <th>ProductID</th>\n",
       "      <th>ComplaintDate</th>\n",
       "      <th>SolutionType</th>\n",
       "    </tr>\n",
       "    <tr>\n",
       "      <th>ComplaintType</th>\n",
       "      <th></th>\n",
       "      <th></th>\n",
       "      <th></th>\n",
       "      <th></th>\n",
       "      <th></th>\n",
       "    </tr>\n",
       "  </thead>\n",
       "  <tbody>\n",
       "    <tr>\n",
       "      <th>1</th>\n",
       "      <td>821</td>\n",
       "      <td>821</td>\n",
       "      <td>819</td>\n",
       "      <td>821</td>\n",
       "      <td>0</td>\n",
       "    </tr>\n",
       "    <tr>\n",
       "      <th>2</th>\n",
       "      <td>50</td>\n",
       "      <td>50</td>\n",
       "      <td>50</td>\n",
       "      <td>50</td>\n",
       "      <td>0</td>\n",
       "    </tr>\n",
       "    <tr>\n",
       "      <th>3</th>\n",
       "      <td>19</td>\n",
       "      <td>19</td>\n",
       "      <td>19</td>\n",
       "      <td>19</td>\n",
       "      <td>0</td>\n",
       "    </tr>\n",
       "    <tr>\n",
       "      <th>4</th>\n",
       "      <td>4</td>\n",
       "      <td>4</td>\n",
       "      <td>4</td>\n",
       "      <td>4</td>\n",
       "      <td>0</td>\n",
       "    </tr>\n",
       "    <tr>\n",
       "      <th>5</th>\n",
       "      <td>16</td>\n",
       "      <td>16</td>\n",
       "      <td>16</td>\n",
       "      <td>16</td>\n",
       "      <td>0</td>\n",
       "    </tr>\n",
       "    <tr>\n",
       "      <th>6</th>\n",
       "      <td>3</td>\n",
       "      <td>3</td>\n",
       "      <td>3</td>\n",
       "      <td>3</td>\n",
       "      <td>0</td>\n",
       "    </tr>\n",
       "    <tr>\n",
       "      <th>7</th>\n",
       "      <td>87</td>\n",
       "      <td>87</td>\n",
       "      <td>87</td>\n",
       "      <td>87</td>\n",
       "      <td>0</td>\n",
       "    </tr>\n",
       "    <tr>\n",
       "      <th>8</th>\n",
       "      <td>6</td>\n",
       "      <td>6</td>\n",
       "      <td>6</td>\n",
       "      <td>6</td>\n",
       "      <td>0</td>\n",
       "    </tr>\n",
       "    <tr>\n",
       "      <th>9</th>\n",
       "      <td>86</td>\n",
       "      <td>86</td>\n",
       "      <td>86</td>\n",
       "      <td>86</td>\n",
       "      <td>0</td>\n",
       "    </tr>\n",
       "  </tbody>\n",
       "</table>\n",
       "</div>"
      ],
      "text/plain": [
       "               ComplaintID  CustomerID  ProductID  ComplaintDate  SolutionType\n",
       "ComplaintType                                                                 \n",
       "1                      821         821        819            821             0\n",
       "2                       50          50         50             50             0\n",
       "3                       19          19         19             19             0\n",
       "4                        4           4          4              4             0\n",
       "5                       16          16         16             16             0\n",
       "6                        3           3          3              3             0\n",
       "7                       87          87         87             87             0\n",
       "8                        6           6          6              6             0\n",
       "9                       86          86         86             86             0"
      ]
     },
     "execution_count": 7,
     "metadata": {},
     "output_type": "execute_result"
    }
   ],
   "source": [
    "## Out of all null values for solutiontype we have the division based on complainttype\n",
    "\n",
    "x = complains[complains.SolutionType.isnull()]\n",
    "x.groupby(['ComplaintType']).count()"
   ]
  },
  {
   "cell_type": "code",
   "execution_count": 7,
   "metadata": {},
   "outputs": [
    {
     "data": {
      "text/html": [
       "<div>\n",
       "<style scoped>\n",
       "    .dataframe tbody tr th:only-of-type {\n",
       "        vertical-align: middle;\n",
       "    }\n",
       "\n",
       "    .dataframe tbody tr th {\n",
       "        vertical-align: top;\n",
       "    }\n",
       "\n",
       "    .dataframe thead th {\n",
       "        text-align: right;\n",
       "    }\n",
       "</style>\n",
       "<table border=\"1\" class=\"dataframe\">\n",
       "  <thead>\n",
       "    <tr style=\"text-align: right;\">\n",
       "      <th></th>\n",
       "      <th>ComplaintID</th>\n",
       "      <th>CustomerID</th>\n",
       "      <th>ProductID</th>\n",
       "      <th>ComplaintDate</th>\n",
       "      <th>ComplaintType</th>\n",
       "      <th>SolutionType</th>\n",
       "    </tr>\n",
       "  </thead>\n",
       "  <tbody>\n",
       "    <tr>\n",
       "      <th>0</th>\n",
       "      <td>181932</td>\n",
       "      <td>3464</td>\n",
       "      <td>8.0</td>\n",
       "      <td>14/10/2010</td>\n",
       "      <td>7</td>\n",
       "      <td>2.0</td>\n",
       "    </tr>\n",
       "    <tr>\n",
       "      <th>1</th>\n",
       "      <td>168698</td>\n",
       "      <td>3464</td>\n",
       "      <td>8.0</td>\n",
       "      <td>19/07/2010</td>\n",
       "      <td>1</td>\n",
       "      <td>2.0</td>\n",
       "    </tr>\n",
       "  </tbody>\n",
       "</table>\n",
       "</div>"
      ],
      "text/plain": [
       "   ComplaintID  CustomerID  ProductID ComplaintDate  ComplaintType  \\\n",
       "0       181932        3464        8.0    14/10/2010              7   \n",
       "1       168698        3464        8.0    19/07/2010              1   \n",
       "\n",
       "   SolutionType  \n",
       "0           2.0  \n",
       "1           2.0  "
      ]
     },
     "execution_count": 7,
     "metadata": {},
     "output_type": "execute_result"
    }
   ],
   "source": [
    "complains.head(2)"
   ]
  },
  {
   "cell_type": "code",
   "execution_count": 8,
   "metadata": {},
   "outputs": [],
   "source": [
    "complain_M = complains[['ComplaintType','ComplaintDate','SolutionType']]"
   ]
  },
  {
   "cell_type": "markdown",
   "metadata": {},
   "source": [
    "- converting **datetime to integer** so to use it for modelling"
   ]
  },
  {
   "cell_type": "code",
   "execution_count": 9,
   "metadata": {},
   "outputs": [
    {
     "data": {
      "text/html": [
       "<div>\n",
       "<style scoped>\n",
       "    .dataframe tbody tr th:only-of-type {\n",
       "        vertical-align: middle;\n",
       "    }\n",
       "\n",
       "    .dataframe tbody tr th {\n",
       "        vertical-align: top;\n",
       "    }\n",
       "\n",
       "    .dataframe thead th {\n",
       "        text-align: right;\n",
       "    }\n",
       "</style>\n",
       "<table border=\"1\" class=\"dataframe\">\n",
       "  <thead>\n",
       "    <tr style=\"text-align: right;\">\n",
       "      <th></th>\n",
       "      <th>ComplaintType</th>\n",
       "      <th>ComplaintDate</th>\n",
       "      <th>SolutionType</th>\n",
       "    </tr>\n",
       "  </thead>\n",
       "  <tbody>\n",
       "    <tr>\n",
       "      <th>0</th>\n",
       "      <td>7</td>\n",
       "      <td>14/10/2010</td>\n",
       "      <td>2.0</td>\n",
       "    </tr>\n",
       "    <tr>\n",
       "      <th>1</th>\n",
       "      <td>1</td>\n",
       "      <td>19/07/2010</td>\n",
       "      <td>2.0</td>\n",
       "    </tr>\n",
       "    <tr>\n",
       "      <th>2</th>\n",
       "      <td>1</td>\n",
       "      <td>11/06/2010</td>\n",
       "      <td>2.0</td>\n",
       "    </tr>\n",
       "  </tbody>\n",
       "</table>\n",
       "</div>"
      ],
      "text/plain": [
       "   ComplaintType ComplaintDate  SolutionType\n",
       "0              7    14/10/2010           2.0\n",
       "1              1    19/07/2010           2.0\n",
       "2              1    11/06/2010           2.0"
      ]
     },
     "execution_count": 9,
     "metadata": {},
     "output_type": "execute_result"
    }
   ],
   "source": [
    "complain_M.head(3)"
   ]
  },
  {
   "cell_type": "code",
   "execution_count": 10,
   "metadata": {},
   "outputs": [
    {
     "data": {
      "text/plain": [
       "ComplaintType      int64\n",
       "ComplaintDate     object\n",
       "SolutionType     float64\n",
       "dtype: object"
      ]
     },
     "execution_count": 10,
     "metadata": {},
     "output_type": "execute_result"
    }
   ],
   "source": [
    "complain_M.dtypes"
   ]
  },
  {
   "cell_type": "code",
   "execution_count": 11,
   "metadata": {},
   "outputs": [
    {
     "name": "stderr",
     "output_type": "stream",
     "text": [
      "/home/rohan/anaconda3/lib/python3.6/site-packages/ipykernel_launcher.py:1: SettingWithCopyWarning: \n",
      "A value is trying to be set on a copy of a slice from a DataFrame.\n",
      "Try using .loc[row_indexer,col_indexer] = value instead\n",
      "\n",
      "See the caveats in the documentation: http://pandas.pydata.org/pandas-docs/stable/indexing.html#indexing-view-versus-copy\n",
      "  \"\"\"Entry point for launching an IPython kernel.\n"
     ]
    }
   ],
   "source": [
    "complain_M['ComplaintDate'] = pd.to_datetime(complain_M.ComplaintDate)"
   ]
  },
  {
   "cell_type": "code",
   "execution_count": 12,
   "metadata": {},
   "outputs": [
    {
     "data": {
      "text/plain": [
       "ComplaintType             int64\n",
       "ComplaintDate    datetime64[ns]\n",
       "SolutionType            float64\n",
       "dtype: object"
      ]
     },
     "execution_count": 12,
     "metadata": {},
     "output_type": "execute_result"
    }
   ],
   "source": [
    "complain_M.dtypes"
   ]
  },
  {
   "cell_type": "code",
   "execution_count": 13,
   "metadata": {},
   "outputs": [
    {
     "name": "stderr",
     "output_type": "stream",
     "text": [
      "/home/rohan/anaconda3/lib/python3.6/site-packages/pandas/core/generic.py:4401: SettingWithCopyWarning: \n",
      "A value is trying to be set on a copy of a slice from a DataFrame.\n",
      "Try using .loc[row_indexer,col_indexer] = value instead\n",
      "\n",
      "See the caveats in the documentation: http://pandas.pydata.org/pandas-docs/stable/indexing.html#indexing-view-versus-copy\n",
      "  self[name] = value\n"
     ]
    },
    {
     "data": {
      "text/plain": [
       "0    40463\n",
       "1    40376\n",
       "2    40486\n",
       "3    39926\n",
       "4    39943\n",
       "Name: ComplaintDate, dtype: int64"
      ]
     },
     "execution_count": 13,
     "metadata": {},
     "output_type": "execute_result"
    }
   ],
   "source": [
    "complain_M.ComplaintDate = complain_M.ComplaintDate - pd.to_datetime('1900-01-01')\n",
    "complain_M.ComplaintDate  = complain_M.ComplaintDate.dt.days.astype('int')\n",
    "complain_M.ComplaintDate.head()"
   ]
  },
  {
   "cell_type": "code",
   "execution_count": 14,
   "metadata": {},
   "outputs": [
    {
     "data": {
      "text/html": [
       "<div>\n",
       "<style scoped>\n",
       "    .dataframe tbody tr th:only-of-type {\n",
       "        vertical-align: middle;\n",
       "    }\n",
       "\n",
       "    .dataframe tbody tr th {\n",
       "        vertical-align: top;\n",
       "    }\n",
       "\n",
       "    .dataframe thead th {\n",
       "        text-align: right;\n",
       "    }\n",
       "</style>\n",
       "<table border=\"1\" class=\"dataframe\">\n",
       "  <thead>\n",
       "    <tr style=\"text-align: right;\">\n",
       "      <th></th>\n",
       "      <th>ComplaintType</th>\n",
       "      <th>ComplaintDate</th>\n",
       "      <th>SolutionType</th>\n",
       "    </tr>\n",
       "  </thead>\n",
       "  <tbody>\n",
       "    <tr>\n",
       "      <th>0</th>\n",
       "      <td>7</td>\n",
       "      <td>40463</td>\n",
       "      <td>2.0</td>\n",
       "    </tr>\n",
       "    <tr>\n",
       "      <th>1</th>\n",
       "      <td>1</td>\n",
       "      <td>40376</td>\n",
       "      <td>2.0</td>\n",
       "    </tr>\n",
       "  </tbody>\n",
       "</table>\n",
       "</div>"
      ],
      "text/plain": [
       "   ComplaintType  ComplaintDate  SolutionType\n",
       "0              7          40463           2.0\n",
       "1              1          40376           2.0"
      ]
     },
     "execution_count": 14,
     "metadata": {},
     "output_type": "execute_result"
    }
   ],
   "source": [
    "complain_M.head(2)"
   ]
  },
  {
   "cell_type": "code",
   "execution_count": 15,
   "metadata": {},
   "outputs": [
    {
     "name": "stdout",
     "output_type": "stream",
     "text": [
      "train_data: (3033, 3) || predict_data: (1092, 3)\n"
     ]
    }
   ],
   "source": [
    "train = complain_M[complain_M.SolutionType.notnull()]\n",
    "\n",
    "## This is not the testing data but the data on which the model is to be applied\n",
    "predict_test = complain_M[complain_M.SolutionType.isnull()]\n",
    "\n",
    "print('train_data:',train.shape,'|| predict_data:',predict_test.shape)"
   ]
  },
  {
   "cell_type": "code",
   "execution_count": 16,
   "metadata": {},
   "outputs": [],
   "source": [
    "x_train,x_test,y_train,y_test = train_test_split(train[train.columns.difference(['SolutionType'])],train['SolutionType'],test_size = 0.2)"
   ]
  },
  {
   "cell_type": "code",
   "execution_count": 17,
   "metadata": {},
   "outputs": [
    {
     "name": "stdout",
     "output_type": "stream",
     "text": [
      "x_train: (2426, 2) || x_test: (607, 2) || y_train: (2426,) || y_test: (607,)\n"
     ]
    }
   ],
   "source": [
    "print('x_train:',x_train.shape,'|| x_test:',x_test.shape,'|| y_train:',y_train.shape,'|| y_test:',y_test.shape)\n"
   ]
  },
  {
   "cell_type": "code",
   "execution_count": 18,
   "metadata": {},
   "outputs": [
    {
     "data": {
      "text/plain": [
       "GridSearchCV(cv=5, error_score='raise-deprecating',\n",
       "       estimator=KNeighborsClassifier(algorithm='auto', leaf_size=30, metric='minkowski',\n",
       "           metric_params=None, n_jobs=None, n_neighbors=5, p=2,\n",
       "           weights='uniform'),\n",
       "       fit_params=None, iid='warn', n_jobs=None,\n",
       "       param_grid={'n_neighbors': [3, 5, 7, 9], 'leaf_size': [10, 30, 40, 50, 60]},\n",
       "       pre_dispatch='2*n_jobs', refit=True, return_train_score='warn',\n",
       "       scoring='accuracy', verbose=0)"
      ]
     },
     "execution_count": 18,
     "metadata": {},
     "output_type": "execute_result"
    }
   ],
   "source": [
    "knn_grid  = GridSearchCV(KNeighborsClassifier(),{'n_neighbors':[3,5,7,9],'leaf_size':[10,30,40,50,60] },scoring='accuracy',cv=5)\n",
    "knn_grid.fit(x_train,y_train)"
   ]
  },
  {
   "cell_type": "code",
   "execution_count": 19,
   "metadata": {},
   "outputs": [
    {
     "data": {
      "text/plain": [
       "KNeighborsClassifier(algorithm='auto', leaf_size=10, metric='minkowski',\n",
       "           metric_params=None, n_jobs=None, n_neighbors=3, p=2,\n",
       "           weights='uniform')"
      ]
     },
     "execution_count": 19,
     "metadata": {},
     "output_type": "execute_result"
    }
   ],
   "source": [
    "knn_grid.best_estimator_"
   ]
  },
  {
   "cell_type": "code",
   "execution_count": 20,
   "metadata": {},
   "outputs": [
    {
     "data": {
      "text/plain": [
       "KNeighborsClassifier(algorithm='auto', leaf_size=10, metric='minkowski',\n",
       "           metric_params=None, n_jobs=None, n_neighbors=3, p=2,\n",
       "           weights='uniform')"
      ]
     },
     "execution_count": 20,
     "metadata": {},
     "output_type": "execute_result"
    }
   ],
   "source": [
    "knn_grid.best_estimator_"
   ]
  },
  {
   "cell_type": "code",
   "execution_count": 21,
   "metadata": {},
   "outputs": [],
   "source": [
    "test_reault = knn_grid.best_estimator_.predict(x_test)"
   ]
  },
  {
   "cell_type": "code",
   "execution_count": 22,
   "metadata": {},
   "outputs": [
    {
     "data": {
      "text/plain": [
       "0.5601317957166392"
      ]
     },
     "execution_count": 22,
     "metadata": {},
     "output_type": "execute_result"
    }
   ],
   "source": [
    "metrics.accuracy_score(y_test,test_reault)"
   ]
  },
  {
   "cell_type": "markdown",
   "metadata": {},
   "source": [
    "#### -----------------------"
   ]
  },
  {
   "cell_type": "markdown",
   "metadata": {},
   "source": [
    "#### Also tried other methods but the accuracy was too less ~ 50-60%, So sticking with KNN"
   ]
  },
  {
   "cell_type": "code",
   "execution_count": 23,
   "metadata": {},
   "outputs": [],
   "source": [
    "# from sklearn.ensemble import RandomForestClassifier\n",
    "# from sklearn.ensemble import BaggingClassifier\n",
    "# from sklearn.tree import DecisionTreeClassifier\n",
    "\n",
    "# # rf_cls = GridSearchCV(estimator= RandomForestClassifier(oob_score= True),cv = 5,scoring= 'accuracy',\n",
    "# #                       param_grid={'n_estimators':[50,100,200,300],'max_depth':[2,5,10,20]}\n",
    "# #                      )\n",
    "# bag_cls = GridSearchCV(estimator= BaggingClassifier(oob_score= True),cv = 5,scoring= 'accuracy',\n",
    "#                       param_grid={'n_estimators':[100,200,300]},n_jobs = -1\n",
    "#                      )\n",
    "\n",
    "\n",
    "# bag_cls.fit(x_train,y_train)"
   ]
  },
  {
   "cell_type": "markdown",
   "metadata": {},
   "source": [
    "#### Recreating data"
   ]
  },
  {
   "cell_type": "code",
   "execution_count": 24,
   "metadata": {},
   "outputs": [
    {
     "data": {
      "text/html": [
       "<div>\n",
       "<style scoped>\n",
       "    .dataframe tbody tr th:only-of-type {\n",
       "        vertical-align: middle;\n",
       "    }\n",
       "\n",
       "    .dataframe tbody tr th {\n",
       "        vertical-align: top;\n",
       "    }\n",
       "\n",
       "    .dataframe thead th {\n",
       "        text-align: right;\n",
       "    }\n",
       "</style>\n",
       "<table border=\"1\" class=\"dataframe\">\n",
       "  <thead>\n",
       "    <tr style=\"text-align: right;\">\n",
       "      <th></th>\n",
       "      <th>ComplaintType</th>\n",
       "      <th>ComplaintDate</th>\n",
       "      <th>SolutionType</th>\n",
       "    </tr>\n",
       "  </thead>\n",
       "  <tbody>\n",
       "    <tr>\n",
       "      <th>0</th>\n",
       "      <td>7</td>\n",
       "      <td>40463</td>\n",
       "      <td>2.0</td>\n",
       "    </tr>\n",
       "    <tr>\n",
       "      <th>1</th>\n",
       "      <td>1</td>\n",
       "      <td>40376</td>\n",
       "      <td>2.0</td>\n",
       "    </tr>\n",
       "    <tr>\n",
       "      <th>2</th>\n",
       "      <td>1</td>\n",
       "      <td>40486</td>\n",
       "      <td>2.0</td>\n",
       "    </tr>\n",
       "    <tr>\n",
       "      <th>3</th>\n",
       "      <td>1</td>\n",
       "      <td>39926</td>\n",
       "      <td>3.0</td>\n",
       "    </tr>\n",
       "    <tr>\n",
       "      <th>4</th>\n",
       "      <td>1</td>\n",
       "      <td>39943</td>\n",
       "      <td>3.0</td>\n",
       "    </tr>\n",
       "    <tr>\n",
       "      <th>5</th>\n",
       "      <td>1</td>\n",
       "      <td>40216</td>\n",
       "      <td>2.0</td>\n",
       "    </tr>\n",
       "    <tr>\n",
       "      <th>7</th>\n",
       "      <td>1</td>\n",
       "      <td>39436</td>\n",
       "      <td>1.0</td>\n",
       "    </tr>\n",
       "    <tr>\n",
       "      <th>8</th>\n",
       "      <td>1</td>\n",
       "      <td>39365</td>\n",
       "      <td>2.0</td>\n",
       "    </tr>\n",
       "    <tr>\n",
       "      <th>9</th>\n",
       "      <td>1</td>\n",
       "      <td>39932</td>\n",
       "      <td>2.0</td>\n",
       "    </tr>\n",
       "    <tr>\n",
       "      <th>10</th>\n",
       "      <td>1</td>\n",
       "      <td>39860</td>\n",
       "      <td>2.0</td>\n",
       "    </tr>\n",
       "    <tr>\n",
       "      <th>11</th>\n",
       "      <td>1</td>\n",
       "      <td>39767</td>\n",
       "      <td>1.0</td>\n",
       "    </tr>\n",
       "    <tr>\n",
       "      <th>12</th>\n",
       "      <td>1</td>\n",
       "      <td>39772</td>\n",
       "      <td>1.0</td>\n",
       "    </tr>\n",
       "    <tr>\n",
       "      <th>13</th>\n",
       "      <td>1</td>\n",
       "      <td>39672</td>\n",
       "      <td>1.0</td>\n",
       "    </tr>\n",
       "    <tr>\n",
       "      <th>14</th>\n",
       "      <td>1</td>\n",
       "      <td>39966</td>\n",
       "      <td>2.0</td>\n",
       "    </tr>\n",
       "    <tr>\n",
       "      <th>15</th>\n",
       "      <td>1</td>\n",
       "      <td>39966</td>\n",
       "      <td>2.0</td>\n",
       "    </tr>\n",
       "    <tr>\n",
       "      <th>16</th>\n",
       "      <td>1</td>\n",
       "      <td>39866</td>\n",
       "      <td>2.0</td>\n",
       "    </tr>\n",
       "    <tr>\n",
       "      <th>17</th>\n",
       "      <td>1</td>\n",
       "      <td>39862</td>\n",
       "      <td>1.0</td>\n",
       "    </tr>\n",
       "    <tr>\n",
       "      <th>18</th>\n",
       "      <td>1</td>\n",
       "      <td>39863</td>\n",
       "      <td>1.0</td>\n",
       "    </tr>\n",
       "    <tr>\n",
       "      <th>19</th>\n",
       "      <td>9</td>\n",
       "      <td>40082</td>\n",
       "      <td>1.0</td>\n",
       "    </tr>\n",
       "    <tr>\n",
       "      <th>22</th>\n",
       "      <td>1</td>\n",
       "      <td>39613</td>\n",
       "      <td>1.0</td>\n",
       "    </tr>\n",
       "    <tr>\n",
       "      <th>23</th>\n",
       "      <td>9</td>\n",
       "      <td>40244</td>\n",
       "      <td>1.0</td>\n",
       "    </tr>\n",
       "    <tr>\n",
       "      <th>24</th>\n",
       "      <td>9</td>\n",
       "      <td>40336</td>\n",
       "      <td>1.0</td>\n",
       "    </tr>\n",
       "    <tr>\n",
       "      <th>25</th>\n",
       "      <td>9</td>\n",
       "      <td>40416</td>\n",
       "      <td>1.0</td>\n",
       "    </tr>\n",
       "    <tr>\n",
       "      <th>26</th>\n",
       "      <td>9</td>\n",
       "      <td>40419</td>\n",
       "      <td>1.0</td>\n",
       "    </tr>\n",
       "    <tr>\n",
       "      <th>27</th>\n",
       "      <td>9</td>\n",
       "      <td>40366</td>\n",
       "      <td>1.0</td>\n",
       "    </tr>\n",
       "    <tr>\n",
       "      <th>28</th>\n",
       "      <td>9</td>\n",
       "      <td>40418</td>\n",
       "      <td>1.0</td>\n",
       "    </tr>\n",
       "    <tr>\n",
       "      <th>29</th>\n",
       "      <td>9</td>\n",
       "      <td>40489</td>\n",
       "      <td>1.0</td>\n",
       "    </tr>\n",
       "    <tr>\n",
       "      <th>30</th>\n",
       "      <td>9</td>\n",
       "      <td>40458</td>\n",
       "      <td>1.0</td>\n",
       "    </tr>\n",
       "    <tr>\n",
       "      <th>31</th>\n",
       "      <td>9</td>\n",
       "      <td>40216</td>\n",
       "      <td>1.0</td>\n",
       "    </tr>\n",
       "    <tr>\n",
       "      <th>32</th>\n",
       "      <td>9</td>\n",
       "      <td>40428</td>\n",
       "      <td>1.0</td>\n",
       "    </tr>\n",
       "    <tr>\n",
       "      <th>...</th>\n",
       "      <td>...</td>\n",
       "      <td>...</td>\n",
       "      <td>...</td>\n",
       "    </tr>\n",
       "    <tr>\n",
       "      <th>4095</th>\n",
       "      <td>1</td>\n",
       "      <td>40454</td>\n",
       "      <td>2.0</td>\n",
       "    </tr>\n",
       "    <tr>\n",
       "      <th>4096</th>\n",
       "      <td>1</td>\n",
       "      <td>40470</td>\n",
       "      <td>2.0</td>\n",
       "    </tr>\n",
       "    <tr>\n",
       "      <th>4097</th>\n",
       "      <td>1</td>\n",
       "      <td>40462</td>\n",
       "      <td>2.0</td>\n",
       "    </tr>\n",
       "    <tr>\n",
       "      <th>4098</th>\n",
       "      <td>1</td>\n",
       "      <td>40474</td>\n",
       "      <td>1.0</td>\n",
       "    </tr>\n",
       "    <tr>\n",
       "      <th>4099</th>\n",
       "      <td>1</td>\n",
       "      <td>40405</td>\n",
       "      <td>1.0</td>\n",
       "    </tr>\n",
       "    <tr>\n",
       "      <th>4100</th>\n",
       "      <td>1</td>\n",
       "      <td>40448</td>\n",
       "      <td>2.0</td>\n",
       "    </tr>\n",
       "    <tr>\n",
       "      <th>4101</th>\n",
       "      <td>1</td>\n",
       "      <td>40448</td>\n",
       "      <td>1.0</td>\n",
       "    </tr>\n",
       "    <tr>\n",
       "      <th>4102</th>\n",
       "      <td>1</td>\n",
       "      <td>40395</td>\n",
       "      <td>1.0</td>\n",
       "    </tr>\n",
       "    <tr>\n",
       "      <th>4103</th>\n",
       "      <td>1</td>\n",
       "      <td>40303</td>\n",
       "      <td>1.0</td>\n",
       "    </tr>\n",
       "    <tr>\n",
       "      <th>4104</th>\n",
       "      <td>1</td>\n",
       "      <td>40537</td>\n",
       "      <td>2.0</td>\n",
       "    </tr>\n",
       "    <tr>\n",
       "      <th>4105</th>\n",
       "      <td>1</td>\n",
       "      <td>40534</td>\n",
       "      <td>1.0</td>\n",
       "    </tr>\n",
       "    <tr>\n",
       "      <th>4106</th>\n",
       "      <td>1</td>\n",
       "      <td>40502</td>\n",
       "      <td>2.0</td>\n",
       "    </tr>\n",
       "    <tr>\n",
       "      <th>4107</th>\n",
       "      <td>1</td>\n",
       "      <td>40365</td>\n",
       "      <td>1.0</td>\n",
       "    </tr>\n",
       "    <tr>\n",
       "      <th>4108</th>\n",
       "      <td>1</td>\n",
       "      <td>40370</td>\n",
       "      <td>1.0</td>\n",
       "    </tr>\n",
       "    <tr>\n",
       "      <th>4109</th>\n",
       "      <td>1</td>\n",
       "      <td>40371</td>\n",
       "      <td>1.0</td>\n",
       "    </tr>\n",
       "    <tr>\n",
       "      <th>4110</th>\n",
       "      <td>1</td>\n",
       "      <td>40517</td>\n",
       "      <td>1.0</td>\n",
       "    </tr>\n",
       "    <tr>\n",
       "      <th>4111</th>\n",
       "      <td>1</td>\n",
       "      <td>40372</td>\n",
       "      <td>1.0</td>\n",
       "    </tr>\n",
       "    <tr>\n",
       "      <th>4112</th>\n",
       "      <td>1</td>\n",
       "      <td>40373</td>\n",
       "      <td>1.0</td>\n",
       "    </tr>\n",
       "    <tr>\n",
       "      <th>4113</th>\n",
       "      <td>1</td>\n",
       "      <td>40534</td>\n",
       "      <td>1.0</td>\n",
       "    </tr>\n",
       "    <tr>\n",
       "      <th>4114</th>\n",
       "      <td>1</td>\n",
       "      <td>40559</td>\n",
       "      <td>2.0</td>\n",
       "    </tr>\n",
       "    <tr>\n",
       "      <th>4115</th>\n",
       "      <td>3</td>\n",
       "      <td>40454</td>\n",
       "      <td>2.0</td>\n",
       "    </tr>\n",
       "    <tr>\n",
       "      <th>4116</th>\n",
       "      <td>1</td>\n",
       "      <td>40431</td>\n",
       "      <td>2.0</td>\n",
       "    </tr>\n",
       "    <tr>\n",
       "      <th>4117</th>\n",
       "      <td>1</td>\n",
       "      <td>40413</td>\n",
       "      <td>2.0</td>\n",
       "    </tr>\n",
       "    <tr>\n",
       "      <th>4118</th>\n",
       "      <td>1</td>\n",
       "      <td>40416</td>\n",
       "      <td>2.0</td>\n",
       "    </tr>\n",
       "    <tr>\n",
       "      <th>4119</th>\n",
       "      <td>1</td>\n",
       "      <td>40515</td>\n",
       "      <td>1.0</td>\n",
       "    </tr>\n",
       "    <tr>\n",
       "      <th>4120</th>\n",
       "      <td>8</td>\n",
       "      <td>40285</td>\n",
       "      <td>3.0</td>\n",
       "    </tr>\n",
       "    <tr>\n",
       "      <th>4121</th>\n",
       "      <td>1</td>\n",
       "      <td>40285</td>\n",
       "      <td>1.0</td>\n",
       "    </tr>\n",
       "    <tr>\n",
       "      <th>4122</th>\n",
       "      <td>1</td>\n",
       "      <td>40304</td>\n",
       "      <td>2.0</td>\n",
       "    </tr>\n",
       "    <tr>\n",
       "      <th>4123</th>\n",
       "      <td>1</td>\n",
       "      <td>40215</td>\n",
       "      <td>1.0</td>\n",
       "    </tr>\n",
       "    <tr>\n",
       "      <th>4124</th>\n",
       "      <td>1</td>\n",
       "      <td>40534</td>\n",
       "      <td>1.0</td>\n",
       "    </tr>\n",
       "  </tbody>\n",
       "</table>\n",
       "<p>3033 rows × 3 columns</p>\n",
       "</div>"
      ],
      "text/plain": [
       "      ComplaintType  ComplaintDate  SolutionType\n",
       "0                 7          40463           2.0\n",
       "1                 1          40376           2.0\n",
       "2                 1          40486           2.0\n",
       "3                 1          39926           3.0\n",
       "4                 1          39943           3.0\n",
       "5                 1          40216           2.0\n",
       "7                 1          39436           1.0\n",
       "8                 1          39365           2.0\n",
       "9                 1          39932           2.0\n",
       "10                1          39860           2.0\n",
       "11                1          39767           1.0\n",
       "12                1          39772           1.0\n",
       "13                1          39672           1.0\n",
       "14                1          39966           2.0\n",
       "15                1          39966           2.0\n",
       "16                1          39866           2.0\n",
       "17                1          39862           1.0\n",
       "18                1          39863           1.0\n",
       "19                9          40082           1.0\n",
       "22                1          39613           1.0\n",
       "23                9          40244           1.0\n",
       "24                9          40336           1.0\n",
       "25                9          40416           1.0\n",
       "26                9          40419           1.0\n",
       "27                9          40366           1.0\n",
       "28                9          40418           1.0\n",
       "29                9          40489           1.0\n",
       "30                9          40458           1.0\n",
       "31                9          40216           1.0\n",
       "32                9          40428           1.0\n",
       "...             ...            ...           ...\n",
       "4095              1          40454           2.0\n",
       "4096              1          40470           2.0\n",
       "4097              1          40462           2.0\n",
       "4098              1          40474           1.0\n",
       "4099              1          40405           1.0\n",
       "4100              1          40448           2.0\n",
       "4101              1          40448           1.0\n",
       "4102              1          40395           1.0\n",
       "4103              1          40303           1.0\n",
       "4104              1          40537           2.0\n",
       "4105              1          40534           1.0\n",
       "4106              1          40502           2.0\n",
       "4107              1          40365           1.0\n",
       "4108              1          40370           1.0\n",
       "4109              1          40371           1.0\n",
       "4110              1          40517           1.0\n",
       "4111              1          40372           1.0\n",
       "4112              1          40373           1.0\n",
       "4113              1          40534           1.0\n",
       "4114              1          40559           2.0\n",
       "4115              3          40454           2.0\n",
       "4116              1          40431           2.0\n",
       "4117              1          40413           2.0\n",
       "4118              1          40416           2.0\n",
       "4119              1          40515           1.0\n",
       "4120              8          40285           3.0\n",
       "4121              1          40285           1.0\n",
       "4122              1          40304           2.0\n",
       "4123              1          40215           1.0\n",
       "4124              1          40534           1.0\n",
       "\n",
       "[3033 rows x 3 columns]"
      ]
     },
     "execution_count": 24,
     "metadata": {},
     "output_type": "execute_result"
    }
   ],
   "source": [
    "train"
   ]
  },
  {
   "cell_type": "markdown",
   "metadata": {},
   "source": [
    "### --------------------------------------------------------------------------------------------------------------------------"
   ]
  }
 ],
 "metadata": {
  "kernelspec": {
   "display_name": "Python 3",
   "language": "python",
   "name": "python3"
  },
  "language_info": {
   "codemirror_mode": {
    "name": "ipython",
    "version": 3
   },
   "file_extension": ".py",
   "mimetype": "text/x-python",
   "name": "python",
   "nbconvert_exporter": "python",
   "pygments_lexer": "ipython3",
   "version": "3.6.5"
  }
 },
 "nbformat": 4,
 "nbformat_minor": 2
}
