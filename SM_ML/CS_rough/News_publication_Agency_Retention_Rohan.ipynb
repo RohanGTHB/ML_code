{
 "cells": [
  {
   "cell_type": "markdown",
   "metadata": {},
   "source": [
    "# Importing Library"
   ]
  },
  {
   "cell_type": "code",
   "execution_count": 2,
   "metadata": {},
   "outputs": [
    {
     "data": {
      "text/html": [
       "<div>\n",
       "<style scoped>\n",
       "    .dataframe tbody tr th:only-of-type {\n",
       "        vertical-align: middle;\n",
       "    }\n",
       "\n",
       "    .dataframe tbody tr th {\n",
       "        vertical-align: top;\n",
       "    }\n",
       "\n",
       "    .dataframe thead th {\n",
       "        text-align: right;\n",
       "    }\n",
       "</style>\n",
       "<table border=\"1\" class=\"dataframe\">\n",
       "  <thead>\n",
       "    <tr style=\"text-align: right;\">\n",
       "      <th></th>\n",
       "      <th>Time_differ</th>\n",
       "      <th>Break_time</th>\n",
       "      <th>Lunch_time</th>\n",
       "    </tr>\n",
       "  </thead>\n",
       "  <tbody>\n",
       "    <tr>\n",
       "      <th>0</th>\n",
       "      <td>00:20:18</td>\n",
       "      <td>00:00:00</td>\n",
       "      <td>01:40:40</td>\n",
       "    </tr>\n",
       "    <tr>\n",
       "      <th>1</th>\n",
       "      <td>00:20:18</td>\n",
       "      <td>00:30:18</td>\n",
       "      <td>01:40:30</td>\n",
       "    </tr>\n",
       "    <tr>\n",
       "      <th>2</th>\n",
       "      <td>04:20:18</td>\n",
       "      <td>00:00:00</td>\n",
       "      <td>02:40:30</td>\n",
       "    </tr>\n",
       "    <tr>\n",
       "      <th>3</th>\n",
       "      <td>00:20:18</td>\n",
       "      <td>00:20:18</td>\n",
       "      <td>03:40:30</td>\n",
       "    </tr>\n",
       "    <tr>\n",
       "      <th>4</th>\n",
       "      <td>00:00:00</td>\n",
       "      <td>00:30:18</td>\n",
       "      <td>04:40:30</td>\n",
       "    </tr>\n",
       "    <tr>\n",
       "      <th>5</th>\n",
       "      <td>00:20:18</td>\n",
       "      <td>00:20:18</td>\n",
       "      <td>05:40:30</td>\n",
       "    </tr>\n",
       "  </tbody>\n",
       "</table>\n",
       "</div>"
      ],
      "text/plain": [
       "  Time_differ Break_time Lunch_time\n",
       "0    00:20:18   00:00:00   01:40:40\n",
       "1    00:20:18   00:30:18   01:40:30\n",
       "2    04:20:18   00:00:00   02:40:30\n",
       "3    00:20:18   00:20:18   03:40:30\n",
       "4    00:00:00   00:30:18   04:40:30\n",
       "5    00:20:18   00:20:18   05:40:30"
      ]
     },
     "execution_count": 2,
     "metadata": {},
     "output_type": "execute_result"
    }
   ],
   "source": [
    "import pandas as pd\n",
    "from datetime import datetime,date\n",
    "data = pd.read_excel('/home/rohan/Desktop/test.xlsx')\n",
    "data"
   ]
  },
  {
   "cell_type": "code",
   "execution_count": 15,
   "metadata": {},
   "outputs": [
    {
     "data": {
      "text/html": [
       "<div>\n",
       "<style scoped>\n",
       "    .dataframe tbody tr th:only-of-type {\n",
       "        vertical-align: middle;\n",
       "    }\n",
       "\n",
       "    .dataframe tbody tr th {\n",
       "        vertical-align: top;\n",
       "    }\n",
       "\n",
       "    .dataframe thead th {\n",
       "        text-align: right;\n",
       "    }\n",
       "</style>\n",
       "<table border=\"1\" class=\"dataframe\">\n",
       "  <thead>\n",
       "    <tr style=\"text-align: right;\">\n",
       "      <th></th>\n",
       "      <th>Time_differ</th>\n",
       "      <th>Break_time</th>\n",
       "    </tr>\n",
       "  </thead>\n",
       "  <tbody>\n",
       "    <tr>\n",
       "      <th>0</th>\n",
       "      <td>2019-01-22 00:20:18</td>\n",
       "      <td>2019-01-22 00:00:00</td>\n",
       "    </tr>\n",
       "    <tr>\n",
       "      <th>1</th>\n",
       "      <td>2019-01-22 00:20:18</td>\n",
       "      <td>2019-01-22 00:30:18</td>\n",
       "    </tr>\n",
       "    <tr>\n",
       "      <th>2</th>\n",
       "      <td>2019-01-22 04:20:18</td>\n",
       "      <td>2019-01-22 00:00:00</td>\n",
       "    </tr>\n",
       "    <tr>\n",
       "      <th>3</th>\n",
       "      <td>2019-01-22 00:20:18</td>\n",
       "      <td>2019-01-22 00:20:18</td>\n",
       "    </tr>\n",
       "    <tr>\n",
       "      <th>4</th>\n",
       "      <td>2019-01-22 00:00:00</td>\n",
       "      <td>2019-01-22 00:30:18</td>\n",
       "    </tr>\n",
       "    <tr>\n",
       "      <th>5</th>\n",
       "      <td>2019-01-22 00:20:18</td>\n",
       "      <td>2019-01-22 00:20:18</td>\n",
       "    </tr>\n",
       "  </tbody>\n",
       "</table>\n",
       "</div>"
      ],
      "text/plain": [
       "          Time_differ          Break_time\n",
       "0 2019-01-22 00:20:18 2019-01-22 00:00:00\n",
       "1 2019-01-22 00:20:18 2019-01-22 00:30:18\n",
       "2 2019-01-22 04:20:18 2019-01-22 00:00:00\n",
       "3 2019-01-22 00:20:18 2019-01-22 00:20:18\n",
       "4 2019-01-22 00:00:00 2019-01-22 00:30:18\n",
       "5 2019-01-22 00:20:18 2019-01-22 00:20:18"
      ]
     },
     "execution_count": 15,
     "metadata": {},
     "output_type": "execute_result"
    }
   ],
   "source": [
    "data[['Time_differ','Break_time']]x"
   ]
  },
  {
   "cell_type": "code",
   "execution_count": 4,
   "metadata": {},
   "outputs": [
    {
     "data": {
      "text/plain": [
       "Time_differ    object\n",
       "Break_time     object\n",
       "Lunch_time     object\n",
       "dtype: object"
      ]
     },
     "execution_count": 4,
     "metadata": {},
     "output_type": "execute_result"
    }
   ],
   "source": [
    "data.dtypes"
   ]
  },
  {
   "cell_type": "code",
   "execution_count": 12,
   "metadata": {},
   "outputs": [
    {
     "data": {
      "text/html": [
       "<div>\n",
       "<style scoped>\n",
       "    .dataframe tbody tr th:only-of-type {\n",
       "        vertical-align: middle;\n",
       "    }\n",
       "\n",
       "    .dataframe tbody tr th {\n",
       "        vertical-align: top;\n",
       "    }\n",
       "\n",
       "    .dataframe thead th {\n",
       "        text-align: right;\n",
       "    }\n",
       "</style>\n",
       "<table border=\"1\" class=\"dataframe\">\n",
       "  <thead>\n",
       "    <tr style=\"text-align: right;\">\n",
       "      <th></th>\n",
       "      <th>Time_differ</th>\n",
       "      <th>Break_time</th>\n",
       "      <th>Lunch_time</th>\n",
       "    </tr>\n",
       "  </thead>\n",
       "  <tbody>\n",
       "    <tr>\n",
       "      <th>0</th>\n",
       "      <td>2019-01-22 00:20:18</td>\n",
       "      <td>2019-01-22 00:00:00</td>\n",
       "      <td>2019-01-22 01:40:40</td>\n",
       "    </tr>\n",
       "    <tr>\n",
       "      <th>1</th>\n",
       "      <td>2019-01-22 00:20:18</td>\n",
       "      <td>2019-01-22 00:30:18</td>\n",
       "      <td>2019-01-22 01:40:30</td>\n",
       "    </tr>\n",
       "    <tr>\n",
       "      <th>2</th>\n",
       "      <td>2019-01-22 04:20:18</td>\n",
       "      <td>2019-01-22 00:00:00</td>\n",
       "      <td>2019-01-22 02:40:30</td>\n",
       "    </tr>\n",
       "    <tr>\n",
       "      <th>3</th>\n",
       "      <td>2019-01-22 00:20:18</td>\n",
       "      <td>2019-01-22 00:20:18</td>\n",
       "      <td>2019-01-22 03:40:30</td>\n",
       "    </tr>\n",
       "    <tr>\n",
       "      <th>4</th>\n",
       "      <td>2019-01-22 00:00:00</td>\n",
       "      <td>2019-01-22 00:30:18</td>\n",
       "      <td>2019-01-22 04:40:30</td>\n",
       "    </tr>\n",
       "    <tr>\n",
       "      <th>5</th>\n",
       "      <td>2019-01-22 00:20:18</td>\n",
       "      <td>2019-01-22 00:20:18</td>\n",
       "      <td>2019-01-22 05:40:30</td>\n",
       "    </tr>\n",
       "  </tbody>\n",
       "</table>\n",
       "</div>"
      ],
      "text/plain": [
       "          Time_differ          Break_time          Lunch_time\n",
       "0 2019-01-22 00:20:18 2019-01-22 00:00:00 2019-01-22 01:40:40\n",
       "1 2019-01-22 00:20:18 2019-01-22 00:30:18 2019-01-22 01:40:30\n",
       "2 2019-01-22 04:20:18 2019-01-22 00:00:00 2019-01-22 02:40:30\n",
       "3 2019-01-22 00:20:18 2019-01-22 00:20:18 2019-01-22 03:40:30\n",
       "4 2019-01-22 00:00:00 2019-01-22 00:30:18 2019-01-22 04:40:30\n",
       "5 2019-01-22 00:20:18 2019-01-22 00:20:18 2019-01-22 05:40:30"
      ]
     },
     "execution_count": 12,
     "metadata": {},
     "output_type": "execute_result"
    }
   ],
   "source": [
    "#data = data.applymap(lambda x:datetime.combine(date.today(),x))\n",
    "data"
   ]
  },
  {
   "cell_type": "code",
   "execution_count": 13,
   "metadata": {},
   "outputs": [
    {
     "data": {
      "text/plain": [
       "Time_differ    datetime64[ns]\n",
       "Break_time     datetime64[ns]\n",
       "Lunch_time     datetime64[ns]\n",
       "dtype: object"
      ]
     },
     "execution_count": 13,
     "metadata": {},
     "output_type": "execute_result"
    }
   ],
   "source": [
    "data.dtypes"
   ]
  },
  {
   "cell_type": "code",
   "execution_count": 14,
   "metadata": {},
   "outputs": [
    {
     "data": {
      "text/plain": [
       "0            00:20:18\n",
       "1   -1 days +23:50:00\n",
       "2            04:20:18\n",
       "3            00:00:00\n",
       "4   -1 days +23:29:42\n",
       "5            00:00:00\n",
       "dtype: timedelta64[ns]"
      ]
     },
     "execution_count": 14,
     "metadata": {},
     "output_type": "execute_result"
    }
   ],
   "source": [
    "data.Time_differ - data.Break_time"
   ]
  },
  {
   "cell_type": "code",
   "execution_count": null,
   "metadata": {},
   "outputs": [],
   "source": []
  },
  {
   "cell_type": "markdown",
   "metadata": {},
   "source": [
    "# ----------------------------------------CaseStudy---------------------------------------------"
   ]
  },
  {
   "cell_type": "code",
   "execution_count": 2,
   "metadata": {},
   "outputs": [],
   "source": [
    "import pandas as pd\n",
    "import numpy as np\n",
    "#import matplotlib.pyplot as plt\n",
    "#%matplotlib inline\n",
    "import seaborn as sns\n",
    "\n",
    "#____________________________________________________\n",
    "\n",
    "from sklearn.model_selection import train_test_split, GridSearchCV,cross_val_score\n",
    "from sklearn import metrics\n",
    "import pandas_profiling\n",
    "from sklearn.neighbors import KNeighborsClassifier "
   ]
  },
  {
   "cell_type": "markdown",
   "metadata": {},
   "source": [
    "# Datasets"
   ]
  },
  {
   "cell_type": "markdown",
   "metadata": {},
   "source": [
    "###### convert all dates to Datetime from object type"
   ]
  },
  {
   "cell_type": "markdown",
   "metadata": {},
   "source": [
    "# ------------------------------------------Customer_details------------------------------------"
   ]
  },
  {
   "cell_type": "markdown",
   "metadata": {},
   "source": [
    "- Gender has 99 / 4.2% missing values Missing --> RandomFill\n",
    "- StreeID has 39 / 1.7% zeros Zeros --> Randomfill\n",
    "- DOB - object --> convert dtype"
   ]
  },
  {
   "cell_type": "code",
   "execution_count": 321,
   "metadata": {},
   "outputs": [
    {
     "data": {
      "text/html": [
       "<div>\n",
       "<style scoped>\n",
       "    .dataframe tbody tr th:only-of-type {\n",
       "        vertical-align: middle;\n",
       "    }\n",
       "\n",
       "    .dataframe tbody tr th {\n",
       "        vertical-align: top;\n",
       "    }\n",
       "\n",
       "    .dataframe thead th {\n",
       "        text-align: right;\n",
       "    }\n",
       "</style>\n",
       "<table border=\"1\" class=\"dataframe\">\n",
       "  <thead>\n",
       "    <tr style=\"text-align: right;\">\n",
       "      <th></th>\n",
       "      <th>CustomerID</th>\n",
       "      <th>Gender</th>\n",
       "      <th>DOB</th>\n",
       "      <th>District</th>\n",
       "      <th>ZIP</th>\n",
       "      <th>StreeID</th>\n",
       "    </tr>\n",
       "  </thead>\n",
       "  <tbody>\n",
       "    <tr>\n",
       "      <th>0</th>\n",
       "      <td>908289</td>\n",
       "      <td>F</td>\n",
       "      <td>24/01/1957</td>\n",
       "      <td>5</td>\n",
       "      <td>3660</td>\n",
       "      <td>42555</td>\n",
       "    </tr>\n",
       "    <tr>\n",
       "      <th>1</th>\n",
       "      <td>55837</td>\n",
       "      <td>M</td>\n",
       "      <td>31/01/1948</td>\n",
       "      <td>1</td>\n",
       "      <td>2620</td>\n",
       "      <td>24910</td>\n",
       "    </tr>\n",
       "  </tbody>\n",
       "</table>\n",
       "</div>"
      ],
      "text/plain": [
       "   CustomerID Gender         DOB  District   ZIP  StreeID\n",
       "0      908289      F  24/01/1957         5  3660    42555\n",
       "1       55837      M  31/01/1948         1  2620    24910"
      ]
     },
     "execution_count": 321,
     "metadata": {},
     "output_type": "execute_result"
    }
   ],
   "source": [
    "cust = pd.read_csv('/home/rohan/Documents/ROHAN_DA/ALABS/___STATS___ -  cls 10 onwards/Class_20 Case_study_ML/Case_study/1. NEWS PUBLISHING COMPANY-CLASSIFICATION-ATTRITION/2 - NPC Retention Data/customers.txt',sep=\";\")\n",
    "cust.head(2)"
   ]
  },
  {
   "cell_type": "code",
   "execution_count": 324,
   "metadata": {},
   "outputs": [
    {
     "data": {
      "text/plain": [
       "True"
      ]
     },
     "execution_count": 324,
     "metadata": {},
     "output_type": "execute_result"
    }
   ],
   "source": [
    "# checking if the primary is repetitive\n",
    "cust.CustomerID.nunique() == cust.shape[0]"
   ]
  },
  {
   "cell_type": "code",
   "execution_count": 202,
   "metadata": {},
   "outputs": [
    {
     "data": {
      "text/html": [
       "<div>\n",
       "<style scoped>\n",
       "    .dataframe tbody tr th:only-of-type {\n",
       "        vertical-align: middle;\n",
       "    }\n",
       "\n",
       "    .dataframe tbody tr th {\n",
       "        vertical-align: top;\n",
       "    }\n",
       "\n",
       "    .dataframe thead th {\n",
       "        text-align: right;\n",
       "    }\n",
       "</style>\n",
       "<table border=\"1\" class=\"dataframe\">\n",
       "  <thead>\n",
       "    <tr style=\"text-align: right;\">\n",
       "      <th></th>\n",
       "      <th>count</th>\n",
       "      <th>mean</th>\n",
       "      <th>std</th>\n",
       "      <th>min</th>\n",
       "      <th>25%</th>\n",
       "      <th>50%</th>\n",
       "      <th>75%</th>\n",
       "      <th>max</th>\n",
       "    </tr>\n",
       "  </thead>\n",
       "  <tbody>\n",
       "    <tr>\n",
       "      <th>CustomerID</th>\n",
       "      <td>2356.0</td>\n",
       "      <td>534904.313243</td>\n",
       "      <td>382112.919352</td>\n",
       "      <td>3407.0</td>\n",
       "      <td>130850.25</td>\n",
       "      <td>616509.0</td>\n",
       "      <td>852283.5</td>\n",
       "      <td>1167808.0</td>\n",
       "    </tr>\n",
       "    <tr>\n",
       "      <th>District</th>\n",
       "      <td>2356.0</td>\n",
       "      <td>3.455008</td>\n",
       "      <td>2.045992</td>\n",
       "      <td>1.0</td>\n",
       "      <td>1.00</td>\n",
       "      <td>5.0</td>\n",
       "      <td>5.0</td>\n",
       "      <td>8.0</td>\n",
       "    </tr>\n",
       "    <tr>\n",
       "      <th>ZIP</th>\n",
       "      <td>2356.0</td>\n",
       "      <td>3432.750424</td>\n",
       "      <td>1272.641443</td>\n",
       "      <td>1070.0</td>\n",
       "      <td>2640.00</td>\n",
       "      <td>3530.0</td>\n",
       "      <td>3700.0</td>\n",
       "      <td>9800.0</td>\n",
       "    </tr>\n",
       "    <tr>\n",
       "      <th>StreeID</th>\n",
       "      <td>2356.0</td>\n",
       "      <td>36592.521647</td>\n",
       "      <td>17942.070858</td>\n",
       "      <td>0.0</td>\n",
       "      <td>25083.00</td>\n",
       "      <td>38524.5</td>\n",
       "      <td>43773.5</td>\n",
       "      <td>146620.0</td>\n",
       "    </tr>\n",
       "  </tbody>\n",
       "</table>\n",
       "</div>"
      ],
      "text/plain": [
       "             count           mean            std     min        25%       50%  \\\n",
       "CustomerID  2356.0  534904.313243  382112.919352  3407.0  130850.25  616509.0   \n",
       "District    2356.0       3.455008       2.045992     1.0       1.00       5.0   \n",
       "ZIP         2356.0    3432.750424    1272.641443  1070.0    2640.00    3530.0   \n",
       "StreeID     2356.0   36592.521647   17942.070858     0.0   25083.00   38524.5   \n",
       "\n",
       "                 75%        max  \n",
       "CustomerID  852283.5  1167808.0  \n",
       "District         5.0        8.0  \n",
       "ZIP           3700.0     9800.0  \n",
       "StreeID      43773.5   146620.0  "
      ]
     },
     "execution_count": 202,
     "metadata": {},
     "output_type": "execute_result"
    }
   ],
   "source": [
    "cust.describe().T"
   ]
  },
  {
   "cell_type": "markdown",
   "metadata": {},
   "source": [
    "- Fixing StreeiD by filling it with Random values bw (20000,50000)\n",
    "- We are doing it randomly coz only 2% values are 0 so we can do it."
   ]
  },
  {
   "cell_type": "code",
   "execution_count": 431,
   "metadata": {},
   "outputs": [],
   "source": [
    "## using replace to replace a particular value in a DF column with random values.\n",
    "#cust.replace('StrrID',{0:np.arange(1,39)})"
   ]
  },
  {
   "cell_type": "code",
   "execution_count": 7,
   "metadata": {},
   "outputs": [],
   "source": [
    "cust.loc[cust.StreeID == 0,['StreeID']]  = cust[cust.StreeID == 0].StreeID.apply(lambda x:np.random.randint(20000,50000))\n",
    "#cust[cust0,cust[cust.StreeID == 0].StreeID.apply(lambda x:np.random.randint(20000,50000)))\n"
   ]
  },
  {
   "cell_type": "markdown",
   "metadata": {},
   "source": [
    "- Limit arg provides the flexibility to fill first n values with a speified_value"
   ]
  },
  {
   "cell_type": "code",
   "execution_count": 10,
   "metadata": {},
   "outputs": [
    {
     "data": {
      "text/plain": [
       "0"
      ]
     },
     "execution_count": 10,
     "metadata": {},
     "output_type": "execute_result"
    }
   ],
   "source": [
    "# Filliing half M and half F using Limit argument in Fill_Na\n",
    "#cust.Gender.fillna('F',limit= 50,inplace= True)\n",
    "#cust.Gender.fillna('M',limit= 50,inplace= True)\n",
    "cust.Gender.isnull().sum()"
   ]
  },
  {
   "cell_type": "code",
   "execution_count": 12,
   "metadata": {},
   "outputs": [
    {
     "data": {
      "text/html": [
       "<div>\n",
       "<style scoped>\n",
       "    .dataframe tbody tr th:only-of-type {\n",
       "        vertical-align: middle;\n",
       "    }\n",
       "\n",
       "    .dataframe tbody tr th {\n",
       "        vertical-align: top;\n",
       "    }\n",
       "\n",
       "    .dataframe thead th {\n",
       "        text-align: right;\n",
       "    }\n",
       "</style>\n",
       "<table border=\"1\" class=\"dataframe\">\n",
       "  <thead>\n",
       "    <tr style=\"text-align: right;\">\n",
       "      <th></th>\n",
       "      <th>count</th>\n",
       "      <th>mean</th>\n",
       "      <th>std</th>\n",
       "      <th>min</th>\n",
       "      <th>25%</th>\n",
       "      <th>50%</th>\n",
       "      <th>75%</th>\n",
       "      <th>max</th>\n",
       "    </tr>\n",
       "  </thead>\n",
       "  <tbody>\n",
       "    <tr>\n",
       "      <th>CustomerID</th>\n",
       "      <td>2356.0</td>\n",
       "      <td>534904.313243</td>\n",
       "      <td>382112.919352</td>\n",
       "      <td>3407.0</td>\n",
       "      <td>130850.25</td>\n",
       "      <td>616509.0</td>\n",
       "      <td>852283.50</td>\n",
       "      <td>1167808.0</td>\n",
       "    </tr>\n",
       "    <tr>\n",
       "      <th>District</th>\n",
       "      <td>2356.0</td>\n",
       "      <td>3.455008</td>\n",
       "      <td>2.045992</td>\n",
       "      <td>1.0</td>\n",
       "      <td>1.00</td>\n",
       "      <td>5.0</td>\n",
       "      <td>5.00</td>\n",
       "      <td>8.0</td>\n",
       "    </tr>\n",
       "    <tr>\n",
       "      <th>ZIP</th>\n",
       "      <td>2356.0</td>\n",
       "      <td>3432.750424</td>\n",
       "      <td>1272.641443</td>\n",
       "      <td>1070.0</td>\n",
       "      <td>2640.00</td>\n",
       "      <td>3530.0</td>\n",
       "      <td>3700.00</td>\n",
       "      <td>9800.0</td>\n",
       "    </tr>\n",
       "    <tr>\n",
       "      <th>StreeID</th>\n",
       "      <td>2356.0</td>\n",
       "      <td>37159.372666</td>\n",
       "      <td>17344.839571</td>\n",
       "      <td>2251.0</td>\n",
       "      <td>25367.50</td>\n",
       "      <td>38676.5</td>\n",
       "      <td>43818.25</td>\n",
       "      <td>146620.0</td>\n",
       "    </tr>\n",
       "  </tbody>\n",
       "</table>\n",
       "</div>"
      ],
      "text/plain": [
       "             count           mean            std     min        25%       50%  \\\n",
       "CustomerID  2356.0  534904.313243  382112.919352  3407.0  130850.25  616509.0   \n",
       "District    2356.0       3.455008       2.045992     1.0       1.00       5.0   \n",
       "ZIP         2356.0    3432.750424    1272.641443  1070.0    2640.00    3530.0   \n",
       "StreeID     2356.0   37159.372666   17344.839571  2251.0   25367.50   38676.5   \n",
       "\n",
       "                  75%        max  \n",
       "CustomerID  852283.50  1167808.0  \n",
       "District         5.00        8.0  \n",
       "ZIP           3700.00     9800.0  \n",
       "StreeID      43818.25   146620.0  "
      ]
     },
     "execution_count": 12,
     "metadata": {},
     "output_type": "execute_result"
    }
   ],
   "source": [
    "cust.describe().T"
   ]
  },
  {
   "cell_type": "markdown",
   "metadata": {},
   "source": [
    "# ------------------------------------------subscription-----------------------------------------------"
   ]
  },
  {
   "cell_type": "markdown",
   "metadata": {},
   "source": [
    "###### A lot of variables are highly corelated,so we can consider removing a few\n",
    "\n",
    "\n",
    "- FormulaDiscount has 334 / 2.2% missing values Missing --> Drop it || ~ Total discount\n",
    "- FormulaID has 334 / 2.2% missing values Missing \n",
    "- GrossFormulaPrice has 334 / 2.2% missing values Missing --> Drop it || ~ NFP--> Total Price\n",
    "- NetFormulaPrice has 334 / 2.2% missing values Missing --> Drop it || ~ Total Price\n",
    "- NetNewspaperPrice has 334 / 2.2% missing values Missing --> Drop it || ~ Total Price\n",
    "- ProductDiscount has 334 / 2.2% missing values Missing --> Drop it || ~ Total discount\n",
    "- TotalCredit has 4877 / 31.5% missing values Missing \n",
    "- TotalDiscount has 334 / 2.2% missing values Missing\n",
    "- TotalPrice has 334 / 2.2% missing values Missing\n",
    "- Unnamed: 4 has 15459 / 99.9% missing values Missing --> Drop it\n",
    "- nbrNewspaper - Drop it || ~ Totalprice\n",
    "- -------------------------------------------------------------------------------\n",
    "\n",
    "- Pattern - denotes delivery pattern in a week\n",
    "\n"
   ]
  },
  {
   "cell_type": "markdown",
   "metadata": {},
   "source": [
    "##### ---------------------------------------------------------------------------------------------------------------------------------------------------------------------------\n",
    "\n",
    "- Gross formula price(GFP), Net Formula price(NFP)\n",
    "\n",
    "\n",
    "- GFP <> NFP || product_discount <> Formula discount || Total credit\n",
    "\n",
    "\n",
    "- N.Newspaper price(NNP) = price of newspaper\n",
    "\n",
    "\n",
    "\n",
    "- Total Price = f(NNP,Nbrnewspaper)\n",
    "- Total Price = f(NFP/GFP, Total credit)"
   ]
  },
  {
   "cell_type": "markdown",
   "metadata": {},
   "source": [
    "- We would be dropping **GFP|NFP|NNP** and keeping **Total_price|total credit|total discount**"
   ]
  },
  {
   "cell_type": "code",
   "execution_count": 435,
   "metadata": {},
   "outputs": [],
   "source": [
    "#pandas_profiling.ProfileReport(subs)"
   ]
  },
  {
   "cell_type": "code",
   "execution_count": 282,
   "metadata": {
    "scrolled": true
   },
   "outputs": [
    {
     "data": {
      "text/html": [
       "<div>\n",
       "<style scoped>\n",
       "    .dataframe tbody tr th:only-of-type {\n",
       "        vertical-align: middle;\n",
       "    }\n",
       "\n",
       "    .dataframe tbody tr th {\n",
       "        vertical-align: top;\n",
       "    }\n",
       "\n",
       "    .dataframe thead th {\n",
       "        text-align: right;\n",
       "    }\n",
       "</style>\n",
       "<table border=\"1\" class=\"dataframe\">\n",
       "  <thead>\n",
       "    <tr style=\"text-align: right;\">\n",
       "      <th></th>\n",
       "      <th>SubscriptionID</th>\n",
       "      <th>CustomerID</th>\n",
       "      <th>ProductID</th>\n",
       "      <th>Pattern</th>\n",
       "      <th>Unnamed: 4</th>\n",
       "      <th>StartDate</th>\n",
       "      <th>EndDate</th>\n",
       "      <th>NbrNewspapers</th>\n",
       "      <th>NbrStart</th>\n",
       "      <th>RenewalDate</th>\n",
       "      <th>...</th>\n",
       "      <th>PaymentDate</th>\n",
       "      <th>FormulaID</th>\n",
       "      <th>GrossFormulaPrice</th>\n",
       "      <th>NetFormulaPrice</th>\n",
       "      <th>NetNewspaperPrice</th>\n",
       "      <th>ProductDiscount</th>\n",
       "      <th>FormulaDiscount</th>\n",
       "      <th>TotalDiscount</th>\n",
       "      <th>TotalPrice</th>\n",
       "      <th>TotalCredit</th>\n",
       "    </tr>\n",
       "  </thead>\n",
       "  <tbody>\n",
       "    <tr>\n",
       "      <th>0</th>\n",
       "      <td>1000024.0</td>\n",
       "      <td>1150045.0</td>\n",
       "      <td>8.0</td>\n",
       "      <td>1111110.0</td>\n",
       "      <td>=VLOOKUP(D2;$E$15462:$F$15473;2;0)</td>\n",
       "      <td>18/01/2010</td>\n",
       "      <td>17/04/2010</td>\n",
       "      <td>76.0</td>\n",
       "      <td>25</td>\n",
       "      <td>17/03/2010</td>\n",
       "      <td>...</td>\n",
       "      <td>27/01/2010</td>\n",
       "      <td>8552</td>\n",
       "      <td>79</td>\n",
       "      <td>79</td>\n",
       "      <td>1.039.474</td>\n",
       "      <td>0</td>\n",
       "      <td>0</td>\n",
       "      <td>0</td>\n",
       "      <td>79</td>\n",
       "      <td>0</td>\n",
       "    </tr>\n",
       "    <tr>\n",
       "      <th>1</th>\n",
       "      <td>1000082.0</td>\n",
       "      <td>1150046.0</td>\n",
       "      <td>8.0</td>\n",
       "      <td>1111110.0</td>\n",
       "      <td>NaN</td>\n",
       "      <td>14/01/2010</td>\n",
       "      <td>12/03/2010</td>\n",
       "      <td>50.0</td>\n",
       "      <td>25</td>\n",
       "      <td>3/03/2010</td>\n",
       "      <td>...</td>\n",
       "      <td>11/02/2010</td>\n",
       "      <td>10017</td>\n",
       "      <td>519.737</td>\n",
       "      <td>29.6</td>\n",
       "      <td>0.592</td>\n",
       "      <td>0</td>\n",
       "      <td>223.737</td>\n",
       "      <td>223.737</td>\n",
       "      <td>29.6</td>\n",
       "      <td>0</td>\n",
       "    </tr>\n",
       "  </tbody>\n",
       "</table>\n",
       "<p>2 rows × 22 columns</p>\n",
       "</div>"
      ],
      "text/plain": [
       "   SubscriptionID  CustomerID  ProductID    Pattern  \\\n",
       "0       1000024.0   1150045.0        8.0  1111110.0   \n",
       "1       1000082.0   1150046.0        8.0  1111110.0   \n",
       "\n",
       "                           Unnamed: 4   StartDate     EndDate  NbrNewspapers  \\\n",
       "0  =VLOOKUP(D2;$E$15462:$F$15473;2;0)  18/01/2010  17/04/2010           76.0   \n",
       "1                                 NaN  14/01/2010  12/03/2010           50.0   \n",
       "\n",
       "  NbrStart RenewalDate     ...     PaymentDate FormulaID GrossFormulaPrice  \\\n",
       "0       25  17/03/2010     ...      27/01/2010      8552                79   \n",
       "1       25   3/03/2010     ...      11/02/2010     10017           519.737   \n",
       "\n",
       "  NetFormulaPrice NetNewspaperPrice ProductDiscount FormulaDiscount  \\\n",
       "0              79         1.039.474               0               0   \n",
       "1            29.6             0.592               0         223.737   \n",
       "\n",
       "  TotalDiscount TotalPrice TotalCredit  \n",
       "0             0         79           0  \n",
       "1       223.737       29.6           0  \n",
       "\n",
       "[2 rows x 22 columns]"
      ]
     },
     "execution_count": 282,
     "metadata": {},
     "output_type": "execute_result"
    }
   ],
   "source": [
    "subs = pd.read_csv('/home/rohan/Documents/ROHAN_DA/ALABS/___STATS___ -  cls 10 onwards/Class_20 Case_study_ML/Case_study/1. NEWS PUBLISHING COMPANY-CLASSIFICATION-ATTRITION/2 - NPC Retention Data/subscriptions.txt',sep=\"\\t\")\n",
    "subs.head(2)"
   ]
  },
  {
   "cell_type": "code",
   "execution_count": 207,
   "metadata": {},
   "outputs": [
    {
     "data": {
      "text/plain": [
       "(15472, 22)"
      ]
     },
     "execution_count": 207,
     "metadata": {},
     "output_type": "execute_result"
    }
   ],
   "source": [
    "subs.shape"
   ]
  },
  {
   "cell_type": "markdown",
   "metadata": {},
   "source": [
    "- Dropping the columns "
   ]
  },
  {
   "cell_type": "code",
   "execution_count": 260,
   "metadata": {},
   "outputs": [
    {
     "data": {
      "text/plain": [
       "Index(['SubscriptionID', 'CustomerID', 'ProductID', 'Pattern', 'Unnamed: 4',\n",
       "       'StartDate', 'EndDate', 'NbrNewspapers', 'NbrStart', 'RenewalDate',\n",
       "       'PaymentType', 'PaymentStatus', 'PaymentDate', 'FormulaID',\n",
       "       'GrossFormulaPrice', 'NetFormulaPrice', 'NetNewspaperPrice',\n",
       "       'ProductDiscount', 'FormulaDiscount', 'TotalDiscount', 'TotalPrice',\n",
       "       'TotalCredit'],\n",
       "      dtype='object')"
      ]
     },
     "execution_count": 260,
     "metadata": {},
     "output_type": "execute_result"
    }
   ],
   "source": [
    "subs.columns"
   ]
  },
  {
   "cell_type": "markdown",
   "metadata": {},
   "source": [
    "- Dropping the 2.2%(334) values from the whole dataset coz multiple columns had **'NAN'** for that \n",
    "\n",
    "- Here it can be seen wherever TotalPrice is NAN, All others(which have NANs) are NANs\n",
    "\n",
    "\n",
    "- Also dropping Unnamed:4 column"
   ]
  },
  {
   "cell_type": "code",
   "execution_count": 291,
   "metadata": {},
   "outputs": [],
   "source": [
    "#subs.drop(index=subs[subs.TotalPrice.isnull()].index,inplace= True)\n",
    "#subs.drop(columns= 'Unnamed: 4',inplace= True)"
   ]
  },
  {
   "cell_type": "code",
   "execution_count": 292,
   "metadata": {},
   "outputs": [
    {
     "data": {
      "text/html": [
       "<div>\n",
       "<style scoped>\n",
       "    .dataframe tbody tr th:only-of-type {\n",
       "        vertical-align: middle;\n",
       "    }\n",
       "\n",
       "    .dataframe tbody tr th {\n",
       "        vertical-align: top;\n",
       "    }\n",
       "\n",
       "    .dataframe thead th {\n",
       "        text-align: right;\n",
       "    }\n",
       "</style>\n",
       "<table border=\"1\" class=\"dataframe\">\n",
       "  <thead>\n",
       "    <tr style=\"text-align: right;\">\n",
       "      <th></th>\n",
       "      <th>SubscriptionID</th>\n",
       "      <th>CustomerID</th>\n",
       "      <th>ProductID</th>\n",
       "      <th>Pattern</th>\n",
       "      <th>StartDate</th>\n",
       "      <th>EndDate</th>\n",
       "      <th>NbrNewspapers</th>\n",
       "      <th>NbrStart</th>\n",
       "      <th>RenewalDate</th>\n",
       "      <th>PaymentType</th>\n",
       "      <th>...</th>\n",
       "      <th>PaymentDate</th>\n",
       "      <th>FormulaID</th>\n",
       "      <th>GrossFormulaPrice</th>\n",
       "      <th>NetFormulaPrice</th>\n",
       "      <th>NetNewspaperPrice</th>\n",
       "      <th>ProductDiscount</th>\n",
       "      <th>FormulaDiscount</th>\n",
       "      <th>TotalDiscount</th>\n",
       "      <th>TotalPrice</th>\n",
       "      <th>TotalCredit</th>\n",
       "    </tr>\n",
       "  </thead>\n",
       "  <tbody>\n",
       "    <tr>\n",
       "      <th>0</th>\n",
       "      <td>1000024.0</td>\n",
       "      <td>1150045.0</td>\n",
       "      <td>8.0</td>\n",
       "      <td>1111110.0</td>\n",
       "      <td>18/01/2010</td>\n",
       "      <td>17/04/2010</td>\n",
       "      <td>76.0</td>\n",
       "      <td>25</td>\n",
       "      <td>17/03/2010</td>\n",
       "      <td>BT</td>\n",
       "      <td>...</td>\n",
       "      <td>27/01/2010</td>\n",
       "      <td>8552</td>\n",
       "      <td>79</td>\n",
       "      <td>79</td>\n",
       "      <td>1.039.474</td>\n",
       "      <td>0</td>\n",
       "      <td>0</td>\n",
       "      <td>0</td>\n",
       "      <td>79</td>\n",
       "      <td>0</td>\n",
       "    </tr>\n",
       "    <tr>\n",
       "      <th>1</th>\n",
       "      <td>1000082.0</td>\n",
       "      <td>1150046.0</td>\n",
       "      <td>8.0</td>\n",
       "      <td>1111110.0</td>\n",
       "      <td>14/01/2010</td>\n",
       "      <td>12/03/2010</td>\n",
       "      <td>50.0</td>\n",
       "      <td>25</td>\n",
       "      <td>3/03/2010</td>\n",
       "      <td>BT</td>\n",
       "      <td>...</td>\n",
       "      <td>11/02/2010</td>\n",
       "      <td>10017</td>\n",
       "      <td>519.737</td>\n",
       "      <td>29.6</td>\n",
       "      <td>0.592</td>\n",
       "      <td>0</td>\n",
       "      <td>223.737</td>\n",
       "      <td>223.737</td>\n",
       "      <td>29.6</td>\n",
       "      <td>0</td>\n",
       "    </tr>\n",
       "  </tbody>\n",
       "</table>\n",
       "<p>2 rows × 21 columns</p>\n",
       "</div>"
      ],
      "text/plain": [
       "   SubscriptionID  CustomerID  ProductID    Pattern   StartDate     EndDate  \\\n",
       "0       1000024.0   1150045.0        8.0  1111110.0  18/01/2010  17/04/2010   \n",
       "1       1000082.0   1150046.0        8.0  1111110.0  14/01/2010  12/03/2010   \n",
       "\n",
       "   NbrNewspapers NbrStart RenewalDate PaymentType     ...     PaymentDate  \\\n",
       "0           76.0       25  17/03/2010          BT     ...      27/01/2010   \n",
       "1           50.0       25   3/03/2010          BT     ...      11/02/2010   \n",
       "\n",
       "  FormulaID GrossFormulaPrice NetFormulaPrice NetNewspaperPrice  \\\n",
       "0      8552                79              79         1.039.474   \n",
       "1     10017           519.737            29.6             0.592   \n",
       "\n",
       "  ProductDiscount FormulaDiscount TotalDiscount TotalPrice TotalCredit  \n",
       "0               0               0             0         79           0  \n",
       "1               0         223.737       223.737       29.6           0  \n",
       "\n",
       "[2 rows x 21 columns]"
      ]
     },
     "execution_count": 292,
     "metadata": {},
     "output_type": "execute_result"
    }
   ],
   "source": [
    "subs.head(2)"
   ]
  },
  {
   "cell_type": "markdown",
   "metadata": {},
   "source": [
    "- Dropping the columns that create **multucollinearity**"
   ]
  },
  {
   "cell_type": "markdown",
   "metadata": {},
   "source": [
    "- Total credit has 30% values missing \n",
    "\n",
    "-  we know that **Total price = NFP - Total Credit**"
   ]
  },
  {
   "cell_type": "code",
   "execution_count": 316,
   "metadata": {},
   "outputs": [
    {
     "data": {
      "text/html": [
       "<div>\n",
       "<style scoped>\n",
       "    .dataframe tbody tr th:only-of-type {\n",
       "        vertical-align: middle;\n",
       "    }\n",
       "\n",
       "    .dataframe tbody tr th {\n",
       "        vertical-align: top;\n",
       "    }\n",
       "\n",
       "    .dataframe thead th {\n",
       "        text-align: right;\n",
       "    }\n",
       "</style>\n",
       "<table border=\"1\" class=\"dataframe\">\n",
       "  <thead>\n",
       "    <tr style=\"text-align: right;\">\n",
       "      <th></th>\n",
       "      <th>TotalPrice</th>\n",
       "      <th>NetFormulaPrice</th>\n",
       "      <th>TotalCredit</th>\n",
       "    </tr>\n",
       "  </thead>\n",
       "  <tbody>\n",
       "    <tr>\n",
       "      <th>4</th>\n",
       "      <td>246.8</td>\n",
       "      <td>249</td>\n",
       "      <td>-2.2</td>\n",
       "    </tr>\n",
       "    <tr>\n",
       "      <th>12</th>\n",
       "      <td>0</td>\n",
       "      <td>1.039.474</td>\n",
       "      <td>NaN</td>\n",
       "    </tr>\n",
       "    <tr>\n",
       "      <th>17</th>\n",
       "      <td>0</td>\n",
       "      <td>0.754237</td>\n",
       "      <td>NaN</td>\n",
       "    </tr>\n",
       "  </tbody>\n",
       "</table>\n",
       "</div>"
      ],
      "text/plain": [
       "   TotalPrice NetFormulaPrice TotalCredit\n",
       "4       246.8             249        -2.2\n",
       "12          0       1.039.474         NaN\n",
       "17          0        0.754237         NaN"
      ]
     },
     "execution_count": 316,
     "metadata": {},
     "output_type": "execute_result"
    }
   ],
   "source": [
    "subs[['TotalPrice','NetFormulaPrice','TotalCredit']].iloc[[4,11,16]]"
   ]
  },
  {
   "cell_type": "code",
   "execution_count": 317,
   "metadata": {},
   "outputs": [],
   "source": [
    "#subs_f = subs.drop(columns= ['FormulaDiscount','GrossFormulaPrice','NetNewspaperPrice','ProductDiscount', 'FormulaDiscount','TotalCredit'])"
   ]
  },
  {
   "cell_type": "code",
   "execution_count": 318,
   "metadata": {},
   "outputs": [
    {
     "data": {
      "text/html": [
       "<div>\n",
       "<style scoped>\n",
       "    .dataframe tbody tr th:only-of-type {\n",
       "        vertical-align: middle;\n",
       "    }\n",
       "\n",
       "    .dataframe tbody tr th {\n",
       "        vertical-align: top;\n",
       "    }\n",
       "\n",
       "    .dataframe thead th {\n",
       "        text-align: right;\n",
       "    }\n",
       "</style>\n",
       "<table border=\"1\" class=\"dataframe\">\n",
       "  <thead>\n",
       "    <tr style=\"text-align: right;\">\n",
       "      <th></th>\n",
       "      <th>SubscriptionID</th>\n",
       "      <th>CustomerID</th>\n",
       "      <th>ProductID</th>\n",
       "      <th>Pattern</th>\n",
       "      <th>StartDate</th>\n",
       "      <th>EndDate</th>\n",
       "      <th>NbrNewspapers</th>\n",
       "      <th>NbrStart</th>\n",
       "      <th>RenewalDate</th>\n",
       "      <th>PaymentType</th>\n",
       "      <th>PaymentStatus</th>\n",
       "      <th>PaymentDate</th>\n",
       "      <th>FormulaID</th>\n",
       "      <th>NetFormulaPrice</th>\n",
       "      <th>TotalDiscount</th>\n",
       "      <th>TotalPrice</th>\n",
       "    </tr>\n",
       "  </thead>\n",
       "  <tbody>\n",
       "    <tr>\n",
       "      <th>0</th>\n",
       "      <td>1000024.0</td>\n",
       "      <td>1150045.0</td>\n",
       "      <td>8.0</td>\n",
       "      <td>1111110.0</td>\n",
       "      <td>18/01/2010</td>\n",
       "      <td>17/04/2010</td>\n",
       "      <td>76.0</td>\n",
       "      <td>25</td>\n",
       "      <td>17/03/2010</td>\n",
       "      <td>BT</td>\n",
       "      <td>Paid</td>\n",
       "      <td>27/01/2010</td>\n",
       "      <td>8552</td>\n",
       "      <td>79</td>\n",
       "      <td>0</td>\n",
       "      <td>79</td>\n",
       "    </tr>\n",
       "    <tr>\n",
       "      <th>1</th>\n",
       "      <td>1000082.0</td>\n",
       "      <td>1150046.0</td>\n",
       "      <td>8.0</td>\n",
       "      <td>1111110.0</td>\n",
       "      <td>14/01/2010</td>\n",
       "      <td>12/03/2010</td>\n",
       "      <td>50.0</td>\n",
       "      <td>25</td>\n",
       "      <td>3/03/2010</td>\n",
       "      <td>BT</td>\n",
       "      <td>Paid</td>\n",
       "      <td>11/02/2010</td>\n",
       "      <td>10017</td>\n",
       "      <td>29.6</td>\n",
       "      <td>223.737</td>\n",
       "      <td>29.6</td>\n",
       "    </tr>\n",
       "  </tbody>\n",
       "</table>\n",
       "</div>"
      ],
      "text/plain": [
       "   SubscriptionID  CustomerID  ProductID    Pattern   StartDate     EndDate  \\\n",
       "0       1000024.0   1150045.0        8.0  1111110.0  18/01/2010  17/04/2010   \n",
       "1       1000082.0   1150046.0        8.0  1111110.0  14/01/2010  12/03/2010   \n",
       "\n",
       "   NbrNewspapers NbrStart RenewalDate PaymentType PaymentStatus PaymentDate  \\\n",
       "0           76.0       25  17/03/2010          BT          Paid  27/01/2010   \n",
       "1           50.0       25   3/03/2010          BT          Paid  11/02/2010   \n",
       "\n",
       "  FormulaID NetFormulaPrice TotalDiscount TotalPrice  \n",
       "0      8552              79             0         79  \n",
       "1     10017            29.6       223.737       29.6  "
      ]
     },
     "execution_count": 318,
     "metadata": {},
     "output_type": "execute_result"
    }
   ],
   "source": [
    "subs_f.head(2)"
   ]
  },
  {
   "cell_type": "code",
   "execution_count": 320,
   "metadata": {},
   "outputs": [],
   "source": [
    "# pandas_profiling.ProfileReport(subs_f)"
   ]
  },
  {
   "cell_type": "code",
   "execution_count": 340,
   "metadata": {},
   "outputs": [
    {
     "name": "stdout",
     "output_type": "stream",
     "text": [
      "unique subscription ID: 15138 || total obs in dataset: 15138\n"
     ]
    },
    {
     "data": {
      "text/plain": [
       "True"
      ]
     },
     "execution_count": 340,
     "metadata": {},
     "output_type": "execute_result"
    }
   ],
   "source": [
    "# checking if the primary is repetitive\n",
    "print('unique subscription ID:',subs_f.SubscriptionID.nunique(),'|| total obs in dataset:',subs_f.shape[0])\n",
    "subs_f.SubscriptionID.nunique() == subs_f.shape[0]"
   ]
  },
  {
   "cell_type": "code",
   "execution_count": 341,
   "metadata": {},
   "outputs": [
    {
     "name": "stdout",
     "output_type": "stream",
     "text": [
      "CustomerID: [1] || ProductID: [1]\n"
     ]
    }
   ],
   "source": [
    "a = subs_f.groupby(subs_f.SubscriptionID).count()\n",
    "\n",
    "print('CustomerID:',a.CustomerID.unique(),'|| ProductID:',a.ProductID.unique())"
   ]
  },
  {
   "cell_type": "markdown",
   "metadata": {},
   "source": [
    "# --------------------------------------------------Delivery-------------------------------------------"
   ]
  },
  {
   "cell_type": "code",
   "execution_count": 437,
   "metadata": {},
   "outputs": [],
   "source": [
    "#pandas_profiling.ProfileReport(Del)"
   ]
  },
  {
   "cell_type": "markdown",
   "metadata": {},
   "source": [
    "- DeliveryClass has 3388 / 12.8% missing values Missing --> treated using \"fillna('bfill')\"\n",
    "- DeliveryContext has 15148 / 57.2% missing values Missing - Defined only for abnormal(ABN) case --> Dropped"
   ]
  },
  {
   "cell_type": "code",
   "execution_count": 345,
   "metadata": {},
   "outputs": [
    {
     "data": {
      "text/html": [
       "<div>\n",
       "<style scoped>\n",
       "    .dataframe tbody tr th:only-of-type {\n",
       "        vertical-align: middle;\n",
       "    }\n",
       "\n",
       "    .dataframe tbody tr th {\n",
       "        vertical-align: top;\n",
       "    }\n",
       "\n",
       "    .dataframe thead th {\n",
       "        text-align: right;\n",
       "    }\n",
       "</style>\n",
       "<table border=\"1\" class=\"dataframe\">\n",
       "  <thead>\n",
       "    <tr style=\"text-align: right;\">\n",
       "      <th></th>\n",
       "      <th>SubscriptionID</th>\n",
       "      <th>DeliveryType</th>\n",
       "      <th>DeliveryClass</th>\n",
       "      <th>DeliveryContext</th>\n",
       "      <th>StartDate</th>\n",
       "      <th>EndDate</th>\n",
       "    </tr>\n",
       "  </thead>\n",
       "  <tbody>\n",
       "    <tr>\n",
       "      <th>0</th>\n",
       "      <td>1000024</td>\n",
       "      <td>MD</td>\n",
       "      <td>NOR</td>\n",
       "      <td>NaN</td>\n",
       "      <td>18/01/2010</td>\n",
       "      <td>17/04/2010</td>\n",
       "    </tr>\n",
       "    <tr>\n",
       "      <th>1</th>\n",
       "      <td>1000082</td>\n",
       "      <td>MD</td>\n",
       "      <td>ABN</td>\n",
       "      <td>NaN</td>\n",
       "      <td>12/02/2010</td>\n",
       "      <td>13/02/2010</td>\n",
       "    </tr>\n",
       "  </tbody>\n",
       "</table>\n",
       "</div>"
      ],
      "text/plain": [
       "   SubscriptionID DeliveryType DeliveryClass DeliveryContext   StartDate  \\\n",
       "0         1000024           MD           NOR             NaN  18/01/2010   \n",
       "1         1000082           MD           ABN             NaN  12/02/2010   \n",
       "\n",
       "      EndDate  \n",
       "0  17/04/2010  \n",
       "1  13/02/2010  "
      ]
     },
     "execution_count": 345,
     "metadata": {},
     "output_type": "execute_result"
    }
   ],
   "source": [
    "# delivery type - [DR - delivery reruting]&[Main Delivery]\n",
    "\n",
    "Del = pd.read_csv('/home/rohan/Documents/ROHAN_DA/ALABS/___STATS___ -  cls 10 onwards/Class_20 Case_study_ML/Case_study/1. NEWS PUBLISHING COMPANY-CLASSIFICATION-ATTRITION/2 - NPC Retention Data/delivery.txt',sep=\";\")\n",
    "Del.head(2)"
   ]
  },
  {
   "cell_type": "code",
   "execution_count": 346,
   "metadata": {},
   "outputs": [
    {
     "data": {
      "text/plain": [
       "NOR    21996\n",
       "ABN     1110\n",
       "Name: DeliveryClass, dtype: int64"
      ]
     },
     "execution_count": 346,
     "metadata": {},
     "output_type": "execute_result"
    }
   ],
   "source": [
    "Del.DeliveryClass.value_counts()"
   ]
  },
  {
   "cell_type": "code",
   "execution_count": 138,
   "metadata": {},
   "outputs": [
    {
     "name": "stdout",
     "output_type": "stream",
     "text": [
      "<class 'pandas.core.frame.DataFrame'>\n",
      "RangeIndex: 26494 entries, 0 to 26493\n",
      "Data columns (total 6 columns):\n",
      "SubscriptionID     26494 non-null int64\n",
      "DeliveryType       26494 non-null object\n",
      "DeliveryClass      23106 non-null object\n",
      "DeliveryContext    11346 non-null object\n",
      "StartDate          26494 non-null object\n",
      "EndDate            26494 non-null object\n",
      "dtypes: int64(1), object(5)\n",
      "memory usage: 1.2+ MB\n"
     ]
    }
   ],
   "source": [
    "Del.info()"
   ]
  },
  {
   "cell_type": "markdown",
   "metadata": {},
   "source": [
    "#### preparing the data "
   ]
  },
  {
   "cell_type": "code",
   "execution_count": 347,
   "metadata": {},
   "outputs": [
    {
     "data": {
      "text/plain": [
       "14125"
      ]
     },
     "execution_count": 347,
     "metadata": {},
     "output_type": "execute_result"
    }
   ],
   "source": [
    "# As can be seen the variable DeliveryConetxt is very much dependent on DeliveryClass\n",
    "# (out of the 15k DeliveryConetxt value,14K values are for DeliveryClass 'NOR')\n",
    "\n",
    "# We would be dropping the DeliveryConetxt column\n",
    "\n",
    "Del[Del.DeliveryClass == 'NOR'].DeliveryContext.isnull().sum()\n"
   ]
  },
  {
   "cell_type": "code",
   "execution_count": 353,
   "metadata": {},
   "outputs": [],
   "source": [
    "#Dropping the Deliveryconetxt column - too many missing values & also Multicollinearity\n",
    "#Del.drop(columns='DeliveryContext',inplace=True)"
   ]
  },
  {
   "cell_type": "code",
   "execution_count": 354,
   "metadata": {},
   "outputs": [
    {
     "data": {
      "text/html": [
       "<div>\n",
       "<style scoped>\n",
       "    .dataframe tbody tr th:only-of-type {\n",
       "        vertical-align: middle;\n",
       "    }\n",
       "\n",
       "    .dataframe tbody tr th {\n",
       "        vertical-align: top;\n",
       "    }\n",
       "\n",
       "    .dataframe thead th {\n",
       "        text-align: right;\n",
       "    }\n",
       "</style>\n",
       "<table border=\"1\" class=\"dataframe\">\n",
       "  <thead>\n",
       "    <tr style=\"text-align: right;\">\n",
       "      <th></th>\n",
       "      <th>SubscriptionID</th>\n",
       "      <th>DeliveryType</th>\n",
       "      <th>DeliveryClass</th>\n",
       "      <th>StartDate</th>\n",
       "      <th>EndDate</th>\n",
       "    </tr>\n",
       "  </thead>\n",
       "  <tbody>\n",
       "    <tr>\n",
       "      <th>0</th>\n",
       "      <td>1000024</td>\n",
       "      <td>MD</td>\n",
       "      <td>NOR</td>\n",
       "      <td>18/01/2010</td>\n",
       "      <td>17/04/2010</td>\n",
       "    </tr>\n",
       "    <tr>\n",
       "      <th>1</th>\n",
       "      <td>1000082</td>\n",
       "      <td>MD</td>\n",
       "      <td>ABN</td>\n",
       "      <td>12/02/2010</td>\n",
       "      <td>13/02/2010</td>\n",
       "    </tr>\n",
       "  </tbody>\n",
       "</table>\n",
       "</div>"
      ],
      "text/plain": [
       "   SubscriptionID DeliveryType DeliveryClass   StartDate     EndDate\n",
       "0         1000024           MD           NOR  18/01/2010  17/04/2010\n",
       "1         1000082           MD           ABN  12/02/2010  13/02/2010"
      ]
     },
     "execution_count": 354,
     "metadata": {},
     "output_type": "execute_result"
    }
   ],
   "source": [
    "Del.head(2)"
   ]
  },
  {
   "cell_type": "markdown",
   "metadata": {},
   "source": [
    "#### Using KNN for predicting the missing 12% values for DeliveryClass var is not useful coz we have very less columns to train the model"
   ]
  },
  {
   "cell_type": "code",
   "execution_count": 507,
   "metadata": {},
   "outputs": [],
   "source": [
    "#Del = pd.get_dummies(Del,prefix='Deliverytype_',columns=['DeliveryType'],drop_first= True)\n",
    "\n",
    "#________Converting Datatypes to Datetime from string class____\n",
    "\n",
    "# Del['StartDate'] = pd.to_datetime(Del['StartDate'])\n",
    "# Del['EndDate'] = pd.to_datetime(Del['EndDate'])"
   ]
  },
  {
   "cell_type": "markdown",
   "metadata": {},
   "source": [
    "#### Based on bins(subscription_id) of data, we can create synthetic labels - Not working \n",
    "\n",
    "#### Moving to \"bfill\" for filling the values for the categroical value"
   ]
  },
  {
   "cell_type": "code",
   "execution_count": 367,
   "metadata": {},
   "outputs": [],
   "source": [
    "#Del['Decile'] = pd.qcut(Del.index,10,labels=False)"
   ]
  },
  {
   "cell_type": "code",
   "execution_count": 375,
   "metadata": {},
   "outputs": [
    {
     "data": {
      "text/html": [
       "<div>\n",
       "<style scoped>\n",
       "    .dataframe tbody tr th:only-of-type {\n",
       "        vertical-align: middle;\n",
       "    }\n",
       "\n",
       "    .dataframe tbody tr th {\n",
       "        vertical-align: top;\n",
       "    }\n",
       "\n",
       "    .dataframe thead th {\n",
       "        text-align: right;\n",
       "    }\n",
       "</style>\n",
       "<table border=\"1\" class=\"dataframe\">\n",
       "  <thead>\n",
       "    <tr style=\"text-align: right;\">\n",
       "      <th></th>\n",
       "      <th>SubscriptionID</th>\n",
       "      <th>DeliveryType</th>\n",
       "      <th>DeliveryClass</th>\n",
       "      <th>StartDate</th>\n",
       "      <th>EndDate</th>\n",
       "    </tr>\n",
       "  </thead>\n",
       "  <tbody>\n",
       "    <tr>\n",
       "      <th>0</th>\n",
       "      <td>1000024</td>\n",
       "      <td>MD</td>\n",
       "      <td>NOR</td>\n",
       "      <td>18/01/2010</td>\n",
       "      <td>17/04/2010</td>\n",
       "    </tr>\n",
       "    <tr>\n",
       "      <th>1</th>\n",
       "      <td>1000082</td>\n",
       "      <td>MD</td>\n",
       "      <td>ABN</td>\n",
       "      <td>12/02/2010</td>\n",
       "      <td>13/02/2010</td>\n",
       "    </tr>\n",
       "  </tbody>\n",
       "</table>\n",
       "</div>"
      ],
      "text/plain": [
       "   SubscriptionID DeliveryType DeliveryClass   StartDate     EndDate\n",
       "0         1000024           MD           NOR  18/01/2010  17/04/2010\n",
       "1         1000082           MD           ABN  12/02/2010  13/02/2010"
      ]
     },
     "execution_count": 375,
     "metadata": {},
     "output_type": "execute_result"
    }
   ],
   "source": [
    "Del.head(2)"
   ]
  },
  {
   "cell_type": "code",
   "execution_count": 166,
   "metadata": {},
   "outputs": [],
   "source": [
    "#v = Del.loc[Del.Decile == 0,'DeliveryClass'].fillna(value ='NOR',limit = int(Del.loc[Del.Decile==0,'DeliveryClass'].isnull().sum()*0.8))\n",
    "#v = Del.loc[Del.Decile == 0,'DeliveryClass'].fillna(value ='ABN')\n",
    "#v.isnull().sum()\n",
    "#Del.DeliveryClass = v\n",
    "#Del.DeliveryClass.isnull().sum()"
   ]
  },
  {
   "cell_type": "code",
   "execution_count": 365,
   "metadata": {},
   "outputs": [],
   "source": [
    "# v = []\n",
    "# for x in range(10):\n",
    "#     v3 = Del.loc[Del.Decile == x,'DeliveryClass'].fillna('NOR',limit = int(Del[Del.Decile==x].shape[0]*0.8))\n",
    "#     v3 = Del.loc[Del.Decile == x,'DeliveryClass'].fillna('ABN')\n",
    "#     v3 = v1.tolist()\n",
    "#     v.extend(v3)\n",
    "    \n",
    "# Del['DeliveryClass'] = pd.Series(v3)"
   ]
  },
  {
   "cell_type": "code",
   "execution_count": 355,
   "metadata": {},
   "outputs": [],
   "source": [
    "Del.DeliveryClass.fillna(method = 'bfill',inplace=True)"
   ]
  },
  {
   "cell_type": "code",
   "execution_count": 356,
   "metadata": {},
   "outputs": [
    {
     "data": {
      "text/plain": [
       "NOR    25176\n",
       "ABN     1318\n",
       "Name: DeliveryClass, dtype: int64"
      ]
     },
     "execution_count": 356,
     "metadata": {},
     "output_type": "execute_result"
    }
   ],
   "source": [
    "Del.DeliveryClass.value_counts()"
   ]
  },
  {
   "cell_type": "code",
   "execution_count": 357,
   "metadata": {},
   "outputs": [
    {
     "data": {
      "text/html": [
       "<div>\n",
       "<style scoped>\n",
       "    .dataframe tbody tr th:only-of-type {\n",
       "        vertical-align: middle;\n",
       "    }\n",
       "\n",
       "    .dataframe tbody tr th {\n",
       "        vertical-align: top;\n",
       "    }\n",
       "\n",
       "    .dataframe thead th {\n",
       "        text-align: right;\n",
       "    }\n",
       "</style>\n",
       "<table border=\"1\" class=\"dataframe\">\n",
       "  <thead>\n",
       "    <tr style=\"text-align: right;\">\n",
       "      <th></th>\n",
       "      <th>SubscriptionID</th>\n",
       "      <th>DeliveryType</th>\n",
       "      <th>DeliveryClass</th>\n",
       "      <th>StartDate</th>\n",
       "      <th>EndDate</th>\n",
       "    </tr>\n",
       "  </thead>\n",
       "  <tbody>\n",
       "    <tr>\n",
       "      <th>0</th>\n",
       "      <td>1000024</td>\n",
       "      <td>MD</td>\n",
       "      <td>NOR</td>\n",
       "      <td>18/01/2010</td>\n",
       "      <td>17/04/2010</td>\n",
       "    </tr>\n",
       "    <tr>\n",
       "      <th>1</th>\n",
       "      <td>1000082</td>\n",
       "      <td>MD</td>\n",
       "      <td>ABN</td>\n",
       "      <td>12/02/2010</td>\n",
       "      <td>13/02/2010</td>\n",
       "    </tr>\n",
       "  </tbody>\n",
       "</table>\n",
       "</div>"
      ],
      "text/plain": [
       "   SubscriptionID DeliveryType DeliveryClass   StartDate     EndDate\n",
       "0         1000024           MD           NOR  18/01/2010  17/04/2010\n",
       "1         1000082           MD           ABN  12/02/2010  13/02/2010"
      ]
     },
     "execution_count": 357,
     "metadata": {},
     "output_type": "execute_result"
    }
   ],
   "source": [
    "Del.head(2)"
   ]
  },
  {
   "cell_type": "code",
   "execution_count": 363,
   "metadata": {},
   "outputs": [
    {
     "name": "stdout",
     "output_type": "stream",
     "text": [
      "unique subscription ID: 15137 || total obs in dataset: 26494\n"
     ]
    },
    {
     "data": {
      "text/plain": [
       "False"
      ]
     },
     "execution_count": 363,
     "metadata": {},
     "output_type": "execute_result"
    }
   ],
   "source": [
    "# checking if the primary key is repetitive\n",
    "print('unique subscription ID:',Del.SubscriptionID.nunique(),'|| total obs in dataset:',Del.shape[0])\n",
    "Del.SubscriptionID.nunique() == Del.shape[0]\n"
   ]
  },
  {
   "cell_type": "markdown",
   "metadata": {},
   "source": [
    "# ------------------------------------Formula----------------------------------------------------"
   ]
  },
  {
   "cell_type": "markdown",
   "metadata": {},
   "source": [
    "- Duration in month"
   ]
  },
  {
   "cell_type": "code",
   "execution_count": 365,
   "metadata": {},
   "outputs": [
    {
     "data": {
      "text/html": [
       "<div>\n",
       "<style scoped>\n",
       "    .dataframe tbody tr th:only-of-type {\n",
       "        vertical-align: middle;\n",
       "    }\n",
       "\n",
       "    .dataframe tbody tr th {\n",
       "        vertical-align: top;\n",
       "    }\n",
       "\n",
       "    .dataframe thead th {\n",
       "        text-align: right;\n",
       "    }\n",
       "</style>\n",
       "<table border=\"1\" class=\"dataframe\">\n",
       "  <thead>\n",
       "    <tr style=\"text-align: right;\">\n",
       "      <th></th>\n",
       "      <th>FormulaID</th>\n",
       "      <th>FormulaCode</th>\n",
       "      <th>FormulaType</th>\n",
       "      <th>Duration</th>\n",
       "    </tr>\n",
       "  </thead>\n",
       "  <tbody>\n",
       "    <tr>\n",
       "      <th>0</th>\n",
       "      <td>10011</td>\n",
       "      <td>2051</td>\n",
       "      <td>CAM</td>\n",
       "      <td>12</td>\n",
       "    </tr>\n",
       "    <tr>\n",
       "      <th>1</th>\n",
       "      <td>10013</td>\n",
       "      <td>2051</td>\n",
       "      <td>CAM</td>\n",
       "      <td>12</td>\n",
       "    </tr>\n",
       "  </tbody>\n",
       "</table>\n",
       "</div>"
      ],
      "text/plain": [
       "   FormulaID  FormulaCode FormulaType  Duration\n",
       "0      10011         2051         CAM        12\n",
       "1      10013         2051         CAM        12"
      ]
     },
     "execution_count": 365,
     "metadata": {},
     "output_type": "execute_result"
    }
   ],
   "source": [
    "Formula = pd.read_csv('/home/rohan/Documents/ROHAN_DA/ALABS/___STATS___ -  cls 10 onwards/Class_20 Case_study_ML/Case_study/1. NEWS PUBLISHING COMPANY-CLASSIFICATION-ATTRITION/2 - NPC Retention Data/formula.txt',sep=\";\")\n",
    "Formula.head(2)"
   ]
  },
  {
   "cell_type": "code",
   "execution_count": 368,
   "metadata": {},
   "outputs": [
    {
     "name": "stdout",
     "output_type": "stream",
     "text": [
      "unique Formula ID: 997 || total obs in dataset: 997\n"
     ]
    },
    {
     "data": {
      "text/plain": [
       "True"
      ]
     },
     "execution_count": 368,
     "metadata": {},
     "output_type": "execute_result"
    }
   ],
   "source": [
    "# checking if the primary key is repetitive\n",
    "print('unique Formula ID:',Formula.FormulaID.nunique(),'|| total obs in dataset:',Formula.shape[0])\n",
    "Formula.FormulaID.nunique() == Formula.shape[0]"
   ]
  },
  {
   "cell_type": "markdown",
   "metadata": {},
   "source": [
    "# -----------------------------------------------Credit-------------------------------------------------"
   ]
  },
  {
   "cell_type": "code",
   "execution_count": null,
   "metadata": {},
   "outputs": [],
   "source": [
    "#pandas_profiling.ProfileReport(credit)"
   ]
  },
  {
   "cell_type": "markdown",
   "metadata": {},
   "source": [
    "- nbrNewspapers -  no of newspaper on credit  \n",
    "\n",
    "- --------------------------------------------------------------------------------\n",
    "- Missing_value\n",
    "\n",
    "- NbrNewspapers has 532 / 27.4% missing values Missing - only 7 unique values --> converted to 0 [0 rs]\n",
    "- ProcessingDate has 38 / 2.0% missing values Missing --> filled using fillna() \n",
    "- Dataset has 350 duplicate rows Warning --> to fix\n"
   ]
  },
  {
   "cell_type": "code",
   "execution_count": 370,
   "metadata": {},
   "outputs": [
    {
     "data": {
      "text/html": [
       "<div>\n",
       "<style scoped>\n",
       "    .dataframe tbody tr th:only-of-type {\n",
       "        vertical-align: middle;\n",
       "    }\n",
       "\n",
       "    .dataframe tbody tr th {\n",
       "        vertical-align: top;\n",
       "    }\n",
       "\n",
       "    .dataframe thead th {\n",
       "        text-align: right;\n",
       "    }\n",
       "</style>\n",
       "<table border=\"1\" class=\"dataframe\">\n",
       "  <thead>\n",
       "    <tr style=\"text-align: right;\">\n",
       "      <th></th>\n",
       "      <th>SubscriptionID</th>\n",
       "      <th>ActionType</th>\n",
       "      <th>ProcessingDate</th>\n",
       "      <th>CreditSource</th>\n",
       "      <th>Amount</th>\n",
       "      <th>NbrNewspapers</th>\n",
       "    </tr>\n",
       "  </thead>\n",
       "  <tbody>\n",
       "    <tr>\n",
       "      <th>0</th>\n",
       "      <td>1002057</td>\n",
       "      <td>EN</td>\n",
       "      <td>18/05/2009</td>\n",
       "      <td>COM</td>\n",
       "      <td>1.0400</td>\n",
       "      <td>1.0</td>\n",
       "    </tr>\n",
       "    <tr>\n",
       "      <th>1</th>\n",
       "      <td>1002089</td>\n",
       "      <td>EN</td>\n",
       "      <td>06/10/2010</td>\n",
       "      <td>COM</td>\n",
       "      <td>0.8783</td>\n",
       "      <td>1.0</td>\n",
       "    </tr>\n",
       "  </tbody>\n",
       "</table>\n",
       "</div>"
      ],
      "text/plain": [
       "   SubscriptionID ActionType ProcessingDate CreditSource  Amount  \\\n",
       "0         1002057         EN     18/05/2009          COM  1.0400   \n",
       "1         1002089         EN     06/10/2010          COM  0.8783   \n",
       "\n",
       "   NbrNewspapers  \n",
       "0            1.0  \n",
       "1            1.0  "
      ]
     },
     "execution_count": 370,
     "metadata": {},
     "output_type": "execute_result"
    }
   ],
   "source": [
    "credit = pd.read_csv('/home/rohan/Documents/ROHAN_DA/ALABS/___STATS___ -  cls 10 onwards/Class_20 Case_study_ML/Case_study/1. NEWS PUBLISHING COMPANY-CLASSIFICATION-ATTRITION/2 - NPC Retention Data/credit.txt',sep=\";\")\n",
    "credit.head(2)"
   ]
  },
  {
   "cell_type": "markdown",
   "metadata": {},
   "source": [
    "#### preparing the data"
   ]
  },
  {
   "cell_type": "markdown",
   "metadata": {},
   "source": [
    "- since we have 900 \"1\" and 500 \"0\" and around \"500\" NAN, we can convert NAN to 0 coz:\n",
    "      - They should actually be 0\n",
    "      - The data would get balanced by \"1\" & \"0\" [1000 vs 1000] \n",
    "     "
   ]
  },
  {
   "cell_type": "code",
   "execution_count": 412,
   "metadata": {},
   "outputs": [
    {
     "data": {
      "text/html": [
       "<div>\n",
       "<style scoped>\n",
       "    .dataframe tbody tr th:only-of-type {\n",
       "        vertical-align: middle;\n",
       "    }\n",
       "\n",
       "    .dataframe tbody tr th {\n",
       "        vertical-align: top;\n",
       "    }\n",
       "\n",
       "    .dataframe thead th {\n",
       "        text-align: right;\n",
       "    }\n",
       "</style>\n",
       "<table border=\"1\" class=\"dataframe\">\n",
       "  <thead>\n",
       "    <tr style=\"text-align: right;\">\n",
       "      <th></th>\n",
       "      <th>SubscriptionID</th>\n",
       "      <th>ActionType</th>\n",
       "      <th>ProcessingDate</th>\n",
       "      <th>CreditSource</th>\n",
       "      <th>Amount</th>\n",
       "    </tr>\n",
       "    <tr>\n",
       "      <th>NbrNewspapers</th>\n",
       "      <th></th>\n",
       "      <th></th>\n",
       "      <th></th>\n",
       "      <th></th>\n",
       "      <th></th>\n",
       "    </tr>\n",
       "  </thead>\n",
       "  <tbody>\n",
       "    <tr>\n",
       "      <th>0.0</th>\n",
       "      <td>487</td>\n",
       "      <td>487</td>\n",
       "      <td>453</td>\n",
       "      <td>487</td>\n",
       "      <td>487</td>\n",
       "    </tr>\n",
       "    <tr>\n",
       "      <th>1.0</th>\n",
       "      <td>914</td>\n",
       "      <td>914</td>\n",
       "      <td>914</td>\n",
       "      <td>914</td>\n",
       "      <td>914</td>\n",
       "    </tr>\n",
       "    <tr>\n",
       "      <th>5.0</th>\n",
       "      <td>1</td>\n",
       "      <td>1</td>\n",
       "      <td>0</td>\n",
       "      <td>1</td>\n",
       "      <td>1</td>\n",
       "    </tr>\n",
       "    <tr>\n",
       "      <th>14.0</th>\n",
       "      <td>1</td>\n",
       "      <td>1</td>\n",
       "      <td>1</td>\n",
       "      <td>1</td>\n",
       "      <td>0</td>\n",
       "    </tr>\n",
       "    <tr>\n",
       "      <th>15.0</th>\n",
       "      <td>1</td>\n",
       "      <td>1</td>\n",
       "      <td>1</td>\n",
       "      <td>1</td>\n",
       "      <td>0</td>\n",
       "    </tr>\n",
       "    <tr>\n",
       "      <th>22.0</th>\n",
       "      <td>2</td>\n",
       "      <td>2</td>\n",
       "      <td>0</td>\n",
       "      <td>2</td>\n",
       "      <td>2</td>\n",
       "    </tr>\n",
       "    <tr>\n",
       "      <th>28.0</th>\n",
       "      <td>1</td>\n",
       "      <td>1</td>\n",
       "      <td>1</td>\n",
       "      <td>1</td>\n",
       "      <td>0</td>\n",
       "    </tr>\n",
       "    <tr>\n",
       "      <th>40.0</th>\n",
       "      <td>1</td>\n",
       "      <td>1</td>\n",
       "      <td>0</td>\n",
       "      <td>1</td>\n",
       "      <td>1</td>\n",
       "    </tr>\n",
       "  </tbody>\n",
       "</table>\n",
       "</div>"
      ],
      "text/plain": [
       "               SubscriptionID  ActionType  ProcessingDate  CreditSource  \\\n",
       "NbrNewspapers                                                             \n",
       "0.0                       487         487             453           487   \n",
       "1.0                       914         914             914           914   \n",
       "5.0                         1           1               0             1   \n",
       "14.0                        1           1               1             1   \n",
       "15.0                        1           1               1             1   \n",
       "22.0                        2           2               0             2   \n",
       "28.0                        1           1               1             1   \n",
       "40.0                        1           1               0             1   \n",
       "\n",
       "               Amount  \n",
       "NbrNewspapers          \n",
       "0.0               487  \n",
       "1.0               914  \n",
       "5.0                 1  \n",
       "14.0                0  \n",
       "15.0                0  \n",
       "22.0                2  \n",
       "28.0                0  \n",
       "40.0                1  "
      ]
     },
     "execution_count": 412,
     "metadata": {},
     "output_type": "execute_result"
    }
   ],
   "source": [
    "credit.groupby(['NbrNewspapers']).count()"
   ]
  },
  {
   "cell_type": "code",
   "execution_count": 371,
   "metadata": {},
   "outputs": [
    {
     "data": {
      "text/html": [
       "<div>\n",
       "<style scoped>\n",
       "    .dataframe tbody tr th:only-of-type {\n",
       "        vertical-align: middle;\n",
       "    }\n",
       "\n",
       "    .dataframe tbody tr th {\n",
       "        vertical-align: top;\n",
       "    }\n",
       "\n",
       "    .dataframe thead th {\n",
       "        text-align: right;\n",
       "    }\n",
       "</style>\n",
       "<table border=\"1\" class=\"dataframe\">\n",
       "  <thead>\n",
       "    <tr style=\"text-align: right;\">\n",
       "      <th></th>\n",
       "      <th>ActionType</th>\n",
       "      <th>NbrNewspapers</th>\n",
       "    </tr>\n",
       "  </thead>\n",
       "  <tbody>\n",
       "    <tr>\n",
       "      <th>54</th>\n",
       "      <td>CC</td>\n",
       "      <td>NaN</td>\n",
       "    </tr>\n",
       "    <tr>\n",
       "      <th>92</th>\n",
       "      <td>CC</td>\n",
       "      <td>NaN</td>\n",
       "    </tr>\n",
       "  </tbody>\n",
       "</table>\n",
       "</div>"
      ],
      "text/plain": [
       "   ActionType  NbrNewspapers\n",
       "54         CC            NaN\n",
       "92         CC            NaN"
      ]
     },
     "execution_count": 371,
     "metadata": {},
     "output_type": "execute_result"
    }
   ],
   "source": [
    "## All NAN values are for \"CC\" ActionType\n",
    "credit.loc[credit.NbrNewspapers.isnull(),['ActionType','NbrNewspapers']].head(2)"
   ]
  },
  {
   "cell_type": "code",
   "execution_count": 375,
   "metadata": {},
   "outputs": [
    {
     "data": {
      "text/plain": [
       "0"
      ]
     },
     "execution_count": 375,
     "metadata": {},
     "output_type": "execute_result"
    }
   ],
   "source": [
    "### Equating all NAN values to 0\n",
    "\n",
    "#credit.loc[credit.NbrNewspapers.isnull(),'NbrNewspapers'] = 0\n",
    "credit.NbrNewspapers.isnull().sum() #-- No Null Values"
   ]
  },
  {
   "cell_type": "markdown",
   "metadata": {},
   "source": [
    "- Filling the missing \"Processing_date\" column"
   ]
  },
  {
   "cell_type": "code",
   "execution_count": 380,
   "metadata": {},
   "outputs": [
    {
     "data": {
      "text/html": [
       "<div>\n",
       "<style scoped>\n",
       "    .dataframe tbody tr th:only-of-type {\n",
       "        vertical-align: middle;\n",
       "    }\n",
       "\n",
       "    .dataframe tbody tr th {\n",
       "        vertical-align: top;\n",
       "    }\n",
       "\n",
       "    .dataframe thead th {\n",
       "        text-align: right;\n",
       "    }\n",
       "</style>\n",
       "<table border=\"1\" class=\"dataframe\">\n",
       "  <thead>\n",
       "    <tr style=\"text-align: right;\">\n",
       "      <th></th>\n",
       "      <th>SubscriptionID</th>\n",
       "      <th>ActionType</th>\n",
       "      <th>ProcessingDate</th>\n",
       "      <th>CreditSource</th>\n",
       "      <th>Amount</th>\n",
       "      <th>NbrNewspapers</th>\n",
       "    </tr>\n",
       "  </thead>\n",
       "  <tbody>\n",
       "    <tr>\n",
       "      <th>0</th>\n",
       "      <td>1002057</td>\n",
       "      <td>EN</td>\n",
       "      <td>18/05/2009</td>\n",
       "      <td>COM</td>\n",
       "      <td>1.0400</td>\n",
       "      <td>1.0</td>\n",
       "    </tr>\n",
       "    <tr>\n",
       "      <th>1</th>\n",
       "      <td>1002089</td>\n",
       "      <td>EN</td>\n",
       "      <td>06/10/2010</td>\n",
       "      <td>COM</td>\n",
       "      <td>0.8783</td>\n",
       "      <td>1.0</td>\n",
       "    </tr>\n",
       "    <tr>\n",
       "      <th>2</th>\n",
       "      <td>1002089</td>\n",
       "      <td>EN</td>\n",
       "      <td>22/12/2010</td>\n",
       "      <td>COM</td>\n",
       "      <td>0.8783</td>\n",
       "      <td>1.0</td>\n",
       "    </tr>\n",
       "    <tr>\n",
       "      <th>3</th>\n",
       "      <td>1002089</td>\n",
       "      <td>EN</td>\n",
       "      <td>23/12/2010</td>\n",
       "      <td>COM</td>\n",
       "      <td>0.8783</td>\n",
       "      <td>1.0</td>\n",
       "    </tr>\n",
       "    <tr>\n",
       "      <th>4</th>\n",
       "      <td>1002089</td>\n",
       "      <td>EN</td>\n",
       "      <td>24/12/2010</td>\n",
       "      <td>COM</td>\n",
       "      <td>0.8783</td>\n",
       "      <td>1.0</td>\n",
       "    </tr>\n",
       "  </tbody>\n",
       "</table>\n",
       "</div>"
      ],
      "text/plain": [
       "   SubscriptionID ActionType ProcessingDate CreditSource  Amount  \\\n",
       "0         1002057         EN     18/05/2009          COM  1.0400   \n",
       "1         1002089         EN     06/10/2010          COM  0.8783   \n",
       "2         1002089         EN     22/12/2010          COM  0.8783   \n",
       "3         1002089         EN     23/12/2010          COM  0.8783   \n",
       "4         1002089         EN     24/12/2010          COM  0.8783   \n",
       "\n",
       "   NbrNewspapers  \n",
       "0            1.0  \n",
       "1            1.0  \n",
       "2            1.0  \n",
       "3            1.0  \n",
       "4            1.0  "
      ]
     },
     "execution_count": 380,
     "metadata": {},
     "output_type": "execute_result"
    }
   ],
   "source": [
    "#credit.ProcessingDate.fillna(method= 'ffill',inplace=True)\n",
    "credit.head()"
   ]
  },
  {
   "cell_type": "code",
   "execution_count": 381,
   "metadata": {},
   "outputs": [
    {
     "name": "stdout",
     "output_type": "stream",
     "text": [
      "unique SubscriptionID: 1112 || total obs in dataset: 1940\n"
     ]
    },
    {
     "data": {
      "text/plain": [
       "False"
      ]
     },
     "execution_count": 381,
     "metadata": {},
     "output_type": "execute_result"
    }
   ],
   "source": [
    "# checking if the primary key is repetitive\n",
    "print('unique SubscriptionID:',credit.SubscriptionID.nunique(),'|| total obs in dataset:',credit.shape[0])\n",
    "credit.SubscriptionID.nunique() == credit.shape[0]"
   ]
  },
  {
   "cell_type": "markdown",
   "metadata": {},
   "source": [
    "# ---------------------------------------------Complains---------------------------------------------"
   ]
  },
  {
   "cell_type": "code",
   "execution_count": null,
   "metadata": {},
   "outputs": [],
   "source": [
    "#pandas_profiling.ProfileReport(complains)"
   ]
  },
  {
   "cell_type": "markdown",
   "metadata": {},
   "source": [
    "- Complain_type -  (1-9)\n",
    "- Solution_type - (1-4)\n",
    "- complain_date -  object type\n",
    "\n",
    "\n",
    "\n",
    "###### Missing_Value\n",
    "- ProductID has 414 / 10.0% missing values Missing\n",
    "- SolutionType has 1092 / 26.5% missing values Missing\n",
    "- Feedback_type - FeedbackType has 2502 / 60.7% missing values"
   ]
  },
  {
   "cell_type": "code",
   "execution_count": 382,
   "metadata": {},
   "outputs": [
    {
     "data": {
      "text/html": [
       "<div>\n",
       "<style scoped>\n",
       "    .dataframe tbody tr th:only-of-type {\n",
       "        vertical-align: middle;\n",
       "    }\n",
       "\n",
       "    .dataframe tbody tr th {\n",
       "        vertical-align: top;\n",
       "    }\n",
       "\n",
       "    .dataframe thead th {\n",
       "        text-align: right;\n",
       "    }\n",
       "</style>\n",
       "<table border=\"1\" class=\"dataframe\">\n",
       "  <thead>\n",
       "    <tr style=\"text-align: right;\">\n",
       "      <th></th>\n",
       "      <th>ComplaintID</th>\n",
       "      <th>CustomerID</th>\n",
       "      <th>ProductID</th>\n",
       "      <th>ComplaintDate</th>\n",
       "      <th>ComplaintType</th>\n",
       "      <th>SolutionType</th>\n",
       "      <th>FeedbackType</th>\n",
       "    </tr>\n",
       "  </thead>\n",
       "  <tbody>\n",
       "    <tr>\n",
       "      <th>0</th>\n",
       "      <td>181932</td>\n",
       "      <td>3464</td>\n",
       "      <td>8.0</td>\n",
       "      <td>14/10/2010</td>\n",
       "      <td>7</td>\n",
       "      <td>2.0</td>\n",
       "      <td>NaN</td>\n",
       "    </tr>\n",
       "    <tr>\n",
       "      <th>1</th>\n",
       "      <td>168698</td>\n",
       "      <td>3464</td>\n",
       "      <td>8.0</td>\n",
       "      <td>19/07/2010</td>\n",
       "      <td>1</td>\n",
       "      <td>2.0</td>\n",
       "      <td>3.0</td>\n",
       "    </tr>\n",
       "  </tbody>\n",
       "</table>\n",
       "</div>"
      ],
      "text/plain": [
       "   ComplaintID  CustomerID  ProductID ComplaintDate  ComplaintType  \\\n",
       "0       181932        3464        8.0    14/10/2010              7   \n",
       "1       168698        3464        8.0    19/07/2010              1   \n",
       "\n",
       "   SolutionType  FeedbackType  \n",
       "0           2.0           NaN  \n",
       "1           2.0           3.0  "
      ]
     },
     "execution_count": 382,
     "metadata": {},
     "output_type": "execute_result"
    }
   ],
   "source": [
    "complains = pd.read_csv('/home/rohan/Documents/ROHAN_DA/ALABS/___STATS___ -  cls 10 onwards/Class_20 Case_study_ML/Case_study/1. NEWS PUBLISHING COMPANY-CLASSIFICATION-ATTRITION/2 - NPC Retention Data/complaints.txt',sep=\";\")\n",
    "complains.head(2)"
   ]
  },
  {
   "cell_type": "markdown",
   "metadata": {},
   "source": [
    "#### Fixing the data"
   ]
  },
  {
   "cell_type": "markdown",
   "metadata": {},
   "source": [
    "- **complaint_type** and **Feedback_type** are very similar columns moreover Feedback_type has 60% NAN so we are dropping it"
   ]
  },
  {
   "cell_type": "code",
   "execution_count": 384,
   "metadata": {},
   "outputs": [],
   "source": [
    "#Dropping the column \n",
    "# complains.drop(columns= 'FeedbackType',inplace=True)"
   ]
  },
  {
   "cell_type": "code",
   "execution_count": 385,
   "metadata": {},
   "outputs": [
    {
     "data": {
      "text/html": [
       "<div>\n",
       "<style scoped>\n",
       "    .dataframe tbody tr th:only-of-type {\n",
       "        vertical-align: middle;\n",
       "    }\n",
       "\n",
       "    .dataframe tbody tr th {\n",
       "        vertical-align: top;\n",
       "    }\n",
       "\n",
       "    .dataframe thead th {\n",
       "        text-align: right;\n",
       "    }\n",
       "</style>\n",
       "<table border=\"1\" class=\"dataframe\">\n",
       "  <thead>\n",
       "    <tr style=\"text-align: right;\">\n",
       "      <th></th>\n",
       "      <th>ComplaintID</th>\n",
       "      <th>CustomerID</th>\n",
       "      <th>ProductID</th>\n",
       "      <th>ComplaintDate</th>\n",
       "      <th>ComplaintType</th>\n",
       "      <th>SolutionType</th>\n",
       "    </tr>\n",
       "  </thead>\n",
       "  <tbody>\n",
       "    <tr>\n",
       "      <th>0</th>\n",
       "      <td>181932</td>\n",
       "      <td>3464</td>\n",
       "      <td>8.0</td>\n",
       "      <td>14/10/2010</td>\n",
       "      <td>7</td>\n",
       "      <td>2.0</td>\n",
       "    </tr>\n",
       "    <tr>\n",
       "      <th>1</th>\n",
       "      <td>168698</td>\n",
       "      <td>3464</td>\n",
       "      <td>8.0</td>\n",
       "      <td>19/07/2010</td>\n",
       "      <td>1</td>\n",
       "      <td>2.0</td>\n",
       "    </tr>\n",
       "  </tbody>\n",
       "</table>\n",
       "</div>"
      ],
      "text/plain": [
       "   ComplaintID  CustomerID  ProductID ComplaintDate  ComplaintType  \\\n",
       "0       181932        3464        8.0    14/10/2010              7   \n",
       "1       168698        3464        8.0    19/07/2010              1   \n",
       "\n",
       "   SolutionType  \n",
       "0           2.0  \n",
       "1           2.0  "
      ]
     },
     "execution_count": 385,
     "metadata": {},
     "output_type": "execute_result"
    }
   ],
   "source": [
    "complains.head(2)"
   ]
  },
  {
   "cell_type": "markdown",
   "metadata": {},
   "source": [
    "- Using **KNN** for predicting the 1000~ values for solutiontype(dependent on Complaint_type)"
   ]
  },
  {
   "cell_type": "markdown",
   "metadata": {},
   "source": [
    "### --------------------------------------------KNN for unseen data----------------------"
   ]
  },
  {
   "cell_type": "code",
   "execution_count": 386,
   "metadata": {},
   "outputs": [
    {
     "data": {
      "text/html": [
       "<div>\n",
       "<style scoped>\n",
       "    .dataframe tbody tr th:only-of-type {\n",
       "        vertical-align: middle;\n",
       "    }\n",
       "\n",
       "    .dataframe tbody tr th {\n",
       "        vertical-align: top;\n",
       "    }\n",
       "\n",
       "    .dataframe thead th {\n",
       "        text-align: right;\n",
       "    }\n",
       "</style>\n",
       "<table border=\"1\" class=\"dataframe\">\n",
       "  <thead>\n",
       "    <tr style=\"text-align: right;\">\n",
       "      <th></th>\n",
       "      <th></th>\n",
       "      <th>ComplaintID</th>\n",
       "      <th>CustomerID</th>\n",
       "      <th>ProductID</th>\n",
       "      <th>ComplaintDate</th>\n",
       "    </tr>\n",
       "    <tr>\n",
       "      <th>SolutionType</th>\n",
       "      <th>ComplaintType</th>\n",
       "      <th></th>\n",
       "      <th></th>\n",
       "      <th></th>\n",
       "      <th></th>\n",
       "    </tr>\n",
       "  </thead>\n",
       "  <tbody>\n",
       "    <tr>\n",
       "      <th rowspan=\"8\" valign=\"top\">1.0</th>\n",
       "      <th>1</th>\n",
       "      <td>1027</td>\n",
       "      <td>1027</td>\n",
       "      <td>911</td>\n",
       "      <td>1027</td>\n",
       "    </tr>\n",
       "    <tr>\n",
       "      <th>2</th>\n",
       "      <td>9</td>\n",
       "      <td>9</td>\n",
       "      <td>8</td>\n",
       "      <td>9</td>\n",
       "    </tr>\n",
       "    <tr>\n",
       "      <th>3</th>\n",
       "      <td>25</td>\n",
       "      <td>25</td>\n",
       "      <td>20</td>\n",
       "      <td>25</td>\n",
       "    </tr>\n",
       "    <tr>\n",
       "      <th>4</th>\n",
       "      <td>2</td>\n",
       "      <td>2</td>\n",
       "      <td>2</td>\n",
       "      <td>2</td>\n",
       "    </tr>\n",
       "    <tr>\n",
       "      <th>6</th>\n",
       "      <td>1</td>\n",
       "      <td>1</td>\n",
       "      <td>1</td>\n",
       "      <td>1</td>\n",
       "    </tr>\n",
       "    <tr>\n",
       "      <th>7</th>\n",
       "      <td>35</td>\n",
       "      <td>35</td>\n",
       "      <td>31</td>\n",
       "      <td>35</td>\n",
       "    </tr>\n",
       "    <tr>\n",
       "      <th>8</th>\n",
       "      <td>1</td>\n",
       "      <td>1</td>\n",
       "      <td>1</td>\n",
       "      <td>1</td>\n",
       "    </tr>\n",
       "    <tr>\n",
       "      <th>9</th>\n",
       "      <td>308</td>\n",
       "      <td>308</td>\n",
       "      <td>286</td>\n",
       "      <td>308</td>\n",
       "    </tr>\n",
       "    <tr>\n",
       "      <th rowspan=\"5\" valign=\"top\">2.0</th>\n",
       "      <th>1</th>\n",
       "      <td>1005</td>\n",
       "      <td>1005</td>\n",
       "      <td>841</td>\n",
       "      <td>1005</td>\n",
       "    </tr>\n",
       "    <tr>\n",
       "      <th>2</th>\n",
       "      <td>4</td>\n",
       "      <td>4</td>\n",
       "      <td>4</td>\n",
       "      <td>4</td>\n",
       "    </tr>\n",
       "    <tr>\n",
       "      <th>3</th>\n",
       "      <td>33</td>\n",
       "      <td>33</td>\n",
       "      <td>28</td>\n",
       "      <td>33</td>\n",
       "    </tr>\n",
       "    <tr>\n",
       "      <th>7</th>\n",
       "      <td>34</td>\n",
       "      <td>34</td>\n",
       "      <td>30</td>\n",
       "      <td>34</td>\n",
       "    </tr>\n",
       "    <tr>\n",
       "      <th>9</th>\n",
       "      <td>16</td>\n",
       "      <td>16</td>\n",
       "      <td>10</td>\n",
       "      <td>16</td>\n",
       "    </tr>\n",
       "  </tbody>\n",
       "</table>\n",
       "</div>"
      ],
      "text/plain": [
       "                            ComplaintID  CustomerID  ProductID  ComplaintDate\n",
       "SolutionType ComplaintType                                                   \n",
       "1.0          1                     1027        1027        911           1027\n",
       "             2                        9           9          8              9\n",
       "             3                       25          25         20             25\n",
       "             4                        2           2          2              2\n",
       "             6                        1           1          1              1\n",
       "             7                       35          35         31             35\n",
       "             8                        1           1          1              1\n",
       "             9                      308         308        286            308\n",
       "2.0          1                     1005        1005        841           1005\n",
       "             2                        4           4          4              4\n",
       "             3                       33          33         28             33\n",
       "             7                       34          34         30             34\n",
       "             9                       16          16         10             16"
      ]
     },
     "execution_count": 386,
     "metadata": {},
     "output_type": "execute_result"
    }
   ],
   "source": [
    "## we can see here that soltiontype has total 4125 obs, out of which 10xy are NAN\n",
    "## out of remaining 3k, solutiontype 1,2 comprise 2k both of which are pretty much dependent on\n",
    "## on complainttype = 1,2\n",
    "\n",
    "x = complains.groupby(['SolutionType','ComplaintType']).count()\n",
    "x.loc[:2]\n",
    "#x.xs(1) # can also be used like this - cross section "
   ]
  },
  {
   "cell_type": "code",
   "execution_count": 387,
   "metadata": {},
   "outputs": [
    {
     "data": {
      "text/html": [
       "<div>\n",
       "<style scoped>\n",
       "    .dataframe tbody tr th:only-of-type {\n",
       "        vertical-align: middle;\n",
       "    }\n",
       "\n",
       "    .dataframe tbody tr th {\n",
       "        vertical-align: top;\n",
       "    }\n",
       "\n",
       "    .dataframe thead th {\n",
       "        text-align: right;\n",
       "    }\n",
       "</style>\n",
       "<table border=\"1\" class=\"dataframe\">\n",
       "  <thead>\n",
       "    <tr style=\"text-align: right;\">\n",
       "      <th></th>\n",
       "      <th>ComplaintID</th>\n",
       "      <th>CustomerID</th>\n",
       "      <th>ProductID</th>\n",
       "      <th>ComplaintDate</th>\n",
       "      <th>SolutionType</th>\n",
       "    </tr>\n",
       "    <tr>\n",
       "      <th>ComplaintType</th>\n",
       "      <th></th>\n",
       "      <th></th>\n",
       "      <th></th>\n",
       "      <th></th>\n",
       "      <th></th>\n",
       "    </tr>\n",
       "  </thead>\n",
       "  <tbody>\n",
       "    <tr>\n",
       "      <th>1</th>\n",
       "      <td>821</td>\n",
       "      <td>821</td>\n",
       "      <td>819</td>\n",
       "      <td>821</td>\n",
       "      <td>0</td>\n",
       "    </tr>\n",
       "    <tr>\n",
       "      <th>2</th>\n",
       "      <td>50</td>\n",
       "      <td>50</td>\n",
       "      <td>50</td>\n",
       "      <td>50</td>\n",
       "      <td>0</td>\n",
       "    </tr>\n",
       "    <tr>\n",
       "      <th>3</th>\n",
       "      <td>19</td>\n",
       "      <td>19</td>\n",
       "      <td>19</td>\n",
       "      <td>19</td>\n",
       "      <td>0</td>\n",
       "    </tr>\n",
       "    <tr>\n",
       "      <th>4</th>\n",
       "      <td>4</td>\n",
       "      <td>4</td>\n",
       "      <td>4</td>\n",
       "      <td>4</td>\n",
       "      <td>0</td>\n",
       "    </tr>\n",
       "    <tr>\n",
       "      <th>5</th>\n",
       "      <td>16</td>\n",
       "      <td>16</td>\n",
       "      <td>16</td>\n",
       "      <td>16</td>\n",
       "      <td>0</td>\n",
       "    </tr>\n",
       "    <tr>\n",
       "      <th>6</th>\n",
       "      <td>3</td>\n",
       "      <td>3</td>\n",
       "      <td>3</td>\n",
       "      <td>3</td>\n",
       "      <td>0</td>\n",
       "    </tr>\n",
       "    <tr>\n",
       "      <th>7</th>\n",
       "      <td>87</td>\n",
       "      <td>87</td>\n",
       "      <td>87</td>\n",
       "      <td>87</td>\n",
       "      <td>0</td>\n",
       "    </tr>\n",
       "    <tr>\n",
       "      <th>8</th>\n",
       "      <td>6</td>\n",
       "      <td>6</td>\n",
       "      <td>6</td>\n",
       "      <td>6</td>\n",
       "      <td>0</td>\n",
       "    </tr>\n",
       "    <tr>\n",
       "      <th>9</th>\n",
       "      <td>86</td>\n",
       "      <td>86</td>\n",
       "      <td>86</td>\n",
       "      <td>86</td>\n",
       "      <td>0</td>\n",
       "    </tr>\n",
       "  </tbody>\n",
       "</table>\n",
       "</div>"
      ],
      "text/plain": [
       "               ComplaintID  CustomerID  ProductID  ComplaintDate  SolutionType\n",
       "ComplaintType                                                                 \n",
       "1                      821         821        819            821             0\n",
       "2                       50          50         50             50             0\n",
       "3                       19          19         19             19             0\n",
       "4                        4           4          4              4             0\n",
       "5                       16          16         16             16             0\n",
       "6                        3           3          3              3             0\n",
       "7                       87          87         87             87             0\n",
       "8                        6           6          6              6             0\n",
       "9                       86          86         86             86             0"
      ]
     },
     "execution_count": 387,
     "metadata": {},
     "output_type": "execute_result"
    }
   ],
   "source": [
    "## Out of all null values for solutiontype we have the division based on complainttype\n",
    "\n",
    "x = complains[complains.SolutionType.isnull()]\n",
    "x.groupby(['ComplaintType']).count()"
   ]
  },
  {
   "cell_type": "code",
   "execution_count": 388,
   "metadata": {},
   "outputs": [
    {
     "data": {
      "text/html": [
       "<div>\n",
       "<style scoped>\n",
       "    .dataframe tbody tr th:only-of-type {\n",
       "        vertical-align: middle;\n",
       "    }\n",
       "\n",
       "    .dataframe tbody tr th {\n",
       "        vertical-align: top;\n",
       "    }\n",
       "\n",
       "    .dataframe thead th {\n",
       "        text-align: right;\n",
       "    }\n",
       "</style>\n",
       "<table border=\"1\" class=\"dataframe\">\n",
       "  <thead>\n",
       "    <tr style=\"text-align: right;\">\n",
       "      <th></th>\n",
       "      <th>ComplaintID</th>\n",
       "      <th>CustomerID</th>\n",
       "      <th>ProductID</th>\n",
       "      <th>ComplaintDate</th>\n",
       "      <th>ComplaintType</th>\n",
       "      <th>SolutionType</th>\n",
       "    </tr>\n",
       "  </thead>\n",
       "  <tbody>\n",
       "    <tr>\n",
       "      <th>0</th>\n",
       "      <td>181932</td>\n",
       "      <td>3464</td>\n",
       "      <td>8.0</td>\n",
       "      <td>14/10/2010</td>\n",
       "      <td>7</td>\n",
       "      <td>2.0</td>\n",
       "    </tr>\n",
       "    <tr>\n",
       "      <th>1</th>\n",
       "      <td>168698</td>\n",
       "      <td>3464</td>\n",
       "      <td>8.0</td>\n",
       "      <td>19/07/2010</td>\n",
       "      <td>1</td>\n",
       "      <td>2.0</td>\n",
       "    </tr>\n",
       "  </tbody>\n",
       "</table>\n",
       "</div>"
      ],
      "text/plain": [
       "   ComplaintID  CustomerID  ProductID ComplaintDate  ComplaintType  \\\n",
       "0       181932        3464        8.0    14/10/2010              7   \n",
       "1       168698        3464        8.0    19/07/2010              1   \n",
       "\n",
       "   SolutionType  \n",
       "0           2.0  \n",
       "1           2.0  "
      ]
     },
     "execution_count": 388,
     "metadata": {},
     "output_type": "execute_result"
    }
   ],
   "source": [
    "complains.head(2)"
   ]
  },
  {
   "cell_type": "code",
   "execution_count": 389,
   "metadata": {},
   "outputs": [],
   "source": [
    "complain_M = complains[['ComplaintType','ComplaintDate','SolutionType']]"
   ]
  },
  {
   "cell_type": "markdown",
   "metadata": {},
   "source": [
    "- converting **datetime to integer** so to use it for modelling"
   ]
  },
  {
   "cell_type": "code",
   "execution_count": 390,
   "metadata": {},
   "outputs": [
    {
     "data": {
      "text/html": [
       "<div>\n",
       "<style scoped>\n",
       "    .dataframe tbody tr th:only-of-type {\n",
       "        vertical-align: middle;\n",
       "    }\n",
       "\n",
       "    .dataframe tbody tr th {\n",
       "        vertical-align: top;\n",
       "    }\n",
       "\n",
       "    .dataframe thead th {\n",
       "        text-align: right;\n",
       "    }\n",
       "</style>\n",
       "<table border=\"1\" class=\"dataframe\">\n",
       "  <thead>\n",
       "    <tr style=\"text-align: right;\">\n",
       "      <th></th>\n",
       "      <th>ComplaintType</th>\n",
       "      <th>ComplaintDate</th>\n",
       "      <th>SolutionType</th>\n",
       "    </tr>\n",
       "  </thead>\n",
       "  <tbody>\n",
       "    <tr>\n",
       "      <th>0</th>\n",
       "      <td>7</td>\n",
       "      <td>14/10/2010</td>\n",
       "      <td>2.0</td>\n",
       "    </tr>\n",
       "    <tr>\n",
       "      <th>1</th>\n",
       "      <td>1</td>\n",
       "      <td>19/07/2010</td>\n",
       "      <td>2.0</td>\n",
       "    </tr>\n",
       "    <tr>\n",
       "      <th>2</th>\n",
       "      <td>1</td>\n",
       "      <td>11/06/2010</td>\n",
       "      <td>2.0</td>\n",
       "    </tr>\n",
       "  </tbody>\n",
       "</table>\n",
       "</div>"
      ],
      "text/plain": [
       "   ComplaintType ComplaintDate  SolutionType\n",
       "0              7    14/10/2010           2.0\n",
       "1              1    19/07/2010           2.0\n",
       "2              1    11/06/2010           2.0"
      ]
     },
     "execution_count": 390,
     "metadata": {},
     "output_type": "execute_result"
    }
   ],
   "source": [
    "complain_M.head(3)"
   ]
  },
  {
   "cell_type": "code",
   "execution_count": 391,
   "metadata": {},
   "outputs": [
    {
     "data": {
      "text/plain": [
       "ComplaintType      int64\n",
       "ComplaintDate     object\n",
       "SolutionType     float64\n",
       "dtype: object"
      ]
     },
     "execution_count": 391,
     "metadata": {},
     "output_type": "execute_result"
    }
   ],
   "source": [
    "complain_M.dtypes"
   ]
  },
  {
   "cell_type": "code",
   "execution_count": 392,
   "metadata": {},
   "outputs": [
    {
     "name": "stderr",
     "output_type": "stream",
     "text": [
      "/home/rohan/anaconda3/lib/python3.6/site-packages/ipykernel_launcher.py:1: SettingWithCopyWarning: \n",
      "A value is trying to be set on a copy of a slice from a DataFrame.\n",
      "Try using .loc[row_indexer,col_indexer] = value instead\n",
      "\n",
      "See the caveats in the documentation: http://pandas.pydata.org/pandas-docs/stable/indexing.html#indexing-view-versus-copy\n",
      "  \"\"\"Entry point for launching an IPython kernel.\n"
     ]
    }
   ],
   "source": [
    "complain_M['ComplaintDate'] = pd.to_datetime(complain_M.ComplaintDate)"
   ]
  },
  {
   "cell_type": "code",
   "execution_count": 393,
   "metadata": {},
   "outputs": [
    {
     "data": {
      "text/plain": [
       "ComplaintType             int64\n",
       "ComplaintDate    datetime64[ns]\n",
       "SolutionType            float64\n",
       "dtype: object"
      ]
     },
     "execution_count": 393,
     "metadata": {},
     "output_type": "execute_result"
    }
   ],
   "source": [
    "complain_M.dtypes"
   ]
  },
  {
   "cell_type": "code",
   "execution_count": 394,
   "metadata": {},
   "outputs": [
    {
     "name": "stderr",
     "output_type": "stream",
     "text": [
      "/home/rohan/anaconda3/lib/python3.6/site-packages/pandas/core/generic.py:4401: SettingWithCopyWarning: \n",
      "A value is trying to be set on a copy of a slice from a DataFrame.\n",
      "Try using .loc[row_indexer,col_indexer] = value instead\n",
      "\n",
      "See the caveats in the documentation: http://pandas.pydata.org/pandas-docs/stable/indexing.html#indexing-view-versus-copy\n",
      "  self[name] = value\n"
     ]
    },
    {
     "data": {
      "text/plain": [
       "0    40463\n",
       "1    40376\n",
       "2    40486\n",
       "3    39926\n",
       "4    39943\n",
       "Name: ComplaintDate, dtype: int64"
      ]
     },
     "execution_count": 394,
     "metadata": {},
     "output_type": "execute_result"
    }
   ],
   "source": [
    "complain_M.ComplaintDate = complain_M.ComplaintDate - pd.to_datetime('1900-01-01')\n",
    "complain_M.ComplaintDate  = complain_M.ComplaintDate.dt.days.astype('int')\n",
    "complain_M.ComplaintDate.head()"
   ]
  },
  {
   "cell_type": "code",
   "execution_count": 395,
   "metadata": {},
   "outputs": [
    {
     "data": {
      "text/html": [
       "<div>\n",
       "<style scoped>\n",
       "    .dataframe tbody tr th:only-of-type {\n",
       "        vertical-align: middle;\n",
       "    }\n",
       "\n",
       "    .dataframe tbody tr th {\n",
       "        vertical-align: top;\n",
       "    }\n",
       "\n",
       "    .dataframe thead th {\n",
       "        text-align: right;\n",
       "    }\n",
       "</style>\n",
       "<table border=\"1\" class=\"dataframe\">\n",
       "  <thead>\n",
       "    <tr style=\"text-align: right;\">\n",
       "      <th></th>\n",
       "      <th>ComplaintType</th>\n",
       "      <th>ComplaintDate</th>\n",
       "      <th>SolutionType</th>\n",
       "    </tr>\n",
       "  </thead>\n",
       "  <tbody>\n",
       "    <tr>\n",
       "      <th>0</th>\n",
       "      <td>7</td>\n",
       "      <td>40463</td>\n",
       "      <td>2.0</td>\n",
       "    </tr>\n",
       "    <tr>\n",
       "      <th>1</th>\n",
       "      <td>1</td>\n",
       "      <td>40376</td>\n",
       "      <td>2.0</td>\n",
       "    </tr>\n",
       "  </tbody>\n",
       "</table>\n",
       "</div>"
      ],
      "text/plain": [
       "   ComplaintType  ComplaintDate  SolutionType\n",
       "0              7          40463           2.0\n",
       "1              1          40376           2.0"
      ]
     },
     "execution_count": 395,
     "metadata": {},
     "output_type": "execute_result"
    }
   ],
   "source": [
    "complain_M.head(2)"
   ]
  },
  {
   "cell_type": "code",
   "execution_count": 396,
   "metadata": {},
   "outputs": [
    {
     "name": "stdout",
     "output_type": "stream",
     "text": [
      "train_data: (3033, 3) || predict_data: (1092, 3)\n"
     ]
    }
   ],
   "source": [
    "train = complain_M[complain_M.SolutionType.notnull()]\n",
    "\n",
    "## This is not the testing data but the data on which the model is to be applied\n",
    "predict_test = complain_M[complain_M.SolutionType.isnull()]\n",
    "\n",
    "print('train_data:',train.shape,'|| predict_data:',predict_test.shape)"
   ]
  },
  {
   "cell_type": "code",
   "execution_count": 397,
   "metadata": {},
   "outputs": [],
   "source": [
    "x_train,x_test,y_train,y_test = train_test_split(train[train.columns.difference(['SolutionType'])],train['SolutionType'],test_size = 0.2)"
   ]
  },
  {
   "cell_type": "code",
   "execution_count": 398,
   "metadata": {},
   "outputs": [
    {
     "name": "stdout",
     "output_type": "stream",
     "text": [
      "x_train: (2426, 2) || x_test: (607, 2) || y_train: (2426,) || y_test: (607,)\n"
     ]
    }
   ],
   "source": [
    "print('x_train:',x_train.shape,'|| x_test:',x_test.shape,'|| y_train:',y_train.shape,'|| y_test:',y_test.shape)\n"
   ]
  },
  {
   "cell_type": "code",
   "execution_count": 422,
   "metadata": {},
   "outputs": [
    {
     "data": {
      "text/plain": [
       "GridSearchCV(cv=5, error_score='raise-deprecating',\n",
       "       estimator=KNeighborsClassifier(algorithm='auto', leaf_size=30, metric='minkowski',\n",
       "           metric_params=None, n_jobs=None, n_neighbors=5, p=2,\n",
       "           weights='uniform'),\n",
       "       fit_params=None, iid='warn', n_jobs=None,\n",
       "       param_grid={'n_neighbors': [3, 5, 7, 9], 'leaf_size': [10, 30, 40, 50, 60]},\n",
       "       pre_dispatch='2*n_jobs', refit=True, return_train_score='warn',\n",
       "       scoring='accuracy', verbose=0)"
      ]
     },
     "execution_count": 422,
     "metadata": {},
     "output_type": "execute_result"
    }
   ],
   "source": [
    "knn_grid  = GridSearchCV(KNeighborsClassifier(),{'n_neighbors':[3,5,7,9],'leaf_size':[10,30,40,50,60] },scoring='accuracy',cv=5)\n",
    "knn_grid.fit(x_train,y_train)"
   ]
  },
  {
   "cell_type": "code",
   "execution_count": 423,
   "metadata": {},
   "outputs": [
    {
     "data": {
      "text/plain": [
       "KNeighborsClassifier(algorithm='auto', leaf_size=30, metric='minkowski',\n",
       "           metric_params=None, n_jobs=None, n_neighbors=3, p=2,\n",
       "           weights='uniform')"
      ]
     },
     "execution_count": 423,
     "metadata": {},
     "output_type": "execute_result"
    }
   ],
   "source": [
    "knn_grid.best_estimator_"
   ]
  },
  {
   "cell_type": "code",
   "execution_count": 424,
   "metadata": {},
   "outputs": [
    {
     "data": {
      "text/plain": [
       "1.0    298\n",
       "2.0    217\n",
       "3.0     79\n",
       "4.0     13\n",
       "dtype: int64"
      ]
     },
     "execution_count": 424,
     "metadata": {},
     "output_type": "execute_result"
    }
   ],
   "source": [
    "x =  pd.Series(test_reault)\n",
    "x.value_counts()"
   ]
  },
  {
   "cell_type": "code",
   "execution_count": 425,
   "metadata": {},
   "outputs": [],
   "source": [
    "test_reault = knn_grid.best_estimator_.predict(x_test)"
   ]
  },
  {
   "cell_type": "code",
   "execution_count": 428,
   "metadata": {},
   "outputs": [
    {
     "data": {
      "text/plain": [
       "0.528830313014827"
      ]
     },
     "execution_count": 428,
     "metadata": {},
     "output_type": "execute_result"
    }
   ],
   "source": [
    "metrics.accuracy_score(y_test,test_reault)"
   ]
  },
  {
   "cell_type": "markdown",
   "metadata": {},
   "source": [
    "#### Using this KNN model and predicting the unseen data"
   ]
  },
  {
   "cell_type": "code",
   "execution_count": 429,
   "metadata": {},
   "outputs": [
    {
     "data": {
      "text/plain": [
       "Index(['ComplaintType', 'ComplaintDate', 'SolutionType'], dtype='object')"
      ]
     },
     "execution_count": 429,
     "metadata": {},
     "output_type": "execute_result"
    }
   ],
   "source": [
    "predict_test.columns"
   ]
  },
  {
   "cell_type": "code",
   "execution_count": 430,
   "metadata": {},
   "outputs": [
    {
     "data": {
      "text/plain": [
       "1    821\n",
       "7     87\n",
       "9     86\n",
       "2     50\n",
       "3     19\n",
       "5     16\n",
       "8      6\n",
       "4      4\n",
       "6      3\n",
       "Name: ComplaintType, dtype: int64"
      ]
     },
     "execution_count": 430,
     "metadata": {},
     "output_type": "execute_result"
    }
   ],
   "source": [
    "u = predict_test[['ComplaintDate','ComplaintType']]\n",
    "u.ComplaintType.value_counts()"
   ]
  },
  {
   "cell_type": "code",
   "execution_count": 431,
   "metadata": {},
   "outputs": [
    {
     "data": {
      "text/plain": [
       "array([1., 2., 1., ..., 1., 1., 3.])"
      ]
     },
     "execution_count": 431,
     "metadata": {},
     "output_type": "execute_result"
    }
   ],
   "source": [
    "pred_data = knn_grid.best_estimator_.predict(u)\n",
    "pred_data"
   ]
  },
  {
   "cell_type": "code",
   "execution_count": 432,
   "metadata": {},
   "outputs": [
    {
     "data": {
      "text/plain": [
       "1.0    603\n",
       "2.0    278\n",
       "4.0    185\n",
       "3.0     26\n",
       "dtype: int64"
      ]
     },
     "execution_count": 432,
     "metadata": {},
     "output_type": "execute_result"
    }
   ],
   "source": [
    "Target = pd.Series(pred_data)\n",
    "Target.value_counts()"
   ]
  },
  {
   "cell_type": "markdown",
   "metadata": {},
   "source": [
    "#### Also tried other methods but the accuracy was too less ~ 50-60%, So sticking with KNN"
   ]
  },
  {
   "cell_type": "code",
   "execution_count": 433,
   "metadata": {},
   "outputs": [],
   "source": [
    "# from sklearn.ensemble import RandomForestClassifier\n",
    "# from sklearn.ensemble import BaggingClassifier\n",
    "# from sklearn.tree import DecisionTreeClassifier\n",
    "\n",
    "# # rf_cls = GridSearchCV(estimator= RandomForestClassifier(oob_score= True),cv = 5,scoring= 'accuracy',\n",
    "# #                       param_grid={'n_estimators':[50,100,200,300],'max_depth':[2,5,10,20]}\n",
    "# #                      )\n",
    "# bag_cls = GridSearchCV(estimator= BaggingClassifier(oob_score= True),cv = 5,scoring= 'accuracy',\n",
    "#                       param_grid={'n_estimators':[100,200,300]},n_jobs = -1\n",
    "#                      )\n",
    "\n",
    "\n",
    "# bag_cls.fit(x_train,y_train)\n",
    "\n",
    "#------------------------------------------------------------------------------------\n",
    "\n",
    "# bag_test = bag_cls.best_estimator_.predict(x_test)\n",
    "\n",
    "# bag_cls.best_params_\n",
    "\n",
    "# metrics.accuracy_score(y_test,bag_test)\n",
    "\n",
    "# x = bag_cls.predict(predict_test[['ComplaintType', 'ComplaintDate']])\n",
    "\n",
    "# x\n",
    "\n",
    "# x = pd.Series(x)\n",
    "# x.value_counts()"
   ]
  },
  {
   "cell_type": "markdown",
   "metadata": {},
   "source": [
    "#### Recreating data"
   ]
  },
  {
   "cell_type": "code",
   "execution_count": 434,
   "metadata": {},
   "outputs": [
    {
     "data": {
      "text/plain": [
       "(1092,)"
      ]
     },
     "execution_count": 434,
     "metadata": {},
     "output_type": "execute_result"
    }
   ],
   "source": [
    "np.shape(pred_data)"
   ]
  },
  {
   "cell_type": "code",
   "execution_count": 435,
   "metadata": {},
   "outputs": [
    {
     "data": {
      "text/plain": [
       "(1092, 3)"
      ]
     },
     "execution_count": 435,
     "metadata": {},
     "output_type": "execute_result"
    }
   ],
   "source": [
    "predict_test.shape"
   ]
  },
  {
   "cell_type": "code",
   "execution_count": 436,
   "metadata": {},
   "outputs": [
    {
     "name": "stderr",
     "output_type": "stream",
     "text": [
      "/home/rohan/anaconda3/lib/python3.6/site-packages/ipykernel_launcher.py:1: SettingWithCopyWarning: \n",
      "A value is trying to be set on a copy of a slice from a DataFrame.\n",
      "Try using .loc[row_indexer,col_indexer] = value instead\n",
      "\n",
      "See the caveats in the documentation: http://pandas.pydata.org/pandas-docs/stable/indexing.html#indexing-view-versus-copy\n",
      "  \"\"\"Entry point for launching an IPython kernel.\n"
     ]
    }
   ],
   "source": [
    "predict_test['SolutionType'] = pred_data"
   ]
  },
  {
   "cell_type": "code",
   "execution_count": 437,
   "metadata": {},
   "outputs": [
    {
     "data": {
      "text/plain": [
       "1.0    603\n",
       "2.0    278\n",
       "4.0    185\n",
       "3.0     26\n",
       "Name: SolutionType, dtype: int64"
      ]
     },
     "execution_count": 437,
     "metadata": {},
     "output_type": "execute_result"
    }
   ],
   "source": [
    "predict_test.SolutionType.value_counts()"
   ]
  },
  {
   "cell_type": "markdown",
   "metadata": {},
   "source": [
    "####  Final Dataset"
   ]
  },
  {
   "cell_type": "code",
   "execution_count": 438,
   "metadata": {},
   "outputs": [],
   "source": [
    "com = pd.concat([train,predict_test])"
   ]
  },
  {
   "cell_type": "code",
   "execution_count": 439,
   "metadata": {},
   "outputs": [
    {
     "data": {
      "text/html": [
       "<div>\n",
       "<style scoped>\n",
       "    .dataframe tbody tr th:only-of-type {\n",
       "        vertical-align: middle;\n",
       "    }\n",
       "\n",
       "    .dataframe tbody tr th {\n",
       "        vertical-align: top;\n",
       "    }\n",
       "\n",
       "    .dataframe thead th {\n",
       "        text-align: right;\n",
       "    }\n",
       "</style>\n",
       "<table border=\"1\" class=\"dataframe\">\n",
       "  <thead>\n",
       "    <tr style=\"text-align: right;\">\n",
       "      <th></th>\n",
       "      <th>ComplaintType</th>\n",
       "      <th>ComplaintDate</th>\n",
       "      <th>SolutionType</th>\n",
       "    </tr>\n",
       "  </thead>\n",
       "  <tbody>\n",
       "    <tr>\n",
       "      <th>0</th>\n",
       "      <td>7</td>\n",
       "      <td>40463</td>\n",
       "      <td>2.0</td>\n",
       "    </tr>\n",
       "    <tr>\n",
       "      <th>1</th>\n",
       "      <td>1</td>\n",
       "      <td>40376</td>\n",
       "      <td>2.0</td>\n",
       "    </tr>\n",
       "    <tr>\n",
       "      <th>2</th>\n",
       "      <td>1</td>\n",
       "      <td>40486</td>\n",
       "      <td>2.0</td>\n",
       "    </tr>\n",
       "  </tbody>\n",
       "</table>\n",
       "</div>"
      ],
      "text/plain": [
       "   ComplaintType  ComplaintDate  SolutionType\n",
       "0              7          40463           2.0\n",
       "1              1          40376           2.0\n",
       "2              1          40486           2.0"
      ]
     },
     "execution_count": 439,
     "metadata": {},
     "output_type": "execute_result"
    }
   ],
   "source": [
    "com.head(3)"
   ]
  },
  {
   "cell_type": "markdown",
   "metadata": {},
   "source": [
    "- Dropping the integer type Complaintdate & replacing by the actual one"
   ]
  },
  {
   "cell_type": "code",
   "execution_count": 442,
   "metadata": {},
   "outputs": [],
   "source": [
    "#com.drop(columns= 'ComplaintDate',inplace=True)\n",
    "complains_f = com.join([complains.ComplaintID,complains.CustomerID,complains.ProductID,complains.ComplaintDate])"
   ]
  },
  {
   "cell_type": "code",
   "execution_count": 443,
   "metadata": {},
   "outputs": [],
   "source": [
    "complains_f = complains_f[['ComplaintID','CustomerID','ProductID','ComplaintDate', 'ComplaintType','SolutionType']]\n",
    "complains_f.sort_index(inplace=True)"
   ]
  },
  {
   "cell_type": "markdown",
   "metadata": {},
   "source": [
    "- **Comparing the final & the raw dataset**"
   ]
  },
  {
   "cell_type": "code",
   "execution_count": 444,
   "metadata": {
    "scrolled": true
   },
   "outputs": [
    {
     "data": {
      "text/html": [
       "<div>\n",
       "<style scoped>\n",
       "    .dataframe tbody tr th:only-of-type {\n",
       "        vertical-align: middle;\n",
       "    }\n",
       "\n",
       "    .dataframe tbody tr th {\n",
       "        vertical-align: top;\n",
       "    }\n",
       "\n",
       "    .dataframe thead th {\n",
       "        text-align: right;\n",
       "    }\n",
       "</style>\n",
       "<table border=\"1\" class=\"dataframe\">\n",
       "  <thead>\n",
       "    <tr style=\"text-align: right;\">\n",
       "      <th></th>\n",
       "      <th>ComplaintID</th>\n",
       "      <th>CustomerID</th>\n",
       "      <th>ProductID</th>\n",
       "      <th>ComplaintDate</th>\n",
       "      <th>ComplaintType</th>\n",
       "      <th>SolutionType</th>\n",
       "    </tr>\n",
       "  </thead>\n",
       "  <tbody>\n",
       "    <tr>\n",
       "      <th>0</th>\n",
       "      <td>181932</td>\n",
       "      <td>3464</td>\n",
       "      <td>8.0</td>\n",
       "      <td>14/10/2010</td>\n",
       "      <td>7</td>\n",
       "      <td>2.0</td>\n",
       "    </tr>\n",
       "    <tr>\n",
       "      <th>1</th>\n",
       "      <td>168698</td>\n",
       "      <td>3464</td>\n",
       "      <td>8.0</td>\n",
       "      <td>19/07/2010</td>\n",
       "      <td>1</td>\n",
       "      <td>2.0</td>\n",
       "    </tr>\n",
       "  </tbody>\n",
       "</table>\n",
       "</div>"
      ],
      "text/plain": [
       "   ComplaintID  CustomerID  ProductID ComplaintDate  ComplaintType  \\\n",
       "0       181932        3464        8.0    14/10/2010              7   \n",
       "1       168698        3464        8.0    19/07/2010              1   \n",
       "\n",
       "   SolutionType  \n",
       "0           2.0  \n",
       "1           2.0  "
      ]
     },
     "execution_count": 444,
     "metadata": {},
     "output_type": "execute_result"
    }
   ],
   "source": [
    "# Final Dataset\n",
    "complains_f.head(2)"
   ]
  },
  {
   "cell_type": "code",
   "execution_count": 446,
   "metadata": {},
   "outputs": [
    {
     "data": {
      "text/html": [
       "<div>\n",
       "<style scoped>\n",
       "    .dataframe tbody tr th:only-of-type {\n",
       "        vertical-align: middle;\n",
       "    }\n",
       "\n",
       "    .dataframe tbody tr th {\n",
       "        vertical-align: top;\n",
       "    }\n",
       "\n",
       "    .dataframe thead th {\n",
       "        text-align: right;\n",
       "    }\n",
       "</style>\n",
       "<table border=\"1\" class=\"dataframe\">\n",
       "  <thead>\n",
       "    <tr style=\"text-align: right;\">\n",
       "      <th></th>\n",
       "      <th>ComplaintID</th>\n",
       "      <th>CustomerID</th>\n",
       "      <th>ProductID</th>\n",
       "      <th>ComplaintDate</th>\n",
       "      <th>ComplaintType</th>\n",
       "      <th>SolutionType</th>\n",
       "    </tr>\n",
       "  </thead>\n",
       "  <tbody>\n",
       "    <tr>\n",
       "      <th>0</th>\n",
       "      <td>181932</td>\n",
       "      <td>3464</td>\n",
       "      <td>8.0</td>\n",
       "      <td>14/10/2010</td>\n",
       "      <td>7</td>\n",
       "      <td>2.0</td>\n",
       "    </tr>\n",
       "    <tr>\n",
       "      <th>1</th>\n",
       "      <td>168698</td>\n",
       "      <td>3464</td>\n",
       "      <td>8.0</td>\n",
       "      <td>19/07/2010</td>\n",
       "      <td>1</td>\n",
       "      <td>2.0</td>\n",
       "    </tr>\n",
       "    <tr>\n",
       "      <th>2</th>\n",
       "      <td>163694</td>\n",
       "      <td>4107</td>\n",
       "      <td>8.0</td>\n",
       "      <td>11/06/2010</td>\n",
       "      <td>1</td>\n",
       "      <td>2.0</td>\n",
       "    </tr>\n",
       "    <tr>\n",
       "      <th>3</th>\n",
       "      <td>111664</td>\n",
       "      <td>4870</td>\n",
       "      <td>8.0</td>\n",
       "      <td>25/04/2009</td>\n",
       "      <td>1</td>\n",
       "      <td>3.0</td>\n",
       "    </tr>\n",
       "    <tr>\n",
       "      <th>4</th>\n",
       "      <td>139482</td>\n",
       "      <td>4870</td>\n",
       "      <td>8.0</td>\n",
       "      <td>05/12/2009</td>\n",
       "      <td>1</td>\n",
       "      <td>3.0</td>\n",
       "    </tr>\n",
       "  </tbody>\n",
       "</table>\n",
       "</div>"
      ],
      "text/plain": [
       "   ComplaintID  CustomerID  ProductID ComplaintDate  ComplaintType  \\\n",
       "0       181932        3464        8.0    14/10/2010              7   \n",
       "1       168698        3464        8.0    19/07/2010              1   \n",
       "2       163694        4107        8.0    11/06/2010              1   \n",
       "3       111664        4870        8.0    25/04/2009              1   \n",
       "4       139482        4870        8.0    05/12/2009              1   \n",
       "\n",
       "   SolutionType  \n",
       "0           2.0  \n",
       "1           2.0  \n",
       "2           2.0  \n",
       "3           3.0  \n",
       "4           3.0  "
      ]
     },
     "execution_count": 446,
     "metadata": {},
     "output_type": "execute_result"
    }
   ],
   "source": [
    "complains.head()"
   ]
  },
  {
   "cell_type": "code",
   "execution_count": 492,
   "metadata": {},
   "outputs": [
    {
     "data": {
      "text/html": [
       "<div>\n",
       "<style scoped>\n",
       "    .dataframe tbody tr th:only-of-type {\n",
       "        vertical-align: middle;\n",
       "    }\n",
       "\n",
       "    .dataframe tbody tr th {\n",
       "        vertical-align: top;\n",
       "    }\n",
       "\n",
       "    .dataframe thead th {\n",
       "        text-align: right;\n",
       "    }\n",
       "</style>\n",
       "<table border=\"1\" class=\"dataframe\">\n",
       "  <thead>\n",
       "    <tr style=\"text-align: right;\">\n",
       "      <th></th>\n",
       "      <th>ComplaintID</th>\n",
       "    </tr>\n",
       "  </thead>\n",
       "  <tbody>\n",
       "    <tr>\n",
       "      <th>3652</th>\n",
       "      <td>52454</td>\n",
       "    </tr>\n",
       "    <tr>\n",
       "      <th>2101</th>\n",
       "      <td>52454</td>\n",
       "    </tr>\n",
       "    <tr>\n",
       "      <th>3420</th>\n",
       "      <td>55018</td>\n",
       "    </tr>\n",
       "    <tr>\n",
       "      <th>727</th>\n",
       "      <td>55018</td>\n",
       "    </tr>\n",
       "  </tbody>\n",
       "</table>\n",
       "</div>"
      ],
      "text/plain": [
       "      ComplaintID\n",
       "3652        52454\n",
       "2101        52454\n",
       "3420        55018\n",
       "727         55018"
      ]
     },
     "execution_count": 492,
     "metadata": {},
     "output_type": "execute_result"
    }
   ],
   "source": [
    "a = complains_f.ComplaintID.duplicated(keep= False)\n",
    "b  = complains_f.loc[a,['ComplaintID']]\n",
    "b.sort_values('ComplaintID').head(4)"
   ]
  },
  {
   "cell_type": "code",
   "execution_count": 451,
   "metadata": {},
   "outputs": [
    {
     "name": "stdout",
     "output_type": "stream",
     "text": [
      "unique ComplaintID: 4107 || total obs in dataset: 4125\n"
     ]
    },
    {
     "data": {
      "text/plain": [
       "False"
      ]
     },
     "execution_count": 451,
     "metadata": {},
     "output_type": "execute_result"
    }
   ],
   "source": [
    "# checking if the primary key is repetitive\n",
    "print('unique ComplaintID:',complains_f.ComplaintID.nunique(),'|| total obs in dataset:',complains.shape[0])\n",
    "complains.ComplaintID.nunique() == complains.shape[0]"
   ]
  },
  {
   "cell_type": "markdown",
   "metadata": {},
   "source": [
    "### --------------------------------------------------------------------------------------------------------------------------"
   ]
  },
  {
   "cell_type": "markdown",
   "metadata": {},
   "source": [
    "# Master Dataset"
   ]
  },
  {
   "cell_type": "code",
   "execution_count": null,
   "metadata": {},
   "outputs": [],
   "source": []
  }
 ],
 "metadata": {
  "kernelspec": {
   "display_name": "Python 3",
   "language": "python",
   "name": "python3"
  },
  "language_info": {
   "codemirror_mode": {
    "name": "ipython",
    "version": 3
   },
   "file_extension": ".py",
   "mimetype": "text/x-python",
   "name": "python",
   "nbconvert_exporter": "python",
   "pygments_lexer": "ipython3",
   "version": "3.6.5"
  }
 },
 "nbformat": 4,
 "nbformat_minor": 2
}
