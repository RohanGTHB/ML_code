{
 "cells": [
  {
   "cell_type": "code",
   "execution_count": 2,
   "metadata": {},
   "outputs": [],
   "source": [
    "import pandas as pd\n",
    "import numpy as np\n",
    "import matplotlib.pyplot as plt\n",
    "import seaborn as sns\n",
    "%matplotlib inline\n",
    "#___________________________________________________\n",
    "\n",
    "from sklearn.model_selection import train_test_split,GridSearchCV,cross_val_score\n",
    "from sklearn import metrics\n",
    "from sklearn.tree import  DecisionTreeClassifier\n",
    "from sklearn.ensemble import RandomForestClassifier,GradientBoostingClassifier,AdaBoostClassifier\n",
    "from sklearn.preprocessing import StandardScaler\n",
    "from sklearn.neighbors import KNeighborsClassifier \n",
    "import pandas_profiling"
   ]
  },
  {
   "cell_type": "markdown",
   "metadata": {},
   "source": [
    "# ------------------------------------------------ extrelty -----------------------------------"
   ]
  },
  {
   "cell_type": "markdown",
   "metadata": {},
   "source": [
    "#### Description of the activity\n",
    "\n",
    "- **EXRELACTCD** - Activity code of the donor\n",
    "- **EXRELACTDE** - Activity desc of the donor "
   ]
  },
  {
   "cell_type": "code",
   "execution_count": 3,
   "metadata": {},
   "outputs": [
    {
     "data": {
      "text/html": [
       "<div>\n",
       "<style scoped>\n",
       "    .dataframe tbody tr th:only-of-type {\n",
       "        vertical-align: middle;\n",
       "    }\n",
       "\n",
       "    .dataframe tbody tr th {\n",
       "        vertical-align: top;\n",
       "    }\n",
       "\n",
       "    .dataframe thead th {\n",
       "        text-align: right;\n",
       "    }\n",
       "</style>\n",
       "<table border=\"1\" class=\"dataframe\">\n",
       "  <thead>\n",
       "    <tr style=\"text-align: right;\">\n",
       "      <th></th>\n",
       "      <th>EXRELACTCD</th>\n",
       "      <th>EXRELACTDE</th>\n",
       "    </tr>\n",
       "  </thead>\n",
       "  <tbody>\n",
       "    <tr>\n",
       "      <th>0</th>\n",
       "      <td>FP</td>\n",
       "      <td>CommitmentDo</td>\n",
       "    </tr>\n",
       "    <tr>\n",
       "      <th>1</th>\n",
       "      <td>PS</td>\n",
       "      <td>Prospect</td>\n",
       "    </tr>\n",
       "    <tr>\n",
       "      <th>2</th>\n",
       "      <td>PF</td>\n",
       "      <td>Prosp Fundra</td>\n",
       "    </tr>\n",
       "    <tr>\n",
       "      <th>3</th>\n",
       "      <td>PP</td>\n",
       "      <td>Prosp Promot</td>\n",
       "    </tr>\n",
       "    <tr>\n",
       "      <th>4</th>\n",
       "      <td>GR</td>\n",
       "      <td>Grantor</td>\n",
       "    </tr>\n",
       "  </tbody>\n",
       "</table>\n",
       "</div>"
      ],
      "text/plain": [
       "  EXRELACTCD    EXRELACTDE\n",
       "0         FP  CommitmentDo\n",
       "1         PS      Prospect\n",
       "2         PF  Prosp Fundra\n",
       "3         PP  Prosp Promot\n",
       "4         GR       Grantor"
      ]
     },
     "execution_count": 3,
     "metadata": {},
     "output_type": "execute_result"
    }
   ],
   "source": [
    "extrelty = pd.read_sas('/home/rohan/Documents/ROHAN_DA/ALABS/___STATS___ -  cls 10 onwards/Class_20 Case_study_ML/Case_study/2. NGO-FUND RAISING ATTRITION- CLASSIFICATION/2. NGO-FUND RAISING ATTRITION- CLASSIFICATION/1 - Data for Churn Modeling/extrelty.sas7bdat',encoding= 'utf-8')\n",
    "extrelty.head()"
   ]
  },
  {
   "cell_type": "code",
   "execution_count": 15,
   "metadata": {},
   "outputs": [
    {
     "data": {
      "text/plain": [
       "(26, 2)"
      ]
     },
     "execution_count": 15,
     "metadata": {},
     "output_type": "execute_result"
    }
   ],
   "source": [
    "extrelty.shape"
   ]
  },
  {
   "cell_type": "markdown",
   "metadata": {},
   "source": [
    "# ------------------------------------------- extrel -------------------------------------------"
   ]
  },
  {
   "cell_type": "markdown",
   "metadata": {},
   "source": [
    "#### All the donors of the organization\n",
    "\n",
    "**Extrelno** - Unique identifier of each donor\n",
    "\n",
    "**Extrelstdt** Start date of the relationship\n",
    "\n",
    "**Exreldaten** - End date of the relationship (Missing: not ended)"
   ]
  },
  {
   "cell_type": "code",
   "execution_count": 4,
   "metadata": {},
   "outputs": [
    {
     "data": {
      "text/html": [
       "<div>\n",
       "<style scoped>\n",
       "    .dataframe tbody tr th:only-of-type {\n",
       "        vertical-align: middle;\n",
       "    }\n",
       "\n",
       "    .dataframe tbody tr th {\n",
       "        vertical-align: top;\n",
       "    }\n",
       "\n",
       "    .dataframe thead th {\n",
       "        text-align: right;\n",
       "    }\n",
       "</style>\n",
       "<table border=\"1\" class=\"dataframe\">\n",
       "  <thead>\n",
       "    <tr style=\"text-align: right;\">\n",
       "      <th></th>\n",
       "      <th>EXTRELNO</th>\n",
       "      <th>EXRELACTCD</th>\n",
       "      <th>EXTRELSTDT</th>\n",
       "      <th>EXRELDATEN</th>\n",
       "    </tr>\n",
       "  </thead>\n",
       "  <tbody>\n",
       "    <tr>\n",
       "      <th>0</th>\n",
       "      <td>b'0026414'</td>\n",
       "      <td>b'CT'</td>\n",
       "      <td>1995-02-02</td>\n",
       "      <td>NaT</td>\n",
       "    </tr>\n",
       "    <tr>\n",
       "      <th>1</th>\n",
       "      <td>b'0026419'</td>\n",
       "      <td>b'FP'</td>\n",
       "      <td>1992-03-01</td>\n",
       "      <td>NaT</td>\n",
       "    </tr>\n",
       "  </tbody>\n",
       "</table>\n",
       "</div>"
      ],
      "text/plain": [
       "     EXTRELNO EXRELACTCD EXTRELSTDT EXRELDATEN\n",
       "0  b'0026414'      b'CT' 1995-02-02        NaT\n",
       "1  b'0026419'      b'FP' 1992-03-01        NaT"
      ]
     },
     "execution_count": 4,
     "metadata": {},
     "output_type": "execute_result"
    }
   ],
   "source": [
    "extrel = pd.read_sas('/home/rohan/Documents/ROHAN_DA/ALABS/___STATS___ -  cls 10 onwards/Class_20 Case_study_ML/Case_study/2. NGO-FUND RAISING ATTRITION- CLASSIFICATION/2. NGO-FUND RAISING ATTRITION- CLASSIFICATION/1 - Data for Churn Modeling/extrel.sas7bdat')\n",
    "extrel.head(2)"
   ]
  },
  {
   "cell_type": "markdown",
   "metadata": {},
   "source": [
    "#### Decoding the utf-8 Encoded values "
   ]
  },
  {
   "cell_type": "code",
   "execution_count": 5,
   "metadata": {},
   "outputs": [],
   "source": [
    "extrel[['EXTRELNO','EXRELACTCD']] = extrel[['EXTRELNO','EXRELACTCD']].apply( lambda x:x.str.decode('utf-8'))"
   ]
  },
  {
   "cell_type": "code",
   "execution_count": 445,
   "metadata": {},
   "outputs": [
    {
     "data": {
      "text/html": [
       "<div>\n",
       "<style scoped>\n",
       "    .dataframe tbody tr th:only-of-type {\n",
       "        vertical-align: middle;\n",
       "    }\n",
       "\n",
       "    .dataframe tbody tr th {\n",
       "        vertical-align: top;\n",
       "    }\n",
       "\n",
       "    .dataframe thead th {\n",
       "        text-align: right;\n",
       "    }\n",
       "</style>\n",
       "<table border=\"1\" class=\"dataframe\">\n",
       "  <thead>\n",
       "    <tr style=\"text-align: right;\">\n",
       "      <th></th>\n",
       "      <th>EXTRELNO</th>\n",
       "      <th>EXRELACTCD</th>\n",
       "      <th>EXTRELSTDT</th>\n",
       "      <th>EXRELDATEN</th>\n",
       "    </tr>\n",
       "  </thead>\n",
       "  <tbody>\n",
       "    <tr>\n",
       "      <th>0</th>\n",
       "      <td>0026414</td>\n",
       "      <td>CT</td>\n",
       "      <td>1995-02-02</td>\n",
       "      <td>NaT</td>\n",
       "    </tr>\n",
       "    <tr>\n",
       "      <th>1</th>\n",
       "      <td>0026419</td>\n",
       "      <td>FP</td>\n",
       "      <td>1992-03-01</td>\n",
       "      <td>NaT</td>\n",
       "    </tr>\n",
       "  </tbody>\n",
       "</table>\n",
       "</div>"
      ],
      "text/plain": [
       "  EXTRELNO EXRELACTCD EXTRELSTDT EXRELDATEN\n",
       "0  0026414         CT 1995-02-02        NaT\n",
       "1  0026419         FP 1992-03-01        NaT"
      ]
     },
     "execution_count": 445,
     "metadata": {},
     "output_type": "execute_result"
    }
   ],
   "source": [
    "extrel.head(2)"
   ]
  },
  {
   "cell_type": "code",
   "execution_count": 446,
   "metadata": {},
   "outputs": [
    {
     "data": {
      "text/html": [
       "<div>\n",
       "<style scoped>\n",
       "    .dataframe tbody tr th:only-of-type {\n",
       "        vertical-align: middle;\n",
       "    }\n",
       "\n",
       "    .dataframe tbody tr th {\n",
       "        vertical-align: top;\n",
       "    }\n",
       "\n",
       "    .dataframe thead th {\n",
       "        text-align: right;\n",
       "    }\n",
       "</style>\n",
       "<table border=\"1\" class=\"dataframe\">\n",
       "  <thead>\n",
       "    <tr style=\"text-align: right;\">\n",
       "      <th></th>\n",
       "      <th>count</th>\n",
       "      <th>unique</th>\n",
       "      <th>top</th>\n",
       "      <th>freq</th>\n",
       "      <th>first</th>\n",
       "      <th>last</th>\n",
       "    </tr>\n",
       "  </thead>\n",
       "  <tbody>\n",
       "    <tr>\n",
       "      <th>EXTRELNO</th>\n",
       "      <td>26689</td>\n",
       "      <td>18704</td>\n",
       "      <td>0038595</td>\n",
       "      <td>6</td>\n",
       "      <td>NaN</td>\n",
       "      <td>NaN</td>\n",
       "    </tr>\n",
       "    <tr>\n",
       "      <th>EXRELACTCD</th>\n",
       "      <td>26689</td>\n",
       "      <td>17</td>\n",
       "      <td>FP</td>\n",
       "      <td>11442</td>\n",
       "      <td>NaN</td>\n",
       "      <td>NaN</td>\n",
       "    </tr>\n",
       "    <tr>\n",
       "      <th>EXTRELSTDT</th>\n",
       "      <td>26689</td>\n",
       "      <td>2877</td>\n",
       "      <td>1994-11-29 00:00:00</td>\n",
       "      <td>1039</td>\n",
       "      <td>1989-11-01 00:00:00</td>\n",
       "      <td>2007-02-01 00:00:00</td>\n",
       "    </tr>\n",
       "    <tr>\n",
       "      <th>EXRELDATEN</th>\n",
       "      <td>10168</td>\n",
       "      <td>2567</td>\n",
       "      <td>1994-12-07 00:00:00</td>\n",
       "      <td>58</td>\n",
       "      <td>1927-10-31 00:00:00</td>\n",
       "      <td>2007-01-25 00:00:00</td>\n",
       "    </tr>\n",
       "  </tbody>\n",
       "</table>\n",
       "</div>"
      ],
      "text/plain": [
       "            count unique                  top   freq                first  \\\n",
       "EXTRELNO    26689  18704              0038595      6                  NaN   \n",
       "EXRELACTCD  26689     17                   FP  11442                  NaN   \n",
       "EXTRELSTDT  26689   2877  1994-11-29 00:00:00   1039  1989-11-01 00:00:00   \n",
       "EXRELDATEN  10168   2567  1994-12-07 00:00:00     58  1927-10-31 00:00:00   \n",
       "\n",
       "                           last  \n",
       "EXTRELNO                    NaN  \n",
       "EXRELACTCD                  NaN  \n",
       "EXTRELSTDT  2007-02-01 00:00:00  \n",
       "EXRELDATEN  2007-01-25 00:00:00  "
      ]
     },
     "execution_count": 446,
     "metadata": {},
     "output_type": "execute_result"
    }
   ],
   "source": [
    "## Only \"EXRELDATEN\" has Null values coz it signifies if a user is active or not\n",
    "extrel.describe().T"
   ]
  },
  {
   "cell_type": "code",
   "execution_count": 8,
   "metadata": {},
   "outputs": [],
   "source": [
    "# extrel.EXRELDATEN.value_counts()"
   ]
  },
  {
   "cell_type": "markdown",
   "metadata": {},
   "source": [
    "- Unique users that have a history after year 2003\n",
    "\n",
    "- Spillitng the data after 2003 yr will result in a major loss of data [18704 vs 2277]"
   ]
  },
  {
   "cell_type": "code",
   "execution_count": 6,
   "metadata": {},
   "outputs": [
    {
     "data": {
      "text/plain": [
       "nunique    2127\n",
       "count      2277\n",
       "Name: EXTRELNO, dtype: int64"
      ]
     },
     "execution_count": 6,
     "metadata": {},
     "output_type": "execute_result"
    }
   ],
   "source": [
    "data = extrel[extrel.EXRELDATEN >= pd.to_datetime('2003-01-01')]\n",
    "\n",
    "# Using Agg function without groupby\n",
    "data.EXTRELNO.agg(['nunique','count'])"
   ]
  },
  {
   "cell_type": "markdown",
   "metadata": {},
   "source": [
    "#### Activity counts"
   ]
  },
  {
   "cell_type": "code",
   "execution_count": 7,
   "metadata": {},
   "outputs": [
    {
     "data": {
      "text/html": [
       "<div>\n",
       "<style scoped>\n",
       "    .dataframe tbody tr th:only-of-type {\n",
       "        vertical-align: middle;\n",
       "    }\n",
       "\n",
       "    .dataframe tbody tr th {\n",
       "        vertical-align: top;\n",
       "    }\n",
       "\n",
       "    .dataframe thead th {\n",
       "        text-align: right;\n",
       "    }\n",
       "</style>\n",
       "<table border=\"1\" class=\"dataframe\">\n",
       "  <thead>\n",
       "    <tr style=\"text-align: right;\">\n",
       "      <th></th>\n",
       "      <th>FP</th>\n",
       "      <th>PS</th>\n",
       "      <th>CT</th>\n",
       "      <th>MR</th>\n",
       "      <th>TR</th>\n",
       "      <th>AP</th>\n",
       "      <th>SP</th>\n",
       "      <th>PF</th>\n",
       "      <th>OR</th>\n",
       "      <th>PV</th>\n",
       "      <th>PO</th>\n",
       "      <th>GR</th>\n",
       "      <th>OI</th>\n",
       "      <th>PP</th>\n",
       "      <th>RV</th>\n",
       "      <th>PT</th>\n",
       "      <th>BM</th>\n",
       "    </tr>\n",
       "  </thead>\n",
       "  <tbody>\n",
       "    <tr>\n",
       "      <th>EXRELACTCD</th>\n",
       "      <td>11442</td>\n",
       "      <td>10677</td>\n",
       "      <td>3325</td>\n",
       "      <td>1110</td>\n",
       "      <td>45</td>\n",
       "      <td>37</td>\n",
       "      <td>13</td>\n",
       "      <td>9</td>\n",
       "      <td>7</td>\n",
       "      <td>5</td>\n",
       "      <td>5</td>\n",
       "      <td>4</td>\n",
       "      <td>4</td>\n",
       "      <td>2</td>\n",
       "      <td>2</td>\n",
       "      <td>1</td>\n",
       "      <td>1</td>\n",
       "    </tr>\n",
       "  </tbody>\n",
       "</table>\n",
       "</div>"
      ],
      "text/plain": [
       "               FP     PS    CT    MR  TR  AP  SP  PF  OR  PV  PO  GR  OI  PP  \\\n",
       "EXRELACTCD  11442  10677  3325  1110  45  37  13   9   7   5   5   4   4   2   \n",
       "\n",
       "            RV  PT  BM  \n",
       "EXRELACTCD   2   1   1  "
      ]
     },
     "execution_count": 7,
     "metadata": {},
     "output_type": "execute_result"
    }
   ],
   "source": [
    "extrel.EXRELACTCD.value_counts().to_frame().T"
   ]
  },
  {
   "cell_type": "markdown",
   "metadata": {},
   "source": [
    "#### How many activities per user"
   ]
  },
  {
   "cell_type": "raw",
   "metadata": {},
   "source": [
    "### Code to get the unique pairs of EXTRELNO*EXRELACTCD\n",
    "\n",
    "Unique1 = extrel[-extrel.duplicated(subset= ['EXTRELNO','EXRELACTCD'],keep='first')]\n",
    "Unique1\n",
    "Unique1[Unique1.EXTRELNO == '0038595']"
   ]
  },
  {
   "cell_type": "code",
   "execution_count": 8,
   "metadata": {},
   "outputs": [
    {
     "data": {
      "text/html": [
       "<div>\n",
       "<style scoped>\n",
       "    .dataframe tbody tr th:only-of-type {\n",
       "        vertical-align: middle;\n",
       "    }\n",
       "\n",
       "    .dataframe tbody tr th {\n",
       "        vertical-align: top;\n",
       "    }\n",
       "\n",
       "    .dataframe thead th {\n",
       "        text-align: right;\n",
       "    }\n",
       "</style>\n",
       "<table border=\"1\" class=\"dataframe\">\n",
       "  <thead>\n",
       "    <tr style=\"text-align: right;\">\n",
       "      <th></th>\n",
       "      <th>EXTRELNO</th>\n",
       "      <th>EXRELACTCD</th>\n",
       "      <th>EXTRELSTDT</th>\n",
       "      <th>EXRELDATEN</th>\n",
       "    </tr>\n",
       "  </thead>\n",
       "  <tbody>\n",
       "    <tr>\n",
       "      <th>3311</th>\n",
       "      <td>0038595</td>\n",
       "      <td>FP</td>\n",
       "      <td>1994-03-01</td>\n",
       "      <td>2001-09-17</td>\n",
       "    </tr>\n",
       "    <tr>\n",
       "      <th>3312</th>\n",
       "      <td>0038595</td>\n",
       "      <td>TR</td>\n",
       "      <td>1995-05-29</td>\n",
       "      <td>2004-03-16</td>\n",
       "    </tr>\n",
       "    <tr>\n",
       "      <th>3313</th>\n",
       "      <td>0038595</td>\n",
       "      <td>CT</td>\n",
       "      <td>2001-04-02</td>\n",
       "      <td>2001-09-19</td>\n",
       "    </tr>\n",
       "    <tr>\n",
       "      <th>3314</th>\n",
       "      <td>0038595</td>\n",
       "      <td>FP</td>\n",
       "      <td>2001-04-01</td>\n",
       "      <td>2002-05-07</td>\n",
       "    </tr>\n",
       "    <tr>\n",
       "      <th>3315</th>\n",
       "      <td>0038595</td>\n",
       "      <td>FP</td>\n",
       "      <td>2001-11-01</td>\n",
       "      <td>2002-12-10</td>\n",
       "    </tr>\n",
       "    <tr>\n",
       "      <th>3316</th>\n",
       "      <td>0038595</td>\n",
       "      <td>FP</td>\n",
       "      <td>2006-05-01</td>\n",
       "      <td>2007-01-12</td>\n",
       "    </tr>\n",
       "  </tbody>\n",
       "</table>\n",
       "</div>"
      ],
      "text/plain": [
       "     EXTRELNO EXRELACTCD EXTRELSTDT EXRELDATEN\n",
       "3311  0038595         FP 1994-03-01 2001-09-17\n",
       "3312  0038595         TR 1995-05-29 2004-03-16\n",
       "3313  0038595         CT 2001-04-02 2001-09-19\n",
       "3314  0038595         FP 2001-04-01 2002-05-07\n",
       "3315  0038595         FP 2001-11-01 2002-12-10\n",
       "3316  0038595         FP 2006-05-01 2007-01-12"
      ]
     },
     "execution_count": 8,
     "metadata": {},
     "output_type": "execute_result"
    }
   ],
   "source": [
    "extrel[extrel.EXTRELNO == '0038595']"
   ]
  },
  {
   "cell_type": "markdown",
   "metadata": {},
   "source": [
    "- Number of **Activities per user**"
   ]
  },
  {
   "cell_type": "code",
   "execution_count": 9,
   "metadata": {},
   "outputs": [
    {
     "data": {
      "text/html": [
       "<div>\n",
       "<style scoped>\n",
       "    .dataframe tbody tr th:only-of-type {\n",
       "        vertical-align: middle;\n",
       "    }\n",
       "\n",
       "    .dataframe tbody tr th {\n",
       "        vertical-align: top;\n",
       "    }\n",
       "\n",
       "    .dataframe thead th {\n",
       "        text-align: right;\n",
       "    }\n",
       "</style>\n",
       "<table border=\"1\" class=\"dataframe\">\n",
       "  <thead>\n",
       "    <tr style=\"text-align: right;\">\n",
       "      <th></th>\n",
       "      <th>EXRELACTCD</th>\n",
       "      <th>EXTRELSTDT</th>\n",
       "      <th>EXRELDATEN</th>\n",
       "    </tr>\n",
       "    <tr>\n",
       "      <th>EXTRELNO</th>\n",
       "      <th></th>\n",
       "      <th></th>\n",
       "      <th></th>\n",
       "    </tr>\n",
       "  </thead>\n",
       "  <tbody>\n",
       "    <tr>\n",
       "      <th>0038595</th>\n",
       "      <td>6</td>\n",
       "      <td>6</td>\n",
       "      <td>6</td>\n",
       "    </tr>\n",
       "    <tr>\n",
       "      <th>0175871</th>\n",
       "      <td>5</td>\n",
       "      <td>5</td>\n",
       "      <td>4</td>\n",
       "    </tr>\n",
       "    <tr>\n",
       "      <th>0221339</th>\n",
       "      <td>5</td>\n",
       "      <td>5</td>\n",
       "      <td>5</td>\n",
       "    </tr>\n",
       "    <tr>\n",
       "      <th>0211269</th>\n",
       "      <td>5</td>\n",
       "      <td>5</td>\n",
       "      <td>3</td>\n",
       "    </tr>\n",
       "    <tr>\n",
       "      <th>0158504</th>\n",
       "      <td>5</td>\n",
       "      <td>5</td>\n",
       "      <td>3</td>\n",
       "    </tr>\n",
       "  </tbody>\n",
       "</table>\n",
       "</div>"
      ],
      "text/plain": [
       "          EXRELACTCD  EXTRELSTDT  EXRELDATEN\n",
       "EXTRELNO                                    \n",
       "0038595            6           6           6\n",
       "0175871            5           5           4\n",
       "0221339            5           5           5\n",
       "0211269            5           5           3\n",
       "0158504            5           5           3"
      ]
     },
     "execution_count": 9,
     "metadata": {},
     "output_type": "execute_result"
    }
   ],
   "source": [
    "extrel.groupby(['EXTRELNO']).count().sort_values(['EXRELACTCD'],ascending = False).head()"
   ]
  },
  {
   "cell_type": "code",
   "execution_count": 30,
   "metadata": {},
   "outputs": [
    {
     "data": {
      "text/plain": [
       "(26689, 4)"
      ]
     },
     "execution_count": 30,
     "metadata": {},
     "output_type": "execute_result"
    }
   ],
   "source": [
    "extrel.shape"
   ]
  },
  {
   "cell_type": "markdown",
   "metadata": {},
   "source": [
    "- We have more than 50% values in EXRELDATEN as Null,thats becoz those members have no last_date & are thus **Active**\n",
    "\n",
    "\n",
    "- We are now replacing the NAN(currently present) from data generation date(2007-02-02) & we would find the differnce of it from the start_date so to know how much time the person has stayed or is staying from.\n",
    "\n",
    "\n",
    "- based on the difference found(time a user has stayed) we would segregate the date into Training/Testing data."
   ]
  },
  {
   "cell_type": "markdown",
   "metadata": {},
   "source": [
    "#### Finding the time for which the person has remained active"
   ]
  },
  {
   "cell_type": "code",
   "execution_count": 310,
   "metadata": {},
   "outputs": [],
   "source": [
    "# extrel['Last_date'] = np.where(extrel.EXRELDATEN.isnull(),'2007-02-02',extrel.EXRELDATEN.tolist())\n",
    "\n",
    "# extrel['Activity_period_Yrs'] =  round((extrel.Last_date - extrel.EXTRELSTDT).dt.days/365)\n",
    "\n",
    "# extrel.head(3)\n",
    "\n",
    "# extrel[extrel.Activity_period_Yrs < 4].shape"
   ]
  },
  {
   "cell_type": "markdown",
   "metadata": {},
   "source": [
    "# ------------------------------------- Communication -----------------------------------"
   ]
  },
  {
   "cell_type": "code",
   "execution_count": 10,
   "metadata": {},
   "outputs": [],
   "source": [
    "communication = pd.read_sas('/home/rohan/Documents/ROHAN_DA/ALABS/___STATS___ -  cls 10 onwards/Class_20 Case_study_ML/Case_study/2. NGO-FUND RAISING ATTRITION- CLASSIFICATION/2. NGO-FUND RAISING ATTRITION- CLASSIFICATION/1 - Data for Churn Modeling/communication.sas7bdat')"
   ]
  },
  {
   "cell_type": "markdown",
   "metadata": {},
   "source": [
    "#### Decoding the encoded columns"
   ]
  },
  {
   "cell_type": "markdown",
   "metadata": {},
   "source": [
    "- **Contid** - Unique identifier for each communication \n",
    "- **Mediumcode** - Medium of the contact (CI is unknown)\n",
    "- **Mntopcode** - Main topic code of the contact\n",
    "- **Classcode** - Class of the contact\n",
    "- **Extrelno** - Unique identifier for each donor\n",
    "- **Contdirec** - Direction of the communication\n",
    "            I Incoming\n",
    "            O Outgoing\n",
    "- **Contdate** - Date of the contact\n",
    "- **Description**\n",
    "\n",
    "\n",
    "\n",
    "\n",
    "\n",
    "\n",
    "\n"
   ]
  },
  {
   "cell_type": "code",
   "execution_count": 11,
   "metadata": {},
   "outputs": [],
   "source": [
    "communication[communication.columns.difference(['CONTDATE'])] = communication[communication.columns.difference(['CONTDATE'])].apply(lambda x:x.str.decode('utf-8'))"
   ]
  },
  {
   "cell_type": "code",
   "execution_count": 171,
   "metadata": {},
   "outputs": [
    {
     "data": {
      "text/plain": [
       "(763569, 7)"
      ]
     },
     "execution_count": 171,
     "metadata": {},
     "output_type": "execute_result"
    }
   ],
   "source": [
    "communication.shape"
   ]
  },
  {
   "cell_type": "code",
   "execution_count": 29,
   "metadata": {},
   "outputs": [
    {
     "data": {
      "text/html": [
       "<div>\n",
       "<style scoped>\n",
       "    .dataframe tbody tr th:only-of-type {\n",
       "        vertical-align: middle;\n",
       "    }\n",
       "\n",
       "    .dataframe tbody tr th {\n",
       "        vertical-align: top;\n",
       "    }\n",
       "\n",
       "    .dataframe thead th {\n",
       "        text-align: right;\n",
       "    }\n",
       "</style>\n",
       "<table border=\"1\" class=\"dataframe\">\n",
       "  <thead>\n",
       "    <tr style=\"text-align: right;\">\n",
       "      <th></th>\n",
       "      <th>CONTID</th>\n",
       "      <th>MEDIUMCODE</th>\n",
       "      <th>MNTOPCODE</th>\n",
       "      <th>CLASCODE</th>\n",
       "      <th>EXTRELNO</th>\n",
       "      <th>CONTDIREC</th>\n",
       "      <th>CONTDATE</th>\n",
       "    </tr>\n",
       "  </thead>\n",
       "  <tbody>\n",
       "    <tr>\n",
       "      <th>0</th>\n",
       "      <td>000405402</td>\n",
       "      <td>CI</td>\n",
       "      <td>CTS</td>\n",
       "      <td>CT</td>\n",
       "      <td>0000020</td>\n",
       "      <td>O</td>\n",
       "      <td>1994-05-09</td>\n",
       "    </tr>\n",
       "    <tr>\n",
       "      <th>1</th>\n",
       "      <td>000430904</td>\n",
       "      <td>CI</td>\n",
       "      <td>CTS</td>\n",
       "      <td>CT</td>\n",
       "      <td>0000020</td>\n",
       "      <td>O</td>\n",
       "      <td>1994-06-14</td>\n",
       "    </tr>\n",
       "    <tr>\n",
       "      <th>2</th>\n",
       "      <td>000592732</td>\n",
       "      <td>CI</td>\n",
       "      <td>CTS</td>\n",
       "      <td>CT</td>\n",
       "      <td>0000020</td>\n",
       "      <td>O</td>\n",
       "      <td>1994-10-21</td>\n",
       "    </tr>\n",
       "    <tr>\n",
       "      <th>3</th>\n",
       "      <td>000593375</td>\n",
       "      <td>CI</td>\n",
       "      <td>CTS</td>\n",
       "      <td>CT</td>\n",
       "      <td>0000020</td>\n",
       "      <td>O</td>\n",
       "      <td>1994-10-21</td>\n",
       "    </tr>\n",
       "    <tr>\n",
       "      <th>4</th>\n",
       "      <td>000618514</td>\n",
       "      <td>CI</td>\n",
       "      <td>CTS</td>\n",
       "      <td>CT</td>\n",
       "      <td>0000020</td>\n",
       "      <td>O</td>\n",
       "      <td>1994-11-28</td>\n",
       "    </tr>\n",
       "  </tbody>\n",
       "</table>\n",
       "</div>"
      ],
      "text/plain": [
       "      CONTID MEDIUMCODE MNTOPCODE CLASCODE EXTRELNO CONTDIREC   CONTDATE\n",
       "0  000405402         CI       CTS       CT  0000020         O 1994-05-09\n",
       "1  000430904         CI       CTS       CT  0000020         O 1994-06-14\n",
       "2  000592732         CI       CTS       CT  0000020         O 1994-10-21\n",
       "3  000593375         CI       CTS       CT  0000020         O 1994-10-21\n",
       "4  000618514         CI       CTS       CT  0000020         O 1994-11-28"
      ]
     },
     "execution_count": 29,
     "metadata": {},
     "output_type": "execute_result"
    }
   ],
   "source": [
    "communication.head()"
   ]
  },
  {
   "cell_type": "code",
   "execution_count": 22,
   "metadata": {},
   "outputs": [
    {
     "data": {
      "text/html": [
       "<div>\n",
       "<style scoped>\n",
       "    .dataframe tbody tr th:only-of-type {\n",
       "        vertical-align: middle;\n",
       "    }\n",
       "\n",
       "    .dataframe tbody tr th {\n",
       "        vertical-align: top;\n",
       "    }\n",
       "\n",
       "    .dataframe thead th {\n",
       "        text-align: right;\n",
       "    }\n",
       "</style>\n",
       "<table border=\"1\" class=\"dataframe\">\n",
       "  <thead>\n",
       "    <tr style=\"text-align: right;\">\n",
       "      <th></th>\n",
       "      <th>count</th>\n",
       "      <th>unique</th>\n",
       "      <th>top</th>\n",
       "      <th>freq</th>\n",
       "      <th>first</th>\n",
       "      <th>last</th>\n",
       "    </tr>\n",
       "  </thead>\n",
       "  <tbody>\n",
       "    <tr>\n",
       "      <th>CONTID</th>\n",
       "      <td>763569</td>\n",
       "      <td>763328</td>\n",
       "      <td>005060419</td>\n",
       "      <td>2</td>\n",
       "      <td>NaN</td>\n",
       "      <td>NaN</td>\n",
       "    </tr>\n",
       "    <tr>\n",
       "      <th>MEDIUMCODE</th>\n",
       "      <td>763569</td>\n",
       "      <td>15</td>\n",
       "      <td>CI</td>\n",
       "      <td>446595</td>\n",
       "      <td>NaN</td>\n",
       "      <td>NaN</td>\n",
       "    </tr>\n",
       "    <tr>\n",
       "      <th>MNTOPCODE</th>\n",
       "      <td>763569</td>\n",
       "      <td>24</td>\n",
       "      <td>CTS</td>\n",
       "      <td>453839</td>\n",
       "      <td>NaN</td>\n",
       "      <td>NaN</td>\n",
       "    </tr>\n",
       "    <tr>\n",
       "      <th>CLASCODE</th>\n",
       "      <td>763569</td>\n",
       "      <td>9</td>\n",
       "      <td>CT</td>\n",
       "      <td>459032</td>\n",
       "      <td>NaN</td>\n",
       "      <td>NaN</td>\n",
       "    </tr>\n",
       "    <tr>\n",
       "      <th>EXTRELNO</th>\n",
       "      <td>763569</td>\n",
       "      <td>21932</td>\n",
       "      <td>0181194</td>\n",
       "      <td>1008</td>\n",
       "      <td>NaN</td>\n",
       "      <td>NaN</td>\n",
       "    </tr>\n",
       "    <tr>\n",
       "      <th>CONTDIREC</th>\n",
       "      <td>763569</td>\n",
       "      <td>2</td>\n",
       "      <td>O</td>\n",
       "      <td>733423</td>\n",
       "      <td>NaN</td>\n",
       "      <td>NaN</td>\n",
       "    </tr>\n",
       "    <tr>\n",
       "      <th>CONTDATE</th>\n",
       "      <td>763569</td>\n",
       "      <td>3290</td>\n",
       "      <td>2001-11-20 00:00:00</td>\n",
       "      <td>10760</td>\n",
       "      <td>1993-11-02 00:00:00</td>\n",
       "      <td>2007-01-25 00:00:00</td>\n",
       "    </tr>\n",
       "  </tbody>\n",
       "</table>\n",
       "</div>"
      ],
      "text/plain": [
       "             count  unique                  top    freq                first  \\\n",
       "CONTID      763569  763328            005060419       2                  NaN   \n",
       "MEDIUMCODE  763569      15                   CI  446595                  NaN   \n",
       "MNTOPCODE   763569      24                  CTS  453839                  NaN   \n",
       "CLASCODE    763569       9                   CT  459032                  NaN   \n",
       "EXTRELNO    763569   21932              0181194    1008                  NaN   \n",
       "CONTDIREC   763569       2                    O  733423                  NaN   \n",
       "CONTDATE    763569    3290  2001-11-20 00:00:00   10760  1993-11-02 00:00:00   \n",
       "\n",
       "                           last  \n",
       "CONTID                      NaN  \n",
       "MEDIUMCODE                  NaN  \n",
       "MNTOPCODE                   NaN  \n",
       "CLASCODE                    NaN  \n",
       "EXTRELNO                    NaN  \n",
       "CONTDIREC                   NaN  \n",
       "CONTDATE    2007-01-25 00:00:00  "
      ]
     },
     "execution_count": 22,
     "metadata": {},
     "output_type": "execute_result"
    }
   ],
   "source": [
    "communication.describe().T"
   ]
  },
  {
   "cell_type": "code",
   "execution_count": 13,
   "metadata": {},
   "outputs": [
    {
     "data": {
      "text/plain": [
       "241"
      ]
     },
     "execution_count": 13,
     "metadata": {},
     "output_type": "execute_result"
    }
   ],
   "source": [
    "# 241 duplicate valeus for communication ID \n",
    "\n",
    "# In 241 values,there were cases where for a given CONTID we had different ExtrelNO, so we wont be dropping them \n",
    "communication[communication.CONTID.duplicated()].CONTID.shape[0]"
   ]
  },
  {
   "cell_type": "markdown",
   "metadata": {},
   "source": [
    "#### Dropping the duplicate records(where all values are same)"
   ]
  },
  {
   "cell_type": "code",
   "execution_count": 14,
   "metadata": {},
   "outputs": [],
   "source": [
    "communication = communication[-communication.duplicated()]"
   ]
  },
  {
   "cell_type": "code",
   "execution_count": 15,
   "metadata": {},
   "outputs": [
    {
     "name": "stdout",
     "output_type": "stream",
     "text": [
      "Duplicate CONTID(commnunication ID) :  53\n"
     ]
    },
    {
     "data": {
      "text/html": [
       "<div>\n",
       "<style scoped>\n",
       "    .dataframe tbody tr th:only-of-type {\n",
       "        vertical-align: middle;\n",
       "    }\n",
       "\n",
       "    .dataframe tbody tr th {\n",
       "        vertical-align: top;\n",
       "    }\n",
       "\n",
       "    .dataframe thead th {\n",
       "        text-align: right;\n",
       "    }\n",
       "</style>\n",
       "<table border=\"1\" class=\"dataframe\">\n",
       "  <thead>\n",
       "    <tr style=\"text-align: right;\">\n",
       "      <th></th>\n",
       "      <th>CONTID</th>\n",
       "      <th>MEDIUMCODE</th>\n",
       "      <th>MNTOPCODE</th>\n",
       "      <th>CLASCODE</th>\n",
       "      <th>EXTRELNO</th>\n",
       "      <th>CONTDIREC</th>\n",
       "      <th>CONTDATE</th>\n",
       "    </tr>\n",
       "  </thead>\n",
       "  <tbody>\n",
       "    <tr>\n",
       "      <th>62982</th>\n",
       "      <td>004832516</td>\n",
       "      <td>CI</td>\n",
       "      <td>CTS</td>\n",
       "      <td>CT</td>\n",
       "      <td>0006831</td>\n",
       "      <td>O</td>\n",
       "      <td>2005-05-18</td>\n",
       "    </tr>\n",
       "    <tr>\n",
       "      <th>294454</th>\n",
       "      <td>004833236</td>\n",
       "      <td>CI</td>\n",
       "      <td>CTS</td>\n",
       "      <td>CT</td>\n",
       "      <td>0028744</td>\n",
       "      <td>O</td>\n",
       "      <td>2005-05-18</td>\n",
       "    </tr>\n",
       "  </tbody>\n",
       "</table>\n",
       "</div>"
      ],
      "text/plain": [
       "           CONTID MEDIUMCODE MNTOPCODE CLASCODE EXTRELNO CONTDIREC   CONTDATE\n",
       "62982   004832516         CI       CTS       CT  0006831         O 2005-05-18\n",
       "294454  004833236         CI       CTS       CT  0028744         O 2005-05-18"
      ]
     },
     "execution_count": 15,
     "metadata": {},
     "output_type": "execute_result"
    }
   ],
   "source": [
    "print('Duplicate CONTID(commnunication ID) : ',communication[communication.CONTID.duplicated()].CONTID.shape[0])\n",
    "\n",
    "# For the same CONTID we have differenr ExtrelNO!!\n",
    "communication[communication.CONTID.duplicated()].head(2)"
   ]
  },
  {
   "cell_type": "markdown",
   "metadata": {},
   "source": [
    "- One of the ID getting repeated\n",
    "\n",
    "- Remove duplicate records!!!"
   ]
  },
  {
   "cell_type": "markdown",
   "metadata": {},
   "source": [
    "#### Yearwise Users data[ for selecting the independent window]"
   ]
  },
  {
   "cell_type": "code",
   "execution_count": 16,
   "metadata": {},
   "outputs": [
    {
     "data": {
      "text/html": [
       "<div>\n",
       "<style scoped>\n",
       "    .dataframe tbody tr th:only-of-type {\n",
       "        vertical-align: middle;\n",
       "    }\n",
       "\n",
       "    .dataframe tbody tr th {\n",
       "        vertical-align: top;\n",
       "    }\n",
       "\n",
       "    .dataframe thead th {\n",
       "        text-align: right;\n",
       "    }\n",
       "</style>\n",
       "<table border=\"1\" class=\"dataframe\">\n",
       "  <thead>\n",
       "    <tr style=\"text-align: right;\">\n",
       "      <th></th>\n",
       "      <th>CONTDATE</th>\n",
       "      <th>1993</th>\n",
       "      <th>1994</th>\n",
       "      <th>1995</th>\n",
       "      <th>1996</th>\n",
       "      <th>1997</th>\n",
       "      <th>1998</th>\n",
       "      <th>1999</th>\n",
       "      <th>2000</th>\n",
       "      <th>2001</th>\n",
       "      <th>2002</th>\n",
       "      <th>2003</th>\n",
       "      <th>2004</th>\n",
       "      <th>2005</th>\n",
       "      <th>2006</th>\n",
       "      <th>2007</th>\n",
       "    </tr>\n",
       "  </thead>\n",
       "  <tbody>\n",
       "    <tr>\n",
       "      <th rowspan=\"2\" valign=\"top\">EXTRELNO</th>\n",
       "      <th>nunique</th>\n",
       "      <td>115</td>\n",
       "      <td>9350</td>\n",
       "      <td>10805</td>\n",
       "      <td>10327</td>\n",
       "      <td>10357</td>\n",
       "      <td>10266</td>\n",
       "      <td>10942</td>\n",
       "      <td>11479</td>\n",
       "      <td>11393</td>\n",
       "      <td>11514</td>\n",
       "      <td>11129</td>\n",
       "      <td>10923</td>\n",
       "      <td>10940</td>\n",
       "      <td>10921</td>\n",
       "      <td>2058</td>\n",
       "    </tr>\n",
       "    <tr>\n",
       "      <th>count</th>\n",
       "      <td>115</td>\n",
       "      <td>38892</td>\n",
       "      <td>83677</td>\n",
       "      <td>60707</td>\n",
       "      <td>49905</td>\n",
       "      <td>61306</td>\n",
       "      <td>55081</td>\n",
       "      <td>58265</td>\n",
       "      <td>63407</td>\n",
       "      <td>73543</td>\n",
       "      <td>70048</td>\n",
       "      <td>50419</td>\n",
       "      <td>47259</td>\n",
       "      <td>47865</td>\n",
       "      <td>2892</td>\n",
       "    </tr>\n",
       "  </tbody>\n",
       "</table>\n",
       "</div>"
      ],
      "text/plain": [
       "CONTDATE          1993   1994   1995   1996   1997   1998   1999   2000  \\\n",
       "EXTRELNO nunique   115   9350  10805  10327  10357  10266  10942  11479   \n",
       "         count     115  38892  83677  60707  49905  61306  55081  58265   \n",
       "\n",
       "CONTDATE           2001   2002   2003   2004   2005   2006  2007  \n",
       "EXTRELNO nunique  11393  11514  11129  10923  10940  10921  2058  \n",
       "         count    63407  73543  70048  50419  47259  47865  2892  "
      ]
     },
     "execution_count": 16,
     "metadata": {},
     "output_type": "execute_result"
    }
   ],
   "source": [
    "communication.groupby(communication.CONTDATE.dt.year).agg({'EXTRELNO':['nunique','count']}).T"
   ]
  },
  {
   "cell_type": "markdown",
   "metadata": {},
   "source": [
    "#### Multiple communications made by a user"
   ]
  },
  {
   "cell_type": "code",
   "execution_count": 17,
   "metadata": {},
   "outputs": [
    {
     "data": {
      "text/html": [
       "<div>\n",
       "<style scoped>\n",
       "    .dataframe tbody tr th:only-of-type {\n",
       "        vertical-align: middle;\n",
       "    }\n",
       "\n",
       "    .dataframe tbody tr th {\n",
       "        vertical-align: top;\n",
       "    }\n",
       "\n",
       "    .dataframe thead tr th {\n",
       "        text-align: left;\n",
       "    }\n",
       "\n",
       "    .dataframe thead tr:last-of-type th {\n",
       "        text-align: right;\n",
       "    }\n",
       "</style>\n",
       "<table border=\"1\" class=\"dataframe\">\n",
       "  <thead>\n",
       "    <tr>\n",
       "      <th></th>\n",
       "      <th>CONTID</th>\n",
       "      <th colspan=\"2\" halign=\"left\">CONTDATE</th>\n",
       "      <th>CONTDIREC</th>\n",
       "      <th>CLASCODE</th>\n",
       "      <th>MEDIUMCODE</th>\n",
       "      <th>MNTOPCODE</th>\n",
       "    </tr>\n",
       "    <tr>\n",
       "      <th></th>\n",
       "      <th>count</th>\n",
       "      <th>min</th>\n",
       "      <th>max</th>\n",
       "      <th>nunique</th>\n",
       "      <th>nunique</th>\n",
       "      <th>nunique</th>\n",
       "      <th>nunique</th>\n",
       "    </tr>\n",
       "    <tr>\n",
       "      <th>EXTRELNO</th>\n",
       "      <th></th>\n",
       "      <th></th>\n",
       "      <th></th>\n",
       "      <th></th>\n",
       "      <th></th>\n",
       "      <th></th>\n",
       "      <th></th>\n",
       "    </tr>\n",
       "  </thead>\n",
       "  <tbody>\n",
       "    <tr>\n",
       "      <th>0000020</th>\n",
       "      <td>53</td>\n",
       "      <td>1994-05-09</td>\n",
       "      <td>2006-08-10</td>\n",
       "      <td>1</td>\n",
       "      <td>4</td>\n",
       "      <td>4</td>\n",
       "      <td>4</td>\n",
       "    </tr>\n",
       "    <tr>\n",
       "      <th>0000035</th>\n",
       "      <td>61</td>\n",
       "      <td>1994-06-15</td>\n",
       "      <td>2006-10-03</td>\n",
       "      <td>2</td>\n",
       "      <td>5</td>\n",
       "      <td>4</td>\n",
       "      <td>8</td>\n",
       "    </tr>\n",
       "  </tbody>\n",
       "</table>\n",
       "</div>"
      ],
      "text/plain": [
       "         CONTID   CONTDATE            CONTDIREC CLASCODE MEDIUMCODE MNTOPCODE\n",
       "          count        min        max   nunique  nunique    nunique   nunique\n",
       "EXTRELNO                                                                     \n",
       "0000020      53 1994-05-09 2006-08-10         1        4          4         4\n",
       "0000035      61 1994-06-15 2006-10-03         2        5          4         8"
      ]
     },
     "execution_count": 17,
     "metadata": {},
     "output_type": "execute_result"
    }
   ],
   "source": [
    "communication.groupby('EXTRELNO').agg({'CONTID':'count','CONTDATE': ['min','max'],'CONTDIREC':'nunique','CLASCODE':'nunique','MEDIUMCODE':'nunique','MNTOPCODE':'nunique'}).head(2)"
   ]
  },
  {
   "cell_type": "markdown",
   "metadata": {},
   "source": [
    "# ----------------------------------------- comcls --------------------------------------------"
   ]
  },
  {
   "cell_type": "markdown",
   "metadata": {},
   "source": [
    "#### comcls - class of communication (Purpose of the communication)\n",
    "\n",
    "- CLASCODE - contact class code "
   ]
  },
  {
   "cell_type": "code",
   "execution_count": 18,
   "metadata": {},
   "outputs": [
    {
     "data": {
      "text/html": [
       "<div>\n",
       "<style scoped>\n",
       "    .dataframe tbody tr th:only-of-type {\n",
       "        vertical-align: middle;\n",
       "    }\n",
       "\n",
       "    .dataframe tbody tr th {\n",
       "        vertical-align: top;\n",
       "    }\n",
       "\n",
       "    .dataframe thead th {\n",
       "        text-align: right;\n",
       "    }\n",
       "</style>\n",
       "<table border=\"1\" class=\"dataframe\">\n",
       "  <thead>\n",
       "    <tr style=\"text-align: right;\">\n",
       "      <th></th>\n",
       "      <th>CLASCODE</th>\n",
       "      <th>CLASDESC</th>\n",
       "    </tr>\n",
       "  </thead>\n",
       "  <tbody>\n",
       "    <tr>\n",
       "      <th>0</th>\n",
       "      <td>CT</td>\n",
       "      <td>CTS-item</td>\n",
       "    </tr>\n",
       "    <tr>\n",
       "      <th>1</th>\n",
       "      <td>RI</td>\n",
       "      <td>Request for information</td>\n",
       "    </tr>\n",
       "    <tr>\n",
       "      <th>2</th>\n",
       "      <td>CM</td>\n",
       "      <td>Complaint</td>\n",
       "    </tr>\n",
       "    <tr>\n",
       "      <th>3</th>\n",
       "      <td>TA</td>\n",
       "      <td>Threath / Accusation</td>\n",
       "    </tr>\n",
       "    <tr>\n",
       "      <th>4</th>\n",
       "      <td>AK</td>\n",
       "      <td>Acknowledgement</td>\n",
       "    </tr>\n",
       "    <tr>\n",
       "      <th>5</th>\n",
       "      <td>RM</td>\n",
       "      <td>Reminder</td>\n",
       "    </tr>\n",
       "    <tr>\n",
       "      <th>6</th>\n",
       "      <td>ID</td>\n",
       "      <td>Information delivery</td>\n",
       "    </tr>\n",
       "    <tr>\n",
       "      <th>7</th>\n",
       "      <td>AN</td>\n",
       "      <td>Answer</td>\n",
       "    </tr>\n",
       "  </tbody>\n",
       "</table>\n",
       "</div>"
      ],
      "text/plain": [
       "  CLASCODE                 CLASDESC\n",
       "0       CT                 CTS-item\n",
       "1       RI  Request for information\n",
       "2       CM                Complaint\n",
       "3       TA     Threath / Accusation\n",
       "4       AK          Acknowledgement\n",
       "5       RM                 Reminder\n",
       "6       ID     Information delivery\n",
       "7       AN                   Answer"
      ]
     },
     "execution_count": 18,
     "metadata": {},
     "output_type": "execute_result"
    }
   ],
   "source": [
    "comcls = pd.read_sas('/home/rohan/Documents/ROHAN_DA/ALABS/___STATS___ -  cls 10 onwards/Class_20 Case_study_ML/Case_study/2. NGO-FUND RAISING ATTRITION- CLASSIFICATION/2. NGO-FUND RAISING ATTRITION- CLASSIFICATION/1 - Data for Churn Modeling/comclas.sas7bdat',encoding= 'utf-8')\n",
    "comcls"
   ]
  },
  {
   "cell_type": "markdown",
   "metadata": {},
   "source": [
    "# ------------------------------------ commaint ------------------------------------------"
   ]
  },
  {
   "cell_type": "markdown",
   "metadata": {},
   "source": [
    "#### Description of main topic code"
   ]
  },
  {
   "cell_type": "code",
   "execution_count": 19,
   "metadata": {},
   "outputs": [
    {
     "data": {
      "text/html": [
       "<div>\n",
       "<style scoped>\n",
       "    .dataframe tbody tr th:only-of-type {\n",
       "        vertical-align: middle;\n",
       "    }\n",
       "\n",
       "    .dataframe tbody tr th {\n",
       "        vertical-align: top;\n",
       "    }\n",
       "\n",
       "    .dataframe thead th {\n",
       "        text-align: right;\n",
       "    }\n",
       "</style>\n",
       "<table border=\"1\" class=\"dataframe\">\n",
       "  <thead>\n",
       "    <tr style=\"text-align: right;\">\n",
       "      <th></th>\n",
       "      <th>MNTOPCODE</th>\n",
       "      <th>MNTOPDESC</th>\n",
       "    </tr>\n",
       "  </thead>\n",
       "  <tbody>\n",
       "    <tr>\n",
       "      <th>0</th>\n",
       "      <td>CAN</td>\n",
       "      <td>Cancellations/replacements</td>\n",
       "    </tr>\n",
       "    <tr>\n",
       "      <th>1</th>\n",
       "      <td>DIS</td>\n",
       "      <td>Discontinuations</td>\n",
       "    </tr>\n",
       "  </tbody>\n",
       "</table>\n",
       "</div>"
      ],
      "text/plain": [
       "  MNTOPCODE                   MNTOPDESC\n",
       "0       CAN  Cancellations/replacements\n",
       "1       DIS            Discontinuations"
      ]
     },
     "execution_count": 19,
     "metadata": {},
     "output_type": "execute_result"
    }
   ],
   "source": [
    "commaint = pd.read_sas('/home/rohan/Documents/ROHAN_DA/ALABS/___STATS___ -  cls 10 onwards/Class_20 Case_study_ML/Case_study/2. NGO-FUND RAISING ATTRITION- CLASSIFICATION/2. NGO-FUND RAISING ATTRITION- CLASSIFICATION/1 - Data for Churn Modeling/commaint.sas7bdat',encoding='utf-8')\n",
    "\n",
    "commaint.head(2)"
   ]
  },
  {
   "cell_type": "code",
   "execution_count": 20,
   "metadata": {},
   "outputs": [
    {
     "data": {
      "text/html": [
       "<div>\n",
       "<style scoped>\n",
       "    .dataframe tbody tr th:only-of-type {\n",
       "        vertical-align: middle;\n",
       "    }\n",
       "\n",
       "    .dataframe tbody tr th {\n",
       "        vertical-align: top;\n",
       "    }\n",
       "\n",
       "    .dataframe thead th {\n",
       "        text-align: right;\n",
       "    }\n",
       "</style>\n",
       "<table border=\"1\" class=\"dataframe\">\n",
       "  <thead>\n",
       "    <tr style=\"text-align: right;\">\n",
       "      <th></th>\n",
       "      <th>0</th>\n",
       "      <th>1</th>\n",
       "      <th>2</th>\n",
       "      <th>3</th>\n",
       "      <th>4</th>\n",
       "      <th>5</th>\n",
       "      <th>6</th>\n",
       "      <th>7</th>\n",
       "      <th>8</th>\n",
       "      <th>9</th>\n",
       "      <th>...</th>\n",
       "      <th>20</th>\n",
       "      <th>21</th>\n",
       "      <th>22</th>\n",
       "      <th>23</th>\n",
       "      <th>24</th>\n",
       "      <th>25</th>\n",
       "      <th>26</th>\n",
       "      <th>27</th>\n",
       "      <th>28</th>\n",
       "      <th>29</th>\n",
       "    </tr>\n",
       "  </thead>\n",
       "  <tbody>\n",
       "    <tr>\n",
       "      <th>MNTOPCODE</th>\n",
       "      <td>CAN</td>\n",
       "      <td>DIS</td>\n",
       "      <td>MKT</td>\n",
       "      <td>GEN</td>\n",
       "      <td>NEW</td>\n",
       "      <td>PRO</td>\n",
       "      <td>MFC</td>\n",
       "      <td>SPC</td>\n",
       "      <td>INF</td>\n",
       "      <td>ENR</td>\n",
       "      <td>...</td>\n",
       "      <td>VOL</td>\n",
       "      <td>CTS</td>\n",
       "      <td>SPO</td>\n",
       "      <td>PRA</td>\n",
       "      <td>ALL</td>\n",
       "      <td>TVS</td>\n",
       "      <td>TAX</td>\n",
       "      <td>TLT</td>\n",
       "      <td>ACT</td>\n",
       "      <td>WEB</td>\n",
       "    </tr>\n",
       "    <tr>\n",
       "      <th>MNTOPDESC</th>\n",
       "      <td>Cancellations/replacements</td>\n",
       "      <td>Discontinuations</td>\n",
       "      <td>Marketing - Enquiries</td>\n",
       "      <td>General</td>\n",
       "      <td>New relations</td>\n",
       "      <td>Projects</td>\n",
       "      <td>Mail met FC, klachten en info</td>\n",
       "      <td>Special Forms</td>\n",
       "      <td>information about Plan</td>\n",
       "      <td>Enrollment</td>\n",
       "      <td>...</td>\n",
       "      <td>Volunteers</td>\n",
       "      <td>Communication Tracking System</td>\n",
       "      <td>Contacts for sponsoring</td>\n",
       "      <td>Public Relations activities</td>\n",
       "      <td>General</td>\n",
       "      <td>TV-Show</td>\n",
       "      <td>Tax forms</td>\n",
       "      <td>Translation</td>\n",
       "      <td>Action</td>\n",
       "      <td>Web related Actions: E-commerce</td>\n",
       "    </tr>\n",
       "  </tbody>\n",
       "</table>\n",
       "<p>2 rows × 30 columns</p>\n",
       "</div>"
      ],
      "text/plain": [
       "                                   0                 1   \\\n",
       "MNTOPCODE                         CAN               DIS   \n",
       "MNTOPDESC  Cancellations/replacements  Discontinuations   \n",
       "\n",
       "                              2        3              4         5   \\\n",
       "MNTOPCODE                    MKT      GEN            NEW       PRO   \n",
       "MNTOPDESC  Marketing - Enquiries  General  New relations  Projects   \n",
       "\n",
       "                                      6              7   \\\n",
       "MNTOPCODE                            MFC            SPC   \n",
       "MNTOPDESC  Mail met FC, klachten en info  Special Forms   \n",
       "\n",
       "                               8           9   \\\n",
       "MNTOPCODE                     INF         ENR   \n",
       "MNTOPDESC  information about Plan  Enrollment   \n",
       "\n",
       "                        ...                         20  \\\n",
       "MNTOPCODE               ...                        VOL   \n",
       "MNTOPDESC               ...                 Volunteers   \n",
       "\n",
       "                                      21                       22  \\\n",
       "MNTOPCODE                            CTS                      SPO   \n",
       "MNTOPDESC  Communication Tracking System  Contacts for sponsoring   \n",
       "\n",
       "                                    23       24       25         26  \\\n",
       "MNTOPCODE                          PRA      ALL      TVS        TAX   \n",
       "MNTOPDESC  Public Relations activities  General  TV-Show  Tax forms   \n",
       "\n",
       "                    27      28                               29  \n",
       "MNTOPCODE          TLT     ACT                              WEB  \n",
       "MNTOPDESC  Translation  Action  Web related Actions: E-commerce  \n",
       "\n",
       "[2 rows x 30 columns]"
      ]
     },
     "execution_count": 20,
     "metadata": {},
     "output_type": "execute_result"
    }
   ],
   "source": [
    "commaint.T"
   ]
  },
  {
   "cell_type": "code",
   "execution_count": 21,
   "metadata": {},
   "outputs": [
    {
     "data": {
      "text/html": [
       "<div>\n",
       "<style scoped>\n",
       "    .dataframe tbody tr th:only-of-type {\n",
       "        vertical-align: middle;\n",
       "    }\n",
       "\n",
       "    .dataframe tbody tr th {\n",
       "        vertical-align: top;\n",
       "    }\n",
       "\n",
       "    .dataframe thead th {\n",
       "        text-align: right;\n",
       "    }\n",
       "</style>\n",
       "<table border=\"1\" class=\"dataframe\">\n",
       "  <thead>\n",
       "    <tr style=\"text-align: right;\">\n",
       "      <th></th>\n",
       "      <th>MNTOPCODE</th>\n",
       "      <th>MNTOPDESC</th>\n",
       "    </tr>\n",
       "  </thead>\n",
       "  <tbody>\n",
       "    <tr>\n",
       "      <th>0</th>\n",
       "      <td>CAN</td>\n",
       "      <td>Cancellations/replacements</td>\n",
       "    </tr>\n",
       "    <tr>\n",
       "      <th>1</th>\n",
       "      <td>DIS</td>\n",
       "      <td>Discontinuations</td>\n",
       "    </tr>\n",
       "  </tbody>\n",
       "</table>\n",
       "</div>"
      ],
      "text/plain": [
       "  MNTOPCODE                   MNTOPDESC\n",
       "0       CAN  Cancellations/replacements\n",
       "1       DIS            Discontinuations"
      ]
     },
     "execution_count": 21,
     "metadata": {},
     "output_type": "execute_result"
    }
   ],
   "source": [
    "commaint[(commaint.MNTOPCODE == 'CAN')|(commaint.MNTOPCODE == 'DIS')]"
   ]
  },
  {
   "cell_type": "markdown",
   "metadata": {},
   "source": [
    "# ----------------------------------- commedium -------------------------------------------"
   ]
  },
  {
   "cell_type": "markdown",
   "metadata": {},
   "source": [
    "#### Description of medium type"
   ]
  },
  {
   "cell_type": "code",
   "execution_count": 22,
   "metadata": {},
   "outputs": [
    {
     "data": {
      "text/html": [
       "<div>\n",
       "<style scoped>\n",
       "    .dataframe tbody tr th:only-of-type {\n",
       "        vertical-align: middle;\n",
       "    }\n",
       "\n",
       "    .dataframe tbody tr th {\n",
       "        vertical-align: top;\n",
       "    }\n",
       "\n",
       "    .dataframe thead th {\n",
       "        text-align: right;\n",
       "    }\n",
       "</style>\n",
       "<table border=\"1\" class=\"dataframe\">\n",
       "  <thead>\n",
       "    <tr style=\"text-align: right;\">\n",
       "      <th></th>\n",
       "      <th>MEDIUMCODE</th>\n",
       "      <th>MEDIUMDESC</th>\n",
       "    </tr>\n",
       "  </thead>\n",
       "  <tbody>\n",
       "    <tr>\n",
       "      <th>0</th>\n",
       "      <td>FF</td>\n",
       "      <td>Face to Face contact</td>\n",
       "    </tr>\n",
       "    <tr>\n",
       "      <th>1</th>\n",
       "      <td>FX</td>\n",
       "      <td>Fax</td>\n",
       "    </tr>\n",
       "    <tr>\n",
       "      <th>2</th>\n",
       "      <td>TX</td>\n",
       "      <td>Telex</td>\n",
       "    </tr>\n",
       "    <tr>\n",
       "      <th>3</th>\n",
       "      <td>EM</td>\n",
       "      <td>Electronic Mail</td>\n",
       "    </tr>\n",
       "    <tr>\n",
       "      <th>4</th>\n",
       "      <td>TE</td>\n",
       "      <td>Telephone call</td>\n",
       "    </tr>\n",
       "    <tr>\n",
       "      <th>5</th>\n",
       "      <td>ES</td>\n",
       "      <td>Express mail</td>\n",
       "    </tr>\n",
       "    <tr>\n",
       "      <th>6</th>\n",
       "      <td>AM</td>\n",
       "      <td>Answering machine</td>\n",
       "    </tr>\n",
       "    <tr>\n",
       "      <th>7</th>\n",
       "      <td>RM</td>\n",
       "      <td>Regular mail (CTS-items only)</td>\n",
       "    </tr>\n",
       "    <tr>\n",
       "      <th>8</th>\n",
       "      <td>AF</td>\n",
       "      <td>Application form</td>\n",
       "    </tr>\n",
       "    <tr>\n",
       "      <th>9</th>\n",
       "      <td>LE</td>\n",
       "      <td>Letters</td>\n",
       "    </tr>\n",
       "    <tr>\n",
       "      <th>10</th>\n",
       "      <td>ME</td>\n",
       "      <td>Memo</td>\n",
       "    </tr>\n",
       "    <tr>\n",
       "      <th>11</th>\n",
       "      <td>CA</td>\n",
       "      <td>Change of address card</td>\n",
       "    </tr>\n",
       "    <tr>\n",
       "      <th>12</th>\n",
       "      <td>AC</td>\n",
       "      <td>Advertisement coupon</td>\n",
       "    </tr>\n",
       "    <tr>\n",
       "      <th>13</th>\n",
       "      <td>MR</td>\n",
       "      <td>Mail returned</td>\n",
       "    </tr>\n",
       "    <tr>\n",
       "      <th>14</th>\n",
       "      <td>NA</td>\n",
       "      <td>Newspaper article</td>\n",
       "    </tr>\n",
       "    <tr>\n",
       "      <th>15</th>\n",
       "      <td>TM</td>\n",
       "      <td>Translator</td>\n",
       "    </tr>\n",
       "  </tbody>\n",
       "</table>\n",
       "</div>"
      ],
      "text/plain": [
       "   MEDIUMCODE                     MEDIUMDESC\n",
       "0          FF           Face to Face contact\n",
       "1          FX                            Fax\n",
       "2          TX                          Telex\n",
       "3          EM                Electronic Mail\n",
       "4          TE                 Telephone call\n",
       "5          ES                   Express mail\n",
       "6          AM              Answering machine\n",
       "7          RM  Regular mail (CTS-items only)\n",
       "8          AF               Application form\n",
       "9          LE                        Letters\n",
       "10         ME                           Memo\n",
       "11         CA         Change of address card\n",
       "12         AC           Advertisement coupon\n",
       "13         MR                  Mail returned\n",
       "14         NA              Newspaper article\n",
       "15         TM                     Translator"
      ]
     },
     "execution_count": 22,
     "metadata": {},
     "output_type": "execute_result"
    }
   ],
   "source": [
    "commedium = pd.read_sas('/home/rohan/Documents/ROHAN_DA/ALABS/___STATS___ -  cls 10 onwards/Class_20 Case_study_ML/Case_study/2. NGO-FUND RAISING ATTRITION- CLASSIFICATION/2. NGO-FUND RAISING ATTRITION- CLASSIFICATION/1 - Data for Churn Modeling/commediu.sas7bdat',encoding='utf-8')\n",
    "commedium"
   ]
  },
  {
   "cell_type": "markdown",
   "metadata": {},
   "source": [
    "# ---------------------------------------- Nameaddr ------------------------------------------"
   ]
  },
  {
   "cell_type": "markdown",
   "metadata": {},
   "source": [
    "#### Sociodemographical information\n",
    "\n",
    "**Name1title** - Title to address someone\n",
    "\n",
    "**Languagecode** - Preferred mailing language\n",
    "\n"
   ]
  },
  {
   "cell_type": "code",
   "execution_count": 23,
   "metadata": {},
   "outputs": [],
   "source": [
    "Nameaddr =  pd.read_sas('/home/rohan/Documents/ROHAN_DA/ALABS/___STATS___ -  cls 10 onwards/Class_20 Case_study_ML/Case_study/2. NGO-FUND RAISING ATTRITION- CLASSIFICATION/2. NGO-FUND RAISING ATTRITION- CLASSIFICATION/1 - Data for Churn Modeling/nameaddr.sas7bdat')"
   ]
  },
  {
   "cell_type": "code",
   "execution_count": 206,
   "metadata": {},
   "outputs": [
    {
     "data": {
      "text/plain": [
       "EXTRELNO      object\n",
       "NAME1TITLE    object\n",
       "POSTCODE      object\n",
       "LANGUACODE    object\n",
       "dtype: object"
      ]
     },
     "execution_count": 206,
     "metadata": {},
     "output_type": "execute_result"
    }
   ],
   "source": [
    "Nameaddr.dtypes"
   ]
  },
  {
   "cell_type": "code",
   "execution_count": 24,
   "metadata": {},
   "outputs": [],
   "source": [
    "Nameaddr['NAME1TITLE']=Nameaddr.iloc[:,1].str.decode(\"utf-8\")\n",
    "Nameaddr['EXTRELNO']=Nameaddr.iloc[:,0].str.decode(\"utf-8\")\n",
    "Nameaddr['POSTCODE']=Nameaddr.iloc[:,2].str.decode(\"utf-8\")\n",
    "Nameaddr['LANGUACODE']=Nameaddr.iloc[:,3].str.decode(\"utf-8\")"
   ]
  },
  {
   "cell_type": "code",
   "execution_count": 209,
   "metadata": {},
   "outputs": [
    {
     "data": {
      "text/html": [
       "<div>\n",
       "<style scoped>\n",
       "    .dataframe tbody tr th:only-of-type {\n",
       "        vertical-align: middle;\n",
       "    }\n",
       "\n",
       "    .dataframe tbody tr th {\n",
       "        vertical-align: top;\n",
       "    }\n",
       "\n",
       "    .dataframe thead th {\n",
       "        text-align: right;\n",
       "    }\n",
       "</style>\n",
       "<table border=\"1\" class=\"dataframe\">\n",
       "  <thead>\n",
       "    <tr style=\"text-align: right;\">\n",
       "      <th></th>\n",
       "      <th>EXTRELNO</th>\n",
       "      <th>NAME1TITLE</th>\n",
       "      <th>POSTCODE</th>\n",
       "      <th>LANGUACODE</th>\n",
       "    </tr>\n",
       "  </thead>\n",
       "  <tbody>\n",
       "    <tr>\n",
       "      <th>0</th>\n",
       "      <td>0000019</td>\n",
       "      <td>HR</td>\n",
       "      <td>2500</td>\n",
       "      <td>NL</td>\n",
       "    </tr>\n",
       "    <tr>\n",
       "      <th>1</th>\n",
       "      <td>0000020</td>\n",
       "      <td>HR</td>\n",
       "      <td>9550</td>\n",
       "      <td>NL</td>\n",
       "    </tr>\n",
       "  </tbody>\n",
       "</table>\n",
       "</div>"
      ],
      "text/plain": [
       "  EXTRELNO NAME1TITLE POSTCODE LANGUACODE\n",
       "0  0000019         HR     2500         NL\n",
       "1  0000020         HR     9550         NL"
      ]
     },
     "execution_count": 209,
     "metadata": {},
     "output_type": "execute_result"
    }
   ],
   "source": [
    "Nameaddr.head(2)"
   ]
  },
  {
   "cell_type": "markdown",
   "metadata": {},
   "source": [
    "# --------------------------------Payhistory ----------------------------------------------\n"
   ]
  },
  {
   "cell_type": "markdown",
   "metadata": {},
   "source": [
    "#### Payhistory: Paymenthistory of each donor\n",
    "\n",
    "**Pid** - Unique identifier for each payment\n",
    "\n",
    "**Pdate**- Date of payment\n",
    "\n",
    "**Pamt** - Amount of payment\n",
    "\n",
    "\n",
    "**Paytypecd** \n",
    "\n",
    "Paytype\n",
    "\n",
    "O Bank transfer\n",
    "\n",
    "D Permanent order\n",
    "\n",
    "E Own initiative\n",
    "\n",
    "X Unknown\n",
    "\n",
    "**Status**\n",
    "\n",
    "Status of payment\n",
    "\n",
    "OK Normal/Real payment\n",
    "\n",
    "CO Correction (internal)\n",
    "\n",
    "RF RF (Refund)\n",
    "\n",
    "RC Recall"
   ]
  },
  {
   "cell_type": "code",
   "execution_count": 25,
   "metadata": {},
   "outputs": [],
   "source": [
    "payhistory = pd.read_sas('/home/rohan/Documents/ROHAN_DA/ALABS/___STATS___ -  cls 10 onwards/Class_20 Case_study_ML/Case_study/2. NGO-FUND RAISING ATTRITION- CLASSIFICATION/2. NGO-FUND RAISING ATTRITION- CLASSIFICATION/1 - Data for Churn Modeling/payhistory.sas7bdat')"
   ]
  },
  {
   "cell_type": "code",
   "execution_count": 26,
   "metadata": {},
   "outputs": [
    {
     "data": {
      "text/html": [
       "<div>\n",
       "<style scoped>\n",
       "    .dataframe tbody tr th:only-of-type {\n",
       "        vertical-align: middle;\n",
       "    }\n",
       "\n",
       "    .dataframe tbody tr th {\n",
       "        vertical-align: top;\n",
       "    }\n",
       "\n",
       "    .dataframe thead th {\n",
       "        text-align: right;\n",
       "    }\n",
       "</style>\n",
       "<table border=\"1\" class=\"dataframe\">\n",
       "  <thead>\n",
       "    <tr style=\"text-align: right;\">\n",
       "      <th></th>\n",
       "      <th>PID</th>\n",
       "      <th>PDATE</th>\n",
       "      <th>PAMT</th>\n",
       "      <th>EXTRELNO</th>\n",
       "      <th>PAYTYPECD</th>\n",
       "      <th>STATUS</th>\n",
       "    </tr>\n",
       "  </thead>\n",
       "  <tbody>\n",
       "    <tr>\n",
       "      <th>0</th>\n",
       "      <td>38.0</td>\n",
       "      <td>1993-12-31</td>\n",
       "      <td>9.57</td>\n",
       "      <td>b'0000019'</td>\n",
       "      <td>b'X'</td>\n",
       "      <td>b'CO'</td>\n",
       "    </tr>\n",
       "    <tr>\n",
       "      <th>1</th>\n",
       "      <td>39.0</td>\n",
       "      <td>1993-12-31</td>\n",
       "      <td>41.32</td>\n",
       "      <td>b'0000020'</td>\n",
       "      <td>b'X'</td>\n",
       "      <td>b'CO'</td>\n",
       "    </tr>\n",
       "  </tbody>\n",
       "</table>\n",
       "</div>"
      ],
      "text/plain": [
       "    PID      PDATE   PAMT    EXTRELNO PAYTYPECD STATUS\n",
       "0  38.0 1993-12-31   9.57  b'0000019'      b'X'  b'CO'\n",
       "1  39.0 1993-12-31  41.32  b'0000020'      b'X'  b'CO'"
      ]
     },
     "execution_count": 26,
     "metadata": {},
     "output_type": "execute_result"
    }
   ],
   "source": [
    "payhistory.head(2)"
   ]
  },
  {
   "cell_type": "markdown",
   "metadata": {},
   "source": [
    "#### Decoding"
   ]
  },
  {
   "cell_type": "code",
   "execution_count": 27,
   "metadata": {},
   "outputs": [],
   "source": [
    "payhistory[['STATUS','PAYTYPECD','EXTRELNO']] = payhistory[['STATUS','PAYTYPECD','EXTRELNO']].apply(lambda x:x.str.decode('utf-8'))"
   ]
  },
  {
   "cell_type": "code",
   "execution_count": 28,
   "metadata": {},
   "outputs": [
    {
     "data": {
      "text/html": [
       "<div>\n",
       "<style scoped>\n",
       "    .dataframe tbody tr th:only-of-type {\n",
       "        vertical-align: middle;\n",
       "    }\n",
       "\n",
       "    .dataframe tbody tr th {\n",
       "        vertical-align: top;\n",
       "    }\n",
       "\n",
       "    .dataframe thead th {\n",
       "        text-align: right;\n",
       "    }\n",
       "</style>\n",
       "<table border=\"1\" class=\"dataframe\">\n",
       "  <thead>\n",
       "    <tr style=\"text-align: right;\">\n",
       "      <th></th>\n",
       "      <th>PID</th>\n",
       "      <th>PDATE</th>\n",
       "      <th>PAMT</th>\n",
       "      <th>EXTRELNO</th>\n",
       "      <th>PAYTYPECD</th>\n",
       "      <th>STATUS</th>\n",
       "    </tr>\n",
       "  </thead>\n",
       "  <tbody>\n",
       "    <tr>\n",
       "      <th>0</th>\n",
       "      <td>38.0</td>\n",
       "      <td>1993-12-31</td>\n",
       "      <td>9.57</td>\n",
       "      <td>0000019</td>\n",
       "      <td>X</td>\n",
       "      <td>CO</td>\n",
       "    </tr>\n",
       "    <tr>\n",
       "      <th>1</th>\n",
       "      <td>39.0</td>\n",
       "      <td>1993-12-31</td>\n",
       "      <td>41.32</td>\n",
       "      <td>0000020</td>\n",
       "      <td>X</td>\n",
       "      <td>CO</td>\n",
       "    </tr>\n",
       "    <tr>\n",
       "      <th>2</th>\n",
       "      <td>40.0</td>\n",
       "      <td>1993-12-31</td>\n",
       "      <td>13.10</td>\n",
       "      <td>0000020</td>\n",
       "      <td>X</td>\n",
       "      <td>CO</td>\n",
       "    </tr>\n",
       "    <tr>\n",
       "      <th>3</th>\n",
       "      <td>54091.0</td>\n",
       "      <td>1994-01-01</td>\n",
       "      <td>2.02</td>\n",
       "      <td>0000020</td>\n",
       "      <td>X</td>\n",
       "      <td>CO</td>\n",
       "    </tr>\n",
       "    <tr>\n",
       "      <th>4</th>\n",
       "      <td>104480.0</td>\n",
       "      <td>1994-05-19</td>\n",
       "      <td>0.50</td>\n",
       "      <td>0000020</td>\n",
       "      <td>D</td>\n",
       "      <td>OK</td>\n",
       "    </tr>\n",
       "  </tbody>\n",
       "</table>\n",
       "</div>"
      ],
      "text/plain": [
       "        PID      PDATE   PAMT EXTRELNO PAYTYPECD STATUS\n",
       "0      38.0 1993-12-31   9.57  0000019         X     CO\n",
       "1      39.0 1993-12-31  41.32  0000020         X     CO\n",
       "2      40.0 1993-12-31  13.10  0000020         X     CO\n",
       "3   54091.0 1994-01-01   2.02  0000020         X     CO\n",
       "4  104480.0 1994-05-19   0.50  0000020         D     OK"
      ]
     },
     "execution_count": 28,
     "metadata": {},
     "output_type": "execute_result"
    }
   ],
   "source": [
    "payhistory.head()"
   ]
  },
  {
   "cell_type": "code",
   "execution_count": 29,
   "metadata": {},
   "outputs": [
    {
     "data": {
      "text/html": [
       "<div>\n",
       "<style scoped>\n",
       "    .dataframe tbody tr th:only-of-type {\n",
       "        vertical-align: middle;\n",
       "    }\n",
       "\n",
       "    .dataframe tbody tr th {\n",
       "        vertical-align: top;\n",
       "    }\n",
       "\n",
       "    .dataframe thead th {\n",
       "        text-align: right;\n",
       "    }\n",
       "</style>\n",
       "<table border=\"1\" class=\"dataframe\">\n",
       "  <thead>\n",
       "    <tr style=\"text-align: right;\">\n",
       "      <th></th>\n",
       "      <th>PID</th>\n",
       "      <th>PAMT</th>\n",
       "    </tr>\n",
       "    <tr>\n",
       "      <th>STATUS</th>\n",
       "      <th></th>\n",
       "      <th></th>\n",
       "    </tr>\n",
       "  </thead>\n",
       "  <tbody>\n",
       "    <tr>\n",
       "      <th>CO</th>\n",
       "      <td>6.778372e+10</td>\n",
       "      <td>-5.595999e+05</td>\n",
       "    </tr>\n",
       "    <tr>\n",
       "      <th>OK</th>\n",
       "      <td>3.109679e+12</td>\n",
       "      <td>3.211546e+07</td>\n",
       "    </tr>\n",
       "    <tr>\n",
       "      <th>RC</th>\n",
       "      <td>2.364133e+10</td>\n",
       "      <td>-4.289997e+05</td>\n",
       "    </tr>\n",
       "    <tr>\n",
       "      <th>RF</th>\n",
       "      <td>3.994299e+08</td>\n",
       "      <td>-2.074822e+04</td>\n",
       "    </tr>\n",
       "  </tbody>\n",
       "</table>\n",
       "</div>"
      ],
      "text/plain": [
       "                 PID          PAMT\n",
       "STATUS                            \n",
       "CO      6.778372e+10 -5.595999e+05\n",
       "OK      3.109679e+12  3.211546e+07\n",
       "RC      2.364133e+10 -4.289997e+05\n",
       "RF      3.994299e+08 -2.074822e+04"
      ]
     },
     "execution_count": 29,
     "metadata": {},
     "output_type": "execute_result"
    }
   ],
   "source": [
    "# We dont have to take care of the sign of PAMT as it is already taken care of based on the status\n",
    "\n",
    "payhistory.groupby('STATUS').sum()"
   ]
  },
  {
   "cell_type": "code",
   "execution_count": 30,
   "metadata": {},
   "outputs": [
    {
     "data": {
      "text/html": [
       "<div>\n",
       "<style scoped>\n",
       "    .dataframe tbody tr th:only-of-type {\n",
       "        vertical-align: middle;\n",
       "    }\n",
       "\n",
       "    .dataframe tbody tr th {\n",
       "        vertical-align: top;\n",
       "    }\n",
       "\n",
       "    .dataframe thead th {\n",
       "        text-align: right;\n",
       "    }\n",
       "</style>\n",
       "<table border=\"1\" class=\"dataframe\">\n",
       "  <thead>\n",
       "    <tr style=\"text-align: right;\">\n",
       "      <th></th>\n",
       "      <th>count</th>\n",
       "      <th>mean</th>\n",
       "      <th>std</th>\n",
       "      <th>min</th>\n",
       "      <th>25%</th>\n",
       "      <th>50%</th>\n",
       "      <th>75%</th>\n",
       "      <th>max</th>\n",
       "    </tr>\n",
       "  </thead>\n",
       "  <tbody>\n",
       "    <tr>\n",
       "      <th>PID</th>\n",
       "      <td>1205720.0</td>\n",
       "      <td>2.655267e+06</td>\n",
       "      <td>1.480799e+06</td>\n",
       "      <td>38.00</td>\n",
       "      <td>1377467.50</td>\n",
       "      <td>2709602.00</td>\n",
       "      <td>3946880.25</td>\n",
       "      <td>5101978.00</td>\n",
       "    </tr>\n",
       "    <tr>\n",
       "      <th>PAMT</th>\n",
       "      <td>1205720.0</td>\n",
       "      <td>2.579925e+01</td>\n",
       "      <td>3.725114e+01</td>\n",
       "      <td>-2436.96</td>\n",
       "      <td>20.33</td>\n",
       "      <td>20.33</td>\n",
       "      <td>23.00</td>\n",
       "      <td>2436.96</td>\n",
       "    </tr>\n",
       "  </tbody>\n",
       "</table>\n",
       "</div>"
      ],
      "text/plain": [
       "          count          mean           std      min         25%         50%  \\\n",
       "PID   1205720.0  2.655267e+06  1.480799e+06    38.00  1377467.50  2709602.00   \n",
       "PAMT  1205720.0  2.579925e+01  3.725114e+01 -2436.96       20.33       20.33   \n",
       "\n",
       "             75%         max  \n",
       "PID   3946880.25  5101978.00  \n",
       "PAMT       23.00     2436.96  "
      ]
     },
     "execution_count": 30,
     "metadata": {},
     "output_type": "execute_result"
    }
   ],
   "source": [
    "payhistory.describe().T"
   ]
  },
  {
   "cell_type": "markdown",
   "metadata": {},
   "source": [
    "#### Yearwise User data"
   ]
  },
  {
   "cell_type": "code",
   "execution_count": 32,
   "metadata": {},
   "outputs": [
    {
     "data": {
      "text/html": [
       "<div>\n",
       "<style scoped>\n",
       "    .dataframe tbody tr th:only-of-type {\n",
       "        vertical-align: middle;\n",
       "    }\n",
       "\n",
       "    .dataframe tbody tr th {\n",
       "        vertical-align: top;\n",
       "    }\n",
       "\n",
       "    .dataframe thead th {\n",
       "        text-align: right;\n",
       "    }\n",
       "</style>\n",
       "<table border=\"1\" class=\"dataframe\">\n",
       "  <thead>\n",
       "    <tr style=\"text-align: right;\">\n",
       "      <th></th>\n",
       "      <th>PDATE</th>\n",
       "      <th>1993</th>\n",
       "      <th>1994</th>\n",
       "      <th>1995</th>\n",
       "      <th>1996</th>\n",
       "      <th>1997</th>\n",
       "      <th>1998</th>\n",
       "      <th>1999</th>\n",
       "      <th>2000</th>\n",
       "      <th>2001</th>\n",
       "      <th>2002</th>\n",
       "      <th>2003</th>\n",
       "      <th>2004</th>\n",
       "      <th>2005</th>\n",
       "      <th>2006</th>\n",
       "      <th>2007</th>\n",
       "    </tr>\n",
       "  </thead>\n",
       "  <tbody>\n",
       "    <tr>\n",
       "      <th rowspan=\"2\" valign=\"top\">EXTRELNO</th>\n",
       "      <th>nunique</th>\n",
       "      <td>7576</td>\n",
       "      <td>7716</td>\n",
       "      <td>9057</td>\n",
       "      <td>9262</td>\n",
       "      <td>9295</td>\n",
       "      <td>9355</td>\n",
       "      <td>9557</td>\n",
       "      <td>10342</td>\n",
       "      <td>10164</td>\n",
       "      <td>10138</td>\n",
       "      <td>9942</td>\n",
       "      <td>10051</td>\n",
       "      <td>10200</td>\n",
       "      <td>10114</td>\n",
       "      <td>7192</td>\n",
       "    </tr>\n",
       "    <tr>\n",
       "      <th>count</th>\n",
       "      <td>11175</td>\n",
       "      <td>55786</td>\n",
       "      <td>83269</td>\n",
       "      <td>87579</td>\n",
       "      <td>87721</td>\n",
       "      <td>88727</td>\n",
       "      <td>90099</td>\n",
       "      <td>97009</td>\n",
       "      <td>101807</td>\n",
       "      <td>103670</td>\n",
       "      <td>97607</td>\n",
       "      <td>98235</td>\n",
       "      <td>98434</td>\n",
       "      <td>97088</td>\n",
       "      <td>7514</td>\n",
       "    </tr>\n",
       "  </tbody>\n",
       "</table>\n",
       "</div>"
      ],
      "text/plain": [
       "PDATE              1993   1994   1995   1996   1997   1998   1999   2000  \\\n",
       "EXTRELNO nunique   7576   7716   9057   9262   9295   9355   9557  10342   \n",
       "         count    11175  55786  83269  87579  87721  88727  90099  97009   \n",
       "\n",
       "PDATE               2001    2002   2003   2004   2005   2006  2007  \n",
       "EXTRELNO nunique   10164   10138   9942  10051  10200  10114  7192  \n",
       "         count    101807  103670  97607  98235  98434  97088  7514  "
      ]
     },
     "execution_count": 32,
     "metadata": {},
     "output_type": "execute_result"
    }
   ],
   "source": [
    "payhistory.groupby(payhistory.PDATE.dt.year).agg({'EXTRELNO':['nunique','count']}).T"
   ]
  },
  {
   "cell_type": "markdown",
   "metadata": {},
   "source": [
    "#### How many times does a user made any payments(credit & debit)"
   ]
  },
  {
   "cell_type": "code",
   "execution_count": 33,
   "metadata": {},
   "outputs": [
    {
     "data": {
      "text/html": [
       "<div>\n",
       "<style scoped>\n",
       "    .dataframe tbody tr th:only-of-type {\n",
       "        vertical-align: middle;\n",
       "    }\n",
       "\n",
       "    .dataframe tbody tr th {\n",
       "        vertical-align: top;\n",
       "    }\n",
       "\n",
       "    .dataframe thead tr th {\n",
       "        text-align: left;\n",
       "    }\n",
       "\n",
       "    .dataframe thead tr:last-of-type th {\n",
       "        text-align: right;\n",
       "    }\n",
       "</style>\n",
       "<table border=\"1\" class=\"dataframe\">\n",
       "  <thead>\n",
       "    <tr>\n",
       "      <th></th>\n",
       "      <th colspan=\"2\" halign=\"left\">PID</th>\n",
       "      <th>PDATE</th>\n",
       "      <th colspan=\"2\" halign=\"left\">PAMT</th>\n",
       "      <th>PAYTYPECD</th>\n",
       "    </tr>\n",
       "    <tr>\n",
       "      <th></th>\n",
       "      <th>nunique</th>\n",
       "      <th>count</th>\n",
       "      <th>max</th>\n",
       "      <th>mean</th>\n",
       "      <th>sum</th>\n",
       "      <th>nunique</th>\n",
       "    </tr>\n",
       "    <tr>\n",
       "      <th>EXTRELNO</th>\n",
       "      <th></th>\n",
       "      <th></th>\n",
       "      <th></th>\n",
       "      <th></th>\n",
       "      <th></th>\n",
       "      <th></th>\n",
       "    </tr>\n",
       "  </thead>\n",
       "  <tbody>\n",
       "    <tr>\n",
       "      <th>0000019</th>\n",
       "      <td>1</td>\n",
       "      <td>1</td>\n",
       "      <td>1993-12-31</td>\n",
       "      <td>9.570000</td>\n",
       "      <td>9.57</td>\n",
       "      <td>1</td>\n",
       "    </tr>\n",
       "    <tr>\n",
       "      <th>0000020</th>\n",
       "      <td>158</td>\n",
       "      <td>158</td>\n",
       "      <td>2007-01-17</td>\n",
       "      <td>20.107405</td>\n",
       "      <td>3176.97</td>\n",
       "      <td>2</td>\n",
       "    </tr>\n",
       "    <tr>\n",
       "      <th>0000035</th>\n",
       "      <td>155</td>\n",
       "      <td>155</td>\n",
       "      <td>2007-01-17</td>\n",
       "      <td>20.441290</td>\n",
       "      <td>3168.40</td>\n",
       "      <td>2</td>\n",
       "    </tr>\n",
       "    <tr>\n",
       "      <th>0000042</th>\n",
       "      <td>85</td>\n",
       "      <td>85</td>\n",
       "      <td>2001-01-23</td>\n",
       "      <td>18.153294</td>\n",
       "      <td>1543.03</td>\n",
       "      <td>2</td>\n",
       "    </tr>\n",
       "  </tbody>\n",
       "</table>\n",
       "</div>"
      ],
      "text/plain": [
       "             PID            PDATE       PAMT          PAYTYPECD\n",
       "         nunique count        max       mean      sum   nunique\n",
       "EXTRELNO                                                       \n",
       "0000019        1     1 1993-12-31   9.570000     9.57         1\n",
       "0000020      158   158 2007-01-17  20.107405  3176.97         2\n",
       "0000035      155   155 2007-01-17  20.441290  3168.40         2\n",
       "0000042       85    85 2001-01-23  18.153294  1543.03         2"
      ]
     },
     "execution_count": 33,
     "metadata": {},
     "output_type": "execute_result"
    }
   ],
   "source": [
    "payhistory.groupby('EXTRELNO').agg({'PID':['nunique','count'],'PDATE':'max','PAMT':['mean','sum'],'PAYTYPECD':'nunique'}).head(4)"
   ]
  },
  {
   "cell_type": "markdown",
   "metadata": {},
   "source": [
    "# ------------------------- Preparing Independent ---------------------------------\n",
    "\n",
    "\n",
    "####  -----------------------------------------Independent window - 2005 & Before  \n",
    "\n",
    "- Independent window gives us the data for Independent variable such as Recency|Frequency|Monetary_Value"
   ]
  },
  {
   "cell_type": "markdown",
   "metadata": {},
   "source": [
    "**Possibility 1:**\n",
    "\n",
    "**To have Timebased Training & Testing datasets**\n",
    "\n",
    "This is not the best approach because it will lead to a lot datapoints present in both training & testing sets"
   ]
  },
  {
   "cell_type": "markdown",
   "metadata": {},
   "source": [
    "### ------------------------- Independent data prep [Monetary Data]---------------------------------"
   ]
  },
  {
   "cell_type": "code",
   "execution_count": 34,
   "metadata": {},
   "outputs": [
    {
     "name": "stdout",
     "output_type": "stream",
     "text": [
      "ind_dat shape:  1101118 || Total_data before date filter shape:  1205720\n"
     ]
    }
   ],
   "source": [
    "ind_data = payhistory[payhistory.PDATE < pd.to_datetime('2006-01-01')]\n",
    "\n",
    "print('ind_dat shape: ',ind_data.shape[0],'|| Total_data before date filter shape: ',payhistory.shape[0])"
   ]
  },
  {
   "cell_type": "markdown",
   "metadata": {},
   "source": [
    "#### Making the Monetary Dataset for RFM Model"
   ]
  },
  {
   "cell_type": "code",
   "execution_count": 35,
   "metadata": {},
   "outputs": [
    {
     "data": {
      "text/html": [
       "<div>\n",
       "<style scoped>\n",
       "    .dataframe tbody tr th:only-of-type {\n",
       "        vertical-align: middle;\n",
       "    }\n",
       "\n",
       "    .dataframe tbody tr th {\n",
       "        vertical-align: top;\n",
       "    }\n",
       "\n",
       "    .dataframe thead tr th {\n",
       "        text-align: left;\n",
       "    }\n",
       "\n",
       "    .dataframe thead tr:last-of-type th {\n",
       "        text-align: right;\n",
       "    }\n",
       "</style>\n",
       "<table border=\"1\" class=\"dataframe\">\n",
       "  <thead>\n",
       "    <tr>\n",
       "      <th></th>\n",
       "      <th>PDATE</th>\n",
       "      <th colspan=\"2\" halign=\"left\">PAMT</th>\n",
       "      <th>PID</th>\n",
       "    </tr>\n",
       "    <tr>\n",
       "      <th></th>\n",
       "      <th>max</th>\n",
       "      <th>sum</th>\n",
       "      <th>mean</th>\n",
       "      <th>count</th>\n",
       "    </tr>\n",
       "    <tr>\n",
       "      <th>EXTRELNO</th>\n",
       "      <th></th>\n",
       "      <th></th>\n",
       "      <th></th>\n",
       "      <th></th>\n",
       "    </tr>\n",
       "  </thead>\n",
       "  <tbody>\n",
       "    <tr>\n",
       "      <th>0000019</th>\n",
       "      <td>1993-12-31</td>\n",
       "      <td>9.57</td>\n",
       "      <td>9.570000</td>\n",
       "      <td>1</td>\n",
       "    </tr>\n",
       "    <tr>\n",
       "      <th>0000020</th>\n",
       "      <td>2005-12-14</td>\n",
       "      <td>2875.97</td>\n",
       "      <td>19.834276</td>\n",
       "      <td>145</td>\n",
       "    </tr>\n",
       "    <tr>\n",
       "      <th>0000035</th>\n",
       "      <td>2005-12-14</td>\n",
       "      <td>2867.40</td>\n",
       "      <td>20.192958</td>\n",
       "      <td>142</td>\n",
       "    </tr>\n",
       "    <tr>\n",
       "      <th>0000042</th>\n",
       "      <td>2001-01-23</td>\n",
       "      <td>1543.03</td>\n",
       "      <td>18.153294</td>\n",
       "      <td>85</td>\n",
       "    </tr>\n",
       "    <tr>\n",
       "      <th>0000043</th>\n",
       "      <td>2003-07-14</td>\n",
       "      <td>4373.24</td>\n",
       "      <td>19.097118</td>\n",
       "      <td>229</td>\n",
       "    </tr>\n",
       "  </tbody>\n",
       "</table>\n",
       "</div>"
      ],
      "text/plain": [
       "              PDATE     PAMT              PID\n",
       "                max      sum       mean count\n",
       "EXTRELNO                                     \n",
       "0000019  1993-12-31     9.57   9.570000     1\n",
       "0000020  2005-12-14  2875.97  19.834276   145\n",
       "0000035  2005-12-14  2867.40  20.192958   142\n",
       "0000042  2001-01-23  1543.03  18.153294    85\n",
       "0000043  2003-07-14  4373.24  19.097118   229"
      ]
     },
     "execution_count": 35,
     "metadata": {},
     "output_type": "execute_result"
    }
   ],
   "source": [
    "ind_data = ind_data.groupby('EXTRELNO').agg({'PDATE':'max','PAMT':['sum','mean'],'PID':'count'})\n",
    "\n",
    "ind_data.head()"
   ]
  },
  {
   "cell_type": "code",
   "execution_count": 37,
   "metadata": {},
   "outputs": [],
   "source": [
    "## Dropping the multiindex_level\n",
    "\n",
    "#ind_data.columns =ind_data.columns.droplevel()"
   ]
  },
  {
   "cell_type": "code",
   "execution_count": 38,
   "metadata": {},
   "outputs": [],
   "source": [
    "## Recency\n",
    "\n",
    "ind_data['M_recency'] = pd.to_datetime('2006-01-01') - ind_data['max'] "
   ]
  },
  {
   "cell_type": "code",
   "execution_count": 39,
   "metadata": {},
   "outputs": [
    {
     "data": {
      "text/html": [
       "<div>\n",
       "<style scoped>\n",
       "    .dataframe tbody tr th:only-of-type {\n",
       "        vertical-align: middle;\n",
       "    }\n",
       "\n",
       "    .dataframe tbody tr th {\n",
       "        vertical-align: top;\n",
       "    }\n",
       "\n",
       "    .dataframe thead th {\n",
       "        text-align: right;\n",
       "    }\n",
       "</style>\n",
       "<table border=\"1\" class=\"dataframe\">\n",
       "  <thead>\n",
       "    <tr style=\"text-align: right;\">\n",
       "      <th></th>\n",
       "      <th>max</th>\n",
       "      <th>sum</th>\n",
       "      <th>mean</th>\n",
       "      <th>count</th>\n",
       "      <th>M_recency</th>\n",
       "    </tr>\n",
       "    <tr>\n",
       "      <th>EXTRELNO</th>\n",
       "      <th></th>\n",
       "      <th></th>\n",
       "      <th></th>\n",
       "      <th></th>\n",
       "      <th></th>\n",
       "    </tr>\n",
       "  </thead>\n",
       "  <tbody>\n",
       "    <tr>\n",
       "      <th>0000019</th>\n",
       "      <td>1993-12-31</td>\n",
       "      <td>9.57</td>\n",
       "      <td>9.570000</td>\n",
       "      <td>1</td>\n",
       "      <td>4384 days</td>\n",
       "    </tr>\n",
       "    <tr>\n",
       "      <th>0000020</th>\n",
       "      <td>2005-12-14</td>\n",
       "      <td>2875.97</td>\n",
       "      <td>19.834276</td>\n",
       "      <td>145</td>\n",
       "      <td>18 days</td>\n",
       "    </tr>\n",
       "    <tr>\n",
       "      <th>0000035</th>\n",
       "      <td>2005-12-14</td>\n",
       "      <td>2867.40</td>\n",
       "      <td>20.192958</td>\n",
       "      <td>142</td>\n",
       "      <td>18 days</td>\n",
       "    </tr>\n",
       "    <tr>\n",
       "      <th>0000042</th>\n",
       "      <td>2001-01-23</td>\n",
       "      <td>1543.03</td>\n",
       "      <td>18.153294</td>\n",
       "      <td>85</td>\n",
       "      <td>1804 days</td>\n",
       "    </tr>\n",
       "    <tr>\n",
       "      <th>0000043</th>\n",
       "      <td>2003-07-14</td>\n",
       "      <td>4373.24</td>\n",
       "      <td>19.097118</td>\n",
       "      <td>229</td>\n",
       "      <td>902 days</td>\n",
       "    </tr>\n",
       "  </tbody>\n",
       "</table>\n",
       "</div>"
      ],
      "text/plain": [
       "                max      sum       mean  count M_recency\n",
       "EXTRELNO                                                \n",
       "0000019  1993-12-31     9.57   9.570000      1 4384 days\n",
       "0000020  2005-12-14  2875.97  19.834276    145   18 days\n",
       "0000035  2005-12-14  2867.40  20.192958    142   18 days\n",
       "0000042  2001-01-23  1543.03  18.153294     85 1804 days\n",
       "0000043  2003-07-14  4373.24  19.097118    229  902 days"
      ]
     },
     "execution_count": 39,
     "metadata": {},
     "output_type": "execute_result"
    }
   ],
   "source": [
    "ind_data.head()"
   ]
  },
  {
   "cell_type": "code",
   "execution_count": 41,
   "metadata": {},
   "outputs": [],
   "source": [
    "#### Finalizing the dataset\n",
    "\n",
    "ind_data.rename(columns={'sum':'Monetary_sum','mean':'Monetary_mean','count':'M_frequecy'},inplace=True)\n",
    "#ind_data.drop(columns= 'max',inplace=True)"
   ]
  },
  {
   "cell_type": "code",
   "execution_count": 44,
   "metadata": {},
   "outputs": [],
   "source": [
    "## Converting into only day level\n",
    "\n",
    "#ind_data.M_recency = ind_data.M_recency.dt.days"
   ]
  },
  {
   "cell_type": "markdown",
   "metadata": {},
   "source": [
    "#### Final Independent_data"
   ]
  },
  {
   "cell_type": "code",
   "execution_count": 45,
   "metadata": {},
   "outputs": [
    {
     "data": {
      "text/html": [
       "<div>\n",
       "<style scoped>\n",
       "    .dataframe tbody tr th:only-of-type {\n",
       "        vertical-align: middle;\n",
       "    }\n",
       "\n",
       "    .dataframe tbody tr th {\n",
       "        vertical-align: top;\n",
       "    }\n",
       "\n",
       "    .dataframe thead th {\n",
       "        text-align: right;\n",
       "    }\n",
       "</style>\n",
       "<table border=\"1\" class=\"dataframe\">\n",
       "  <thead>\n",
       "    <tr style=\"text-align: right;\">\n",
       "      <th></th>\n",
       "      <th>Monetary_sum</th>\n",
       "      <th>Monetary_mean</th>\n",
       "      <th>M_frequecy</th>\n",
       "      <th>M_recency</th>\n",
       "    </tr>\n",
       "    <tr>\n",
       "      <th>EXTRELNO</th>\n",
       "      <th></th>\n",
       "      <th></th>\n",
       "      <th></th>\n",
       "      <th></th>\n",
       "    </tr>\n",
       "  </thead>\n",
       "  <tbody>\n",
       "    <tr>\n",
       "      <th>0000019</th>\n",
       "      <td>9.57</td>\n",
       "      <td>9.570000</td>\n",
       "      <td>1</td>\n",
       "      <td>4384</td>\n",
       "    </tr>\n",
       "    <tr>\n",
       "      <th>0000020</th>\n",
       "      <td>2875.97</td>\n",
       "      <td>19.834276</td>\n",
       "      <td>145</td>\n",
       "      <td>18</td>\n",
       "    </tr>\n",
       "  </tbody>\n",
       "</table>\n",
       "</div>"
      ],
      "text/plain": [
       "          Monetary_sum  Monetary_mean  M_frequecy  M_recency\n",
       "EXTRELNO                                                    \n",
       "0000019           9.57       9.570000           1       4384\n",
       "0000020        2875.97      19.834276         145         18"
      ]
     },
     "execution_count": 45,
     "metadata": {},
     "output_type": "execute_result"
    }
   ],
   "source": [
    "ind_data.head(2)"
   ]
  },
  {
   "cell_type": "code",
   "execution_count": 46,
   "metadata": {},
   "outputs": [
    {
     "data": {
      "text/html": [
       "<div>\n",
       "<style scoped>\n",
       "    .dataframe tbody tr th:only-of-type {\n",
       "        vertical-align: middle;\n",
       "    }\n",
       "\n",
       "    .dataframe tbody tr th {\n",
       "        vertical-align: top;\n",
       "    }\n",
       "\n",
       "    .dataframe thead th {\n",
       "        text-align: right;\n",
       "    }\n",
       "</style>\n",
       "<table border=\"1\" class=\"dataframe\">\n",
       "  <thead>\n",
       "    <tr style=\"text-align: right;\">\n",
       "      <th></th>\n",
       "      <th>count</th>\n",
       "      <th>mean</th>\n",
       "      <th>std</th>\n",
       "      <th>min</th>\n",
       "      <th>25%</th>\n",
       "      <th>50%</th>\n",
       "      <th>75%</th>\n",
       "      <th>max</th>\n",
       "    </tr>\n",
       "  </thead>\n",
       "  <tbody>\n",
       "    <tr>\n",
       "      <th>Monetary_sum</th>\n",
       "      <td>15945.0</td>\n",
       "      <td>1757.861805</td>\n",
       "      <td>1359.136785</td>\n",
       "      <td>-421.17</td>\n",
       "      <td>633.730000</td>\n",
       "      <td>1717.450000</td>\n",
       "      <td>2795.780000</td>\n",
       "      <td>52582.79</td>\n",
       "    </tr>\n",
       "    <tr>\n",
       "      <th>Monetary_mean</th>\n",
       "      <td>15945.0</td>\n",
       "      <td>37.667652</td>\n",
       "      <td>43.856001</td>\n",
       "      <td>-138.00</td>\n",
       "      <td>19.461538</td>\n",
       "      <td>21.179545</td>\n",
       "      <td>35.694146</td>\n",
       "      <td>600.00</td>\n",
       "    </tr>\n",
       "    <tr>\n",
       "      <th>M_frequecy</th>\n",
       "      <td>15945.0</td>\n",
       "      <td>69.057259</td>\n",
       "      <td>64.396949</td>\n",
       "      <td>1.00</td>\n",
       "      <td>18.000000</td>\n",
       "      <td>52.000000</td>\n",
       "      <td>127.000000</td>\n",
       "      <td>2593.00</td>\n",
       "    </tr>\n",
       "    <tr>\n",
       "      <th>M_recency</th>\n",
       "      <td>15945.0</td>\n",
       "      <td>975.284164</td>\n",
       "      <td>1462.214801</td>\n",
       "      <td>2.00</td>\n",
       "      <td>18.000000</td>\n",
       "      <td>45.000000</td>\n",
       "      <td>1742.000000</td>\n",
       "      <td>4384.00</td>\n",
       "    </tr>\n",
       "  </tbody>\n",
       "</table>\n",
       "</div>"
      ],
      "text/plain": [
       "                 count         mean          std     min         25%  \\\n",
       "Monetary_sum   15945.0  1757.861805  1359.136785 -421.17  633.730000   \n",
       "Monetary_mean  15945.0    37.667652    43.856001 -138.00   19.461538   \n",
       "M_frequecy     15945.0    69.057259    64.396949    1.00   18.000000   \n",
       "M_recency      15945.0   975.284164  1462.214801    2.00   18.000000   \n",
       "\n",
       "                       50%          75%       max  \n",
       "Monetary_sum   1717.450000  2795.780000  52582.79  \n",
       "Monetary_mean    21.179545    35.694146    600.00  \n",
       "M_frequecy       52.000000   127.000000   2593.00  \n",
       "M_recency        45.000000  1742.000000   4384.00  "
      ]
     },
     "execution_count": 46,
     "metadata": {},
     "output_type": "execute_result"
    }
   ],
   "source": [
    "ind_data.describe().T"
   ]
  },
  {
   "cell_type": "code",
   "execution_count": 47,
   "metadata": {},
   "outputs": [
    {
     "data": {
      "text/plain": [
       "Monetary_sum     0\n",
       "Monetary_mean    0\n",
       "M_frequecy       0\n",
       "M_recency        0\n",
       "dtype: int64"
      ]
     },
     "execution_count": 47,
     "metadata": {},
     "output_type": "execute_result"
    }
   ],
   "source": [
    "## No. of Null enteries in columns \n",
    "ind_data.isnull().sum()"
   ]
  },
  {
   "cell_type": "code",
   "execution_count": 48,
   "metadata": {},
   "outputs": [
    {
     "data": {
      "text/plain": [
       "15945"
      ]
     },
     "execution_count": 48,
     "metadata": {},
     "output_type": "execute_result"
    }
   ],
   "source": [
    "## Verified that data is doner level\n",
    "ind_data.index.nunique()"
   ]
  },
  {
   "cell_type": "markdown",
   "metadata": {},
   "source": [
    "### ------------------------- Independent data prep [Communication Data]---------------------------------"
   ]
  },
  {
   "cell_type": "code",
   "execution_count": 49,
   "metadata": {},
   "outputs": [
    {
     "data": {
      "text/html": [
       "<div>\n",
       "<style scoped>\n",
       "    .dataframe tbody tr th:only-of-type {\n",
       "        vertical-align: middle;\n",
       "    }\n",
       "\n",
       "    .dataframe tbody tr th {\n",
       "        vertical-align: top;\n",
       "    }\n",
       "\n",
       "    .dataframe thead th {\n",
       "        text-align: right;\n",
       "    }\n",
       "</style>\n",
       "<table border=\"1\" class=\"dataframe\">\n",
       "  <thead>\n",
       "    <tr style=\"text-align: right;\">\n",
       "      <th></th>\n",
       "      <th>CONTID</th>\n",
       "      <th>MEDIUMCODE</th>\n",
       "      <th>MNTOPCODE</th>\n",
       "      <th>CLASCODE</th>\n",
       "      <th>EXTRELNO</th>\n",
       "      <th>CONTDIREC</th>\n",
       "      <th>CONTDATE</th>\n",
       "    </tr>\n",
       "  </thead>\n",
       "  <tbody>\n",
       "    <tr>\n",
       "      <th>0</th>\n",
       "      <td>000405402</td>\n",
       "      <td>CI</td>\n",
       "      <td>CTS</td>\n",
       "      <td>CT</td>\n",
       "      <td>0000020</td>\n",
       "      <td>O</td>\n",
       "      <td>1994-05-09</td>\n",
       "    </tr>\n",
       "    <tr>\n",
       "      <th>1</th>\n",
       "      <td>000430904</td>\n",
       "      <td>CI</td>\n",
       "      <td>CTS</td>\n",
       "      <td>CT</td>\n",
       "      <td>0000020</td>\n",
       "      <td>O</td>\n",
       "      <td>1994-06-14</td>\n",
       "    </tr>\n",
       "    <tr>\n",
       "      <th>2</th>\n",
       "      <td>000592732</td>\n",
       "      <td>CI</td>\n",
       "      <td>CTS</td>\n",
       "      <td>CT</td>\n",
       "      <td>0000020</td>\n",
       "      <td>O</td>\n",
       "      <td>1994-10-21</td>\n",
       "    </tr>\n",
       "    <tr>\n",
       "      <th>3</th>\n",
       "      <td>000593375</td>\n",
       "      <td>CI</td>\n",
       "      <td>CTS</td>\n",
       "      <td>CT</td>\n",
       "      <td>0000020</td>\n",
       "      <td>O</td>\n",
       "      <td>1994-10-21</td>\n",
       "    </tr>\n",
       "    <tr>\n",
       "      <th>4</th>\n",
       "      <td>000618514</td>\n",
       "      <td>CI</td>\n",
       "      <td>CTS</td>\n",
       "      <td>CT</td>\n",
       "      <td>0000020</td>\n",
       "      <td>O</td>\n",
       "      <td>1994-11-28</td>\n",
       "    </tr>\n",
       "  </tbody>\n",
       "</table>\n",
       "</div>"
      ],
      "text/plain": [
       "      CONTID MEDIUMCODE MNTOPCODE CLASCODE EXTRELNO CONTDIREC   CONTDATE\n",
       "0  000405402         CI       CTS       CT  0000020         O 1994-05-09\n",
       "1  000430904         CI       CTS       CT  0000020         O 1994-06-14\n",
       "2  000592732         CI       CTS       CT  0000020         O 1994-10-21\n",
       "3  000593375         CI       CTS       CT  0000020         O 1994-10-21\n",
       "4  000618514         CI       CTS       CT  0000020         O 1994-11-28"
      ]
     },
     "execution_count": 49,
     "metadata": {},
     "output_type": "execute_result"
    }
   ],
   "source": [
    "communication.head()"
   ]
  },
  {
   "cell_type": "code",
   "execution_count": 50,
   "metadata": {},
   "outputs": [
    {
     "name": "stdout",
     "output_type": "stream",
     "text": [
      "ind_dat_c shape:  712624 || Total_data before date filter shape:  763381\n"
     ]
    }
   ],
   "source": [
    "ind_data_c = communication[communication.CONTDATE < pd.to_datetime('2006-01-01')]\n",
    "\n",
    "print('ind_dat_c shape: ',ind_data_c.shape[0],'|| Total_data before date filter shape: ',communication.shape[0])"
   ]
  },
  {
   "cell_type": "code",
   "execution_count": 51,
   "metadata": {},
   "outputs": [
    {
     "data": {
      "text/plain": [
       "CT    426783\n",
       "ID    189819\n",
       "AN     35896\n",
       "RI     22449\n",
       "AK     16085\n",
       "PM     10619\n",
       "RM      8557\n",
       "CM      2292\n",
       "NS       124\n",
       "Name: CLASCODE, dtype: int64"
      ]
     },
     "execution_count": 51,
     "metadata": {},
     "output_type": "execute_result"
    }
   ],
   "source": [
    "ind_data_c.CLASCODE.value_counts()"
   ]
  },
  {
   "cell_type": "code",
   "execution_count": 52,
   "metadata": {},
   "outputs": [],
   "source": [
    "def complain(x):\n",
    "    if x == 'CM':\n",
    "        return 1\n",
    "    else:\n",
    "        return 0"
   ]
  },
  {
   "cell_type": "code",
   "execution_count": 53,
   "metadata": {},
   "outputs": [
    {
     "name": "stderr",
     "output_type": "stream",
     "text": [
      "/home/rohan/anaconda3/lib/python3.6/site-packages/ipykernel_launcher.py:2: SettingWithCopyWarning: \n",
      "A value is trying to be set on a copy of a slice from a DataFrame.\n",
      "Try using .loc[row_indexer,col_indexer] = value instead\n",
      "\n",
      "See the caveats in the documentation: http://pandas.pydata.org/pandas-docs/stable/indexing.html#indexing-view-versus-copy\n",
      "  \n"
     ]
    }
   ],
   "source": [
    "x = ind_data_c.CLASCODE.apply(complain)\n",
    "ind_data_c['Complain'] = x.tolist()\n",
    "\n",
    "y = ind_data_c.groupby('EXTRELNO').sum()"
   ]
  },
  {
   "cell_type": "code",
   "execution_count": 54,
   "metadata": {},
   "outputs": [
    {
     "data": {
      "text/plain": [
       "(21373, 1)"
      ]
     },
     "execution_count": 54,
     "metadata": {},
     "output_type": "execute_result"
    }
   ],
   "source": [
    "y.shape"
   ]
  },
  {
   "cell_type": "code",
   "execution_count": 55,
   "metadata": {},
   "outputs": [],
   "source": [
    "ind_data_c = ind_data_c.groupby('EXTRELNO').agg({'CONTID':'count','CONTDATE':'max'})"
   ]
  },
  {
   "cell_type": "code",
   "execution_count": 56,
   "metadata": {},
   "outputs": [],
   "source": [
    "## Recency\n",
    "\n",
    "ind_data_c['C_Recency'] = pd.to_datetime('2006-01-01') - ind_data_c.CONTDATE\n",
    "ind_data_c['C_Recency'] = ind_data_c.C_Recency.dt.days"
   ]
  },
  {
   "cell_type": "code",
   "execution_count": 57,
   "metadata": {},
   "outputs": [
    {
     "data": {
      "text/html": [
       "<div>\n",
       "<style scoped>\n",
       "    .dataframe tbody tr th:only-of-type {\n",
       "        vertical-align: middle;\n",
       "    }\n",
       "\n",
       "    .dataframe tbody tr th {\n",
       "        vertical-align: top;\n",
       "    }\n",
       "\n",
       "    .dataframe thead th {\n",
       "        text-align: right;\n",
       "    }\n",
       "</style>\n",
       "<table border=\"1\" class=\"dataframe\">\n",
       "  <thead>\n",
       "    <tr style=\"text-align: right;\">\n",
       "      <th></th>\n",
       "      <th>CONTID</th>\n",
       "      <th>CONTDATE</th>\n",
       "      <th>C_Recency</th>\n",
       "    </tr>\n",
       "    <tr>\n",
       "      <th>EXTRELNO</th>\n",
       "      <th></th>\n",
       "      <th></th>\n",
       "      <th></th>\n",
       "    </tr>\n",
       "  </thead>\n",
       "  <tbody>\n",
       "    <tr>\n",
       "      <th>0000020</th>\n",
       "      <td>50</td>\n",
       "      <td>2005-12-08</td>\n",
       "      <td>24</td>\n",
       "    </tr>\n",
       "    <tr>\n",
       "      <th>0000035</th>\n",
       "      <td>57</td>\n",
       "      <td>2005-11-03</td>\n",
       "      <td>59</td>\n",
       "    </tr>\n",
       "    <tr>\n",
       "      <th>0000042</th>\n",
       "      <td>36</td>\n",
       "      <td>2001-03-29</td>\n",
       "      <td>1739</td>\n",
       "    </tr>\n",
       "    <tr>\n",
       "      <th>0000043</th>\n",
       "      <td>112</td>\n",
       "      <td>2004-01-23</td>\n",
       "      <td>709</td>\n",
       "    </tr>\n",
       "    <tr>\n",
       "      <th>0000060</th>\n",
       "      <td>36</td>\n",
       "      <td>2000-02-12</td>\n",
       "      <td>2150</td>\n",
       "    </tr>\n",
       "  </tbody>\n",
       "</table>\n",
       "</div>"
      ],
      "text/plain": [
       "          CONTID   CONTDATE  C_Recency\n",
       "EXTRELNO                              \n",
       "0000020       50 2005-12-08         24\n",
       "0000035       57 2005-11-03         59\n",
       "0000042       36 2001-03-29       1739\n",
       "0000043      112 2004-01-23        709\n",
       "0000060       36 2000-02-12       2150"
      ]
     },
     "execution_count": 57,
     "metadata": {},
     "output_type": "execute_result"
    }
   ],
   "source": [
    "ind_data_c.head()"
   ]
  },
  {
   "cell_type": "markdown",
   "metadata": {},
   "source": [
    "#### Joining the Complaint column \n",
    "\n",
    "- Logic Used\n",
    "\n",
    "- if the sum of a user's complaint > 0 then he has made a complaint || if its 0 then he has not"
   ]
  },
  {
   "cell_type": "code",
   "execution_count": 58,
   "metadata": {},
   "outputs": [],
   "source": [
    "ind_data_c = pd.merge(ind_data_c,y,right_index=True,left_index=True)"
   ]
  },
  {
   "cell_type": "code",
   "execution_count": 59,
   "metadata": {},
   "outputs": [],
   "source": [
    "ind_data_c['Complain'] = ind_data_c.Complain.apply(lambda x: 1 if x > 0 else 0)"
   ]
  },
  {
   "cell_type": "code",
   "execution_count": 61,
   "metadata": {},
   "outputs": [],
   "source": [
    "#ind_data_c.drop(columns='CONTDATE',inplace=True)"
   ]
  },
  {
   "cell_type": "code",
   "execution_count": 62,
   "metadata": {},
   "outputs": [],
   "source": [
    "## renaing the columns\n",
    "\n",
    "ind_data_c.rename(columns={'CONTID':'C_Frequency'},inplace=True)"
   ]
  },
  {
   "cell_type": "code",
   "execution_count": 63,
   "metadata": {},
   "outputs": [
    {
     "data": {
      "text/html": [
       "<div>\n",
       "<style scoped>\n",
       "    .dataframe tbody tr th:only-of-type {\n",
       "        vertical-align: middle;\n",
       "    }\n",
       "\n",
       "    .dataframe tbody tr th {\n",
       "        vertical-align: top;\n",
       "    }\n",
       "\n",
       "    .dataframe thead th {\n",
       "        text-align: right;\n",
       "    }\n",
       "</style>\n",
       "<table border=\"1\" class=\"dataframe\">\n",
       "  <thead>\n",
       "    <tr style=\"text-align: right;\">\n",
       "      <th></th>\n",
       "      <th>C_Frequency</th>\n",
       "      <th>C_Recency</th>\n",
       "      <th>Complain</th>\n",
       "    </tr>\n",
       "    <tr>\n",
       "      <th>EXTRELNO</th>\n",
       "      <th></th>\n",
       "      <th></th>\n",
       "      <th></th>\n",
       "    </tr>\n",
       "  </thead>\n",
       "  <tbody>\n",
       "    <tr>\n",
       "      <th>0000020</th>\n",
       "      <td>50</td>\n",
       "      <td>24</td>\n",
       "      <td>0</td>\n",
       "    </tr>\n",
       "    <tr>\n",
       "      <th>0000035</th>\n",
       "      <td>57</td>\n",
       "      <td>59</td>\n",
       "      <td>0</td>\n",
       "    </tr>\n",
       "  </tbody>\n",
       "</table>\n",
       "</div>"
      ],
      "text/plain": [
       "          C_Frequency  C_Recency  Complain\n",
       "EXTRELNO                                  \n",
       "0000020            50         24         0\n",
       "0000035            57         59         0"
      ]
     },
     "execution_count": 63,
     "metadata": {},
     "output_type": "execute_result"
    }
   ],
   "source": [
    "ind_data_c.head(2)"
   ]
  },
  {
   "cell_type": "code",
   "execution_count": 64,
   "metadata": {},
   "outputs": [
    {
     "data": {
      "text/plain": [
       "(21373, 3)"
      ]
     },
     "execution_count": 64,
     "metadata": {},
     "output_type": "execute_result"
    }
   ],
   "source": [
    "ind_data_c.shape"
   ]
  },
  {
   "cell_type": "markdown",
   "metadata": {},
   "source": [
    "##  Joining the independent data for both Monetary & Communication"
   ]
  },
  {
   "cell_type": "code",
   "execution_count": 65,
   "metadata": {},
   "outputs": [
    {
     "data": {
      "text/html": [
       "<div>\n",
       "<style scoped>\n",
       "    .dataframe tbody tr th:only-of-type {\n",
       "        vertical-align: middle;\n",
       "    }\n",
       "\n",
       "    .dataframe tbody tr th {\n",
       "        vertical-align: top;\n",
       "    }\n",
       "\n",
       "    .dataframe thead th {\n",
       "        text-align: right;\n",
       "    }\n",
       "</style>\n",
       "<table border=\"1\" class=\"dataframe\">\n",
       "  <thead>\n",
       "    <tr style=\"text-align: right;\">\n",
       "      <th></th>\n",
       "      <th>Monetary_sum</th>\n",
       "      <th>Monetary_mean</th>\n",
       "      <th>M_frequecy</th>\n",
       "      <th>M_recency</th>\n",
       "    </tr>\n",
       "    <tr>\n",
       "      <th>EXTRELNO</th>\n",
       "      <th></th>\n",
       "      <th></th>\n",
       "      <th></th>\n",
       "      <th></th>\n",
       "    </tr>\n",
       "  </thead>\n",
       "  <tbody>\n",
       "    <tr>\n",
       "      <th>0000019</th>\n",
       "      <td>9.57</td>\n",
       "      <td>9.570000</td>\n",
       "      <td>1</td>\n",
       "      <td>4384</td>\n",
       "    </tr>\n",
       "    <tr>\n",
       "      <th>0000020</th>\n",
       "      <td>2875.97</td>\n",
       "      <td>19.834276</td>\n",
       "      <td>145</td>\n",
       "      <td>18</td>\n",
       "    </tr>\n",
       "    <tr>\n",
       "      <th>0000035</th>\n",
       "      <td>2867.40</td>\n",
       "      <td>20.192958</td>\n",
       "      <td>142</td>\n",
       "      <td>18</td>\n",
       "    </tr>\n",
       "    <tr>\n",
       "      <th>0000042</th>\n",
       "      <td>1543.03</td>\n",
       "      <td>18.153294</td>\n",
       "      <td>85</td>\n",
       "      <td>1804</td>\n",
       "    </tr>\n",
       "    <tr>\n",
       "      <th>0000043</th>\n",
       "      <td>4373.24</td>\n",
       "      <td>19.097118</td>\n",
       "      <td>229</td>\n",
       "      <td>902</td>\n",
       "    </tr>\n",
       "  </tbody>\n",
       "</table>\n",
       "</div>"
      ],
      "text/plain": [
       "          Monetary_sum  Monetary_mean  M_frequecy  M_recency\n",
       "EXTRELNO                                                    \n",
       "0000019           9.57       9.570000           1       4384\n",
       "0000020        2875.97      19.834276         145         18\n",
       "0000035        2867.40      20.192958         142         18\n",
       "0000042        1543.03      18.153294          85       1804\n",
       "0000043        4373.24      19.097118         229        902"
      ]
     },
     "execution_count": 65,
     "metadata": {},
     "output_type": "execute_result"
    }
   ],
   "source": [
    "ind_data.head()"
   ]
  },
  {
   "cell_type": "code",
   "execution_count": 66,
   "metadata": {},
   "outputs": [
    {
     "data": {
      "text/html": [
       "<div>\n",
       "<style scoped>\n",
       "    .dataframe tbody tr th:only-of-type {\n",
       "        vertical-align: middle;\n",
       "    }\n",
       "\n",
       "    .dataframe tbody tr th {\n",
       "        vertical-align: top;\n",
       "    }\n",
       "\n",
       "    .dataframe thead th {\n",
       "        text-align: right;\n",
       "    }\n",
       "</style>\n",
       "<table border=\"1\" class=\"dataframe\">\n",
       "  <thead>\n",
       "    <tr style=\"text-align: right;\">\n",
       "      <th></th>\n",
       "      <th>C_Frequency</th>\n",
       "      <th>C_Recency</th>\n",
       "      <th>Complain</th>\n",
       "    </tr>\n",
       "    <tr>\n",
       "      <th>EXTRELNO</th>\n",
       "      <th></th>\n",
       "      <th></th>\n",
       "      <th></th>\n",
       "    </tr>\n",
       "  </thead>\n",
       "  <tbody>\n",
       "    <tr>\n",
       "      <th>0000020</th>\n",
       "      <td>50</td>\n",
       "      <td>24</td>\n",
       "      <td>0</td>\n",
       "    </tr>\n",
       "    <tr>\n",
       "      <th>0000035</th>\n",
       "      <td>57</td>\n",
       "      <td>59</td>\n",
       "      <td>0</td>\n",
       "    </tr>\n",
       "    <tr>\n",
       "      <th>0000042</th>\n",
       "      <td>36</td>\n",
       "      <td>1739</td>\n",
       "      <td>0</td>\n",
       "    </tr>\n",
       "    <tr>\n",
       "      <th>0000043</th>\n",
       "      <td>112</td>\n",
       "      <td>709</td>\n",
       "      <td>0</td>\n",
       "    </tr>\n",
       "    <tr>\n",
       "      <th>0000060</th>\n",
       "      <td>36</td>\n",
       "      <td>2150</td>\n",
       "      <td>0</td>\n",
       "    </tr>\n",
       "  </tbody>\n",
       "</table>\n",
       "</div>"
      ],
      "text/plain": [
       "          C_Frequency  C_Recency  Complain\n",
       "EXTRELNO                                  \n",
       "0000020            50         24         0\n",
       "0000035            57         59         0\n",
       "0000042            36       1739         0\n",
       "0000043           112        709         0\n",
       "0000060            36       2150         0"
      ]
     },
     "execution_count": 66,
     "metadata": {},
     "output_type": "execute_result"
    }
   ],
   "source": [
    "ind_data_c.head()"
   ]
  },
  {
   "cell_type": "markdown",
   "metadata": {},
   "source": [
    "#### Checking the overlapping, mismatch ExtrelNO in both datasets"
   ]
  },
  {
   "cell_type": "code",
   "execution_count": 67,
   "metadata": {},
   "outputs": [
    {
     "name": "stdout",
     "output_type": "stream",
     "text": [
      "Monetary || Communication: 14958\n"
     ]
    }
   ],
   "source": [
    "print('Monetary || Communication:',ind_data.index.intersection(ind_data_c.index).shape[0])"
   ]
  },
  {
   "cell_type": "code",
   "execution_count": 68,
   "metadata": {},
   "outputs": [
    {
     "name": "stdout",
     "output_type": "stream",
     "text": [
      "Monetary - Communication: 987\n",
      "Communication - Monetary: 6415\n"
     ]
    }
   ],
   "source": [
    "print('Monetary - Communication:',ind_data.index.difference(ind_data_c.index).shape[0])\n",
    "print('Communication - Monetary:',ind_data_c.index.difference(ind_data.index).shape[0])"
   ]
  },
  {
   "cell_type": "markdown",
   "metadata": {},
   "source": [
    "#### Thus we would be woulking with 14598 common values"
   ]
  },
  {
   "cell_type": "code",
   "execution_count": 69,
   "metadata": {},
   "outputs": [],
   "source": [
    "ind_data_f = pd.merge(ind_data,ind_data_c,left_index=True,right_index=True) "
   ]
  },
  {
   "cell_type": "markdown",
   "metadata": {},
   "source": [
    "#### Final Independent dataset"
   ]
  },
  {
   "cell_type": "code",
   "execution_count": 70,
   "metadata": {},
   "outputs": [
    {
     "data": {
      "text/html": [
       "<div>\n",
       "<style scoped>\n",
       "    .dataframe tbody tr th:only-of-type {\n",
       "        vertical-align: middle;\n",
       "    }\n",
       "\n",
       "    .dataframe tbody tr th {\n",
       "        vertical-align: top;\n",
       "    }\n",
       "\n",
       "    .dataframe thead th {\n",
       "        text-align: right;\n",
       "    }\n",
       "</style>\n",
       "<table border=\"1\" class=\"dataframe\">\n",
       "  <thead>\n",
       "    <tr style=\"text-align: right;\">\n",
       "      <th></th>\n",
       "      <th>Monetary_sum</th>\n",
       "      <th>Monetary_mean</th>\n",
       "      <th>M_frequecy</th>\n",
       "      <th>M_recency</th>\n",
       "      <th>C_Frequency</th>\n",
       "      <th>C_Recency</th>\n",
       "      <th>Complain</th>\n",
       "    </tr>\n",
       "    <tr>\n",
       "      <th>EXTRELNO</th>\n",
       "      <th></th>\n",
       "      <th></th>\n",
       "      <th></th>\n",
       "      <th></th>\n",
       "      <th></th>\n",
       "      <th></th>\n",
       "      <th></th>\n",
       "    </tr>\n",
       "  </thead>\n",
       "  <tbody>\n",
       "    <tr>\n",
       "      <th>0000020</th>\n",
       "      <td>2875.97</td>\n",
       "      <td>19.834276</td>\n",
       "      <td>145</td>\n",
       "      <td>18</td>\n",
       "      <td>50</td>\n",
       "      <td>24</td>\n",
       "      <td>0</td>\n",
       "    </tr>\n",
       "    <tr>\n",
       "      <th>0000035</th>\n",
       "      <td>2867.40</td>\n",
       "      <td>20.192958</td>\n",
       "      <td>142</td>\n",
       "      <td>18</td>\n",
       "      <td>57</td>\n",
       "      <td>59</td>\n",
       "      <td>0</td>\n",
       "    </tr>\n",
       "  </tbody>\n",
       "</table>\n",
       "</div>"
      ],
      "text/plain": [
       "          Monetary_sum  Monetary_mean  M_frequecy  M_recency  C_Frequency  \\\n",
       "EXTRELNO                                                                    \n",
       "0000020        2875.97      19.834276         145         18           50   \n",
       "0000035        2867.40      20.192958         142         18           57   \n",
       "\n",
       "          C_Recency  Complain  \n",
       "EXTRELNO                       \n",
       "0000020          24         0  \n",
       "0000035          59         0  "
      ]
     },
     "execution_count": 70,
     "metadata": {},
     "output_type": "execute_result"
    }
   ],
   "source": [
    "ind_data_f.head(2)"
   ]
  },
  {
   "cell_type": "markdown",
   "metadata": {},
   "source": [
    "- The data might require clipping but trying to build model without tweaking the data"
   ]
  },
  {
   "cell_type": "code",
   "execution_count": 71,
   "metadata": {},
   "outputs": [
    {
     "data": {
      "text/html": [
       "<div>\n",
       "<style scoped>\n",
       "    .dataframe tbody tr th:only-of-type {\n",
       "        vertical-align: middle;\n",
       "    }\n",
       "\n",
       "    .dataframe tbody tr th {\n",
       "        vertical-align: top;\n",
       "    }\n",
       "\n",
       "    .dataframe thead th {\n",
       "        text-align: right;\n",
       "    }\n",
       "</style>\n",
       "<table border=\"1\" class=\"dataframe\">\n",
       "  <thead>\n",
       "    <tr style=\"text-align: right;\">\n",
       "      <th></th>\n",
       "      <th>count</th>\n",
       "      <th>mean</th>\n",
       "      <th>std</th>\n",
       "      <th>min</th>\n",
       "      <th>1%</th>\n",
       "      <th>5%</th>\n",
       "      <th>25%</th>\n",
       "      <th>50%</th>\n",
       "      <th>75%</th>\n",
       "      <th>95%</th>\n",
       "      <th>99%</th>\n",
       "      <th>max</th>\n",
       "    </tr>\n",
       "  </thead>\n",
       "  <tbody>\n",
       "    <tr>\n",
       "      <th>Monetary_sum</th>\n",
       "      <td>14958.0</td>\n",
       "      <td>1873.139703</td>\n",
       "      <td>1324.541005</td>\n",
       "      <td>-322.0</td>\n",
       "      <td>6.550</td>\n",
       "      <td>120.938500</td>\n",
       "      <td>874.00000</td>\n",
       "      <td>1878.180000</td>\n",
       "      <td>2801.480000</td>\n",
       "      <td>2872.459000</td>\n",
       "      <td>5634.493800</td>\n",
       "      <td>52582.79</td>\n",
       "    </tr>\n",
       "    <tr>\n",
       "      <th>Monetary_mean</th>\n",
       "      <td>14958.0</td>\n",
       "      <td>39.487852</td>\n",
       "      <td>44.586251</td>\n",
       "      <td>-138.0</td>\n",
       "      <td>1.765</td>\n",
       "      <td>13.691393</td>\n",
       "      <td>19.66059</td>\n",
       "      <td>21.333485</td>\n",
       "      <td>41.161082</td>\n",
       "      <td>137.377592</td>\n",
       "      <td>252.679091</td>\n",
       "      <td>600.00</td>\n",
       "    </tr>\n",
       "    <tr>\n",
       "      <th>M_frequecy</th>\n",
       "      <td>14958.0</td>\n",
       "      <td>73.514240</td>\n",
       "      <td>64.028301</td>\n",
       "      <td>1.0</td>\n",
       "      <td>1.000</td>\n",
       "      <td>5.000000</td>\n",
       "      <td>22.00000</td>\n",
       "      <td>58.000000</td>\n",
       "      <td>131.000000</td>\n",
       "      <td>145.000000</td>\n",
       "      <td>266.860000</td>\n",
       "      <td>2593.00</td>\n",
       "    </tr>\n",
       "    <tr>\n",
       "      <th>M_recency</th>\n",
       "      <td>14958.0</td>\n",
       "      <td>750.391897</td>\n",
       "      <td>1209.143684</td>\n",
       "      <td>2.0</td>\n",
       "      <td>4.000</td>\n",
       "      <td>18.000000</td>\n",
       "      <td>18.00000</td>\n",
       "      <td>30.000000</td>\n",
       "      <td>1238.000000</td>\n",
       "      <td>3616.000000</td>\n",
       "      <td>4256.150000</td>\n",
       "      <td>4384.00</td>\n",
       "    </tr>\n",
       "    <tr>\n",
       "      <th>C_Frequency</th>\n",
       "      <td>14958.0</td>\n",
       "      <td>46.808129</td>\n",
       "      <td>31.883143</td>\n",
       "      <td>1.0</td>\n",
       "      <td>3.570</td>\n",
       "      <td>8.000000</td>\n",
       "      <td>26.00000</td>\n",
       "      <td>47.000000</td>\n",
       "      <td>58.000000</td>\n",
       "      <td>92.000000</td>\n",
       "      <td>186.860000</td>\n",
       "      <td>768.00</td>\n",
       "    </tr>\n",
       "    <tr>\n",
       "      <th>C_Recency</th>\n",
       "      <td>14958.0</td>\n",
       "      <td>712.249632</td>\n",
       "      <td>1077.038412</td>\n",
       "      <td>2.0</td>\n",
       "      <td>4.000</td>\n",
       "      <td>12.000000</td>\n",
       "      <td>58.00000</td>\n",
       "      <td>160.000000</td>\n",
       "      <td>1065.000000</td>\n",
       "      <td>3225.000000</td>\n",
       "      <td>3963.000000</td>\n",
       "      <td>4265.00</td>\n",
       "    </tr>\n",
       "    <tr>\n",
       "      <th>Complain</th>\n",
       "      <td>14958.0</td>\n",
       "      <td>0.101952</td>\n",
       "      <td>0.302595</td>\n",
       "      <td>0.0</td>\n",
       "      <td>0.000</td>\n",
       "      <td>0.000000</td>\n",
       "      <td>0.00000</td>\n",
       "      <td>0.000000</td>\n",
       "      <td>0.000000</td>\n",
       "      <td>1.000000</td>\n",
       "      <td>1.000000</td>\n",
       "      <td>1.00</td>\n",
       "    </tr>\n",
       "  </tbody>\n",
       "</table>\n",
       "</div>"
      ],
      "text/plain": [
       "                 count         mean          std    min     1%          5%  \\\n",
       "Monetary_sum   14958.0  1873.139703  1324.541005 -322.0  6.550  120.938500   \n",
       "Monetary_mean  14958.0    39.487852    44.586251 -138.0  1.765   13.691393   \n",
       "M_frequecy     14958.0    73.514240    64.028301    1.0  1.000    5.000000   \n",
       "M_recency      14958.0   750.391897  1209.143684    2.0  4.000   18.000000   \n",
       "C_Frequency    14958.0    46.808129    31.883143    1.0  3.570    8.000000   \n",
       "C_Recency      14958.0   712.249632  1077.038412    2.0  4.000   12.000000   \n",
       "Complain       14958.0     0.101952     0.302595    0.0  0.000    0.000000   \n",
       "\n",
       "                     25%          50%          75%          95%          99%  \\\n",
       "Monetary_sum   874.00000  1878.180000  2801.480000  2872.459000  5634.493800   \n",
       "Monetary_mean   19.66059    21.333485    41.161082   137.377592   252.679091   \n",
       "M_frequecy      22.00000    58.000000   131.000000   145.000000   266.860000   \n",
       "M_recency       18.00000    30.000000  1238.000000  3616.000000  4256.150000   \n",
       "C_Frequency     26.00000    47.000000    58.000000    92.000000   186.860000   \n",
       "C_Recency       58.00000   160.000000  1065.000000  3225.000000  3963.000000   \n",
       "Complain         0.00000     0.000000     0.000000     1.000000     1.000000   \n",
       "\n",
       "                    max  \n",
       "Monetary_sum   52582.79  \n",
       "Monetary_mean    600.00  \n",
       "M_frequecy      2593.00  \n",
       "M_recency       4384.00  \n",
       "C_Frequency      768.00  \n",
       "C_Recency       4265.00  \n",
       "Complain           1.00  "
      ]
     },
     "execution_count": 71,
     "metadata": {},
     "output_type": "execute_result"
    }
   ],
   "source": [
    "ind_data_f.describe(percentiles=[0.01,.05,.25,.5,.75,.95,.99]).T"
   ]
  },
  {
   "cell_type": "code",
   "execution_count": 72,
   "metadata": {},
   "outputs": [
    {
     "data": {
      "text/plain": [
       "Monetary_sum     0\n",
       "Monetary_mean    0\n",
       "M_frequecy       0\n",
       "M_recency        0\n",
       "C_Frequency      0\n",
       "C_Recency        0\n",
       "Complain         0\n",
       "dtype: int64"
      ]
     },
     "execution_count": 72,
     "metadata": {},
     "output_type": "execute_result"
    }
   ],
   "source": [
    "ind_data_f.isnull().sum()"
   ]
  },
  {
   "cell_type": "markdown",
   "metadata": {},
   "source": [
    "# ----------------------------- Preparing the dependent data -----------------------------\n",
    "#### ------------------------------------------------- Dependent window 2006-01-01 to 2006 -12-31\n",
    "\n",
    "- In dependent window we see the status of the user, whether he has churned or not!\n",
    "\n",
    "- The dependent window thus gives us our dependent variable **(Churn or Not)**\n",
    "\n",
    "\n",
    "- **HoW TO CHOOSE DEPENDENT WINDOW**\n",
    "\n",
    "- For specified window, we would take users\n",
    "\n",
    "- (who have not churned OR who have churned in year 2006)|| Given that the user started before 2006 Yr"
   ]
  },
  {
   "cell_type": "code",
   "execution_count": 73,
   "metadata": {},
   "outputs": [
    {
     "name": "stdout",
     "output_type": "stream",
     "text": [
      "shape of dependent data: (26689, 4)\n"
     ]
    },
    {
     "data": {
      "text/html": [
       "<div>\n",
       "<style scoped>\n",
       "    .dataframe tbody tr th:only-of-type {\n",
       "        vertical-align: middle;\n",
       "    }\n",
       "\n",
       "    .dataframe tbody tr th {\n",
       "        vertical-align: top;\n",
       "    }\n",
       "\n",
       "    .dataframe thead th {\n",
       "        text-align: right;\n",
       "    }\n",
       "</style>\n",
       "<table border=\"1\" class=\"dataframe\">\n",
       "  <thead>\n",
       "    <tr style=\"text-align: right;\">\n",
       "      <th></th>\n",
       "      <th>EXTRELNO</th>\n",
       "      <th>EXRELACTCD</th>\n",
       "      <th>EXTRELSTDT</th>\n",
       "      <th>EXRELDATEN</th>\n",
       "    </tr>\n",
       "  </thead>\n",
       "  <tbody>\n",
       "    <tr>\n",
       "      <th>0</th>\n",
       "      <td>0026414</td>\n",
       "      <td>CT</td>\n",
       "      <td>1995-02-02</td>\n",
       "      <td>NaT</td>\n",
       "    </tr>\n",
       "    <tr>\n",
       "      <th>1</th>\n",
       "      <td>0026419</td>\n",
       "      <td>FP</td>\n",
       "      <td>1992-03-01</td>\n",
       "      <td>NaT</td>\n",
       "    </tr>\n",
       "    <tr>\n",
       "      <th>2</th>\n",
       "      <td>0026424</td>\n",
       "      <td>FP</td>\n",
       "      <td>1992-03-01</td>\n",
       "      <td>1996-12-24</td>\n",
       "    </tr>\n",
       "    <tr>\n",
       "      <th>3</th>\n",
       "      <td>0026430</td>\n",
       "      <td>FP</td>\n",
       "      <td>1992-03-01</td>\n",
       "      <td>2006-01-31</td>\n",
       "    </tr>\n",
       "    <tr>\n",
       "      <th>4</th>\n",
       "      <td>0026430</td>\n",
       "      <td>CT</td>\n",
       "      <td>1997-03-07</td>\n",
       "      <td>NaT</td>\n",
       "    </tr>\n",
       "  </tbody>\n",
       "</table>\n",
       "</div>"
      ],
      "text/plain": [
       "  EXTRELNO EXRELACTCD EXTRELSTDT EXRELDATEN\n",
       "0  0026414         CT 1995-02-02        NaT\n",
       "1  0026419         FP 1992-03-01        NaT\n",
       "2  0026424         FP 1992-03-01 1996-12-24\n",
       "3  0026430         FP 1992-03-01 2006-01-31\n",
       "4  0026430         CT 1997-03-07        NaT"
      ]
     },
     "execution_count": 73,
     "metadata": {},
     "output_type": "execute_result"
    }
   ],
   "source": [
    "print('shape of dependent data:',extrel.shape)\n",
    "extrel.head()"
   ]
  },
  {
   "cell_type": "code",
   "execution_count": 74,
   "metadata": {},
   "outputs": [],
   "source": [
    "dep_data = extrel[((extrel.EXRELDATEN >= '2006-01-01') & (extrel.EXRELDATEN < '2007-01-01')) | extrel.EXRELDATEN.isnull() == True]"
   ]
  },
  {
   "cell_type": "code",
   "execution_count": 75,
   "metadata": {},
   "outputs": [],
   "source": [
    "dep_data = dep_data[dep_data.EXTRELSTDT < '2006-01-01']"
   ]
  },
  {
   "cell_type": "code",
   "execution_count": 76,
   "metadata": {},
   "outputs": [
    {
     "data": {
      "text/plain": [
       "EXTRELNO      16389\n",
       "EXRELACTCD    16389\n",
       "EXTRELSTDT    16389\n",
       "EXRELDATEN      508\n",
       "dtype: int64"
      ]
     },
     "execution_count": 76,
     "metadata": {},
     "output_type": "execute_result"
    }
   ],
   "source": [
    "dep_data.count()"
   ]
  },
  {
   "cell_type": "code",
   "execution_count": 77,
   "metadata": {},
   "outputs": [
    {
     "data": {
      "text/plain": [
       "14752"
      ]
     },
     "execution_count": 77,
     "metadata": {},
     "output_type": "execute_result"
    }
   ],
   "source": [
    "dep_data.EXTRELNO.nunique()"
   ]
  },
  {
   "cell_type": "markdown",
   "metadata": {},
   "source": [
    "- setting EXTRELNO as index"
   ]
  },
  {
   "cell_type": "code",
   "execution_count": 78,
   "metadata": {},
   "outputs": [],
   "source": [
    "dep_data= dep_data.set_index(keys='EXTRELNO')"
   ]
  },
  {
   "cell_type": "code",
   "execution_count": null,
   "metadata": {},
   "outputs": [],
   "source": [
    "#### Mapping churn as 1 and not churn as 0"
   ]
  },
  {
   "cell_type": "code",
   "execution_count": 79,
   "metadata": {},
   "outputs": [],
   "source": [
    "dep_data['churn'] = np.where(dep_data.EXRELDATEN.isnull(),0,1)"
   ]
  },
  {
   "cell_type": "code",
   "execution_count": 80,
   "metadata": {},
   "outputs": [
    {
     "data": {
      "text/html": [
       "<div>\n",
       "<style scoped>\n",
       "    .dataframe tbody tr th:only-of-type {\n",
       "        vertical-align: middle;\n",
       "    }\n",
       "\n",
       "    .dataframe tbody tr th {\n",
       "        vertical-align: top;\n",
       "    }\n",
       "\n",
       "    .dataframe thead th {\n",
       "        text-align: right;\n",
       "    }\n",
       "</style>\n",
       "<table border=\"1\" class=\"dataframe\">\n",
       "  <thead>\n",
       "    <tr style=\"text-align: right;\">\n",
       "      <th></th>\n",
       "      <th>EXRELACTCD</th>\n",
       "      <th>EXTRELSTDT</th>\n",
       "      <th>EXRELDATEN</th>\n",
       "      <th>churn</th>\n",
       "    </tr>\n",
       "    <tr>\n",
       "      <th>EXTRELNO</th>\n",
       "      <th></th>\n",
       "      <th></th>\n",
       "      <th></th>\n",
       "      <th></th>\n",
       "    </tr>\n",
       "  </thead>\n",
       "  <tbody>\n",
       "    <tr>\n",
       "      <th>0026414</th>\n",
       "      <td>CT</td>\n",
       "      <td>1995-02-02</td>\n",
       "      <td>NaT</td>\n",
       "      <td>0</td>\n",
       "    </tr>\n",
       "    <tr>\n",
       "      <th>0026419</th>\n",
       "      <td>FP</td>\n",
       "      <td>1992-03-01</td>\n",
       "      <td>NaT</td>\n",
       "      <td>0</td>\n",
       "    </tr>\n",
       "    <tr>\n",
       "      <th>0026430</th>\n",
       "      <td>FP</td>\n",
       "      <td>1992-03-01</td>\n",
       "      <td>2006-01-31</td>\n",
       "      <td>1</td>\n",
       "    </tr>\n",
       "    <tr>\n",
       "      <th>0026430</th>\n",
       "      <td>CT</td>\n",
       "      <td>1997-03-07</td>\n",
       "      <td>NaT</td>\n",
       "      <td>0</td>\n",
       "    </tr>\n",
       "    <tr>\n",
       "      <th>0026431</th>\n",
       "      <td>FP</td>\n",
       "      <td>1992-03-01</td>\n",
       "      <td>NaT</td>\n",
       "      <td>0</td>\n",
       "    </tr>\n",
       "  </tbody>\n",
       "</table>\n",
       "</div>"
      ],
      "text/plain": [
       "         EXRELACTCD EXTRELSTDT EXRELDATEN  churn\n",
       "EXTRELNO                                        \n",
       "0026414          CT 1995-02-02        NaT      0\n",
       "0026419          FP 1992-03-01        NaT      0\n",
       "0026430          FP 1992-03-01 2006-01-31      1\n",
       "0026430          CT 1997-03-07        NaT      0\n",
       "0026431          FP 1992-03-01        NaT      0"
      ]
     },
     "execution_count": 80,
     "metadata": {},
     "output_type": "execute_result"
    }
   ],
   "source": [
    "dep_data.head()"
   ]
  },
  {
   "cell_type": "code",
   "execution_count": 81,
   "metadata": {},
   "outputs": [
    {
     "data": {
      "text/plain": [
       "0    15881\n",
       "1      508\n",
       "Name: churn, dtype: int64"
      ]
     },
     "execution_count": 81,
     "metadata": {},
     "output_type": "execute_result"
    }
   ],
   "source": [
    "dep_data.churn.value_counts()"
   ]
  },
  {
   "cell_type": "markdown",
   "metadata": {},
   "source": [
    "#### Between independent & dependent data we are getting only ~9000 values for making model"
   ]
  },
  {
   "cell_type": "code",
   "execution_count": 82,
   "metadata": {},
   "outputs": [
    {
     "data": {
      "text/plain": [
       "Index(['0026414', '0026419', '0026430', '0026430', '0026431', '0026431',\n",
       "       '0026443', '0026444', '0026446', '0026447',\n",
       "       ...\n",
       "       '0240800', '0240808', '0240809', '0240867', '0240890', '0240915',\n",
       "       '0240916', '0240920', '0240936', '0240937'],\n",
       "      dtype='object', name='EXTRELNO', length=9323)"
      ]
     },
     "execution_count": 82,
     "metadata": {},
     "output_type": "execute_result"
    }
   ],
   "source": [
    "ind_data_f.index.intersection(dep_data.index) "
   ]
  },
  {
   "cell_type": "markdown",
   "metadata": {},
   "source": [
    "- Only 9000 matching values can be explained by looking at the min values for all communicaton|payhistory(used in independent) vs extrel(used in dependent)"
   ]
  },
  {
   "cell_type": "code",
   "execution_count": 83,
   "metadata": {},
   "outputs": [
    {
     "name": "stdout",
     "output_type": "stream",
     "text": [
      "(285597, 7)\n"
     ]
    },
    {
     "data": {
      "text/plain": [
       "('0026414', '0000020', '0000019')"
      ]
     },
     "execution_count": 83,
     "metadata": {},
     "output_type": "execute_result"
    }
   ],
   "source": [
    "print(communication[communication.EXTRELNO.astype(int)< 28000].shape)\n",
    "\n",
    "extrel.EXTRELNO.min(),communication.EXTRELNO.min(),payhistory.EXTRELNO.min()"
   ]
  },
  {
   "cell_type": "markdown",
   "metadata": {},
   "source": [
    "#### Final Data"
   ]
  },
  {
   "cell_type": "code",
   "execution_count": 84,
   "metadata": {},
   "outputs": [
    {
     "data": {
      "text/html": [
       "<div>\n",
       "<style scoped>\n",
       "    .dataframe tbody tr th:only-of-type {\n",
       "        vertical-align: middle;\n",
       "    }\n",
       "\n",
       "    .dataframe tbody tr th {\n",
       "        vertical-align: top;\n",
       "    }\n",
       "\n",
       "    .dataframe thead th {\n",
       "        text-align: right;\n",
       "    }\n",
       "</style>\n",
       "<table border=\"1\" class=\"dataframe\">\n",
       "  <thead>\n",
       "    <tr style=\"text-align: right;\">\n",
       "      <th></th>\n",
       "      <th>Monetary_sum</th>\n",
       "      <th>Monetary_mean</th>\n",
       "      <th>M_frequecy</th>\n",
       "      <th>M_recency</th>\n",
       "      <th>C_Frequency</th>\n",
       "      <th>C_Recency</th>\n",
       "      <th>Complain</th>\n",
       "      <th>EXRELACTCD</th>\n",
       "      <th>EXTRELSTDT</th>\n",
       "      <th>EXRELDATEN</th>\n",
       "      <th>churn</th>\n",
       "    </tr>\n",
       "    <tr>\n",
       "      <th>EXTRELNO</th>\n",
       "      <th></th>\n",
       "      <th></th>\n",
       "      <th></th>\n",
       "      <th></th>\n",
       "      <th></th>\n",
       "      <th></th>\n",
       "      <th></th>\n",
       "      <th></th>\n",
       "      <th></th>\n",
       "      <th></th>\n",
       "      <th></th>\n",
       "    </tr>\n",
       "  </thead>\n",
       "  <tbody>\n",
       "    <tr>\n",
       "      <th>0026414</th>\n",
       "      <td>2811.80</td>\n",
       "      <td>19.662937</td>\n",
       "      <td>143</td>\n",
       "      <td>18</td>\n",
       "      <td>53</td>\n",
       "      <td>332</td>\n",
       "      <td>0</td>\n",
       "      <td>CT</td>\n",
       "      <td>1995-02-02</td>\n",
       "      <td>NaT</td>\n",
       "      <td>0</td>\n",
       "    </tr>\n",
       "    <tr>\n",
       "      <th>0026419</th>\n",
       "      <td>2804.05</td>\n",
       "      <td>43.813281</td>\n",
       "      <td>64</td>\n",
       "      <td>89</td>\n",
       "      <td>56</td>\n",
       "      <td>68</td>\n",
       "      <td>0</td>\n",
       "      <td>FP</td>\n",
       "      <td>1992-03-01</td>\n",
       "      <td>NaT</td>\n",
       "      <td>0</td>\n",
       "    </tr>\n",
       "  </tbody>\n",
       "</table>\n",
       "</div>"
      ],
      "text/plain": [
       "          Monetary_sum  Monetary_mean  M_frequecy  M_recency  C_Frequency  \\\n",
       "EXTRELNO                                                                    \n",
       "0026414        2811.80      19.662937         143         18           53   \n",
       "0026419        2804.05      43.813281          64         89           56   \n",
       "\n",
       "          C_Recency  Complain EXRELACTCD EXTRELSTDT EXRELDATEN  churn  \n",
       "EXTRELNO                                                               \n",
       "0026414         332         0         CT 1995-02-02        NaT      0  \n",
       "0026419          68         0         FP 1992-03-01        NaT      0  "
      ]
     },
     "execution_count": 84,
     "metadata": {},
     "output_type": "execute_result"
    }
   ],
   "source": [
    "Final_data = pd.merge(ind_data_f,dep_data,left_index=True,right_index=True)\n",
    "Final_data.head(2)"
   ]
  },
  {
   "cell_type": "code",
   "execution_count": 86,
   "metadata": {},
   "outputs": [],
   "source": [
    "#Final_data.drop(columns=['EXRELACTCD','EXTRELSTDT','EXRELDATEN'],inplace=True)"
   ]
  },
  {
   "cell_type": "code",
   "execution_count": 87,
   "metadata": {},
   "outputs": [
    {
     "data": {
      "text/html": [
       "<div>\n",
       "<style scoped>\n",
       "    .dataframe tbody tr th:only-of-type {\n",
       "        vertical-align: middle;\n",
       "    }\n",
       "\n",
       "    .dataframe tbody tr th {\n",
       "        vertical-align: top;\n",
       "    }\n",
       "\n",
       "    .dataframe thead th {\n",
       "        text-align: right;\n",
       "    }\n",
       "</style>\n",
       "<table border=\"1\" class=\"dataframe\">\n",
       "  <thead>\n",
       "    <tr style=\"text-align: right;\">\n",
       "      <th></th>\n",
       "      <th>Monetary_sum</th>\n",
       "      <th>Monetary_mean</th>\n",
       "      <th>M_frequecy</th>\n",
       "      <th>M_recency</th>\n",
       "      <th>C_Frequency</th>\n",
       "      <th>C_Recency</th>\n",
       "      <th>Complain</th>\n",
       "      <th>churn</th>\n",
       "    </tr>\n",
       "    <tr>\n",
       "      <th>EXTRELNO</th>\n",
       "      <th></th>\n",
       "      <th></th>\n",
       "      <th></th>\n",
       "      <th></th>\n",
       "      <th></th>\n",
       "      <th></th>\n",
       "      <th></th>\n",
       "      <th></th>\n",
       "    </tr>\n",
       "  </thead>\n",
       "  <tbody>\n",
       "    <tr>\n",
       "      <th>0026414</th>\n",
       "      <td>2811.80</td>\n",
       "      <td>19.662937</td>\n",
       "      <td>143</td>\n",
       "      <td>18</td>\n",
       "      <td>53</td>\n",
       "      <td>332</td>\n",
       "      <td>0</td>\n",
       "      <td>0</td>\n",
       "    </tr>\n",
       "    <tr>\n",
       "      <th>0026419</th>\n",
       "      <td>2804.05</td>\n",
       "      <td>43.813281</td>\n",
       "      <td>64</td>\n",
       "      <td>89</td>\n",
       "      <td>56</td>\n",
       "      <td>68</td>\n",
       "      <td>0</td>\n",
       "      <td>0</td>\n",
       "    </tr>\n",
       "  </tbody>\n",
       "</table>\n",
       "</div>"
      ],
      "text/plain": [
       "          Monetary_sum  Monetary_mean  M_frequecy  M_recency  C_Frequency  \\\n",
       "EXTRELNO                                                                    \n",
       "0026414        2811.80      19.662937         143         18           53   \n",
       "0026419        2804.05      43.813281          64         89           56   \n",
       "\n",
       "          C_Recency  Complain  churn  \n",
       "EXTRELNO                              \n",
       "0026414         332         0      0  \n",
       "0026419          68         0      0  "
      ]
     },
     "execution_count": 87,
     "metadata": {},
     "output_type": "execute_result"
    }
   ],
   "source": [
    "Final_data.head(2)"
   ]
  },
  {
   "cell_type": "code",
   "execution_count": 110,
   "metadata": {
    "scrolled": true
   },
   "outputs": [
    {
     "data": {
      "text/plain": [
       "0    8857\n",
       "1     466\n",
       "Name: churn, dtype: int64"
      ]
     },
     "execution_count": 110,
     "metadata": {},
     "output_type": "execute_result"
    }
   ],
   "source": [
    "Final_data.churn.value_counts()"
   ]
  },
  {
   "cell_type": "code",
   "execution_count": 89,
   "metadata": {},
   "outputs": [],
   "source": [
    "churned = Final_data[Final_data.churn == 1]\n",
    "Active = Final_data[Final_data.churn == 0]"
   ]
  },
  {
   "cell_type": "markdown",
   "metadata": {},
   "source": [
    "####  ----------------------------"
   ]
  },
  {
   "cell_type": "code",
   "execution_count": 115,
   "metadata": {},
   "outputs": [],
   "source": [
    "X = Final_data[Final_data.columns.difference(['churn'])]\n",
    "Y = Final_data.churn"
   ]
  },
  {
   "cell_type": "code",
   "execution_count": 117,
   "metadata": {},
   "outputs": [
    {
     "data": {
      "text/plain": [
       "((9323, 7), (9323,))"
      ]
     },
     "execution_count": 117,
     "metadata": {},
     "output_type": "execute_result"
    }
   ],
   "source": [
    "X.shape,Y.shape"
   ]
  },
  {
   "cell_type": "code",
   "execution_count": 118,
   "metadata": {},
   "outputs": [],
   "source": [
    "X_train, X_test, y_train, y_test= train_test_split(X,Y,test_size=0.2,random_state=0)"
   ]
  },
  {
   "cell_type": "markdown",
   "metadata": {},
   "source": [
    "#### Using smote analysis for Oversampling"
   ]
  },
  {
   "cell_type": "code",
   "execution_count": 119,
   "metadata": {},
   "outputs": [],
   "source": [
    "from imblearn.over_sampling import SMOTE\n",
    "\n",
    "sme = SMOTE(random_state= 123,k_neighbors=3,ratio = 1.0,)"
   ]
  },
  {
   "cell_type": "code",
   "execution_count": 129,
   "metadata": {},
   "outputs": [],
   "source": [
    "x_train_res, y_train_res = sme.fit_sample(X_train,y_train)"
   ]
  },
  {
   "cell_type": "code",
   "execution_count": null,
   "metadata": {},
   "outputs": [],
   "source": []
  },
  {
   "cell_type": "code",
   "execution_count": null,
   "metadata": {},
   "outputs": [],
   "source": []
  },
  {
   "cell_type": "markdown",
   "metadata": {},
   "source": [
    "#### Mixing - Kind of Undersampling"
   ]
  },
  {
   "cell_type": "code",
   "execution_count": 234,
   "metadata": {},
   "outputs": [],
   "source": [
    "# mix=pd.concat([Active.sample(n=1200),churned.sample(n=450)])\n",
    "\n",
    "# mix.churn.value_counts()\n",
    "\n",
    "# X = mix[Final_data.columns.difference(['churn'])]\n",
    "# Y = mix.churn\n",
    "\n",
    "# X.shape,Y.shape\n",
    "\n",
    "# X_train, X_test, y_train, y_test= train_test_split(X,Y,test_size=0.2,random_state=0)"
   ]
  },
  {
   "cell_type": "markdown",
   "metadata": {},
   "source": [
    "# Modelling"
   ]
  },
  {
   "cell_type": "code",
   "execution_count": 785,
   "metadata": {},
   "outputs": [],
   "source": [
    "from sklearn.feature_selection import RFE"
   ]
  },
  {
   "cell_type": "markdown",
   "metadata": {},
   "source": [
    "#### RandomForest"
   ]
  },
  {
   "cell_type": "code",
   "execution_count": 235,
   "metadata": {},
   "outputs": [
    {
     "name": "stdout",
     "output_type": "stream",
     "text": [
      "Fitting 5 folds for each of 6 candidates, totalling 30 fits\n"
     ]
    },
    {
     "name": "stderr",
     "output_type": "stream",
     "text": [
      "[Parallel(n_jobs=-1)]: Using backend LokyBackend with 4 concurrent workers.\n",
      "[Parallel(n_jobs=-1)]: Done  30 out of  30 | elapsed:  1.6min finished\n"
     ]
    },
    {
     "data": {
      "text/plain": [
       "GridSearchCV(cv=5, error_score='raise-deprecating',\n",
       "       estimator=RandomForestClassifier(bootstrap=True, class_weight=None, criterion='gini',\n",
       "            max_depth=None, max_features='auto', max_leaf_nodes=None,\n",
       "            min_impurity_decrease=0.0, min_impurity_split=None,\n",
       "            min_samples_leaf=1, min_samples_split=2,\n",
       "            min_weight_fraction_leaf=0.0, n_estimators='warn', n_jobs=None,\n",
       "            oob_score=True, random_state=None, verbose=0, warm_start=False),\n",
       "       fit_params=None, iid='warn', n_jobs=-1,\n",
       "       param_grid={'n_estimators': [100, 200, 300, 400, 500, 600]},\n",
       "       pre_dispatch='2*n_jobs', refit=True, return_train_score='warn',\n",
       "       scoring='accuracy', verbose=True)"
      ]
     },
     "execution_count": 235,
     "metadata": {},
     "output_type": "execute_result"
    }
   ],
   "source": [
    "rf_gscv = GridSearchCV(RandomForestClassifier(oob_score=True),cv=5,verbose=True,scoring='accuracy',n_jobs=-1,\n",
    "             param_grid={'n_estimators':[100,200,300,400,500,600]})\n",
    "\n",
    "rf_gscv.fit(x_train_res, y_train_res)"
   ]
  },
  {
   "cell_type": "code",
   "execution_count": 236,
   "metadata": {},
   "outputs": [
    {
     "data": {
      "text/plain": [
       "RandomForestClassifier(bootstrap=True, class_weight=None, criterion='gini',\n",
       "            max_depth=None, max_features='auto', max_leaf_nodes=None,\n",
       "            min_impurity_decrease=0.0, min_impurity_split=None,\n",
       "            min_samples_leaf=1, min_samples_split=2,\n",
       "            min_weight_fraction_leaf=0.0, n_estimators=600, n_jobs=None,\n",
       "            oob_score=True, random_state=None, verbose=0, warm_start=False)"
      ]
     },
     "execution_count": 236,
     "metadata": {},
     "output_type": "execute_result"
    }
   ],
   "source": [
    "rf_gscv.best_estimator_"
   ]
  },
  {
   "cell_type": "code",
   "execution_count": 237,
   "metadata": {},
   "outputs": [],
   "source": [
    "y_pred = rf_gscv.best_estimator_.predict(X_test)"
   ]
  },
  {
   "cell_type": "code",
   "execution_count": 238,
   "metadata": {},
   "outputs": [
    {
     "data": {
      "text/plain": [
       "0.9242424242424242"
      ]
     },
     "execution_count": 238,
     "metadata": {},
     "output_type": "execute_result"
    }
   ],
   "source": [
    "metrics.accuracy_score(y_test, y_pred)"
   ]
  },
  {
   "cell_type": "code",
   "execution_count": 239,
   "metadata": {},
   "outputs": [
    {
     "data": {
      "text/plain": [
       "array([[232,   4],\n",
       "       [ 21,  73]])"
      ]
     },
     "execution_count": 239,
     "metadata": {},
     "output_type": "execute_result"
    }
   ],
   "source": [
    "metrics.confusion_matrix(y_test, y_pred)"
   ]
  },
  {
   "cell_type": "code",
   "execution_count": 240,
   "metadata": {},
   "outputs": [
    {
     "data": {
      "text/plain": [
       "0.776595744680851"
      ]
     },
     "execution_count": 240,
     "metadata": {},
     "output_type": "execute_result"
    }
   ],
   "source": [
    "metrics.recall_score(y_test, y_pred)"
   ]
  },
  {
   "cell_type": "code",
   "execution_count": 241,
   "metadata": {},
   "outputs": [
    {
     "data": {
      "text/plain": [
       "0.948051948051948"
      ]
     },
     "execution_count": 241,
     "metadata": {},
     "output_type": "execute_result"
    }
   ],
   "source": [
    "metrics.precision_score(y_test, y_pred)"
   ]
  },
  {
   "cell_type": "markdown",
   "metadata": {},
   "source": [
    "#### Adaboost classifier"
   ]
  },
  {
   "cell_type": "code",
   "execution_count": 177,
   "metadata": {
    "scrolled": true
   },
   "outputs": [
    {
     "name": "stdout",
     "output_type": "stream",
     "text": [
      "Fitting 5 folds for each of 20 candidates, totalling 100 fits\n"
     ]
    },
    {
     "name": "stderr",
     "output_type": "stream",
     "text": [
      "[Parallel(n_jobs=-1)]: Using backend LokyBackend with 4 concurrent workers.\n",
      "[Parallel(n_jobs=-1)]: Done  42 tasks      | elapsed:  1.3min\n",
      "[Parallel(n_jobs=-1)]: Done 100 out of 100 | elapsed:  3.2min finished\n"
     ]
    },
    {
     "data": {
      "text/plain": [
       "GridSearchCV(cv=5, error_score='raise-deprecating',\n",
       "       estimator=AdaBoostClassifier(algorithm='SAMME.R', base_estimator=None,\n",
       "          learning_rate=1.0, n_estimators=50, random_state=None),\n",
       "       fit_params=None, iid='warn', n_jobs=-1,\n",
       "       param_grid={'n_estimators': [200, 300, 400, 600], 'learning_rate': [0.1, 0.3, 0.5, 0.7, 0.9]},\n",
       "       pre_dispatch='2*n_jobs', refit=True, return_train_score='warn',\n",
       "       scoring='accuracy', verbose=True)"
      ]
     },
     "execution_count": 177,
     "metadata": {},
     "output_type": "execute_result"
    }
   ],
   "source": [
    "ada_gscv = GridSearchCV(AdaBoostClassifier(),cv=5,verbose=True,scoring='accuracy',n_jobs=-1,\n",
    "             param_grid={'n_estimators':[200,300,400,600],'learning_rate':[0.1,.3,.5,.7,.9]})\n",
    "\n",
    "ada_gscv.fit(x_train_res, y_train_res)"
   ]
  },
  {
   "cell_type": "code",
   "execution_count": 226,
   "metadata": {},
   "outputs": [
    {
     "data": {
      "text/plain": [
       "0.8277660324171953"
      ]
     },
     "execution_count": 226,
     "metadata": {},
     "output_type": "execute_result"
    }
   ],
   "source": [
    "ada_gscv.best_score_"
   ]
  },
  {
   "cell_type": "code",
   "execution_count": 209,
   "metadata": {},
   "outputs": [],
   "source": [
    "# ada_gscv.cv_results_"
   ]
  },
  {
   "cell_type": "code",
   "execution_count": 227,
   "metadata": {},
   "outputs": [
    {
     "data": {
      "text/plain": [
       "'accuracy'"
      ]
     },
     "execution_count": 227,
     "metadata": {},
     "output_type": "execute_result"
    }
   ],
   "source": [
    "ada_gscv.scoring"
   ]
  },
  {
   "cell_type": "code",
   "execution_count": 228,
   "metadata": {},
   "outputs": [],
   "source": [
    "y_pred = ada_gscv.best_estimator_.predict(X_test)"
   ]
  },
  {
   "cell_type": "code",
   "execution_count": 229,
   "metadata": {},
   "outputs": [
    {
     "data": {
      "text/plain": [
       "0.7393939393939394"
      ]
     },
     "execution_count": 229,
     "metadata": {},
     "output_type": "execute_result"
    }
   ],
   "source": [
    "metrics.accuracy_score(y_test,y_pred)"
   ]
  },
  {
   "cell_type": "code",
   "execution_count": 230,
   "metadata": {},
   "outputs": [
    {
     "data": {
      "text/plain": [
       "array([[204,  32],\n",
       "       [ 54,  40]])"
      ]
     },
     "execution_count": 230,
     "metadata": {},
     "output_type": "execute_result"
    }
   ],
   "source": [
    "metrics.confusion_matrix(y_test,y_pred)"
   ]
  },
  {
   "cell_type": "code",
   "execution_count": 231,
   "metadata": {},
   "outputs": [
    {
     "data": {
      "text/plain": [
       "0.425531914893617"
      ]
     },
     "execution_count": 231,
     "metadata": {},
     "output_type": "execute_result"
    }
   ],
   "source": [
    "metrics.recall_score(y_test,y_pred)"
   ]
  },
  {
   "cell_type": "code",
   "execution_count": 232,
   "metadata": {},
   "outputs": [
    {
     "data": {
      "text/plain": [
       "0.5555555555555556"
      ]
     },
     "execution_count": 232,
     "metadata": {},
     "output_type": "execute_result"
    }
   ],
   "source": [
    "metrics.precision_score(y_test,y_pred)"
   ]
  },
  {
   "cell_type": "markdown",
   "metadata": {},
   "source": [
    "#### Random Forest giving better results compared to Adaboost"
   ]
  }
 ],
 "metadata": {
  "kernelspec": {
   "display_name": "Python 3",
   "language": "python",
   "name": "python3"
  },
  "language_info": {
   "codemirror_mode": {
    "name": "ipython",
    "version": 3
   },
   "file_extension": ".py",
   "mimetype": "text/x-python",
   "name": "python",
   "nbconvert_exporter": "python",
   "pygments_lexer": "ipython3",
   "version": "3.7.3"
  }
 },
 "nbformat": 4,
 "nbformat_minor": 2
}
